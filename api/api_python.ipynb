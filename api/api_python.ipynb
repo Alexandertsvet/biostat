{
 "cells": [
  {
   "cell_type": "code",
   "execution_count": 2,
   "id": "dcb14403",
   "metadata": {},
   "outputs": [],
   "source": [
    "import requests"
   ]
  },
  {
   "cell_type": "markdown",
   "id": "c9f2e5bc",
   "metadata": {},
   "source": [
    "#  Получение данных через api clinicaltrials.gov по nctId"
   ]
  },
  {
   "cell_type": "code",
   "execution_count": 3,
   "id": "f0bf4fd6",
   "metadata": {},
   "outputs": [],
   "source": [
    "nctId = 'NCT04419493'"
   ]
  },
  {
   "cell_type": "code",
   "execution_count": 4,
   "id": "7a0dea5a",
   "metadata": {},
   "outputs": [],
   "source": [
    "url = f'https://clinicaltrials.gov/api/v2/studies/{nctId}'"
   ]
  },
  {
   "cell_type": "code",
   "execution_count": 5,
   "id": "06a83602",
   "metadata": {},
   "outputs": [],
   "source": [
    "try:\n",
    "    data = requests.get(url)\n",
    "except:\n",
    "    print(\"error_load_data\")"
   ]
  },
  {
   "cell_type": "code",
   "execution_count": 6,
   "id": "cf0b7f2c",
   "metadata": {},
   "outputs": [
    {
     "data": {
      "text/plain": [
       "KeysView({'Date': 'Mon, 26 May 2025 16:02:51 GMT', 'Server': 'istio-envoy', 'Strict-Transport-Security': 'max-age=31536000; includeSubDomains; preload', 'X-Frame-Options': 'SAMEORIGIN', 'content-type': 'application/json', 'content-encoding': 'gzip', 'etag': '\"2/0.30.0/mb0pcn4b\"', 'x-envoy-upstream-service-time': '7', 'set-cookie': 'ncbi_sid=FB64859CD76F4E1A_F2FDSID; Max-Age=31536000; Domain=.nih.gov; Path=/; $x-enc=URI_ENCODING', 'X-UA-Compatible': 'IE=Edge', 'X-XSS-Protection': '1; mode=block', 'Via': '1.1 google', 'Alt-Svc': 'clear', 'Transfer-Encoding': 'chunked'})"
      ]
     },
     "execution_count": 6,
     "metadata": {},
     "output_type": "execute_result"
    }
   ],
   "source": [
    "data.headers.keys()"
   ]
  },
  {
   "cell_type": "code",
   "execution_count": 7,
   "id": "8a3d7786",
   "metadata": {},
   "outputs": [
    {
     "data": {
      "text/plain": [
       "dict_keys(['protocolSection', 'resultsSection', 'documentSection', 'derivedSection', 'hasResults'])"
      ]
     },
     "execution_count": 7,
     "metadata": {},
     "output_type": "execute_result"
    }
   ],
   "source": [
    "data.json().keys()"
   ]
  },
  {
   "cell_type": "code",
   "execution_count": 8,
   "id": "c7d6bcd0",
   "metadata": {},
   "outputs": [
    {
     "data": {
      "text/plain": [
       "{'identificationModule': {'nctId': 'NCT04419493',\n",
       "  'orgStudyIdInfo': {'id': '0135-0340'},\n",
       "  'secondaryIdInfos': [{'id': '2019-004932-40', 'type': 'EUDRACT_NUMBER'}],\n",
       "  'organization': {'fullName': 'Boehringer Ingelheim', 'class': 'INDUSTRY'},\n",
       "  'briefTitle': 'A Study in Healthy Men to Compare 2 Different Formulations of Alteplase',\n",
       "  'officialTitle': 'Bioequivalence of Alteplase Derived From Two Different Manufacturing Processes Following Intravenous Administration in Healthy Male Volunteers'},\n",
       " 'statusModule': {'statusVerifiedDate': '2023-04',\n",
       "  'overallStatus': 'COMPLETED',\n",
       "  'expandedAccessInfo': {'hasExpandedAccess': False},\n",
       "  'startDateStruct': {'date': '2020-06-23', 'type': 'ACTUAL'},\n",
       "  'primaryCompletionDateStruct': {'date': '2021-06-21', 'type': 'ACTUAL'},\n",
       "  'completionDateStruct': {'date': '2021-06-21', 'type': 'ACTUAL'},\n",
       "  'studyFirstSubmitDate': '2020-06-04',\n",
       "  'studyFirstSubmitQcDate': '2020-06-04',\n",
       "  'studyFirstPostDateStruct': {'date': '2020-06-05', 'type': 'ACTUAL'},\n",
       "  'resultsFirstSubmitDate': '2022-06-20',\n",
       "  'resultsFirstSubmitQcDate': '2023-04-25',\n",
       "  'resultsFirstPostDateStruct': {'date': '2023-04-26', 'type': 'ACTUAL'},\n",
       "  'lastUpdateSubmitDate': '2023-04-25',\n",
       "  'lastUpdatePostDateStruct': {'date': '2023-04-26', 'type': 'ACTUAL'}},\n",
       " 'sponsorCollaboratorsModule': {'responsibleParty': {'type': 'SPONSOR'},\n",
       "  'leadSponsor': {'name': 'Boehringer Ingelheim', 'class': 'INDUSTRY'}},\n",
       " 'oversightModule': {'isFdaRegulatedDrug': False,\n",
       "  'isFdaRegulatedDevice': False},\n",
       " 'descriptionModule': {'briefSummary': 'To establish the bioequivalence of alteplase derived from two different manufacturing processes.'},\n",
       " 'conditionsModule': {'conditions': ['Healthy']},\n",
       " 'designModule': {'studyType': 'INTERVENTIONAL',\n",
       "  'phases': ['PHASE1'],\n",
       "  'designInfo': {'allocation': 'RANDOMIZED',\n",
       "   'interventionModel': 'CROSSOVER',\n",
       "   'interventionModelDescription': 'Part A: Open label Part B: Adaptive two-stage group-sequential design',\n",
       "   'primaryPurpose': 'TREATMENT',\n",
       "   'maskingInfo': {'masking': 'NONE'}},\n",
       "  'enrollmentInfo': {'count': 30, 'type': 'ACTUAL'}},\n",
       " 'armsInterventionsModule': {'armGroups': [{'label': 'Part B: Alteplase, TPA-02 then Alteplase, TPA-05',\n",
       "    'type': 'EXPERIMENTAL',\n",
       "    'interventionNames': ['Drug: Alteplase (from modified manufacturing process)',\n",
       "     'Drug: Heparin-Natrium-5000-ratiopharm (unfractionated heparin)']},\n",
       "   {'label': 'Part B: Alteplase, TPA-05 then Alteplase, TPA-02',\n",
       "    'type': 'ACTIVE_COMPARATOR',\n",
       "    'interventionNames': ['Drug: Alteplase (from current manufacturing process)',\n",
       "     'Drug: Heparin-Natrium-5000-ratiopharm (unfractionated heparin)']},\n",
       "   {'label': 'Part A: Alteplase, TPA-05 then Alteplase, TPA-02',\n",
       "    'type': 'EXPERIMENTAL',\n",
       "    'description': 'Open-label',\n",
       "    'interventionNames': ['Drug: Alteplase (from modified manufacturing process)',\n",
       "     'Drug: Heparin-Natrium-5000-ratiopharm (unfractionated heparin)']},\n",
       "   {'label': 'Part A: Alteplase, TPA-02 then Alteplase, TPA-05',\n",
       "    'type': 'ACTIVE_COMPARATOR',\n",
       "    'interventionNames': ['Drug: Alteplase (from current manufacturing process)',\n",
       "     'Drug: Heparin-Natrium-5000-ratiopharm (unfractionated heparin)']}],\n",
       "  'interventions': [{'type': 'DRUG',\n",
       "    'name': 'Alteplase (from modified manufacturing process)',\n",
       "    'description': 'Alteplase, TPA-05',\n",
       "    'armGroupLabels': ['Part A: Alteplase, TPA-05 then Alteplase, TPA-02',\n",
       "     'Part B: Alteplase, TPA-02 then Alteplase, TPA-05']},\n",
       "   {'type': 'DRUG',\n",
       "    'name': 'Alteplase (from current manufacturing process)',\n",
       "    'description': 'Alteplase, TPA-02',\n",
       "    'armGroupLabels': ['Part A: Alteplase, TPA-02 then Alteplase, TPA-05',\n",
       "     'Part B: Alteplase, TPA-05 then Alteplase, TPA-02']},\n",
       "   {'type': 'DRUG',\n",
       "    'name': 'Heparin-Natrium-5000-ratiopharm (unfractionated heparin)',\n",
       "    'description': 'Heparin-Natrium-5000-ratiopharm (unfractionated heparin)',\n",
       "    'armGroupLabels': ['Part A: Alteplase, TPA-02 then Alteplase, TPA-05',\n",
       "     'Part A: Alteplase, TPA-05 then Alteplase, TPA-02',\n",
       "     'Part B: Alteplase, TPA-02 then Alteplase, TPA-05',\n",
       "     'Part B: Alteplase, TPA-05 then Alteplase, TPA-02']}]},\n",
       " 'outcomesModule': {'primaryOutcomes': [{'measure': 'Part A: Area Under the Concentration-time Curve of Alteplase in Plasma Over the Time Interval From 0 up to the Last Quantifiable Data Point (AUC0-tz)',\n",
       "    'description': 'The area under the concentration-time curve of alteplase in plasma over the time interval from 0 to the last quantifiable data point (AUC0-tz) is reported.',\n",
       "    'timeFrame': 'Within 3 hours (h) before and 5 minutes (min), 10min, 15min, 20min, 25min, 30min, 32min, 34min, 36min, 40min, 45min, 50min, 1h, 1.33h, 1.67h, 2h, 3h, 4h and 6h after start of alteplase infusion.'},\n",
       "   {'measure': 'Part B: Area Under the Concentration-time Curve of Alteplase in Plasma Over the Time Interval From 0 up to the Last Quantifiable Data Point (AUC0-tz)',\n",
       "    'description': 'The area under the concentration-time curve of Alteplase in plasma over the time interval from 0 to the last quantifiable data point (AUC0-tz) is reported.',\n",
       "    'timeFrame': 'Within 3 hours (h) before and 5 minutes (min), 10min, 15min, 20min, 25min, 30min, 32min, 34min, 36min, 40min, 45min, 50min, 1h, 1.33h, 1.67h, 2h, 3h, 4h and 6h after start of alteplase infusion.'},\n",
       "   {'measure': 'Part A: Maximum Measured Concentration of Alteplase in Plasma (Cmax)',\n",
       "    'description': 'Maximum measured concentration of alteplase in plasma is reported.',\n",
       "    'timeFrame': 'Within 3 hours (h) before and 5 minutes (min), 10min, 15min, 20min, 25min, 30min, 32min, 34min, 36min, 40min, 45min, 50min, 1h, 1.33h, 1.67h, 2h, 3h, 4h and 6h after start of alteplase infusion.'},\n",
       "   {'measure': 'Part B: Maximum Measured Concentration of Alteplase in Plasma (Cmax)',\n",
       "    'description': 'Maximum measured concentration of Alteplase in plasma (Cmax) is reported.',\n",
       "    'timeFrame': 'Within 3 hours (h) before and 5 minutes (min), 10min, 15min, 20min, 25min, 30min, 32min, 34min, 36min, 40min, 45min, 50min, 1h, 1.33h, 1.67h, 2h, 3h, 4h and 6h after start of alteplase infusion.'}],\n",
       "  'secondaryOutcomes': [{'measure': 'Part A: Area Under the Concentration-time Curve of Alteplase in Plasma Over the Time Interval From 0 Extrapolated to Infinity (AUC0-∞)',\n",
       "    'description': 'Area under the concentration-time curve of alteplase in plasma over interval from 0 extrapolated to infinity is reported.',\n",
       "    'timeFrame': 'Within 3 hours (h) before and 5 minutes (min), 10min, 15min, 20min, 25min, 30min, 32min, 34min, 36min, 40min, 45min, 50min, 1h, 1.33h, 1.67h, 2h, 3h, 4h and 6h after start of alteplase infusion.'},\n",
       "   {'measure': 'Part B: Area Under the Concentration-time Curve of Alteplase in Plasma Over the Interval From 0 Extrapolated to Infinity (AUC0-∞)',\n",
       "    'description': 'Area under the concentration-time curve of alteplase in plasma over the interval from 0 extrapolated to infinity is reported.',\n",
       "    'timeFrame': 'Within 3 hours (h) before and 5 minutes (min), 10min, 15min, 20min, 25min, 30min, 32min, 34min, 36min, 40min, 45min, 50min, 1h, 1.33h, 1.67h, 2h, 3h, 4h and 6h after start of alteplase infusion.'}]},\n",
       " 'eligibilityModule': {'eligibilityCriteria': 'Inclusion Criteria:\\n\\n* Healthy male subjects according to the assessment of the investigator, as based on a complete medical history including a physical examination, vital signs (blood pressure (BP), pulse rate (PR)), 12-lead electrocardiogram (ECG), and clinical laboratory tests\\n* Age of 18 to 45 years (inclusive)\\n* Body mass index (weight divided by height squared) (BMI) of 18.5 to 29.9 kg/m2 (inclusive)\\n* Body weight of 65 - 100 kg (inclusive) at screening\\n* Signed and dated written informed consent prior to admission to the study, in accordance with Good Clinical Practice (GCP) and local legislation\\n\\nExclusion Criteria:\\n\\n* Any finding in the medical examination (including BP, PR or ECG) deviating from normal and assessed as clinically relevant by the investigator\\n* Repeated measurement of systolic blood pressure outside the range of 90 to 140 mmHg, diastolic blood pressure outside the range of 50 to 90 mmHg, or pulse rate outside the range of 45 to 90 bpm\\n* Any laboratory value outside the reference range that the investigator considers to be of clinical relevance, e.g. thrombotic predisposition according to thrombophilic testing\\n* Any evidence of a concomitant disease assessed as clinically relevant by the investigator\\n* Gastrointestinal, hepatic, renal, respiratory, cardiovascular, metabolic, immunological or hormonal disorders\\n* Diseases of the central nervous system (including but not limited to any kind of seizures or stroke), and other relevant neurological or psychiatric disorders\\n* History of relevant orthostatic hypotension, fainting spells, or blackouts\\n* Chronic or relevant acute infections\\n* History of relevant allergy or hypersensitivity\\n* During COVID-19 pandemic: laboratory test indicative of an ongoing SARS-CoV-2 infection Further exclusion criteria apply.',\n",
       "  'healthyVolunteers': True,\n",
       "  'sex': 'MALE',\n",
       "  'minimumAge': '18 Years',\n",
       "  'maximumAge': '45 Years',\n",
       "  'stdAges': ['ADULT']},\n",
       " 'contactsLocationsModule': {'locations': [{'facility': 'Humanpharmakologisches Zentrum Biberach',\n",
       "    'city': 'Biberach',\n",
       "    'zip': '88397',\n",
       "    'country': 'Germany',\n",
       "    'geoPoint': {'lat': 48.09345, 'lon': 9.79053}}]},\n",
       " 'referencesModule': {'seeAlsoLinks': [{'label': 'Related Info',\n",
       "    'url': 'http://www.mystudywindow.com'}]},\n",
       " 'ipdSharingStatementModule': {'ipdSharing': 'NO',\n",
       "  'description': 'Clinical studies sponsored by Boehringer Ingelheim, phases I to IV, interventional and non-interventional, are in scope for sharing of the raw clinical study data and clinical study documents, except for the following exclusions:\\n\\n1. studies in products where Boehringer Ingelheim is not the license holder;\\n2. studies regarding pharmaceutical formulations and associated analytical methods, and studies pertinent to pharmacokinetics using human biomaterials;\\n3. studies conducted in a single center or targeting rare diseases (because of limitations with anonymization).\\n\\nFor more details refer to: https://www.mystudywindow.com/msw/datasharing'}}"
      ]
     },
     "execution_count": 8,
     "metadata": {},
     "output_type": "execute_result"
    }
   ],
   "source": [
    "data.json()['protocolSection']"
   ]
  },
  {
   "cell_type": "markdown",
   "id": "92cffeae",
   "metadata": {},
   "source": [
    "# дизаин"
   ]
  },
  {
   "cell_type": "code",
   "execution_count": 9,
   "id": "20cde430",
   "metadata": {},
   "outputs": [
    {
     "data": {
      "text/plain": [
       "{'studyType': 'INTERVENTIONAL',\n",
       " 'phases': ['PHASE1'],\n",
       " 'designInfo': {'allocation': 'RANDOMIZED',\n",
       "  'interventionModel': 'CROSSOVER',\n",
       "  'interventionModelDescription': 'Part A: Open label Part B: Adaptive two-stage group-sequential design',\n",
       "  'primaryPurpose': 'TREATMENT',\n",
       "  'maskingInfo': {'masking': 'NONE'}},\n",
       " 'enrollmentInfo': {'count': 30, 'type': 'ACTUAL'}}"
      ]
     },
     "execution_count": 9,
     "metadata": {},
     "output_type": "execute_result"
    }
   ],
   "source": [
    "data.json()['protocolSection']['designModule']"
   ]
  },
  {
   "cell_type": "markdown",
   "id": "93a18afa",
   "metadata": {},
   "source": [
    "Design Details\n",
    " * Primary Purpose  : Treatment\n",
    " * Allocation  : Randomized\n",
    " * Interventional Model  : Crossover Assignment\n",
    " * Interventional Model Description: Part A: Open label Part B: Adaptive two-stage group-sequential design\n",
    " * Masking  : None (Open Label)"
   ]
  },
  {
   "cell_type": "code",
   "execution_count": 38,
   "id": "54e7d885",
   "metadata": {},
   "outputs": [
    {
     "data": {
      "text/plain": [
       "dict_keys(['identificationModule', 'statusModule', 'sponsorCollaboratorsModule', 'oversightModule', 'descriptionModule', 'conditionsModule', 'designModule', 'armsInterventionsModule', 'outcomesModule', 'eligibilityModule', 'contactsLocationsModule', 'referencesModule', 'ipdSharingStatementModule'])"
      ]
     },
     "execution_count": 38,
     "metadata": {},
     "output_type": "execute_result"
    }
   ],
   "source": [
    "data.json()['protocolSection'].keys()"
   ]
  },
  {
   "cell_type": "code",
   "execution_count": 10,
   "id": "3eb5fc29",
   "metadata": {},
   "outputs": [
    {
     "data": {
      "text/plain": [
       "[{'label': 'Part B: Alteplase, TPA-02 then Alteplase, TPA-05',\n",
       "  'type': 'EXPERIMENTAL',\n",
       "  'interventionNames': ['Drug: Alteplase (from modified manufacturing process)',\n",
       "   'Drug: Heparin-Natrium-5000-ratiopharm (unfractionated heparin)']},\n",
       " {'label': 'Part B: Alteplase, TPA-05 then Alteplase, TPA-02',\n",
       "  'type': 'ACTIVE_COMPARATOR',\n",
       "  'interventionNames': ['Drug: Alteplase (from current manufacturing process)',\n",
       "   'Drug: Heparin-Natrium-5000-ratiopharm (unfractionated heparin)']},\n",
       " {'label': 'Part A: Alteplase, TPA-05 then Alteplase, TPA-02',\n",
       "  'type': 'EXPERIMENTAL',\n",
       "  'description': 'Open-label',\n",
       "  'interventionNames': ['Drug: Alteplase (from modified manufacturing process)',\n",
       "   'Drug: Heparin-Natrium-5000-ratiopharm (unfractionated heparin)']},\n",
       " {'label': 'Part A: Alteplase, TPA-02 then Alteplase, TPA-05',\n",
       "  'type': 'ACTIVE_COMPARATOR',\n",
       "  'interventionNames': ['Drug: Alteplase (from current manufacturing process)',\n",
       "   'Drug: Heparin-Natrium-5000-ratiopharm (unfractionated heparin)']}]"
      ]
     },
     "execution_count": 10,
     "metadata": {},
     "output_type": "execute_result"
    }
   ],
   "source": [
    "data.json()['protocolSection']['armsInterventionsModule']['armGroups']"
   ]
  },
  {
   "cell_type": "markdown",
   "id": "3a407bb0",
   "metadata": {},
   "source": [
    "Participant Group/Arm \tIntervention/Treatment \n",
    "Experimental: Part B: Alteplase, TPA-02 then Alteplase, TPA-05\tDrug: Alteplase (from modified manufacturing process)\n",
    "Alteplase, TPA-05\n",
    "\n",
    "Drug: Heparin-Natrium-5000-ratiopharm (unfractionated heparin)\n",
    "Heparin-Natrium-5000-ratiopharm (unfractionated heparin)\n",
    "\n",
    "Active Comparator: Part B: Alteplase, TPA-05 then Alteplase, TPA-02\tDrug: Alteplase (from current manufacturing process)\n",
    "Alteplase, TPA-02\n",
    "\n",
    "Drug: Heparin-Natrium-5000-ratiopharm (unfractionated heparin)\n",
    "Heparin-Natrium-5000-ratiopharm (unfractionated heparin)\n",
    "\n",
    "Experimental: Part A: Alteplase, TPA-05 then Alteplase, TPA-02\n",
    "Open-label\n",
    "Drug: Alteplase (from modified manufacturing process)\n",
    "Alteplase, TPA-05\n",
    "\n",
    "Drug: Heparin-Natrium-5000-ratiopharm (unfractionated heparin)\n",
    "Heparin-Natrium-5000-ratiopharm (unfractionated heparin)\n",
    "\n",
    "Active Comparator: Part A: Alteplase, TPA-02 then Alteplase, TPA-05\tDrug: Alteplase (from current manufacturing process)\n",
    "Alteplase, TPA-02\n",
    "\n",
    "Drug: Heparin-Natrium-5000-ratiopharm (unfractionated heparin)\n",
    "Heparin-Natrium-5000-ratiopharm (unfractionated heparin)"
   ]
  },
  {
   "cell_type": "code",
   "execution_count": 49,
   "id": "5d9ef664",
   "metadata": {},
   "outputs": [
    {
     "data": {
      "text/plain": [
       "{'identificationModule': {'nctId': 'NCT04419493',\n",
       "  'orgStudyIdInfo': {'id': '0135-0340'},\n",
       "  'secondaryIdInfos': [{'id': '2019-004932-40', 'type': 'EUDRACT_NUMBER'}],\n",
       "  'organization': {'fullName': 'Boehringer Ingelheim', 'class': 'INDUSTRY'},\n",
       "  'briefTitle': 'A Study in Healthy Men to Compare 2 Different Formulations of Alteplase',\n",
       "  'officialTitle': 'Bioequivalence of Alteplase Derived From Two Different Manufacturing Processes Following Intravenous Administration in Healthy Male Volunteers'},\n",
       " 'statusModule': {'statusVerifiedDate': '2023-04',\n",
       "  'overallStatus': 'COMPLETED',\n",
       "  'expandedAccessInfo': {'hasExpandedAccess': False},\n",
       "  'startDateStruct': {'date': '2020-06-23', 'type': 'ACTUAL'},\n",
       "  'primaryCompletionDateStruct': {'date': '2021-06-21', 'type': 'ACTUAL'},\n",
       "  'completionDateStruct': {'date': '2021-06-21', 'type': 'ACTUAL'},\n",
       "  'studyFirstSubmitDate': '2020-06-04',\n",
       "  'studyFirstSubmitQcDate': '2020-06-04',\n",
       "  'studyFirstPostDateStruct': {'date': '2020-06-05', 'type': 'ACTUAL'},\n",
       "  'resultsFirstSubmitDate': '2022-06-20',\n",
       "  'resultsFirstSubmitQcDate': '2023-04-25',\n",
       "  'resultsFirstPostDateStruct': {'date': '2023-04-26', 'type': 'ACTUAL'},\n",
       "  'lastUpdateSubmitDate': '2023-04-25',\n",
       "  'lastUpdatePostDateStruct': {'date': '2023-04-26', 'type': 'ACTUAL'}},\n",
       " 'sponsorCollaboratorsModule': {'responsibleParty': {'type': 'SPONSOR'},\n",
       "  'leadSponsor': {'name': 'Boehringer Ingelheim', 'class': 'INDUSTRY'}},\n",
       " 'oversightModule': {'isFdaRegulatedDrug': False,\n",
       "  'isFdaRegulatedDevice': False},\n",
       " 'descriptionModule': {'briefSummary': 'To establish the bioequivalence of alteplase derived from two different manufacturing processes.'},\n",
       " 'conditionsModule': {'conditions': ['Healthy']},\n",
       " 'designModule': {'studyType': 'INTERVENTIONAL',\n",
       "  'phases': ['PHASE1'],\n",
       "  'designInfo': {'allocation': 'RANDOMIZED',\n",
       "   'interventionModel': 'CROSSOVER',\n",
       "   'interventionModelDescription': 'Part A: Open label Part B: Adaptive two-stage group-sequential design',\n",
       "   'primaryPurpose': 'TREATMENT',\n",
       "   'maskingInfo': {'masking': 'NONE'}},\n",
       "  'enrollmentInfo': {'count': 30, 'type': 'ACTUAL'}},\n",
       " 'armsInterventionsModule': {'armGroups': [{'label': 'Part B: Alteplase, TPA-02 then Alteplase, TPA-05',\n",
       "    'type': 'EXPERIMENTAL',\n",
       "    'interventionNames': ['Drug: Alteplase (from modified manufacturing process)',\n",
       "     'Drug: Heparin-Natrium-5000-ratiopharm (unfractionated heparin)']},\n",
       "   {'label': 'Part B: Alteplase, TPA-05 then Alteplase, TPA-02',\n",
       "    'type': 'ACTIVE_COMPARATOR',\n",
       "    'interventionNames': ['Drug: Alteplase (from current manufacturing process)',\n",
       "     'Drug: Heparin-Natrium-5000-ratiopharm (unfractionated heparin)']},\n",
       "   {'label': 'Part A: Alteplase, TPA-05 then Alteplase, TPA-02',\n",
       "    'type': 'EXPERIMENTAL',\n",
       "    'description': 'Open-label',\n",
       "    'interventionNames': ['Drug: Alteplase (from modified manufacturing process)',\n",
       "     'Drug: Heparin-Natrium-5000-ratiopharm (unfractionated heparin)']},\n",
       "   {'label': 'Part A: Alteplase, TPA-02 then Alteplase, TPA-05',\n",
       "    'type': 'ACTIVE_COMPARATOR',\n",
       "    'interventionNames': ['Drug: Alteplase (from current manufacturing process)',\n",
       "     'Drug: Heparin-Natrium-5000-ratiopharm (unfractionated heparin)']}],\n",
       "  'interventions': [{'type': 'DRUG',\n",
       "    'name': 'Alteplase (from modified manufacturing process)',\n",
       "    'description': 'Alteplase, TPA-05',\n",
       "    'armGroupLabels': ['Part A: Alteplase, TPA-05 then Alteplase, TPA-02',\n",
       "     'Part B: Alteplase, TPA-02 then Alteplase, TPA-05']},\n",
       "   {'type': 'DRUG',\n",
       "    'name': 'Alteplase (from current manufacturing process)',\n",
       "    'description': 'Alteplase, TPA-02',\n",
       "    'armGroupLabels': ['Part A: Alteplase, TPA-02 then Alteplase, TPA-05',\n",
       "     'Part B: Alteplase, TPA-05 then Alteplase, TPA-02']},\n",
       "   {'type': 'DRUG',\n",
       "    'name': 'Heparin-Natrium-5000-ratiopharm (unfractionated heparin)',\n",
       "    'description': 'Heparin-Natrium-5000-ratiopharm (unfractionated heparin)',\n",
       "    'armGroupLabels': ['Part A: Alteplase, TPA-02 then Alteplase, TPA-05',\n",
       "     'Part A: Alteplase, TPA-05 then Alteplase, TPA-02',\n",
       "     'Part B: Alteplase, TPA-02 then Alteplase, TPA-05',\n",
       "     'Part B: Alteplase, TPA-05 then Alteplase, TPA-02']}]},\n",
       " 'outcomesModule': {'primaryOutcomes': [{'measure': 'Part A: Area Under the Concentration-time Curve of Alteplase in Plasma Over the Time Interval From 0 up to the Last Quantifiable Data Point (AUC0-tz)',\n",
       "    'description': 'The area under the concentration-time curve of alteplase in plasma over the time interval from 0 to the last quantifiable data point (AUC0-tz) is reported.',\n",
       "    'timeFrame': 'Within 3 hours (h) before and 5 minutes (min), 10min, 15min, 20min, 25min, 30min, 32min, 34min, 36min, 40min, 45min, 50min, 1h, 1.33h, 1.67h, 2h, 3h, 4h and 6h after start of alteplase infusion.'},\n",
       "   {'measure': 'Part B: Area Under the Concentration-time Curve of Alteplase in Plasma Over the Time Interval From 0 up to the Last Quantifiable Data Point (AUC0-tz)',\n",
       "    'description': 'The area under the concentration-time curve of Alteplase in plasma over the time interval from 0 to the last quantifiable data point (AUC0-tz) is reported.',\n",
       "    'timeFrame': 'Within 3 hours (h) before and 5 minutes (min), 10min, 15min, 20min, 25min, 30min, 32min, 34min, 36min, 40min, 45min, 50min, 1h, 1.33h, 1.67h, 2h, 3h, 4h and 6h after start of alteplase infusion.'},\n",
       "   {'measure': 'Part A: Maximum Measured Concentration of Alteplase in Plasma (Cmax)',\n",
       "    'description': 'Maximum measured concentration of alteplase in plasma is reported.',\n",
       "    'timeFrame': 'Within 3 hours (h) before and 5 minutes (min), 10min, 15min, 20min, 25min, 30min, 32min, 34min, 36min, 40min, 45min, 50min, 1h, 1.33h, 1.67h, 2h, 3h, 4h and 6h after start of alteplase infusion.'},\n",
       "   {'measure': 'Part B: Maximum Measured Concentration of Alteplase in Plasma (Cmax)',\n",
       "    'description': 'Maximum measured concentration of Alteplase in plasma (Cmax) is reported.',\n",
       "    'timeFrame': 'Within 3 hours (h) before and 5 minutes (min), 10min, 15min, 20min, 25min, 30min, 32min, 34min, 36min, 40min, 45min, 50min, 1h, 1.33h, 1.67h, 2h, 3h, 4h and 6h after start of alteplase infusion.'}],\n",
       "  'secondaryOutcomes': [{'measure': 'Part A: Area Under the Concentration-time Curve of Alteplase in Plasma Over the Time Interval From 0 Extrapolated to Infinity (AUC0-∞)',\n",
       "    'description': 'Area under the concentration-time curve of alteplase in plasma over interval from 0 extrapolated to infinity is reported.',\n",
       "    'timeFrame': 'Within 3 hours (h) before and 5 minutes (min), 10min, 15min, 20min, 25min, 30min, 32min, 34min, 36min, 40min, 45min, 50min, 1h, 1.33h, 1.67h, 2h, 3h, 4h and 6h after start of alteplase infusion.'},\n",
       "   {'measure': 'Part B: Area Under the Concentration-time Curve of Alteplase in Plasma Over the Interval From 0 Extrapolated to Infinity (AUC0-∞)',\n",
       "    'description': 'Area under the concentration-time curve of alteplase in plasma over the interval from 0 extrapolated to infinity is reported.',\n",
       "    'timeFrame': 'Within 3 hours (h) before and 5 minutes (min), 10min, 15min, 20min, 25min, 30min, 32min, 34min, 36min, 40min, 45min, 50min, 1h, 1.33h, 1.67h, 2h, 3h, 4h and 6h after start of alteplase infusion.'}]},\n",
       " 'eligibilityModule': {'eligibilityCriteria': 'Inclusion Criteria:\\n\\n* Healthy male subjects according to the assessment of the investigator, as based on a complete medical history including a physical examination, vital signs (blood pressure (BP), pulse rate (PR)), 12-lead electrocardiogram (ECG), and clinical laboratory tests\\n* Age of 18 to 45 years (inclusive)\\n* Body mass index (weight divided by height squared) (BMI) of 18.5 to 29.9 kg/m2 (inclusive)\\n* Body weight of 65 - 100 kg (inclusive) at screening\\n* Signed and dated written informed consent prior to admission to the study, in accordance with Good Clinical Practice (GCP) and local legislation\\n\\nExclusion Criteria:\\n\\n* Any finding in the medical examination (including BP, PR or ECG) deviating from normal and assessed as clinically relevant by the investigator\\n* Repeated measurement of systolic blood pressure outside the range of 90 to 140 mmHg, diastolic blood pressure outside the range of 50 to 90 mmHg, or pulse rate outside the range of 45 to 90 bpm\\n* Any laboratory value outside the reference range that the investigator considers to be of clinical relevance, e.g. thrombotic predisposition according to thrombophilic testing\\n* Any evidence of a concomitant disease assessed as clinically relevant by the investigator\\n* Gastrointestinal, hepatic, renal, respiratory, cardiovascular, metabolic, immunological or hormonal disorders\\n* Diseases of the central nervous system (including but not limited to any kind of seizures or stroke), and other relevant neurological or psychiatric disorders\\n* History of relevant orthostatic hypotension, fainting spells, or blackouts\\n* Chronic or relevant acute infections\\n* History of relevant allergy or hypersensitivity\\n* During COVID-19 pandemic: laboratory test indicative of an ongoing SARS-CoV-2 infection Further exclusion criteria apply.',\n",
       "  'healthyVolunteers': True,\n",
       "  'sex': 'MALE',\n",
       "  'minimumAge': '18 Years',\n",
       "  'maximumAge': '45 Years',\n",
       "  'stdAges': ['ADULT']},\n",
       " 'contactsLocationsModule': {'locations': [{'facility': 'Humanpharmakologisches Zentrum Biberach',\n",
       "    'city': 'Biberach',\n",
       "    'zip': '88397',\n",
       "    'country': 'Germany',\n",
       "    'geoPoint': {'lat': 48.09345, 'lon': 9.79053}}]},\n",
       " 'referencesModule': {'seeAlsoLinks': [{'label': 'Related Info',\n",
       "    'url': 'http://www.mystudywindow.com'}]},\n",
       " 'ipdSharingStatementModule': {'ipdSharing': 'NO',\n",
       "  'description': 'Clinical studies sponsored by Boehringer Ingelheim, phases I to IV, interventional and non-interventional, are in scope for sharing of the raw clinical study data and clinical study documents, except for the following exclusions:\\n\\n1. studies in products where Boehringer Ingelheim is not the license holder;\\n2. studies regarding pharmaceutical formulations and associated analytical methods, and studies pertinent to pharmacokinetics using human biomaterials;\\n3. studies conducted in a single center or targeting rare diseases (because of limitations with anonymization).\\n\\nFor more details refer to: https://www.mystudywindow.com/msw/datasharing'}}"
      ]
     },
     "execution_count": 49,
     "metadata": {},
     "output_type": "execute_result"
    }
   ],
   "source": [
    "data.json()['protocolSection']"
   ]
  },
  {
   "cell_type": "code",
   "execution_count": 50,
   "id": "c1349331",
   "metadata": {},
   "outputs": [
    {
     "data": {
      "text/plain": [
       "True"
      ]
     },
     "execution_count": 50,
     "metadata": {},
     "output_type": "execute_result"
    }
   ],
   "source": [
    "data.json()['hasResults']"
   ]
  },
  {
   "cell_type": "code",
   "execution_count": 51,
   "id": "f6c36ca8",
   "metadata": {},
   "outputs": [
    {
     "data": {
      "text/plain": [
       "dict_keys(['protocolSection', 'resultsSection', 'documentSection', 'derivedSection', 'hasResults'])"
      ]
     },
     "execution_count": 51,
     "metadata": {},
     "output_type": "execute_result"
    }
   ],
   "source": [
    "data.json().keys()"
   ]
  },
  {
   "cell_type": "code",
   "execution_count": 11,
   "id": "459c55b3",
   "metadata": {},
   "outputs": [
    {
     "data": {
      "text/plain": [
       "dict_keys(['participantFlowModule', 'baselineCharacteristicsModule', 'outcomeMeasuresModule', 'adverseEventsModule', 'moreInfoModule'])"
      ]
     },
     "execution_count": 11,
     "metadata": {},
     "output_type": "execute_result"
    }
   ],
   "source": [
    "data.json()['resultsSection'].keys()"
   ]
  },
  {
   "cell_type": "code",
   "execution_count": 12,
   "id": "3cdbdb6a",
   "metadata": {},
   "outputs": [
    {
     "data": {
      "text/plain": [
       "{'preAssignmentDetails': 'All subjects were screened for eligibility prior to participation in the trial. Subjects attended a specialist site which ensured that they (the subjects) strictly met all inclusion and none of the exclusion criteria.\\n\\nSubjects were not to be allocated to a treatment group if any of the entry criteria were violated. In this cross-over trial 2 single doses of alteplase were infused on 2 consecutive days keeping a wash-out period of at least 24 h.',\n",
       " 'recruitmentDetails': 'This was a randomised, open-label, 2 -way cross-over design with at least 24 h wash-out, to establish the bioequivalence of alteplase derived from two different manufacturing processes (new process, tissue plasminogen activator (TPA)-05, vs. current process, TPA-02) in healthy male volunteers.',\n",
       " 'groups': [{'id': 'FG000',\n",
       "   'title': 'Part A: Alteplase, TPA-02 Then Alteplase, TPA-05',\n",
       "   'description': 'Participants were administered on Day 1 of Period 1 a single dose of 0.2 milligram (mg)/kilogram (kg) body weight of alteplase from current manufacturing process (alteplase, TPA-02) intravenously (i.v.) over a 30 minutes (min) infusion.\\n\\nOn Day 1 of Period 2 participants were administered a single dose of 0.2 mg/kg body weight of alteplase from modified manufacturing process (alteplase, TPA-05) intravenously (i.v.) over a 30 min infusion.\\n\\nThe 2 treatment periods were separated by a washout period of at least 24 hours (h).'},\n",
       "  {'id': 'FG001',\n",
       "   'title': 'Part A: Alteplase, TPA-05 Then Alteplase, TPA-02',\n",
       "   'description': 'Participants were administered on Day 1 of Period 1 a single dose of 0.2 milligram (mg)/kilogram (kg) body weight of alteplase from modified manufacturing process (alteplase, TPA-05) intravenously (i.v.) over a 30 minutes (min) infusion.\\n\\nOn Day 1 of Period 2 participants were administered a single dose of 0.2 mg/kg body weight of alteplase from current manufacturing process (alteplase, TPA-02) intravenously (i.v.) over a 30 min infusion.\\n\\nThe 2 treatment periods were separated by a washout period of at least 24 hours (h).'},\n",
       "  {'id': 'FG002',\n",
       "   'title': 'Part B: Alteplase, TPA-02 Then Alteplase, TPA-05',\n",
       "   'description': 'Participants were administered on Day 1 of Period 1 a single dose of 0.2 milligram (mg)/kilogram (kg) body weight of alteplase from current manufacturing process (alteplase, TPA-02) intravenously (i.v.) over a 30 minutes (min) infusion. 5 min prior to the infusion of alteplase, TPA-02, participants were administered 5000 international units (IU) of the auxiliary medicinal product (AMP) unfractionated heparin (Heparin-Natrium-ratiopharm®) as an intravenous bolus.\\n\\nOn Day 1 of Period 2 participants were administered a single dose of 0.2 mg/kg body weight of alteplase from modified manufacturing process (alteplase, TPA-05) intravenously (i.v.) over a 30 min infusion. 5 min prior to the infusion of alteplase, TPA-05, participants were administered 5000 international units (IU) of the auxiliary medicinal product (AMP) unfractionated heparin (Heparin-Natrium-ratiopharm®) as an intravenous bolus.\\n\\nThe 2 treatment periods were separated by a washout period of at least 24 hours (h).'},\n",
       "  {'id': 'FG003',\n",
       "   'title': 'Part B: Alteplase, TPA-05 Then Alteplase, TPA-02',\n",
       "   'description': 'Participants were administered on Day 1 of Period 1 a single dose of 0.2 milligram (mg)/kilogram (kg) body weight of alteplase from modified manufacturing process (alteplase, TPA-05) intravenously (i.v.) over a 30 minutes (min) infusion. 5 min prior to the infusion of alteplase, TPA-05, participants were administered 5000 international units (IU) of the auxiliary medicinal product (AMP) unfractionated heparin (Heparin-Natrium-ratiopharm®) as an intravenous bolus.\\n\\nOn Day 1 of Period 2 participants were administered a single dose of 0.2 mg/kg body weight of alteplase from current manufacturing process (alteplase, TPA-02) intravenously (i.v.) over a 30 min infusion. 5 min prior to the infusion of alteplase, TPA-02, participants were administered 5000 international units (IU) of the auxiliary medicinal product (AMP) unfractionated heparin (Heparin-Natrium-ratiopharm®) as an intravenous bolus.\\n\\nThe 2 treatment periods were separated by a washout period of at least 24 hours (h).'}],\n",
       " 'periods': [{'title': 'Period 1',\n",
       "   'milestones': [{'type': 'STARTED',\n",
       "     'achievements': [{'groupId': 'FG000', 'numSubjects': '6'},\n",
       "      {'groupId': 'FG001', 'numSubjects': '6'},\n",
       "      {'groupId': 'FG002', 'numSubjects': '9'},\n",
       "      {'groupId': 'FG003', 'numSubjects': '9'}]},\n",
       "    {'type': 'COMPLETED',\n",
       "     'achievements': [{'groupId': 'FG000', 'numSubjects': '6'},\n",
       "      {'groupId': 'FG001', 'numSubjects': '6'},\n",
       "      {'groupId': 'FG002', 'numSubjects': '9'},\n",
       "      {'groupId': 'FG003', 'numSubjects': '9'}]},\n",
       "    {'type': 'NOT COMPLETED',\n",
       "     'achievements': [{'groupId': 'FG000', 'numSubjects': '0'},\n",
       "      {'groupId': 'FG001', 'numSubjects': '0'},\n",
       "      {'groupId': 'FG002', 'numSubjects': '0'},\n",
       "      {'groupId': 'FG003', 'numSubjects': '0'}]}]},\n",
       "  {'title': 'Wash-out After Period 1',\n",
       "   'milestones': [{'type': 'STARTED',\n",
       "     'achievements': [{'groupId': 'FG000', 'numSubjects': '6'},\n",
       "      {'groupId': 'FG001', 'numSubjects': '6'},\n",
       "      {'groupId': 'FG002', 'numSubjects': '9'},\n",
       "      {'groupId': 'FG003', 'numSubjects': '9'}]},\n",
       "    {'type': 'COMPLETED',\n",
       "     'achievements': [{'groupId': 'FG000', 'numSubjects': '5'},\n",
       "      {'groupId': 'FG001', 'numSubjects': '4'},\n",
       "      {'groupId': 'FG002', 'numSubjects': '8'},\n",
       "      {'groupId': 'FG003', 'numSubjects': '9'}]},\n",
       "    {'type': 'NOT COMPLETED',\n",
       "     'achievements': [{'groupId': 'FG000', 'numSubjects': '1'},\n",
       "      {'groupId': 'FG001', 'numSubjects': '2'},\n",
       "      {'groupId': 'FG002', 'numSubjects': '1'},\n",
       "      {'groupId': 'FG003', 'numSubjects': '0'}]}],\n",
       "   'dropWithdraws': [{'type': 'Adverse Event',\n",
       "     'reasons': [{'groupId': 'FG000', 'numSubjects': '1'},\n",
       "      {'groupId': 'FG001', 'numSubjects': '2'},\n",
       "      {'groupId': 'FG002', 'numSubjects': '1'},\n",
       "      {'groupId': 'FG003', 'numSubjects': '0'}]}]},\n",
       "  {'title': 'Period 2',\n",
       "   'milestones': [{'type': 'STARTED',\n",
       "     'achievements': [{'groupId': 'FG000', 'numSubjects': '5'},\n",
       "      {'groupId': 'FG001', 'numSubjects': '4'},\n",
       "      {'groupId': 'FG002', 'numSubjects': '8'},\n",
       "      {'groupId': 'FG003', 'numSubjects': '9'}]},\n",
       "    {'type': 'COMPLETED',\n",
       "     'achievements': [{'groupId': 'FG000', 'numSubjects': '5'},\n",
       "      {'groupId': 'FG001', 'numSubjects': '4'},\n",
       "      {'groupId': 'FG002', 'numSubjects': '8'},\n",
       "      {'groupId': 'FG003', 'numSubjects': '9'}]},\n",
       "    {'type': 'NOT COMPLETED',\n",
       "     'achievements': [{'groupId': 'FG000', 'numSubjects': '0'},\n",
       "      {'groupId': 'FG001', 'numSubjects': '0'},\n",
       "      {'groupId': 'FG002', 'numSubjects': '0'},\n",
       "      {'groupId': 'FG003', 'numSubjects': '0'}]}]}]}"
      ]
     },
     "execution_count": 12,
     "metadata": {},
     "output_type": "execute_result"
    }
   ],
   "source": [
    "data.json()['resultsSection']['participantFlowModule']"
   ]
  },
  {
   "cell_type": "code",
   "execution_count": null,
   "id": "8efd89f2",
   "metadata": {},
   "outputs": [],
   "source": []
  },
  {
   "cell_type": "code",
   "execution_count": null,
   "id": "439514f8",
   "metadata": {},
   "outputs": [],
   "source": []
  },
  {
   "cell_type": "markdown",
   "id": "1caf5c32",
   "metadata": {},
   "source": [
    "# Критерии включения:\n",
    "\n",
    "* Здоровые мужчины по оценке исследователя на основании полной истории болезни, включая физикальное обследование, показатели жизнедеятельности (артериальное давление (АД), частота пульса (ЧП)), \n",
    "* электрокардиограмма (ЭКГ) в 12 отведениях и клинические лабораторные анализы.\n",
    "* Возраст от 18 до 45 лет (включительно)\n",
    "* Индекс массы тела (вес, деленный на квадрат роста) (ИМТ) от 18,5 до 29,9 кг/м2 (включительно)\n",
    "* Масса тела 65 - 100 кг (включительно) при скрининге\n",
    "* Подписанное и датированное письменное информированное согласие до допуска к исследованию в соответствии с Надлежащей клинической практикой (GCP) и местным законодательством.\n",
    "# Критерии исключения:\n",
    "\n",
    "* Любые отклонения от нормы, выявленные в ходе медицинского обследования (включая артериальное давление, пульс или ЭКГ), которые исследователь оценивает как клинически значимые.\n",
    "* Повторное измерение систолического артериального давления за пределами диапазона от 90 до 140 мм рт. ст., диастолического артериального давления за пределами диапазона от 50 до 90 мм рт. ст. или * частоты пульса за пределами диапазона от 45 до 90 ударов в минуту\n",
    "* Любое лабораторное значение, выходящее за пределы референтного диапазона, которое исследователь считает имеющим клиническое значение, например, тромботическая предрасположенность согласно \n",
    "* тромбофилическому тестированию\n",
    "* Любые доказательства сопутствующего заболевания, оцененные исследователем как клинически значимые\n",
    "* Желудочно-кишечные, печеночные, почечные, респираторные, сердечно-сосудистые, метаболические, иммунологические или гормональные нарушения\n",
    "* Заболевания центральной нервной системы (включая, помимо прочего, любые виды судорог или инсульта) и другие соответствующие неврологические или психиатрические расстройства\n",
    "* История соответствующей ортостатической гипотензии, обмороков или потери сознания\n",
    "* Хронические или соответствующие острые инфекции\n",
    "* История соответствующей аллергии или гиперчувствительности\n",
    "* Во время пандемии COVID-19: лабораторный тест указывает на продолжающуюся инфекцию SARS-CoV-2. Применяются дополнительные критерии исключения."
   ]
  },
  {
   "cell_type": "markdown",
   "id": "2dd4b78d",
   "metadata": {},
   "source": [
    "Детали дизайна\n",
    "* Основная цель: Treatment\n",
    "* Распределение:Рандомизированный\n",
    "* Модель вмешательства:Кроссоверное задание\n",
    "* Описание модели вмешательства: Часть A: Открытое исследование Часть B: Адаптивный двухэтапный групповой последовательный дизайн\n",
    "* Маскировка:Нет (Open Label)"
   ]
  },
  {
   "cell_type": "markdown",
   "id": "bf0925c8",
   "metadata": {},
   "source": [
    "# Подробности набора\n",
    "Это было рандомизированное, открытое, двухфакторное перекрестное исследование с вымыванием не менее 24 часов с целью установления биоэквивалентности альтеплазы, полученной с помощью двух различных производственных процессов (новый процесс, тканевой активатор плазминогена (TPA)-05, по сравнению с текущим процессом, TPA-02) у здоровых добровольцев-мужчин.\n",
    "# Подробности предварительного задания\n",
    "Все субъекты были проверены на соответствие требованиям до участия в исследовании. Субъекты посещали специализированный сайт, который гарантировал, что они (субъекты) строго соответствуют всем критериям включения и ни одному из критериев исключения.\n",
    "\n",
    "Субъекты не должны были быть распределены в группу лечения, если какой-либо из критериев входа был нарушен. В этом перекрестном исследовании 2 однократные дозы альтеплазы вводились в течение 2 последовательных дней с соблюдением периода вымывания не менее 24 часов."
   ]
  },
  {
   "cell_type": "markdown",
   "id": "9f4c3910",
   "metadata": {},
   "source": [
    "# Обзор статистического анализа"
   ]
  },
  {
   "cell_type": "markdown",
   "id": "5761358c",
   "metadata": {},
   "source": [
    "    Выбор группы сравнения\tЧасть B: Альтеплаза, TPA-02, Часть B: Альтеплаза, TPA-05\n",
    "    Комментарии\t\n",
    "    Нулевая гипотеза заключалась в том, что отношение ожидаемых значений геометрических наименьших квадратов Alteplase, TPA-02 к Alteplase, TPA-05 составляет менее 80,00% или более 125,00%.\n",
    "\n",
    "    Статистическая модель, использованная для анализа этих конечных точек, представляла собой модель дисперсионного анализа (ANOVA) в логарифмической шкале.\n",
    "\n",
    "    Эта модель включала эффекты, учитывающие следующие источники вариации: последовательность, субъекты в последовательностях, период и лечение. Все эффекты считались фиксированными.\n",
    "\n",
    "    Тип статистического теста\tЭквивалентность\n",
    "    Комментарии\tБиоэквивалентность считалась подтвержденной, если доверительный интервал (ДИ) для сравнения геометрических средних значений наименьших квадратов был включен в заранее определенный диапазон эквивалентности от 80,00% до 125,00%.\n",
    "    Метод оценки\n",
    "    Параметр оценки\tГеометрическое наименьшее квадратичное среднее отношение (%)\n",
    "    Оценочная стоимость\t102.20\n",
    "    Доверительный интервал\t(2-сторонний) 92,83%\n",
    "    94,87 до 110,10\n",
    "    Параметр дисперсии\t\n",
    "    Тип: Стандартная ошибка среднего\n",
    "    Значение: 10.8\n",
    "    Оценка Комментарии\tГеометрическое наименьшее квадратичное среднее отношение: Alteplase, TPA-02/Alteplase, TPA-05. Стандартная ошибка среднего фактически является внутрииндивидуальной вариацией геометрического коэффициента."
   ]
  },
  {
   "cell_type": "markdown",
   "id": "3f08c18e",
   "metadata": {},
   "source": [
    "    Выбор группы сравнения\tЧасть B: Альтеплаза, TPA-02, Часть B: Альтеплаза, TPA-05\n",
    "    Комментарии\t\n",
    "    Нулевая гипотеза заключалась в том, что отношение ожидаемых значений геометрических наименьших квадратов Alteplase, TPA-02 к Alteplase, TPA-05 составляет менее 80,00% или более 125,00%.\n",
    "\n",
    "    Статистическая модель, использованная для анализа этих конечных точек, представляла собой модель дисперсионного анализа (ANOVA) в логарифмической шкале.\n",
    "\n",
    "    Эта модель включала эффекты, учитывающие следующие источники вариации: последовательность, субъекты в последовательностях, период и лечение. Все эффекты считались фиксированными.\n",
    "\n",
    "    Тип статистического теста\tЭквивалентность\n",
    "    Комментарии\tБиоэквивалентность считалась подтвержденной, если доверительный интервал (ДИ) для сравнения геометрических средних значений наименьших квадратов был включен в заранее определенный диапазон эквивалентности от 80,00% до 125,00%.\n",
    "    Метод оценки\n",
    "    Параметр оценки\tГеометрическое наименьшее квадратичное среднее отношение (%)\n",
    "    Оценочная стоимость\t105.81\n",
    "    Доверительный интервал\t(2-сторонний) 92,83%\n",
    "    99,18 до 112,88\n",
    "    Параметр дисперсии\t\n",
    "    Тип: Стандартная ошибка среднего\n",
    "    Значение: 9.3\n",
    "    Оценка Комментарии\tГеометрическое наименьшее квадратичное среднее отношение: Alteplase, TPA-02/Alteplase, TPA-05. Стандартная ошибка среднего фактически является внутрииндивидуальной вариацией геометрического коэффициента."
   ]
  },
  {
   "cell_type": "markdown",
   "id": "7061d549",
   "metadata": {},
   "source": [
    "    Выбор группы сравнения\tЧасть B: Альтеплаза, TPA-02, Часть B: Альтеплаза, TPA-05\n",
    "    Комментарии\t\n",
    "    Нулевая гипотеза заключалась в том, что отношение ожидаемых значений геометрических наименьших квадратов Alteplase, TPA-02 к Alteplase, TPA-05 составляет менее 80,00% или более 125,00%.\n",
    "\n",
    "    Статистическая модель, использованная для анализа этих конечных точек, представляла собой модель дисперсионного анализа (ANOVA) в логарифмической шкале.\n",
    "\n",
    "    Эта модель включала эффекты, учитывающие следующие источники вариации: последовательность, субъекты в последовательностях, период и лечение. Все эффекты считались фиксированными.\n",
    "\n",
    "    Тип статистического теста\tЭквивалентность\n",
    "    Комментарии\tБиоэквивалентность считалась подтвержденной, если доверительный интервал (ДИ) для сравнения геометрических средних значений наименьших квадратов попадал в заранее определенный диапазон эквивалентности от 80,00% до 125,00%.\n",
    "    Метод оценки\n",
    "    Параметр оценки\tГеометрическое наименьшее квадратичное среднее отношение (%)\n",
    "    Оценочная стоимость\t102.17\n",
    "    Доверительный интервал\t(2-сторонний) 92,83%\n",
    "    94,79 до 110,12\n",
    "    Параметр дисперсии\t\n",
    "    Тип: Стандартная ошибка среднего\n",
    "    Значение: 10.8\n",
    "    Оценка Комментарии\tГеометрическое наименьшее квадратичное среднее отношение: Alteplase, TPA-02/Alteplase, TPA-05. Стандартная ошибка среднего фактически является внутрииндивидуальной вариацией геометрического коэффициента."
   ]
  },
  {
   "cell_type": "markdown",
   "id": "6fc852a3",
   "metadata": {},
   "source": []
  }
 ],
 "metadata": {
  "kernelspec": {
   "display_name": "venv",
   "language": "python",
   "name": "python3"
  },
  "language_info": {
   "codemirror_mode": {
    "name": "ipython",
    "version": 3
   },
   "file_extension": ".py",
   "mimetype": "text/x-python",
   "name": "python",
   "nbconvert_exporter": "python",
   "pygments_lexer": "ipython3",
   "version": "3.10.12"
  }
 },
 "nbformat": 4,
 "nbformat_minor": 5
}
