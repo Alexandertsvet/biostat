{
 "cells": [
  {
   "cell_type": "code",
   "execution_count": 179,
   "id": "f244ad1b",
   "metadata": {},
   "outputs": [],
   "source": [
    "import pandas as pd"
   ]
  },
  {
   "cell_type": "code",
   "execution_count": 180,
   "id": "177f22d6",
   "metadata": {},
   "outputs": [],
   "source": [
    "import requests\n",
    "import json\n",
    "from lxml import html\n",
    "from lxml import etree\n",
    "from bs4 import BeautifulSoup"
   ]
  },
  {
   "cell_type": "markdown",
   "id": "0349bb63",
   "metadata": {},
   "source": [
    "SMILES- этоаббревиатура от Simplified Molecular Input Line Entry Specification"
   ]
  },
  {
   "cell_type": "code",
   "execution_count": 181,
   "id": "5c2e41ab",
   "metadata": {},
   "outputs": [
    {
     "data": {
      "text/plain": [
       "'https://pubchem.ncbi.nlm.nih.gov/rest/pug/compound/fastidentity/smiles/C/cids/XML'"
      ]
     },
     "execution_count": 181,
     "metadata": {},
     "output_type": "execute_result"
    }
   ],
   "source": [
    "'https://pubchem.ncbi.nlm.nih.gov/rest/pug/compound/fastsubstructure/smiles/C3=NC1=C(C=NC2=C1C=NC=C2)[N]3/cids/XML'\n",
    "'https://pubchem.ncbi.nlm.nih.gov/rest/pug/compound/fastidentity/smiles/C/cids/XML'"
   ]
  },
  {
   "cell_type": "code",
   "execution_count": 182,
   "id": "d2cb85c1",
   "metadata": {},
   "outputs": [
    {
     "data": {
      "text/plain": [
       "'https://pubchem.ncbi.nlm.nih.gov/rest/pug/compound/cid/2244'"
      ]
     },
     "execution_count": 182,
     "metadata": {},
     "output_type": "execute_result"
    }
   ],
   "source": [
    "'https://pubchem.ncbi.nlm.nih.gov/rest/pug/compound/cid/2244'"
   ]
  },
  {
   "cell_type": "code",
   "execution_count": 183,
   "id": "18f2780e",
   "metadata": {},
   "outputs": [],
   "source": [
    "name_drug = 'aspirin'"
   ]
  },
  {
   "cell_type": "code",
   "execution_count": 184,
   "id": "90c5bb07",
   "metadata": {},
   "outputs": [
    {
     "data": {
      "text/plain": [
       "'https://pubchem.ncbi.nlm.nih.gov/rest/pug/compound/name/aspirin/cids/TXT'"
      ]
     },
     "execution_count": 184,
     "metadata": {},
     "output_type": "execute_result"
    }
   ],
   "source": [
    "url = f'https://pubchem.ncbi.nlm.nih.gov/rest/pug/compound/name/{name_drug}/cids/TXT'\n",
    "url"
   ]
  },
  {
   "cell_type": "code",
   "execution_count": 185,
   "id": "d97ccbff",
   "metadata": {},
   "outputs": [],
   "source": [
    "try:\n",
    "    response = requests.get(url)\n",
    "except:\n",
    "    print('load_error')"
   ]
  },
  {
   "cell_type": "code",
   "execution_count": 186,
   "id": "ea479935",
   "metadata": {},
   "outputs": [
    {
     "name": "stdout",
     "output_type": "stream",
     "text": [
      "<Response [200]>\n",
      "timeout=4, max=40\n"
     ]
    }
   ],
   "source": [
    "print(response)\n",
    "print(response.headers['Keep-Alive'])"
   ]
  },
  {
   "cell_type": "code",
   "execution_count": 187,
   "id": "974ad3df",
   "metadata": {},
   "outputs": [
    {
     "data": {
      "text/plain": [
       "b'2244\\n'"
      ]
     },
     "execution_count": 187,
     "metadata": {},
     "output_type": "execute_result"
    }
   ],
   "source": [
    "response.content"
   ]
  },
  {
   "cell_type": "code",
   "execution_count": 188,
   "id": "23ad5f6a",
   "metadata": {},
   "outputs": [
    {
     "data": {
      "text/plain": [
       "2244"
      ]
     },
     "execution_count": 188,
     "metadata": {},
     "output_type": "execute_result"
    }
   ],
   "source": [
    "cid = int(response.content)\n",
    "cid"
   ]
  },
  {
   "cell_type": "code",
   "execution_count": 189,
   "id": "73e5a15e",
   "metadata": {},
   "outputs": [
    {
     "data": {
      "text/plain": [
       "'https://pubchem.ncbi.nlm.nih.gov/rest/pug/compound/cid/2244/XML'"
      ]
     },
     "execution_count": 189,
     "metadata": {},
     "output_type": "execute_result"
    }
   ],
   "source": [
    "url_cid = f'https://pubchem.ncbi.nlm.nih.gov/rest/pug/compound/cid/{cid}/XML'\n",
    "url_cid"
   ]
  },
  {
   "cell_type": "code",
   "execution_count": 190,
   "id": "62579068",
   "metadata": {},
   "outputs": [],
   "source": [
    "try:\n",
    "    response_cid = requests.get(url_cid)\n",
    "except:\n",
    "    print('load_error')"
   ]
  },
  {
   "cell_type": "code",
   "execution_count": 191,
   "id": "bb345dbb",
   "metadata": {},
   "outputs": [
    {
     "data": {
      "text/plain": [
       "b'<?xml version=\"1.0\"?>\\n<PC-Compounds\\n    xmlns=\"http://www.ncbi.nlm.nih.gov\"\\n    xmlns:xs=\"http://www.w3.org/2001/XMLSchema-instance\"\\n    xs:schemaLocation=\"http://www.ncbi.nlm.nih.gov ftp://ftp.ncbi.nlm.nih.gov/pubchem/specifications/pubchem.xsd\"\\n>\\n  <PC-Compound>\\n    <PC-Compound_id>\\n      <PC-CompoundType>\\n        <PC-CompoundType_id>\\n          <PC-CompoundType_id_cid>2244</PC-CompoundType_id_cid>\\n        </PC-CompoundType_id>\\n      </PC-CompoundType>\\n    </PC-Compound_id>\\n    <PC-Compound_atoms>\\n      <PC-Atoms>\\n        <PC-Atoms_aid>\\n          <PC-Atoms_aid_E>1</PC-Atoms_aid_E>\\n          <PC-Atoms_aid_E>2</PC-Atoms_aid_E>\\n          <PC-Atoms_aid_E>3</PC-Atoms_aid_E>\\n          <PC-Atoms_aid_E>4</PC-Atoms_aid_E>\\n          <PC-Atoms_aid_E>5</PC-Atoms_aid_E>\\n          <PC-Atoms_aid_E>6</PC-Atoms_aid_E>\\n          <PC-Atoms_aid_E>7</PC-Atoms_aid_E>\\n          <PC-Atoms_aid_E>8</PC-Atoms_aid_E>\\n          <PC-Atoms_aid_E>9</PC-Atoms_aid_E>\\n          <PC-Atoms_aid_E>10</PC-Atoms_aid_E>\\n          <PC-Atoms_aid_E>11</PC-Atoms_aid_E>\\n          <PC-Atoms_aid_E>12</PC-Atoms_aid_E>\\n          <PC-Atoms_aid_E>13</PC-Atoms_aid_E>\\n          <PC-Atoms_aid_E>14</PC-Atoms_aid_E>\\n          <PC-Atoms_aid_E>15</PC-Atoms_aid_E>\\n          <PC-Atoms_aid_E>16</PC-Atoms_aid_E>\\n          <PC-Atoms_aid_E>17</PC-Atoms_aid_E>\\n          <PC-Atoms_aid_E>18</PC-Atoms_aid_E>\\n          <PC-Atoms_aid_E>19</PC-Atoms_aid_E>\\n          <PC-Atoms_aid_E>20</PC-Atoms_aid_E>\\n          <PC-Atoms_aid_E>21</PC-Atoms_aid_E>\\n        </PC-Atoms_aid>\\n        <PC-Atoms_element>\\n          <PC-Element value=\"o\">8</PC-Element>\\n          <PC-Element value=\"o\">8</PC-Element>\\n          <PC-Element value=\"o\">8</PC-Element>\\n          <PC-Element value=\"o\">8</PC-Element>\\n          <PC-Element value=\"c\">6</PC-Element>\\n          <PC-Element value=\"c\">6</PC-Element>\\n          <PC-Element value=\"c\">6</PC-Element>\\n          <PC-Element value=\"c\">6</PC-Element>\\n          <PC-Element value=\"c\">6</PC-Element>\\n          <PC-Element value=\"c\">6</PC-Element>\\n          <PC-Element value=\"c\">6</PC-Element>\\n          <PC-Element value=\"c\">6</PC-Element>\\n          <PC-Element value=\"c\">6</PC-Element>\\n          <PC-Element value=\"h\">1</PC-Element>\\n          <PC-Element value=\"h\">1</PC-Element>\\n          <PC-Element value=\"h\">1</PC-Element>\\n          <PC-Element value=\"h\">1</PC-Element>\\n          <PC-Element value=\"h\">1</PC-Element>\\n          <PC-Element value=\"h\">1</PC-Element>\\n          <PC-Element value=\"h\">1</PC-Element>\\n          <PC-Element value=\"h\">1</PC-Element>\\n        </PC-Atoms_element>\\n      </PC-Atoms>\\n    </PC-Compound_atoms>\\n    <PC-Compound_bonds>\\n      <PC-Bonds>\\n        <PC-Bonds_aid1>\\n          <PC-Bonds_aid1_E>1</PC-Bonds_aid1_E>\\n          <PC-Bonds_aid1_E>1</PC-Bonds_aid1_E>\\n          <PC-Bonds_aid1_E>2</PC-Bonds_aid1_E>\\n          <PC-Bonds_aid1_E>2</PC-Bonds_aid1_E>\\n          <PC-Bonds_aid1_E>3</PC-Bonds_aid1_E>\\n          <PC-Bonds_aid1_E>4</PC-Bonds_aid1_E>\\n          <PC-Bonds_aid1_E>5</PC-Bonds_aid1_E>\\n          <PC-Bonds_aid1_E>5</PC-Bonds_aid1_E>\\n          <PC-Bonds_aid1_E>6</PC-Bonds_aid1_E>\\n          <PC-Bonds_aid1_E>6</PC-Bonds_aid1_E>\\n          <PC-Bonds_aid1_E>7</PC-Bonds_aid1_E>\\n          <PC-Bonds_aid1_E>7</PC-Bonds_aid1_E>\\n          <PC-Bonds_aid1_E>8</PC-Bonds_aid1_E>\\n          <PC-Bonds_aid1_E>8</PC-Bonds_aid1_E>\\n          <PC-Bonds_aid1_E>9</PC-Bonds_aid1_E>\\n          <PC-Bonds_aid1_E>9</PC-Bonds_aid1_E>\\n          <PC-Bonds_aid1_E>10</PC-Bonds_aid1_E>\\n          <PC-Bonds_aid1_E>12</PC-Bonds_aid1_E>\\n          <PC-Bonds_aid1_E>13</PC-Bonds_aid1_E>\\n          <PC-Bonds_aid1_E>13</PC-Bonds_aid1_E>\\n          <PC-Bonds_aid1_E>13</PC-Bonds_aid1_E>\\n        </PC-Bonds_aid1>\\n        <PC-Bonds_aid2>\\n          <PC-Bonds_aid2_E>5</PC-Bonds_aid2_E>\\n          <PC-Bonds_aid2_E>12</PC-Bonds_aid2_E>\\n          <PC-Bonds_aid2_E>11</PC-Bonds_aid2_E>\\n          <PC-Bonds_aid2_E>21</PC-Bonds_aid2_E>\\n          <PC-Bonds_aid2_E>11</PC-Bonds_aid2_E>\\n          <PC-Bonds_aid2_E>12</PC-Bonds_aid2_E>\\n          <PC-Bonds_aid2_E>6</PC-Bonds_aid2_E>\\n          <PC-Bonds_aid2_E>7</PC-Bonds_aid2_E>\\n          <PC-Bonds_aid2_E>8</PC-Bonds_aid2_E>\\n          <PC-Bonds_aid2_E>11</PC-Bonds_aid2_E>\\n          <PC-Bonds_aid2_E>9</PC-Bonds_aid2_E>\\n          <PC-Bonds_aid2_E>14</PC-Bonds_aid2_E>\\n          <PC-Bonds_aid2_E>10</PC-Bonds_aid2_E>\\n          <PC-Bonds_aid2_E>15</PC-Bonds_aid2_E>\\n          <PC-Bonds_aid2_E>10</PC-Bonds_aid2_E>\\n          <PC-Bonds_aid2_E>16</PC-Bonds_aid2_E>\\n          <PC-Bonds_aid2_E>17</PC-Bonds_aid2_E>\\n          <PC-Bonds_aid2_E>13</PC-Bonds_aid2_E>\\n          <PC-Bonds_aid2_E>18</PC-Bonds_aid2_E>\\n          <PC-Bonds_aid2_E>19</PC-Bonds_aid2_E>\\n          <PC-Bonds_aid2_E>20</PC-Bonds_aid2_E>\\n        </PC-Bonds_aid2>\\n        <PC-Bonds_order>\\n          <PC-BondType value=\"single\">1</PC-BondType>\\n          <PC-BondType value=\"single\">1</PC-BondType>\\n          <PC-BondType value=\"single\">1</PC-BondType>\\n          <PC-BondType value=\"single\">1</PC-BondType>\\n          <PC-BondType value=\"double\">2</PC-BondType>\\n          <PC-BondType value=\"double\">2</PC-BondType>\\n          <PC-BondType value=\"single\">1</PC-BondType>\\n          <PC-BondType value=\"double\">2</PC-BondType>\\n          <PC-BondType value=\"double\">2</PC-BondType>\\n          <PC-BondType value=\"single\">1</PC-BondType>\\n          <PC-BondType value=\"single\">1</PC-BondType>\\n          <PC-BondType value=\"single\">1</PC-BondType>\\n          <PC-BondType value=\"single\">1</PC-BondType>\\n          <PC-BondType value=\"single\">1</PC-BondType>\\n          <PC-BondType value=\"double\">2</PC-BondType>\\n          <PC-BondType value=\"single\">1</PC-BondType>\\n          <PC-BondType value=\"single\">1</PC-BondType>\\n          <PC-BondType value=\"single\">1</PC-BondType>\\n          <PC-BondType value=\"single\">1</PC-BondType>\\n          <PC-BondType value=\"single\">1</PC-BondType>\\n          <PC-BondType value=\"single\">1</PC-BondType>\\n        </PC-Bonds_order>\\n      </PC-Bonds>\\n    </PC-Compound_bonds>\\n    <PC-Compound_coords>\\n      <PC-Coordinates>\\n        <PC-Coordinates_type>\\n          <PC-CoordinateType value=\"twod\">1</PC-CoordinateType>\\n          <PC-CoordinateType value=\"computed\">5</PC-CoordinateType>\\n          <PC-CoordinateType value=\"units-unknown\">255</PC-CoordinateType>\\n        </PC-Coordinates_type>\\n        <PC-Coordinates_aid>\\n          <PC-Coordinates_aid_E>1</PC-Coordinates_aid_E>\\n          <PC-Coordinates_aid_E>2</PC-Coordinates_aid_E>\\n          <PC-Coordinates_aid_E>3</PC-Coordinates_aid_E>\\n          <PC-Coordinates_aid_E>4</PC-Coordinates_aid_E>\\n          <PC-Coordinates_aid_E>5</PC-Coordinates_aid_E>\\n          <PC-Coordinates_aid_E>6</PC-Coordinates_aid_E>\\n          <PC-Coordinates_aid_E>7</PC-Coordinates_aid_E>\\n          <PC-Coordinates_aid_E>8</PC-Coordinates_aid_E>\\n          <PC-Coordinates_aid_E>9</PC-Coordinates_aid_E>\\n          <PC-Coordinates_aid_E>10</PC-Coordinates_aid_E>\\n          <PC-Coordinates_aid_E>11</PC-Coordinates_aid_E>\\n          <PC-Coordinates_aid_E>12</PC-Coordinates_aid_E>\\n          <PC-Coordinates_aid_E>13</PC-Coordinates_aid_E>\\n          <PC-Coordinates_aid_E>14</PC-Coordinates_aid_E>\\n          <PC-Coordinates_aid_E>15</PC-Coordinates_aid_E>\\n          <PC-Coordinates_aid_E>16</PC-Coordinates_aid_E>\\n          <PC-Coordinates_aid_E>17</PC-Coordinates_aid_E>\\n          <PC-Coordinates_aid_E>18</PC-Coordinates_aid_E>\\n          <PC-Coordinates_aid_E>19</PC-Coordinates_aid_E>\\n          <PC-Coordinates_aid_E>20</PC-Coordinates_aid_E>\\n          <PC-Coordinates_aid_E>21</PC-Coordinates_aid_E>\\n        </PC-Coordinates_aid>\\n        <PC-Coordinates_conformers>\\n          <PC-Conformer>\\n            <PC-Conformer_x>\\n              <PC-Conformer_x_E>3.7321</PC-Conformer_x_E>\\n              <PC-Conformer_x_E>6.3301</PC-Conformer_x_E>\\n              <PC-Conformer_x_E>4.5981</PC-Conformer_x_E>\\n              <PC-Conformer_x_E>2.866</PC-Conformer_x_E>\\n              <PC-Conformer_x_E>4.5981</PC-Conformer_x_E>\\n              <PC-Conformer_x_E>5.4641</PC-Conformer_x_E>\\n              <PC-Conformer_x_E>4.5981</PC-Conformer_x_E>\\n              <PC-Conformer_x_E>6.3301</PC-Conformer_x_E>\\n              <PC-Conformer_x_E>5.4641</PC-Conformer_x_E>\\n              <PC-Conformer_x_E>6.3301</PC-Conformer_x_E>\\n              <PC-Conformer_x_E>5.4641</PC-Conformer_x_E>\\n              <PC-Conformer_x_E>2.866</PC-Conformer_x_E>\\n              <PC-Conformer_x_E>2</PC-Conformer_x_E>\\n              <PC-Conformer_x_E>4.0611</PC-Conformer_x_E>\\n              <PC-Conformer_x_E>6.8671</PC-Conformer_x_E>\\n              <PC-Conformer_x_E>5.4641</PC-Conformer_x_E>\\n              <PC-Conformer_x_E>6.8671</PC-Conformer_x_E>\\n              <PC-Conformer_x_E>2.31</PC-Conformer_x_E>\\n              <PC-Conformer_x_E>1.4631</PC-Conformer_x_E>\\n              <PC-Conformer_x_E>1.69</PC-Conformer_x_E>\\n              <PC-Conformer_x_E>6.3301</PC-Conformer_x_E>\\n            </PC-Conformer_x>\\n            <PC-Conformer_y>\\n              <PC-Conformer_y_E>-0.06</PC-Conformer_y_E>\\n              <PC-Conformer_y_E>1.44</PC-Conformer_y_E>\\n              <PC-Conformer_y_E>1.44</PC-Conformer_y_E>\\n              <PC-Conformer_y_E>-1.56</PC-Conformer_y_E>\\n              <PC-Conformer_y_E>-0.56</PC-Conformer_y_E>\\n              <PC-Conformer_y_E>-0.06</PC-Conformer_y_E>\\n              <PC-Conformer_y_E>-1.56</PC-Conformer_y_E>\\n              <PC-Conformer_y_E>-0.56</PC-Conformer_y_E>\\n              <PC-Conformer_y_E>-2.06</PC-Conformer_y_E>\\n              <PC-Conformer_y_E>-1.56</PC-Conformer_y_E>\\n              <PC-Conformer_y_E>0.94</PC-Conformer_y_E>\\n              <PC-Conformer_y_E>-0.56</PC-Conformer_y_E>\\n              <PC-Conformer_y_E>-0.06</PC-Conformer_y_E>\\n              <PC-Conformer_y_E>-1.87</PC-Conformer_y_E>\\n              <PC-Conformer_y_E>-0.25</PC-Conformer_y_E>\\n              <PC-Conformer_y_E>-2.68</PC-Conformer_y_E>\\n              <PC-Conformer_y_E>-1.87</PC-Conformer_y_E>\\n              <PC-Conformer_y_E>0.4769</PC-Conformer_y_E>\\n              <PC-Conformer_y_E>0.25</PC-Conformer_y_E>\\n              <PC-Conformer_y_E>-0.5969</PC-Conformer_y_E>\\n              <PC-Conformer_y_E>2.06</PC-Conformer_y_E>\\n            </PC-Conformer_y>\\n            <PC-Conformer_style>\\n              <PC-DrawAnnotations>\\n                <PC-DrawAnnotations_annotation>\\n                  <PC-BondAnnotation value=\"aromatic\">8</PC-BondAnnotation>\\n                  <PC-BondAnnotation value=\"aromatic\">8</PC-BondAnnotation>\\n                  <PC-BondAnnotation value=\"aromatic\">8</PC-BondAnnotation>\\n                  <PC-BondAnnotation value=\"aromatic\">8</PC-BondAnnotation>\\n                  <PC-BondAnnotation value=\"aromatic\">8</PC-BondAnnotation>\\n                  <PC-BondAnnotation value=\"aromatic\">8</PC-BondAnnotation>\\n                </PC-DrawAnnotations_annotation>\\n                <PC-DrawAnnotations_aid1>\\n                  <PC-DrawAnnotations_aid1_E>5</PC-DrawAnnotations_aid1_E>\\n                  <PC-DrawAnnotations_aid1_E>5</PC-DrawAnnotations_aid1_E>\\n                  <PC-DrawAnnotations_aid1_E>6</PC-DrawAnnotations_aid1_E>\\n                  <PC-DrawAnnotations_aid1_E>7</PC-DrawAnnotations_aid1_E>\\n                  <PC-DrawAnnotations_aid1_E>8</PC-DrawAnnotations_aid1_E>\\n                  <PC-DrawAnnotations_aid1_E>9</PC-DrawAnnotations_aid1_E>\\n                </PC-DrawAnnotations_aid1>\\n                <PC-DrawAnnotations_aid2>\\n                  <PC-DrawAnnotations_aid2_E>6</PC-DrawAnnotations_aid2_E>\\n                  <PC-DrawAnnotations_aid2_E>7</PC-DrawAnnotations_aid2_E>\\n                  <PC-DrawAnnotations_aid2_E>8</PC-DrawAnnotations_aid2_E>\\n                  <PC-DrawAnnotations_aid2_E>9</PC-DrawAnnotations_aid2_E>\\n                  <PC-DrawAnnotations_aid2_E>10</PC-DrawAnnotations_aid2_E>\\n                  <PC-DrawAnnotations_aid2_E>10</PC-DrawAnnotations_aid2_E>\\n                </PC-DrawAnnotations_aid2>\\n              </PC-DrawAnnotations>\\n            </PC-Conformer_style>\\n          </PC-Conformer>\\n        </PC-Coordinates_conformers>\\n      </PC-Coordinates>\\n    </PC-Compound_coords>\\n    <PC-Compound_charge>0</PC-Compound_charge>\\n    <PC-Compound_props>\\n      <PC-InfoData>\\n        <PC-InfoData_urn>\\n          <PC-Urn>\\n            <PC-Urn_label>Compound</PC-Urn_label>\\n            <PC-Urn_name>Canonicalized</PC-Urn_name>\\n            <PC-Urn_datatype>\\n              <PC-UrnDataType value=\"uint\">5</PC-UrnDataType>\\n            </PC-Urn_datatype>\\n            <PC-Urn_release>2025.04.14</PC-Urn_release>\\n          </PC-Urn>\\n        </PC-InfoData_urn>\\n        <PC-InfoData_value>\\n          <PC-InfoData_value_ival>1</PC-InfoData_value_ival>\\n        </PC-InfoData_value>\\n      </PC-InfoData>\\n      <PC-InfoData>\\n        <PC-InfoData_urn>\\n          <PC-Urn>\\n            <PC-Urn_label>Compound Complexity</PC-Urn_label>\\n            <PC-Urn_datatype>\\n              <PC-UrnDataType value=\"double\">7</PC-UrnDataType>\\n            </PC-Urn_datatype>\\n            <PC-Urn_implementation>E_COMPLEXITY</PC-Urn_implementation>\\n            <PC-Urn_version>3.4.8.18</PC-Urn_version>\\n            <PC-Urn_software>Cactvs</PC-Urn_software>\\n            <PC-Urn_source>Xemistry GmbH</PC-Urn_source>\\n            <PC-Urn_release>2025.04.14</PC-Urn_release>\\n          </PC-Urn>\\n        </PC-InfoData_urn>\\n        <PC-InfoData_value>\\n          <PC-InfoData_value_fval>212</PC-InfoData_value_fval>\\n        </PC-InfoData_value>\\n      </PC-InfoData>\\n      <PC-InfoData>\\n        <PC-InfoData_urn>\\n          <PC-Urn>\\n            <PC-Urn_label>Count</PC-Urn_label>\\n            <PC-Urn_name>Hydrogen Bond Acceptor</PC-Urn_name>\\n            <PC-Urn_datatype>\\n              <PC-UrnDataType value=\"uint\">5</PC-UrnDataType>\\n            </PC-Urn_datatype>\\n            <PC-Urn_implementation>E_NHACCEPTORS</PC-Urn_implementation>\\n            <PC-Urn_version>3.4.8.18</PC-Urn_version>\\n            <PC-Urn_software>Cactvs</PC-Urn_software>\\n            <PC-Urn_source>Xemistry GmbH</PC-Urn_source>\\n            <PC-Urn_release>2025.04.14</PC-Urn_release>\\n          </PC-Urn>\\n        </PC-InfoData_urn>\\n        <PC-InfoData_value>\\n          <PC-InfoData_value_ival>4</PC-InfoData_value_ival>\\n        </PC-InfoData_value>\\n      </PC-InfoData>\\n      <PC-InfoData>\\n        <PC-InfoData_urn>\\n          <PC-Urn>\\n            <PC-Urn_label>Count</PC-Urn_label>\\n            <PC-Urn_name>Hydrogen Bond Donor</PC-Urn_name>\\n            <PC-Urn_datatype>\\n              <PC-UrnDataType value=\"uint\">5</PC-UrnDataType>\\n            </PC-Urn_datatype>\\n            <PC-Urn_implementation>E_NHDONORS</PC-Urn_implementation>\\n            <PC-Urn_version>3.4.8.18</PC-Urn_version>\\n            <PC-Urn_software>Cactvs</PC-Urn_software>\\n            <PC-Urn_source>Xemistry GmbH</PC-Urn_source>\\n            <PC-Urn_release>2025.04.14</PC-Urn_release>\\n          </PC-Urn>\\n        </PC-InfoData_urn>\\n        <PC-InfoData_value>\\n          <PC-InfoData_value_ival>1</PC-InfoData_value_ival>\\n        </PC-InfoData_value>\\n      </PC-InfoData>\\n      <PC-InfoData>\\n        <PC-InfoData_urn>\\n          <PC-Urn>\\n            <PC-Urn_label>Count</PC-Urn_label>\\n            <PC-Urn_name>Rotatable Bond</PC-Urn_name>\\n            <PC-Urn_datatype>\\n              <PC-UrnDataType value=\"uint\">5</PC-UrnDataType>\\n            </PC-Urn_datatype>\\n            <PC-Urn_implementation>E_NROTBONDS</PC-Urn_implementation>\\n            <PC-Urn_version>3.4.8.18</PC-Urn_version>\\n            <PC-Urn_software>Cactvs</PC-Urn_software>\\n            <PC-Urn_source>Xemistry GmbH</PC-Urn_source>\\n            <PC-Urn_release>2025.04.14</PC-Urn_release>\\n          </PC-Urn>\\n        </PC-InfoData_urn>\\n        <PC-InfoData_value>\\n          <PC-InfoData_value_ival>3</PC-InfoData_value_ival>\\n        </PC-InfoData_value>\\n      </PC-InfoData>\\n      <PC-InfoData>\\n        <PC-InfoData_urn>\\n          <PC-Urn>\\n            <PC-Urn_label>Fingerprint</PC-Urn_label>\\n            <PC-Urn_name>SubStructure Keys</PC-Urn_name>\\n            <PC-Urn_datatype>\\n              <PC-UrnDataType value=\"fingerprint\">16</PC-UrnDataType>\\n            </PC-Urn_datatype>\\n            <PC-Urn_parameters>extended 2</PC-Urn_parameters>\\n            <PC-Urn_implementation>E_SCREEN</PC-Urn_implementation>\\n            <PC-Urn_version>3.4.8.18</PC-Urn_version>\\n            <PC-Urn_software>Cactvs</PC-Urn_software>\\n            <PC-Urn_source>Xemistry GmbH</PC-Urn_source>\\n            <PC-Urn_release>2025.04.14</PC-Urn_release>\\n          </PC-Urn>\\n        </PC-InfoData_urn>\\n        <PC-InfoData_value>\\n          <PC-InfoData_value_binary>00000371C0703800000000000000000000000000000000000000300000000000000000010000001A00000800000C04809800320E80000600880220D208000208002420000888010608C80C273684351A827B60A5E01108B98788C8208E00000000000800000000000000100000000000000000</PC-InfoData_value_binary>\\n        </PC-InfoData_value>\\n      </PC-InfoData>\\n      <PC-InfoData>\\n        <PC-InfoData_urn>\\n          <PC-Urn>\\n            <PC-Urn_label>IUPAC Name</PC-Urn_label>\\n            <PC-Urn_name>Allowed</PC-Urn_name>\\n            <PC-Urn_datatype>\\n              <PC-UrnDataType value=\"string\">1</PC-UrnDataType>\\n            </PC-Urn_datatype>\\n            <PC-Urn_version>2.7.0</PC-Urn_version>\\n            <PC-Urn_software>Lexichem TK</PC-Urn_software>\\n            <PC-Urn_source>OpenEye Scientific Software</PC-Urn_source>\\n            <PC-Urn_release>2025.04.14</PC-Urn_release>\\n          </PC-Urn>\\n        </PC-InfoData_urn>\\n        <PC-InfoData_value>\\n          <PC-InfoData_value_sval>2-acetoxybenzoic acid</PC-InfoData_value_sval>\\n        </PC-InfoData_value>\\n      </PC-InfoData>\\n      <PC-InfoData>\\n        <PC-InfoData_urn>\\n          <PC-Urn>\\n            <PC-Urn_label>IUPAC Name</PC-Urn_label>\\n            <PC-Urn_name>CAS-like Style</PC-Urn_name>\\n            <PC-Urn_datatype>\\n              <PC-UrnDataType value=\"string\">1</PC-UrnDataType>\\n            </PC-Urn_datatype>\\n            <PC-Urn_version>2.7.0</PC-Urn_version>\\n            <PC-Urn_software>Lexichem TK</PC-Urn_software>\\n            <PC-Urn_source>OpenEye Scientific Software</PC-Urn_source>\\n            <PC-Urn_release>2025.04.14</PC-Urn_release>\\n          </PC-Urn>\\n        </PC-InfoData_urn>\\n        <PC-InfoData_value>\\n          <PC-InfoData_value_sval>2-acetyloxybenzoic acid</PC-InfoData_value_sval>\\n        </PC-InfoData_value>\\n      </PC-InfoData>\\n      <PC-InfoData>\\n        <PC-InfoData_urn>\\n          <PC-Urn>\\n            <PC-Urn_label>IUPAC Name</PC-Urn_label>\\n            <PC-Urn_name>Markup</PC-Urn_name>\\n            <PC-Urn_datatype>\\n              <PC-UrnDataType value=\"string\">1</PC-UrnDataType>\\n            </PC-Urn_datatype>\\n            <PC-Urn_version>2.7.0</PC-Urn_version>\\n            <PC-Urn_software>Lexichem TK</PC-Urn_software>\\n            <PC-Urn_source>OpenEye Scientific Software</PC-Urn_source>\\n            <PC-Urn_release>2025.04.14</PC-Urn_release>\\n          </PC-Urn>\\n        </PC-InfoData_urn>\\n        <PC-InfoData_value>\\n          <PC-InfoData_value_sval>2-acetyloxybenzoic acid</PC-InfoData_value_sval>\\n        </PC-InfoData_value>\\n      </PC-InfoData>\\n      <PC-InfoData>\\n        <PC-InfoData_urn>\\n          <PC-Urn>\\n            <PC-Urn_label>IUPAC Name</PC-Urn_label>\\n            <PC-Urn_name>Preferred</PC-Urn_name>\\n            <PC-Urn_datatype>\\n              <PC-UrnDataType value=\"string\">1</PC-UrnDataType>\\n            </PC-Urn_datatype>\\n            <PC-Urn_version>2.7.0</PC-Urn_version>\\n            <PC-Urn_software>Lexichem TK</PC-Urn_software>\\n            <PC-Urn_source>OpenEye Scientific Software</PC-Urn_source>\\n            <PC-Urn_release>2025.04.14</PC-Urn_release>\\n          </PC-Urn>\\n        </PC-InfoData_urn>\\n        <PC-InfoData_value>\\n          <PC-InfoData_value_sval>2-acetyloxybenzoic acid</PC-InfoData_value_sval>\\n        </PC-InfoData_value>\\n      </PC-InfoData>\\n      <PC-InfoData>\\n        <PC-InfoData_urn>\\n          <PC-Urn>\\n            <PC-Urn_label>IUPAC Name</PC-Urn_label>\\n            <PC-Urn_name>Systematic</PC-Urn_name>\\n            <PC-Urn_datatype>\\n              <PC-UrnDataType value=\"string\">1</PC-UrnDataType>\\n            </PC-Urn_datatype>\\n            <PC-Urn_version>2.7.0</PC-Urn_version>\\n            <PC-Urn_software>Lexichem TK</PC-Urn_software>\\n            <PC-Urn_source>OpenEye Scientific Software</PC-Urn_source>\\n            <PC-Urn_release>2025.04.14</PC-Urn_release>\\n          </PC-Urn>\\n        </PC-InfoData_urn>\\n        <PC-InfoData_value>\\n          <PC-InfoData_value_sval>2-acetyloxybenzoic acid</PC-InfoData_value_sval>\\n        </PC-InfoData_value>\\n      </PC-InfoData>\\n      <PC-InfoData>\\n        <PC-InfoData_urn>\\n          <PC-Urn>\\n            <PC-Urn_label>IUPAC Name</PC-Urn_label>\\n            <PC-Urn_name>Traditional</PC-Urn_name>\\n            <PC-Urn_datatype>\\n              <PC-UrnDataType value=\"string\">1</PC-UrnDataType>\\n            </PC-Urn_datatype>\\n            <PC-Urn_version>2.7.0</PC-Urn_version>\\n            <PC-Urn_software>Lexichem TK</PC-Urn_software>\\n            <PC-Urn_source>OpenEye Scientific Software</PC-Urn_source>\\n            <PC-Urn_release>2025.04.14</PC-Urn_release>\\n          </PC-Urn>\\n        </PC-InfoData_urn>\\n        <PC-InfoData_value>\\n          <PC-InfoData_value_sval>2-acetoxybenzoic acid</PC-InfoData_value_sval>\\n        </PC-InfoData_value>\\n      </PC-InfoData>\\n      <PC-InfoData>\\n        <PC-InfoData_urn>\\n          <PC-Urn>\\n            <PC-Urn_label>InChI</PC-Urn_label>\\n            <PC-Urn_name>Standard</PC-Urn_name>\\n            <PC-Urn_datatype>\\n              <PC-UrnDataType value=\"string\">1</PC-UrnDataType>\\n            </PC-Urn_datatype>\\n            <PC-Urn_version>1.07.2</PC-Urn_version>\\n            <PC-Urn_software>InChI</PC-Urn_software>\\n            <PC-Urn_source>iupac.org</PC-Urn_source>\\n            <PC-Urn_release>2025.04.14</PC-Urn_release>\\n          </PC-Urn>\\n        </PC-InfoData_urn>\\n        <PC-InfoData_value>\\n          <PC-InfoData_value_sval>InChI=1S/C9H8O4/c1-6(10)13-8-5-3-2-4-7(8)9(11)12/h2-5H,1H3,(H,11,12)</PC-InfoData_value_sval>\\n        </PC-InfoData_value>\\n      </PC-InfoData>\\n      <PC-InfoData>\\n        <PC-InfoData_urn>\\n          <PC-Urn>\\n            <PC-Urn_label>InChIKey</PC-Urn_label>\\n            <PC-Urn_name>Standard</PC-Urn_name>\\n            <PC-Urn_datatype>\\n              <PC-UrnDataType value=\"string\">1</PC-UrnDataType>\\n            </PC-Urn_datatype>\\n            <PC-Urn_version>1.07.2</PC-Urn_version>\\n            <PC-Urn_software>InChI</PC-Urn_software>\\n            <PC-Urn_source>iupac.org</PC-Urn_source>\\n            <PC-Urn_release>2025.04.14</PC-Urn_release>\\n          </PC-Urn>\\n        </PC-InfoData_urn>\\n        <PC-InfoData_value>\\n          <PC-InfoData_value_sval>BSYNRYMUTXBXSQ-UHFFFAOYSA-N</PC-InfoData_value_sval>\\n        </PC-InfoData_value>\\n      </PC-InfoData>\\n      <PC-InfoData>\\n        <PC-InfoData_urn>\\n          <PC-Urn>\\n            <PC-Urn_label>Log P</PC-Urn_label>\\n            <PC-Urn_name>XLogP3</PC-Urn_name>\\n            <PC-Urn_datatype>\\n              <PC-UrnDataType value=\"double\">7</PC-UrnDataType>\\n            </PC-Urn_datatype>\\n            <PC-Urn_version>3.0</PC-Urn_version>\\n            <PC-Urn_source>sioc-ccbg.ac.cn</PC-Urn_source>\\n            <PC-Urn_release>2025.04.14</PC-Urn_release>\\n          </PC-Urn>\\n        </PC-InfoData_urn>\\n        <PC-InfoData_value>\\n          <PC-InfoData_value_fval>1.2</PC-InfoData_value_fval>\\n        </PC-InfoData_value>\\n      </PC-InfoData>\\n      <PC-InfoData>\\n        <PC-InfoData_urn>\\n          <PC-Urn>\\n            <PC-Urn_label>Mass</PC-Urn_label>\\n            <PC-Urn_name>Exact</PC-Urn_name>\\n            <PC-Urn_datatype>\\n              <PC-UrnDataType value=\"string\">1</PC-UrnDataType>\\n            </PC-Urn_datatype>\\n            <PC-Urn_version>2.2</PC-Urn_version>\\n            <PC-Urn_software>PubChem</PC-Urn_software>\\n            <PC-Urn_source>ncbi.nlm.nih.gov</PC-Urn_source>\\n            <PC-Urn_release>2025.04.14</PC-Urn_release>\\n          </PC-Urn>\\n        </PC-InfoData_urn>\\n        <PC-InfoData_value>\\n          <PC-InfoData_value_sval>180.04225873</PC-InfoData_value_sval>\\n        </PC-InfoData_value>\\n      </PC-InfoData>\\n      <PC-InfoData>\\n        <PC-InfoData_urn>\\n          <PC-Urn>\\n            <PC-Urn_label>Molecular Formula</PC-Urn_label>\\n            <PC-Urn_datatype>\\n              <PC-UrnDataType value=\"string\">1</PC-UrnDataType>\\n            </PC-Urn_datatype>\\n            <PC-Urn_version>2.2</PC-Urn_version>\\n            <PC-Urn_software>PubChem</PC-Urn_software>\\n            <PC-Urn_source>ncbi.nlm.nih.gov</PC-Urn_source>\\n            <PC-Urn_release>2025.04.14</PC-Urn_release>\\n          </PC-Urn>\\n        </PC-InfoData_urn>\\n        <PC-InfoData_value>\\n          <PC-InfoData_value_sval>C9H8O4</PC-InfoData_value_sval>\\n        </PC-InfoData_value>\\n      </PC-InfoData>\\n      <PC-InfoData>\\n        <PC-InfoData_urn>\\n          <PC-Urn>\\n            <PC-Urn_label>Molecular Weight</PC-Urn_label>\\n            <PC-Urn_datatype>\\n              <PC-UrnDataType value=\"string\">1</PC-UrnDataType>\\n            </PC-Urn_datatype>\\n            <PC-Urn_version>2.2</PC-Urn_version>\\n            <PC-Urn_software>PubChem</PC-Urn_software>\\n            <PC-Urn_source>ncbi.nlm.nih.gov</PC-Urn_source>\\n            <PC-Urn_release>2025.04.14</PC-Urn_release>\\n          </PC-Urn>\\n        </PC-InfoData_urn>\\n        <PC-InfoData_value>\\n          <PC-InfoData_value_sval>180.16</PC-InfoData_value_sval>\\n        </PC-InfoData_value>\\n      </PC-InfoData>\\n      <PC-InfoData>\\n        <PC-InfoData_urn>\\n          <PC-Urn>\\n            <PC-Urn_label>SMILES</PC-Urn_label>\\n            <PC-Urn_name>Absolute</PC-Urn_name>\\n            <PC-Urn_datatype>\\n              <PC-UrnDataType value=\"string\">1</PC-UrnDataType>\\n            </PC-Urn_datatype>\\n            <PC-Urn_version>2.3.0</PC-Urn_version>\\n            <PC-Urn_software>OEChem</PC-Urn_software>\\n            <PC-Urn_source>OpenEye Scientific Software</PC-Urn_source>\\n            <PC-Urn_release>2025.04.14</PC-Urn_release>\\n          </PC-Urn>\\n        </PC-InfoData_urn>\\n        <PC-InfoData_value>\\n          <PC-InfoData_value_sval>CC(=O)OC1=CC=CC=C1C(=O)O</PC-InfoData_value_sval>\\n        </PC-InfoData_value>\\n      </PC-InfoData>\\n      <PC-InfoData>\\n        <PC-InfoData_urn>\\n          <PC-Urn>\\n            <PC-Urn_label>SMILES</PC-Urn_label>\\n            <PC-Urn_name>Canonical</PC-Urn_name>\\n            <PC-Urn_datatype>\\n              <PC-UrnDataType value=\"string\">1</PC-UrnDataType>\\n            </PC-Urn_datatype>\\n            <PC-Urn_version>2.3.0</PC-Urn_version>\\n            <PC-Urn_software>OEChem</PC-Urn_software>\\n            <PC-Urn_source>OpenEye Scientific Software</PC-Urn_source>\\n            <PC-Urn_release>2025.04.14</PC-Urn_release>\\n          </PC-Urn>\\n        </PC-InfoData_urn>\\n        <PC-InfoData_value>\\n          <PC-InfoData_value_sval>CC(=O)OC1=CC=CC=C1C(=O)O</PC-InfoData_value_sval>\\n        </PC-InfoData_value>\\n      </PC-InfoData>\\n      <PC-InfoData>\\n        <PC-InfoData_urn>\\n          <PC-Urn>\\n            <PC-Urn_label>SMILES</PC-Urn_label>\\n            <PC-Urn_name>Isomeric</PC-Urn_name>\\n            <PC-Urn_datatype>\\n              <PC-UrnDataType value=\"string\">1</PC-UrnDataType>\\n            </PC-Urn_datatype>\\n            <PC-Urn_version>2.3.0</PC-Urn_version>\\n            <PC-Urn_software>OEChem</PC-Urn_software>\\n            <PC-Urn_source>OpenEye Scientific Software</PC-Urn_source>\\n            <PC-Urn_release>2025.04.14</PC-Urn_release>\\n          </PC-Urn>\\n        </PC-InfoData_urn>\\n        <PC-InfoData_value>\\n          <PC-InfoData_value_sval>CC(=O)OC1=CC=CC=C1C(=O)O</PC-InfoData_value_sval>\\n        </PC-InfoData_value>\\n      </PC-InfoData>\\n      <PC-InfoData>\\n        <PC-InfoData_urn>\\n          <PC-Urn>\\n            <PC-Urn_label>Topological</PC-Urn_label>\\n            <PC-Urn_name>Polar Surface Area</PC-Urn_name>\\n            <PC-Urn_datatype>\\n              <PC-UrnDataType value=\"double\">7</PC-UrnDataType>\\n            </PC-Urn_datatype>\\n            <PC-Urn_implementation>E_TPSA</PC-Urn_implementation>\\n            <PC-Urn_version>3.4.8.18</PC-Urn_version>\\n            <PC-Urn_software>Cactvs</PC-Urn_software>\\n            <PC-Urn_source>Xemistry GmbH</PC-Urn_source>\\n            <PC-Urn_release>2025.04.14</PC-Urn_release>\\n          </PC-Urn>\\n        </PC-InfoData_urn>\\n        <PC-InfoData_value>\\n          <PC-InfoData_value_fval>63.6</PC-InfoData_value_fval>\\n        </PC-InfoData_value>\\n      </PC-InfoData>\\n      <PC-InfoData>\\n        <PC-InfoData_urn>\\n          <PC-Urn>\\n            <PC-Urn_label>Weight</PC-Urn_label>\\n            <PC-Urn_name>MonoIsotopic</PC-Urn_name>\\n            <PC-Urn_datatype>\\n              <PC-UrnDataType value=\"string\">1</PC-UrnDataType>\\n            </PC-Urn_datatype>\\n            <PC-Urn_version>2.2</PC-Urn_version>\\n            <PC-Urn_software>PubChem</PC-Urn_software>\\n            <PC-Urn_source>ncbi.nlm.nih.gov</PC-Urn_source>\\n            <PC-Urn_release>2025.04.14</PC-Urn_release>\\n          </PC-Urn>\\n        </PC-InfoData_urn>\\n        <PC-InfoData_value>\\n          <PC-InfoData_value_sval>180.04225873</PC-InfoData_value_sval>\\n        </PC-InfoData_value>\\n      </PC-InfoData>\\n    </PC-Compound_props>\\n    <PC-Compound_count>\\n      <PC-Count>\\n        <PC-Count_heavy-atom>13</PC-Count_heavy-atom>\\n        <PC-Count_atom-chiral>0</PC-Count_atom-chiral>\\n        <PC-Count_atom-chiral-def>0</PC-Count_atom-chiral-def>\\n        <PC-Count_atom-chiral-undef>0</PC-Count_atom-chiral-undef>\\n        <PC-Count_bond-chiral>0</PC-Count_bond-chiral>\\n        <PC-Count_bond-chiral-def>0</PC-Count_bond-chiral-def>\\n        <PC-Count_bond-chiral-undef>0</PC-Count_bond-chiral-undef>\\n        <PC-Count_isotope-atom>0</PC-Count_isotope-atom>\\n        <PC-Count_covalent-unit>1</PC-Count_covalent-unit>\\n        <PC-Count_tautomers>-1</PC-Count_tautomers>\\n      </PC-Count>\\n    </PC-Compound_count>\\n  </PC-Compound>\\n</PC-Compounds>\\n'"
      ]
     },
     "execution_count": 191,
     "metadata": {},
     "output_type": "execute_result"
    }
   ],
   "source": [
    "response_cid.content"
   ]
  },
  {
   "cell_type": "code",
   "execution_count": 192,
   "id": "89258e4a",
   "metadata": {},
   "outputs": [],
   "source": [
    "soup = BeautifulSoup(response_cid.text, features='xml')"
   ]
  },
  {
   "cell_type": "code",
   "execution_count": 193,
   "id": "05879eb1",
   "metadata": {},
   "outputs": [
    {
     "data": {
      "text/plain": [
       "[<PC-InfoData_value_sval>2-acetoxybenzoic acid</PC-InfoData_value_sval>,\n",
       " <PC-InfoData_value_sval>2-acetyloxybenzoic acid</PC-InfoData_value_sval>,\n",
       " <PC-InfoData_value_sval>2-acetyloxybenzoic acid</PC-InfoData_value_sval>,\n",
       " <PC-InfoData_value_sval>2-acetyloxybenzoic acid</PC-InfoData_value_sval>,\n",
       " <PC-InfoData_value_sval>2-acetyloxybenzoic acid</PC-InfoData_value_sval>,\n",
       " <PC-InfoData_value_sval>2-acetoxybenzoic acid</PC-InfoData_value_sval>,\n",
       " <PC-InfoData_value_sval>InChI=1S/C9H8O4/c1-6(10)13-8-5-3-2-4-7(8)9(11)12/h2-5H,1H3,(H,11,12)</PC-InfoData_value_sval>,\n",
       " <PC-InfoData_value_sval>BSYNRYMUTXBXSQ-UHFFFAOYSA-N</PC-InfoData_value_sval>,\n",
       " <PC-InfoData_value_sval>180.04225873</PC-InfoData_value_sval>,\n",
       " <PC-InfoData_value_sval>C9H8O4</PC-InfoData_value_sval>,\n",
       " <PC-InfoData_value_sval>180.16</PC-InfoData_value_sval>,\n",
       " <PC-InfoData_value_sval>CC(=O)OC1=CC=CC=C1C(=O)O</PC-InfoData_value_sval>,\n",
       " <PC-InfoData_value_sval>CC(=O)OC1=CC=CC=C1C(=O)O</PC-InfoData_value_sval>,\n",
       " <PC-InfoData_value_sval>CC(=O)OC1=CC=CC=C1C(=O)O</PC-InfoData_value_sval>,\n",
       " <PC-InfoData_value_sval>180.04225873</PC-InfoData_value_sval>]"
      ]
     },
     "execution_count": 193,
     "metadata": {},
     "output_type": "execute_result"
    }
   ],
   "source": [
    "soup.find_all('PC-InfoData_value_sval')"
   ]
  },
  {
   "cell_type": "code",
   "execution_count": 194,
   "id": "2284c320",
   "metadata": {},
   "outputs": [
    {
     "data": {
      "text/plain": [
       "'CC(=O)OC1=CC=CC=C1C(=O)O'"
      ]
     },
     "execution_count": 194,
     "metadata": {},
     "output_type": "execute_result"
    }
   ],
   "source": [
    "soup.find_all('PC-InfoData_value_sval')[-2].text"
   ]
  },
  {
   "cell_type": "code",
   "execution_count": 195,
   "id": "4ab7a0b2",
   "metadata": {},
   "outputs": [],
   "source": [
    "SMILES = soup.find_all('PC-InfoData_value_sval')[-2].text"
   ]
  },
  {
   "cell_type": "code",
   "execution_count": 196,
   "id": "f2c3f109",
   "metadata": {},
   "outputs": [
    {
     "data": {
      "text/plain": [
       "'CC(=O)OC1=CC=CC=C1C(=O)O'"
      ]
     },
     "execution_count": 196,
     "metadata": {},
     "output_type": "execute_result"
    }
   ],
   "source": [
    "SMILES"
   ]
  },
  {
   "cell_type": "markdown",
   "id": "c04aaa21",
   "metadata": {},
   "source": [
    "# from Super-PRED"
   ]
  },
  {
   "cell_type": "code",
   "execution_count": 197,
   "id": "c443fdc0",
   "metadata": {},
   "outputs": [],
   "source": [
    "try:\n",
    "    data = pd.read_csv('data/Targets.csv')\n",
    "    data_1 = pd.read_csv('data/Targets_1.csv')\n",
    "    data_3 = pd.read_csv('data/Indications.csv')\n",
    "except:\n",
    "    print('load_eror')"
   ]
  },
  {
   "cell_type": "code",
   "execution_count": 198,
   "id": "c362850b",
   "metadata": {},
   "outputs": [
    {
     "data": {
      "application/vnd.microsoft.datawrangler.viewer.v0+json": {
       "columns": [
        {
         "name": "index",
         "rawType": "int64",
         "type": "integer"
        },
        {
         "name": "Target Name",
         "rawType": "object",
         "type": "string"
        },
        {
         "name": "ChEMBL-ID",
         "rawType": "object",
         "type": "string"
        },
        {
         "name": "UniProt ID",
         "rawType": "object",
         "type": "string"
        },
        {
         "name": "PDB Visualization",
         "rawType": "object",
         "type": "string"
        },
        {
         "name": "TTD ID",
         "rawType": "object",
         "type": "string"
        },
        {
         "name": "Min Activity",
         "rawType": "object",
         "type": "string"
        },
        {
         "name": "Assay type",
         "rawType": "object",
         "type": "string"
        }
       ],
       "ref": "be4b4113-3dd1-4273-b6db-e1f91306c049",
       "rows": [
        [
         "0",
         "Nicotinate phosphoribosyltransferase",
         "CHEMBL4523354",
         "Q6XQN6",
         "4YUB",
         "Not Available",
         "0.5 nm",
         "Ki"
        ],
        [
         "1",
         "Bloom syndrome protein",
         "CHEMBL1293237",
         "P54132",
         "4O3M",
         "Not Available",
         "2.8 nm",
         "Potency"
        ],
        [
         "2",
         "Thyroid stimulating hormone receptor",
         "CHEMBL1963",
         "P16473",
         "2XWT",
         "T60606",
         "50.1 nm",
         "Potency"
        ]
       ],
       "shape": {
        "columns": 7,
        "rows": 3
       }
      },
      "text/html": [
       "<div>\n",
       "<style scoped>\n",
       "    .dataframe tbody tr th:only-of-type {\n",
       "        vertical-align: middle;\n",
       "    }\n",
       "\n",
       "    .dataframe tbody tr th {\n",
       "        vertical-align: top;\n",
       "    }\n",
       "\n",
       "    .dataframe thead th {\n",
       "        text-align: right;\n",
       "    }\n",
       "</style>\n",
       "<table border=\"1\" class=\"dataframe\">\n",
       "  <thead>\n",
       "    <tr style=\"text-align: right;\">\n",
       "      <th></th>\n",
       "      <th>Target Name</th>\n",
       "      <th>ChEMBL-ID</th>\n",
       "      <th>UniProt ID</th>\n",
       "      <th>PDB Visualization</th>\n",
       "      <th>TTD ID</th>\n",
       "      <th>Min Activity</th>\n",
       "      <th>Assay type</th>\n",
       "    </tr>\n",
       "  </thead>\n",
       "  <tbody>\n",
       "    <tr>\n",
       "      <th>0</th>\n",
       "      <td>Nicotinate phosphoribosyltransferase</td>\n",
       "      <td>CHEMBL4523354</td>\n",
       "      <td>Q6XQN6</td>\n",
       "      <td>4YUB</td>\n",
       "      <td>Not Available</td>\n",
       "      <td>0.5 nm</td>\n",
       "      <td>Ki</td>\n",
       "    </tr>\n",
       "    <tr>\n",
       "      <th>1</th>\n",
       "      <td>Bloom syndrome protein</td>\n",
       "      <td>CHEMBL1293237</td>\n",
       "      <td>P54132</td>\n",
       "      <td>4O3M</td>\n",
       "      <td>Not Available</td>\n",
       "      <td>2.8 nm</td>\n",
       "      <td>Potency</td>\n",
       "    </tr>\n",
       "    <tr>\n",
       "      <th>2</th>\n",
       "      <td>Thyroid stimulating hormone receptor</td>\n",
       "      <td>CHEMBL1963</td>\n",
       "      <td>P16473</td>\n",
       "      <td>2XWT</td>\n",
       "      <td>T60606</td>\n",
       "      <td>50.1 nm</td>\n",
       "      <td>Potency</td>\n",
       "    </tr>\n",
       "  </tbody>\n",
       "</table>\n",
       "</div>"
      ],
      "text/plain": [
       "                            Target Name      ChEMBL-ID UniProt ID  \\\n",
       "0  Nicotinate phosphoribosyltransferase  CHEMBL4523354     Q6XQN6   \n",
       "1                Bloom syndrome protein  CHEMBL1293237     P54132   \n",
       "2  Thyroid stimulating hormone receptor     CHEMBL1963     P16473   \n",
       "\n",
       "  PDB Visualization         TTD ID Min Activity Assay type  \n",
       "0              4YUB  Not Available       0.5 nm         Ki  \n",
       "1              4O3M  Not Available       2.8 nm    Potency  \n",
       "2              2XWT         T60606      50.1 nm    Potency  "
      ]
     },
     "execution_count": 198,
     "metadata": {},
     "output_type": "execute_result"
    }
   ],
   "source": [
    "# Known strong binders\n",
    "data"
   ]
  },
  {
   "cell_type": "code",
   "execution_count": 199,
   "id": "28889e95",
   "metadata": {},
   "outputs": [
    {
     "data": {
      "application/vnd.microsoft.datawrangler.viewer.v0+json": {
       "columns": [
        {
         "name": "index",
         "rawType": "int64",
         "type": "integer"
        },
        {
         "name": "Target Name",
         "rawType": "object",
         "type": "string"
        },
        {
         "name": "ChEMBL-ID",
         "rawType": "object",
         "type": "string"
        },
        {
         "name": "UniProt ID",
         "rawType": "object",
         "type": "string"
        },
        {
         "name": "PDB Visualization",
         "rawType": "object",
         "type": "string"
        },
        {
         "name": "TTD ID",
         "rawType": "object",
         "type": "string"
        },
        {
         "name": "Probability",
         "rawType": "object",
         "type": "string"
        },
        {
         "name": "Model accuracy",
         "rawType": "object",
         "type": "string"
        }
       ],
       "ref": "f182db64-41e4-4a66-aab0-2fe01646d87c",
       "rows": [
        [
         "0",
         "Endoplasmic reticulum-associated amyloid beta-peptide-binding protein",
         "CHEMBL4159",
         "Q99714",
         "2O23",
         "Not Available",
         "94.6%",
         "70.16%"
        ],
        [
         "1",
         "Cathepsin D",
         "CHEMBL2581",
         "P07339",
         "4OD9",
         "T67102",
         "91.91%",
         "98.95%"
        ],
        [
         "2",
         "Nuclear receptor ROR-beta",
         "CHEMBL3091268",
         "Q92753",
         "Not Available",
         "Not Available",
         "91.37%",
         "95.5%"
        ],
        [
         "3",
         "Transcription intermediary factor 1-alpha",
         "CHEMBL3108638",
         "O15164",
         "4YBM",
         "Not Available",
         "90.77%",
         "95.56%"
        ],
        [
         "4",
         "Nuclear factor NF-kappa-B p105 subunit",
         "CHEMBL3251",
         "P19838",
         "1SVC",
         "Not Available",
         "90.32%",
         "96.09%"
        ],
        [
         "5",
         "Tyrosyl-DNA phosphodiesterase 1",
         "CHEMBL1075138",
         "Q9NUW8",
         "6N0D",
         "Not Available",
         "89.48%",
         "71.22%"
        ],
        [
         "6",
         "Kruppel-like factor 5",
         "CHEMBL1293249",
         "Q13887",
         "Not Available",
         "Not Available",
         "88.25%",
         "86.33%"
        ],
        [
         "7",
         "Muscarinic acetylcholine receptor M5",
         "CHEMBL2035",
         "P08912",
         "6OL9",
         "T79961",
         "84.83%",
         "94.62%"
        ],
        [
         "8",
         "Niemann-Pick C1 protein",
         "CHEMBL1293277",
         "O15118",
         "6W5S",
         "Not Available",
         "84.56%",
         "81.11%"
        ],
        [
         "9",
         "Ras-related protein Rab-9A",
         "CHEMBL1293294",
         "P51151",
         "1WMS",
         "T66350",
         "84.12%",
         "87.67%"
        ],
        [
         "10",
         "T-cell protein-tyrosine phosphatase",
         "CHEMBL3807",
         "P17706",
         "1L8K",
         "Not Available",
         "83.66%",
         "93%"
        ],
        [
         "11",
         "Potassium channel subfamily K member 9",
         "CHEMBL2321614",
         "Q9NPC2",
         "6GHP",
         "Not Available",
         "81.74%",
         "80%"
        ],
        [
         "12",
         "Glucose transporter",
         "CHEMBL2535",
         "P11166",
         "6THA",
         "Not Available",
         "80.21%",
         "98.75%"
        ],
        [
         "13",
         "Casein kinase II alpha/beta",
         "CHEMBL3038477",
         "P67870",
         "6TLS",
         "T51565",
         "79.11%",
         "99.23%"
        ],
        [
         "14",
         "DNA-(apurinic or apyrimidinic site) lyase",
         "CHEMBL5619",
         "P27695",
         "6BOW",
         "T13348",
         "78.63%",
         "91.11%"
        ],
        [
         "15",
         "Nuclear factor erythroid 2-related factor 2",
         "CHEMBL1075094",
         "Q16236",
         "2FLU",
         "Not Available",
         "75.29%",
         "96%"
        ],
        [
         "16",
         "Aldo-keto reductase family 1 member C2",
         "CHEMBL5847",
         "P52895",
         "4XO6",
         "Not Available",
         "75.09%",
         "92.5%"
        ],
        [
         "17",
         "Formyl peptide receptor 1",
         "CHEMBL3359",
         "P21462",
         "Not Available",
         "T87831",
         "74.63%",
         "93.56%"
        ],
        [
         "18",
         "Glycine transporter 2",
         "CHEMBL3060",
         "Q9Y345",
         "Not Available",
         "Not Available",
         "74.48%",
         "99.17%"
        ],
        [
         "19",
         "ADAM10",
         "CHEMBL5028",
         "O14672",
         "6BE6",
         "T31902",
         "72.93%",
         "97.5%"
        ],
        [
         "20",
         "Prostanoid EP1 receptor",
         "CHEMBL1811",
         "P34995",
         "Not Available",
         "T15497",
         "72.59%",
         "95.71%"
        ],
        [
         "21",
         "Proteasome component C5",
         "CHEMBL4208",
         "P20618",
         "6KWY",
         "Not Available",
         "71.35%",
         "90%"
        ],
        [
         "22",
         "Muscarinic acetylcholine receptor M4",
         "CHEMBL1821",
         "P08173",
         "5DSG",
         "T20709",
         "69.13%",
         "94.08%"
        ],
        [
         "23",
         "Vascular endothelial growth factor receptor 1",
         "CHEMBL1868",
         "P17948",
         "5T89",
         "Not Available",
         "68.62%",
         "96.47%"
        ],
        [
         "24",
         "Cytochrome P450 3A4",
         "CHEMBL340",
         "P08684",
         "5VCC",
         "T37848",
         "68.32%",
         "91.19%"
        ],
        [
         "25",
         "Pregnane X receptor",
         "CHEMBL3401",
         "O75469",
         "6TFI",
         "T82702",
         "68.05%",
         "94.73%"
        ],
        [
         "26",
         "Protein Mdm4",
         "CHEMBL1255126",
         "O15151",
         "6Q9Y",
         "T36741",
         "67.69%",
         "90.2%"
        ],
        [
         "27",
         "Dual specificity phosphatase Cdc25C",
         "CHEMBL2378",
         "P30307",
         "3OP3",
         "Not Available",
         "67.52%",
         "96.67%"
        ],
        [
         "28",
         "Plasminogen activator inhibitor-1",
         "CHEMBL3475",
         "P05121",
         "3CVM",
         "T15556",
         "66.07%",
         "83%"
        ],
        [
         "29",
         "Prolyl endopeptidase",
         "CHEMBL3202",
         "P48147",
         "3DDU",
         "T86161",
         "65.4%",
         "90.65%"
        ],
        [
         "30",
         "Voltage-gated N-type calcium channel alpha-1B subunit",
         "CHEMBL4478",
         "Q00975",
         "Not Available",
         "T38338",
         "64.9%",
         "97.14%"
        ],
        [
         "31",
         "Dual specificity protein phosphatase 3",
         "CHEMBL2635",
         "P51452",
         "3F81",
         "Not Available",
         "64.15%",
         "94%"
        ],
        [
         "32",
         "Neuronal acetylcholine receptor; alpha4/beta4",
         "CHEMBL1907591",
         "P30926",
         "6UR8",
         "T70967",
         "62.48%",
         "100%"
        ],
        [
         "33",
         "Lysosomal Pro-X carboxypeptidase",
         "CHEMBL2335",
         "P42785",
         "3N2Z",
         "Not Available",
         "62.05%",
         "100%"
        ],
        [
         "34",
         "Calpain 1",
         "CHEMBL3891",
         "P07384",
         "1ZCM",
         "Not Available",
         "61.38%",
         "93.04%"
        ],
        [
         "35",
         "Glutathione S-transferase Pi",
         "CHEMBL3902",
         "P09211",
         "5J41",
         "T21669",
         "60.43%",
         "93.81%"
        ],
        [
         "36",
         "Lipoxin A4 receptor",
         "CHEMBL4227",
         "P25090",
         "6OMM",
         "Not Available",
         "59.71%",
         "100%"
        ],
        [
         "37",
         "Dipeptidyl peptidase VIII",
         "CHEMBL4657",
         "Q6V1X1",
         "6EOP",
         "Not Available",
         "59.6%",
         "97.21%"
        ],
        [
         "38",
         "Relaxin receptor 1",
         "CHEMBL1293316",
         "Q9HBX9",
         "Not Available",
         "T73696",
         "59.57%",
         "82.5%"
        ],
        [
         "39",
         "Dopamine D1 receptor",
         "CHEMBL2056",
         "P21728",
         "7JVP",
         "Not Available",
         "59.54%",
         "91%"
        ],
        [
         "40",
         "Trypsin I",
         "CHEMBL209",
         "P07477",
         "2RA3",
         "T27602",
         "59.48%",
         "90%"
        ],
        [
         "41",
         "G-protein coupled receptor 6",
         "CHEMBL3714130",
         "P46095",
         "Not Available",
         "Not Available",
         "59.12%",
         "97.36%"
        ],
        [
         "42",
         "Protein-tyrosine phosphatase 2C",
         "CHEMBL3864",
         "Q06124",
         "5EHR",
         "T13057",
         "58.24%",
         "94.42%"
        ],
        [
         "43",
         "CaM-kinase kinase beta",
         "CHEMBL5284",
         "Q96RR4",
         "6CMJ",
         "Not Available",
         "58.19%",
         "89.23%"
        ],
        [
         "44",
         "Endoplasmic reticulum aminopeptidase 1",
         "CHEMBL5939",
         "Q9NZ08",
         "6Q4R",
         "Not Available",
         "57.72%",
         "100%"
        ],
        [
         "45",
         "Dipeptidyl peptidase IX",
         "CHEMBL4793",
         "Q86TI2",
         "6EOR",
         "Not Available",
         "57.25%",
         "96.95%"
        ],
        [
         "46",
         "Serotonin 2c (5-HT2c) receptor",
         "CHEMBL225",
         "P28335",
         "6BQH",
         "T83813",
         "57.23%",
         "89.62%"
        ],
        [
         "47",
         "Caspase-6",
         "CHEMBL3308",
         "P55212",
         "2WDP",
         "Not Available",
         "57.2%",
         "97.56%"
        ],
        [
         "48",
         "Transthyretin",
         "CHEMBL3194",
         "P02766",
         "6SUG",
         "T86462",
         "57.15%",
         "90.71%"
        ],
        [
         "49",
         "Dual specificity phosphatase Cdc25B",
         "CHEMBL4804",
         "P30305",
         "1QB0",
         "Not Available",
         "56.6%",
         "79.5%"
        ]
       ],
       "shape": {
        "columns": 7,
        "rows": 68
       }
      },
      "text/html": [
       "<div>\n",
       "<style scoped>\n",
       "    .dataframe tbody tr th:only-of-type {\n",
       "        vertical-align: middle;\n",
       "    }\n",
       "\n",
       "    .dataframe tbody tr th {\n",
       "        vertical-align: top;\n",
       "    }\n",
       "\n",
       "    .dataframe thead th {\n",
       "        text-align: right;\n",
       "    }\n",
       "</style>\n",
       "<table border=\"1\" class=\"dataframe\">\n",
       "  <thead>\n",
       "    <tr style=\"text-align: right;\">\n",
       "      <th></th>\n",
       "      <th>Target Name</th>\n",
       "      <th>ChEMBL-ID</th>\n",
       "      <th>UniProt ID</th>\n",
       "      <th>PDB Visualization</th>\n",
       "      <th>TTD ID</th>\n",
       "      <th>Probability</th>\n",
       "      <th>Model accuracy</th>\n",
       "    </tr>\n",
       "  </thead>\n",
       "  <tbody>\n",
       "    <tr>\n",
       "      <th>0</th>\n",
       "      <td>Endoplasmic reticulum-associated amyloid beta-...</td>\n",
       "      <td>CHEMBL4159</td>\n",
       "      <td>Q99714</td>\n",
       "      <td>2O23</td>\n",
       "      <td>Not Available</td>\n",
       "      <td>94.6%</td>\n",
       "      <td>70.16%</td>\n",
       "    </tr>\n",
       "    <tr>\n",
       "      <th>1</th>\n",
       "      <td>Cathepsin D</td>\n",
       "      <td>CHEMBL2581</td>\n",
       "      <td>P07339</td>\n",
       "      <td>4OD9</td>\n",
       "      <td>T67102</td>\n",
       "      <td>91.91%</td>\n",
       "      <td>98.95%</td>\n",
       "    </tr>\n",
       "    <tr>\n",
       "      <th>2</th>\n",
       "      <td>Nuclear receptor ROR-beta</td>\n",
       "      <td>CHEMBL3091268</td>\n",
       "      <td>Q92753</td>\n",
       "      <td>Not Available</td>\n",
       "      <td>Not Available</td>\n",
       "      <td>91.37%</td>\n",
       "      <td>95.5%</td>\n",
       "    </tr>\n",
       "    <tr>\n",
       "      <th>3</th>\n",
       "      <td>Transcription intermediary factor 1-alpha</td>\n",
       "      <td>CHEMBL3108638</td>\n",
       "      <td>O15164</td>\n",
       "      <td>4YBM</td>\n",
       "      <td>Not Available</td>\n",
       "      <td>90.77%</td>\n",
       "      <td>95.56%</td>\n",
       "    </tr>\n",
       "    <tr>\n",
       "      <th>4</th>\n",
       "      <td>Nuclear factor NF-kappa-B p105 subunit</td>\n",
       "      <td>CHEMBL3251</td>\n",
       "      <td>P19838</td>\n",
       "      <td>1SVC</td>\n",
       "      <td>Not Available</td>\n",
       "      <td>90.32%</td>\n",
       "      <td>96.09%</td>\n",
       "    </tr>\n",
       "    <tr>\n",
       "      <th>...</th>\n",
       "      <td>...</td>\n",
       "      <td>...</td>\n",
       "      <td>...</td>\n",
       "      <td>...</td>\n",
       "      <td>...</td>\n",
       "      <td>...</td>\n",
       "      <td>...</td>\n",
       "    </tr>\n",
       "    <tr>\n",
       "      <th>63</th>\n",
       "      <td>PI3-kinase p110-alpha/p85-alpha</td>\n",
       "      <td>CHEMBL2111367</td>\n",
       "      <td>P27986</td>\n",
       "      <td>4JPS</td>\n",
       "      <td>T80276</td>\n",
       "      <td>51.08%</td>\n",
       "      <td>94.33%</td>\n",
       "    </tr>\n",
       "    <tr>\n",
       "      <th>64</th>\n",
       "      <td>Muscarinic acetylcholine receptor M1</td>\n",
       "      <td>CHEMBL216</td>\n",
       "      <td>P11229</td>\n",
       "      <td>6OIJ</td>\n",
       "      <td>T28893</td>\n",
       "      <td>50.96%</td>\n",
       "      <td>94.23%</td>\n",
       "    </tr>\n",
       "    <tr>\n",
       "      <th>65</th>\n",
       "      <td>Platelet-derived growth factor receptor alpha</td>\n",
       "      <td>CHEMBL2007</td>\n",
       "      <td>P16234</td>\n",
       "      <td>7LBF</td>\n",
       "      <td>T53524</td>\n",
       "      <td>50.54%</td>\n",
       "      <td>91.07%</td>\n",
       "    </tr>\n",
       "    <tr>\n",
       "      <th>66</th>\n",
       "      <td>Histamine H3 receptor</td>\n",
       "      <td>CHEMBL264</td>\n",
       "      <td>Q9Y5N1</td>\n",
       "      <td>Not Available</td>\n",
       "      <td>Not Available</td>\n",
       "      <td>50.45%</td>\n",
       "      <td>91.43%</td>\n",
       "    </tr>\n",
       "    <tr>\n",
       "      <th>67</th>\n",
       "      <td>DNA topoisomerase II alpha</td>\n",
       "      <td>CHEMBL1806</td>\n",
       "      <td>P11388</td>\n",
       "      <td>6ZY5</td>\n",
       "      <td>T17048</td>\n",
       "      <td>50.09%</td>\n",
       "      <td>89%</td>\n",
       "    </tr>\n",
       "  </tbody>\n",
       "</table>\n",
       "<p>68 rows × 7 columns</p>\n",
       "</div>"
      ],
      "text/plain": [
       "                                          Target Name      ChEMBL-ID  \\\n",
       "0   Endoplasmic reticulum-associated amyloid beta-...     CHEMBL4159   \n",
       "1                                         Cathepsin D     CHEMBL2581   \n",
       "2                           Nuclear receptor ROR-beta  CHEMBL3091268   \n",
       "3           Transcription intermediary factor 1-alpha  CHEMBL3108638   \n",
       "4              Nuclear factor NF-kappa-B p105 subunit     CHEMBL3251   \n",
       "..                                                ...            ...   \n",
       "63                    PI3-kinase p110-alpha/p85-alpha  CHEMBL2111367   \n",
       "64               Muscarinic acetylcholine receptor M1      CHEMBL216   \n",
       "65      Platelet-derived growth factor receptor alpha     CHEMBL2007   \n",
       "66                              Histamine H3 receptor      CHEMBL264   \n",
       "67                         DNA topoisomerase II alpha     CHEMBL1806   \n",
       "\n",
       "   UniProt ID PDB Visualization         TTD ID Probability Model accuracy  \n",
       "0      Q99714              2O23  Not Available       94.6%         70.16%  \n",
       "1      P07339              4OD9         T67102      91.91%         98.95%  \n",
       "2      Q92753     Not Available  Not Available      91.37%          95.5%  \n",
       "3      O15164              4YBM  Not Available      90.77%         95.56%  \n",
       "4      P19838              1SVC  Not Available      90.32%         96.09%  \n",
       "..        ...               ...            ...         ...            ...  \n",
       "63     P27986              4JPS         T80276      51.08%         94.33%  \n",
       "64     P11229              6OIJ         T28893      50.96%         94.23%  \n",
       "65     P16234              7LBF         T53524      50.54%         91.07%  \n",
       "66     Q9Y5N1     Not Available  Not Available      50.45%         91.43%  \n",
       "67     P11388              6ZY5         T17048      50.09%            89%  \n",
       "\n",
       "[68 rows x 7 columns]"
      ]
     },
     "execution_count": 199,
     "metadata": {},
     "output_type": "execute_result"
    }
   ],
   "source": [
    "# Additionally predicted targets\n",
    "data_1"
   ]
  },
  {
   "cell_type": "code",
   "execution_count": 200,
   "id": "a7b21f6e",
   "metadata": {},
   "outputs": [
    {
     "data": {
      "application/vnd.microsoft.datawrangler.viewer.v0+json": {
       "columns": [
        {
         "name": "index",
         "rawType": "int64",
         "type": "integer"
        },
        {
         "name": "Target Name",
         "rawType": "object",
         "type": "string"
        },
        {
         "name": "ChEMBL-ID",
         "rawType": "object",
         "type": "string"
        },
        {
         "name": "Indication",
         "rawType": "object",
         "type": "string"
        },
        {
         "name": "Probability",
         "rawType": "object",
         "type": "string"
        },
        {
         "name": "Model accuracy",
         "rawType": "object",
         "type": "string"
        }
       ],
       "ref": "e5ef25cd-7d26-44c5-afaf-b07e251f57ed",
       "rows": [
        [
         "0",
         "Cathepsin D",
         "T67102",
         "Hypertension [ICD-11: BA00-BA04]",
         "91.91%",
         "98.95%"
        ],
        [
         "1",
         "Cathepsin D",
         "T67102",
         "Multiple sclerosis [ICD-11: 8A40]",
         "91.91%",
         "98.95%"
        ],
        [
         "2",
         "Muscarinic acetylcholine receptor M5",
         "T79961",
         "Acquired nystagmus [ICD-11: 9C84]",
         "84.83%",
         "94.62%"
        ],
        [
         "3",
         "Muscarinic acetylcholine receptor M5",
         "T79961",
         "Allergic rhinitis [ICD-11: CA08.0]",
         "84.83%",
         "94.62%"
        ],
        [
         "4",
         "Muscarinic acetylcholine receptor M5",
         "T79961",
         "Alzheimer disease [ICD-11: 8A20]",
         "84.83%",
         "94.62%"
        ],
        [
         "5",
         "Muscarinic acetylcholine receptor M5",
         "T79961",
         "Amnesia [ICD-11: MB21.1]",
         "84.83%",
         "94.62%"
        ],
        [
         "6",
         "Muscarinic acetylcholine receptor M5",
         "T79961",
         "Asthma [ICD-11: CA23]",
         "84.83%",
         "94.62%"
        ],
        [
         "7",
         "Muscarinic acetylcholine receptor M5",
         "T79961",
         "Attention deficit hyperactivity disorder [ICD-11: 6A05.Z]",
         "84.83%",
         "94.62%"
        ],
        [
         "8",
         "Muscarinic acetylcholine receptor M5",
         "T79961",
         "Brain disease [ICD-11: 8C70-8E61]",
         "84.83%",
         "94.62%"
        ],
        [
         "9",
         "Muscarinic acetylcholine receptor M5",
         "T79961",
         "Central and peripheral nervous disease [ICD-11: 8A04-8E7Z]",
         "84.83%",
         "94.62%"
        ],
        [
         "10",
         "Muscarinic acetylcholine receptor M5",
         "T79961",
         "Chronic obstructive pulmonary disease [ICD-11: CA22]",
         "84.83%",
         "94.62%"
        ],
        [
         "11",
         "Muscarinic acetylcholine receptor M5",
         "T79961",
         "Cognitive impairment [ICD-11: 6D71]",
         "84.83%",
         "94.62%"
        ],
        [
         "12",
         "Muscarinic acetylcholine receptor M5",
         "T79961",
         "Colitis [ICD-11: 1A40.Z]",
         "84.83%",
         "94.62%"
        ],
        [
         "13",
         "Muscarinic acetylcholine receptor M5",
         "T79961",
         "Cough [ICD-11: MD12]",
         "84.83%",
         "94.62%"
        ],
        [
         "14",
         "Muscarinic acetylcholine receptor M5",
         "T79961",
         "Depression [ICD-11: 6A70-6A7Z]",
         "84.83%",
         "94.62%"
        ],
        [
         "15",
         "Muscarinic acetylcholine receptor M5",
         "T79961",
         "Dysmenorrhea [ICD-11: GA34.3]",
         "84.83%",
         "94.62%"
        ],
        [
         "16",
         "Muscarinic acetylcholine receptor M5",
         "T79961",
         "Dysuria [ICD-11: MF50.7]",
         "84.83%",
         "94.62%"
        ],
        [
         "17",
         "Muscarinic acetylcholine receptor M5",
         "T79961",
         "Examination of eyes or vision [ICD-11: QA00.6]",
         "84.83%",
         "94.62%"
        ],
        [
         "18",
         "Muscarinic acetylcholine receptor M5",
         "T79961",
         "Gastric motility disorder [ICD-11: DA21]",
         "84.83%",
         "94.62%"
        ],
        [
         "19",
         "Muscarinic acetylcholine receptor M5",
         "T79961",
         "Gastritis [ICD-11: DA42]",
         "84.83%",
         "94.62%"
        ],
        [
         "20",
         "Muscarinic acetylcholine receptor M5",
         "T79961",
         "Gastrointestinal disease [ICD-11: DE2Z]",
         "84.83%",
         "94.62%"
        ],
        [
         "21",
         "Muscarinic acetylcholine receptor M5",
         "T79961",
         "Glaucoma/ocular hypertension [ICD-11: 9C61]",
         "84.83%",
         "94.62%"
        ],
        [
         "22",
         "Muscarinic acetylcholine receptor M5",
         "T79961",
         "Hypertension [ICD-11: BA00-BA04]",
         "84.83%",
         "94.62%"
        ],
        [
         "23",
         "Muscarinic acetylcholine receptor M5",
         "T79961",
         "Irritable bowel syndrome [ICD-11: DD91.0]",
         "84.83%",
         "94.62%"
        ],
        [
         "24",
         "Muscarinic acetylcholine receptor M5",
         "T79961",
         "Myasthenia gravis [ICD-11: 8C6Y]",
         "84.83%",
         "94.62%"
        ],
        [
         "25",
         "Muscarinic acetylcholine receptor M5",
         "T79961",
         "Neurological disorder [ICD-11: 6B60]",
         "84.83%",
         "94.62%"
        ],
        [
         "26",
         "Muscarinic acetylcholine receptor M5",
         "T79961",
         "Nocturia [ICD-11: MF55]",
         "84.83%",
         "94.62%"
        ],
        [
         "27",
         "Muscarinic acetylcholine receptor M5",
         "T79961",
         "Organophosphate poisoning [ICD-11: NE6Z]",
         "84.83%",
         "94.62%"
        ],
        [
         "28",
         "Muscarinic acetylcholine receptor M5",
         "T79961",
         "Overactive bladder [ICD-11: GC50.0]",
         "84.83%",
         "94.62%"
        ],
        [
         "29",
         "Muscarinic acetylcholine receptor M5",
         "T79961",
         "Pancreatitis [ICD-11: DC31-DC34]",
         "84.83%",
         "94.62%"
        ],
        [
         "30",
         "Muscarinic acetylcholine receptor M5",
         "T79961",
         "Parkinson disease [ICD-11: 8A00.0]",
         "84.83%",
         "94.62%"
        ],
        [
         "31",
         "Muscarinic acetylcholine receptor M5",
         "T79961",
         "Peptic ulcer [ICD-11: DA61]",
         "84.83%",
         "94.62%"
        ],
        [
         "32",
         "Muscarinic acetylcholine receptor M5",
         "T79961",
         "Psychomotor agitation [ICD-11: MB23.M]",
         "84.83%",
         "94.62%"
        ],
        [
         "33",
         "Muscarinic acetylcholine receptor M5",
         "T79961",
         "Schizophrenia [ICD-11: 6A20]",
         "84.83%",
         "94.62%"
        ],
        [
         "34",
         "Muscarinic acetylcholine receptor M5",
         "T79961",
         "Solid tumour/cancer [ICD-11: 2A00-2F9Z]",
         "84.83%",
         "94.62%"
        ],
        [
         "35",
         "Muscarinic acetylcholine receptor M5",
         "T79961",
         "Spasm [ICD-11: MB47.3]",
         "84.83%",
         "94.62%"
        ],
        [
         "36",
         "Muscarinic acetylcholine receptor M5",
         "T79961",
         "Stomach ulcer [ICD-11: DA60.Z]",
         "84.83%",
         "94.62%"
        ],
        [
         "37",
         "Muscarinic acetylcholine receptor M5",
         "T79961",
         "Suprapubic pain [ICD-11: MG30-MG3Z]",
         "84.83%",
         "94.62%"
        ],
        [
         "38",
         "Muscarinic acetylcholine receptor M5",
         "T79961",
         "Urgency [ICD-11: N.A.]",
         "84.83%",
         "94.62%"
        ],
        [
         "39",
         "Muscarinic acetylcholine receptor M5",
         "T79961",
         "Urinary incontinence [ICD-11: MF50.2]",
         "84.83%",
         "94.62%"
        ],
        [
         "40",
         "Muscarinic acetylcholine receptor M5",
         "T79961",
         "Urinary retention [ICD-11: MF50.3]",
         "84.83%",
         "94.62%"
        ],
        [
         "41",
         "Muscarinic acetylcholine receptor M5",
         "T79961",
         "Uveitis [ICD-11: 9A96.Z]",
         "84.83%",
         "94.62%"
        ],
        [
         "42",
         "Ras-related protein Rab-9A",
         "T66350",
         "Fungal infection [ICD-11: 1F29-1F2F]",
         "84.12%",
         "87.67%"
        ],
        [
         "43",
         "Casein kinase II alpha/beta",
         "T51565",
         "Cholangiocarcinoma [ICD-11: 2C12.10]",
         "79.11%",
         "99.23%"
        ],
        [
         "44",
         "Casein kinase II alpha/beta",
         "T51565",
         "Solid tumour/cancer [ICD-11: 2A00-2F9Z]",
         "79.11%",
         "99.23%"
        ],
        [
         "45",
         "DNA-(apurinic or apyrimidinic site) lyase",
         "T13348",
         "Glioma [ICD-11: 2A00.0]",
         "78.63%",
         "91.11%"
        ],
        [
         "46",
         "DNA-(apurinic or apyrimidinic site) lyase",
         "T13348",
         "Melanoma [ICD-11: 2C30]",
         "78.63%",
         "91.11%"
        ],
        [
         "47",
         "DNA-(apurinic or apyrimidinic site) lyase",
         "T13348",
         "Ocular cancer [ICD-11: 2D00-2D07]",
         "78.63%",
         "91.11%"
        ],
        [
         "48",
         "DNA-(apurinic or apyrimidinic site) lyase",
         "T13348",
         "Solid tumour/cancer [ICD-11: 2A00-2F9Z]",
         "78.63%",
         "91.11%"
        ],
        [
         "49",
         "Formyl peptide receptor 1",
         "T87831",
         "Inflammation [ICD-11: 1A00-CA43.1]",
         "74.63%",
         "93.56%"
        ]
       ],
       "shape": {
        "columns": 5,
        "rows": 227
       }
      },
      "text/html": [
       "<div>\n",
       "<style scoped>\n",
       "    .dataframe tbody tr th:only-of-type {\n",
       "        vertical-align: middle;\n",
       "    }\n",
       "\n",
       "    .dataframe tbody tr th {\n",
       "        vertical-align: top;\n",
       "    }\n",
       "\n",
       "    .dataframe thead th {\n",
       "        text-align: right;\n",
       "    }\n",
       "</style>\n",
       "<table border=\"1\" class=\"dataframe\">\n",
       "  <thead>\n",
       "    <tr style=\"text-align: right;\">\n",
       "      <th></th>\n",
       "      <th>Target Name</th>\n",
       "      <th>ChEMBL-ID</th>\n",
       "      <th>Indication</th>\n",
       "      <th>Probability</th>\n",
       "      <th>Model accuracy</th>\n",
       "    </tr>\n",
       "  </thead>\n",
       "  <tbody>\n",
       "    <tr>\n",
       "      <th>0</th>\n",
       "      <td>Cathepsin D</td>\n",
       "      <td>T67102</td>\n",
       "      <td>Hypertension [ICD-11: BA00-BA04]</td>\n",
       "      <td>91.91%</td>\n",
       "      <td>98.95%</td>\n",
       "    </tr>\n",
       "    <tr>\n",
       "      <th>1</th>\n",
       "      <td>Cathepsin D</td>\n",
       "      <td>T67102</td>\n",
       "      <td>Multiple sclerosis [ICD-11: 8A40]</td>\n",
       "      <td>91.91%</td>\n",
       "      <td>98.95%</td>\n",
       "    </tr>\n",
       "    <tr>\n",
       "      <th>2</th>\n",
       "      <td>Muscarinic acetylcholine receptor M5</td>\n",
       "      <td>T79961</td>\n",
       "      <td>Acquired nystagmus [ICD-11: 9C84]</td>\n",
       "      <td>84.83%</td>\n",
       "      <td>94.62%</td>\n",
       "    </tr>\n",
       "    <tr>\n",
       "      <th>3</th>\n",
       "      <td>Muscarinic acetylcholine receptor M5</td>\n",
       "      <td>T79961</td>\n",
       "      <td>Allergic rhinitis [ICD-11: CA08.0]</td>\n",
       "      <td>84.83%</td>\n",
       "      <td>94.62%</td>\n",
       "    </tr>\n",
       "    <tr>\n",
       "      <th>4</th>\n",
       "      <td>Muscarinic acetylcholine receptor M5</td>\n",
       "      <td>T79961</td>\n",
       "      <td>Alzheimer disease [ICD-11: 8A20]</td>\n",
       "      <td>84.83%</td>\n",
       "      <td>94.62%</td>\n",
       "    </tr>\n",
       "    <tr>\n",
       "      <th>...</th>\n",
       "      <td>...</td>\n",
       "      <td>...</td>\n",
       "      <td>...</td>\n",
       "      <td>...</td>\n",
       "      <td>...</td>\n",
       "    </tr>\n",
       "    <tr>\n",
       "      <th>222</th>\n",
       "      <td>Platelet-derived growth factor receptor alpha</td>\n",
       "      <td>T53524</td>\n",
       "      <td>Soft tissue sarcoma [ICD-11: 2B57]</td>\n",
       "      <td>50.54%</td>\n",
       "      <td>91.07%</td>\n",
       "    </tr>\n",
       "    <tr>\n",
       "      <th>223</th>\n",
       "      <td>Platelet-derived growth factor receptor alpha</td>\n",
       "      <td>T53524</td>\n",
       "      <td>Solid tumour/cancer [ICD-11: 2A00-2F9Z]</td>\n",
       "      <td>50.54%</td>\n",
       "      <td>91.07%</td>\n",
       "    </tr>\n",
       "    <tr>\n",
       "      <th>224</th>\n",
       "      <td>Platelet-derived growth factor receptor alpha</td>\n",
       "      <td>T53524</td>\n",
       "      <td>Systemic mastocytosis [ICD-11: 2A21.0]</td>\n",
       "      <td>50.54%</td>\n",
       "      <td>91.07%</td>\n",
       "    </tr>\n",
       "    <tr>\n",
       "      <th>225</th>\n",
       "      <td>Platelet-derived growth factor receptor alpha</td>\n",
       "      <td>T53524</td>\n",
       "      <td>Thrombocytopenia [ICD-11: 3B64]</td>\n",
       "      <td>50.54%</td>\n",
       "      <td>91.07%</td>\n",
       "    </tr>\n",
       "    <tr>\n",
       "      <th>226</th>\n",
       "      <td>DNA topoisomerase II alpha</td>\n",
       "      <td>T17048</td>\n",
       "      <td>Solid tumour/cancer [ICD-11: 2A00-2F9Z]</td>\n",
       "      <td>50.09%</td>\n",
       "      <td>89%</td>\n",
       "    </tr>\n",
       "  </tbody>\n",
       "</table>\n",
       "<p>227 rows × 5 columns</p>\n",
       "</div>"
      ],
      "text/plain": [
       "                                       Target Name ChEMBL-ID  \\\n",
       "0                                      Cathepsin D    T67102   \n",
       "1                                      Cathepsin D    T67102   \n",
       "2             Muscarinic acetylcholine receptor M5    T79961   \n",
       "3             Muscarinic acetylcholine receptor M5    T79961   \n",
       "4             Muscarinic acetylcholine receptor M5    T79961   \n",
       "..                                             ...       ...   \n",
       "222  Platelet-derived growth factor receptor alpha    T53524   \n",
       "223  Platelet-derived growth factor receptor alpha    T53524   \n",
       "224  Platelet-derived growth factor receptor alpha    T53524   \n",
       "225  Platelet-derived growth factor receptor alpha    T53524   \n",
       "226                     DNA topoisomerase II alpha    T17048   \n",
       "\n",
       "                                  Indication Probability Model accuracy  \n",
       "0           Hypertension [ICD-11: BA00-BA04]      91.91%         98.95%  \n",
       "1          Multiple sclerosis [ICD-11: 8A40]      91.91%         98.95%  \n",
       "2          Acquired nystagmus [ICD-11: 9C84]      84.83%         94.62%  \n",
       "3         Allergic rhinitis [ICD-11: CA08.0]      84.83%         94.62%  \n",
       "4           Alzheimer disease [ICD-11: 8A20]      84.83%         94.62%  \n",
       "..                                       ...         ...            ...  \n",
       "222       Soft tissue sarcoma [ICD-11: 2B57]      50.54%         91.07%  \n",
       "223  Solid tumour/cancer [ICD-11: 2A00-2F9Z]      50.54%         91.07%  \n",
       "224   Systemic mastocytosis [ICD-11: 2A21.0]      50.54%         91.07%  \n",
       "225          Thrombocytopenia [ICD-11: 3B64]      50.54%         91.07%  \n",
       "226  Solid tumour/cancer [ICD-11: 2A00-2F9Z]      50.09%            89%  \n",
       "\n",
       "[227 rows x 5 columns]"
      ]
     },
     "execution_count": 200,
     "metadata": {},
     "output_type": "execute_result"
    }
   ],
   "source": [
    "# Indications of predicted targets\n",
    "data_3"
   ]
  },
  {
   "cell_type": "code",
   "execution_count": null,
   "id": "d57bf842",
   "metadata": {},
   "outputs": [],
   "source": []
  }
 ],
 "metadata": {
  "kernelspec": {
   "display_name": "venv",
   "language": "python",
   "name": "python3"
  },
  "language_info": {
   "codemirror_mode": {
    "name": "ipython",
    "version": 3
   },
   "file_extension": ".py",
   "mimetype": "text/x-python",
   "name": "python",
   "nbconvert_exporter": "python",
   "pygments_lexer": "ipython3",
   "version": "3.10.12"
  }
 },
 "nbformat": 4,
 "nbformat_minor": 5
}
