{
 "cells": [
  {
   "cell_type": "code",
   "execution_count": 144,
   "id": "d79c533d",
   "metadata": {},
   "outputs": [],
   "source": [
    "import pandas as pd\n",
    "import seaborn as sns\n",
    "import scipy as sc\n",
    "import matplotlib.pyplot as plt"
   ]
  },
  {
   "cell_type": "code",
   "execution_count": 82,
   "id": "cc8947c6",
   "metadata": {},
   "outputs": [],
   "source": [
    "try:\n",
    "    data_metadata = pd.read_table('metadata.tsv')\n",
    "    data_high_density_lipids = pd.read_table('high_density_lipids.tsv')\n",
    "    data_low_density_lipids = pd.read_table('low_density_lipids.tsv')\n",
    "except:\n",
    "    print('error_load_data')"
   ]
  },
  {
   "cell_type": "code",
   "execution_count": 83,
   "id": "7dada49b",
   "metadata": {},
   "outputs": [
    {
     "data": {
      "application/vnd.microsoft.datawrangler.viewer.v0+json": {
       "columns": [
        {
         "name": "index",
         "rawType": "int64",
         "type": "integer"
        },
        {
         "name": "Vialnumber",
         "rawType": "int64",
         "type": "integer"
        },
        {
         "name": "Patientnumber",
         "rawType": "int64",
         "type": "integer"
        },
        {
         "name": "Sucrose",
         "rawType": "int64",
         "type": "integer"
        },
        {
         "name": "Name",
         "rawType": "object",
         "type": "string"
        },
        {
         "name": "Group",
         "rawType": "int64",
         "type": "integer"
        },
        {
         "name": "Date",
         "rawType": "object",
         "type": "string"
        },
        {
         "name": "Age",
         "rawType": "int64",
         "type": "integer"
        },
        {
         "name": "Plasmavolume",
         "rawType": "float64",
         "type": "float"
        },
        {
         "name": "Ht",
         "rawType": "int64",
         "type": "integer"
        },
        {
         "name": "Wt",
         "rawType": "float64",
         "type": "float"
        },
        {
         "name": "BMI",
         "rawType": "float64",
         "type": "float"
        },
        {
         "name": "Sys",
         "rawType": "int64",
         "type": "integer"
        },
        {
         "name": "Dia",
         "rawType": "int64",
         "type": "integer"
        },
        {
         "name": "PR",
         "rawType": "int64",
         "type": "integer"
        },
        {
         "name": "Sm",
         "rawType": "int64",
         "type": "integer"
        },
        {
         "name": "Dm",
         "rawType": "int64",
         "type": "integer"
        },
        {
         "name": "HT",
         "rawType": "int64",
         "type": "integer"
        },
        {
         "name": "LVH",
         "rawType": "int64",
         "type": "integer"
        },
        {
         "name": "IHD",
         "rawType": "int64",
         "type": "integer"
        },
        {
         "name": "MI",
         "rawType": "int64",
         "type": "integer"
        },
        {
         "name": "Str",
         "rawType": "int64",
         "type": "integer"
        },
        {
         "name": "A_C",
         "rawType": "int64",
         "type": "integer"
        },
        {
         "name": "A_H",
         "rawType": "int64",
         "type": "integer"
        },
        {
         "name": "A_D",
         "rawType": "int64",
         "type": "integer"
        },
        {
         "name": "Choi",
         "rawType": "int64",
         "type": "integer"
        },
        {
         "name": "Tgi",
         "rawType": "int64",
         "type": "integer"
        },
        {
         "name": "HDLi",
         "rawType": "float64",
         "type": "float"
        },
        {
         "name": "LDLi",
         "rawType": "float64",
         "type": "float"
        },
        {
         "name": "Choi_exp",
         "rawType": "float64",
         "type": "float"
        },
        {
         "name": "Tgi_exp",
         "rawType": "float64",
         "type": "float"
        },
        {
         "name": "HDLi_exp",
         "rawType": "float64",
         "type": "float"
        },
        {
         "name": "LDLi_exp",
         "rawType": "float64",
         "type": "float"
        },
        {
         "name": "AI",
         "rawType": "float64",
         "type": "float"
        },
        {
         "name": "rlatmin",
         "rawType": "float64",
         "type": "float"
        },
        {
         "name": "rantmin",
         "rawType": "float64",
         "type": "float"
        },
        {
         "name": "rposmin",
         "rawType": "float64",
         "type": "float"
        },
        {
         "name": "llatmin",
         "rawType": "float64",
         "type": "float"
        },
        {
         "name": "lantmin",
         "rawType": "float64",
         "type": "float"
        },
        {
         "name": "lposmin",
         "rawType": "float64",
         "type": "float"
        },
        {
         "name": "rlatmax",
         "rawType": "float64",
         "type": "float"
        },
        {
         "name": "rantmax",
         "rawType": "float64",
         "type": "float"
        },
        {
         "name": "rposmax",
         "rawType": "float64",
         "type": "float"
        },
        {
         "name": "llatmax",
         "rawType": "float64",
         "type": "float"
        },
        {
         "name": "lantmax",
         "rawType": "float64",
         "type": "float"
        },
        {
         "name": "lposmax",
         "rawType": "float64",
         "type": "float"
        },
        {
         "name": "carotidIMTmean",
         "rawType": "float64",
         "type": "float"
        },
        {
         "name": "Plaque",
         "rawType": "int64",
         "type": "integer"
        },
        {
         "name": "Statins",
         "rawType": "float64",
         "type": "float"
        },
        {
         "name": "comorbidities",
         "rawType": "object",
         "type": "unknown"
        }
       ],
       "ref": "517c6485-eb51-4c40-b788-b8cabe1bb8fc",
       "rows": [
        [
         "0",
         "1",
         "50",
         "0",
         "Begaye, Decarlo",
         "0",
         "2023-01-14",
         "63",
         "6.5",
         "163",
         "84.0",
         "31.615792841281195",
         "125",
         "76",
         "67",
         "0",
         "0",
         "0",
         "1",
         "0",
         "0",
         "0",
         "1",
         "1",
         "0",
         "215",
         "219",
         "65.3",
         "106.0",
         "5.584415584415584",
         "2.4065934065934065",
         "1.696103896103896",
         "2.7532467532467533",
         "1.6232771822358347",
         "0.5",
         "0.55",
         "0.5",
         "0.5",
         "0.52",
         "0.5",
         "0.65",
         "0.8",
         "0.8",
         "0.81",
         "0.78",
         "0.8",
         "0.6425",
         "1",
         "1.0",
         null
        ],
        [
         "1",
         "2",
         "51",
         "0",
         "Sweetwater, Kristen",
         "0",
         "2022-10-09",
         "47",
         "5.5",
         "179",
         "111.0",
         "34.64311351081427",
         "125",
         "82",
         "65",
         "0",
         "0",
         "1",
         "1",
         "0",
         "0",
         "0",
         "0",
         "1",
         "0",
         "271",
         "147",
         "52.1",
         "189.5",
         "7.038961038961039",
         "1.6153846153846154",
         "1.3532467532467534",
         "4.922077922077922",
         "3.637236084452975",
         "0.63",
         "0.63",
         "0.63",
         "0.63",
         "0.63",
         "0.8",
         "1.03",
         "0.92",
         "1.03",
         "1.03",
         "1.03",
         "1.09",
         "0.84",
         "1",
         "0.0",
         null
        ],
        [
         "2",
         "3",
         "52",
         "0",
         "Figurelli, Samuel",
         "1",
         "2023-10-24",
         "57",
         "7.0",
         "164",
         "80.0",
         "29.7441998810232",
         "132",
         "80",
         "92",
         "0",
         "1",
         "1",
         "1",
         "1",
         "1",
         "0",
         "1",
         "1",
         "0",
         "206",
         "146",
         "38.6",
         "138.0",
         "5.35064935064935",
         "1.6043956043956045",
         "1.0025974025974027",
         "3.5844155844155843",
         "3.575129533678756",
         "0.8",
         "0.8",
         "0.8",
         "0.8",
         "0.8",
         "0.7",
         "1.0",
         "0.9",
         "0.95",
         "0.85",
         "0.9",
         "0.9",
         "0.8500000000000001",
         "3",
         "1.0",
         "Type 2 diabetes mellitus; MI - 2016"
        ],
        [
         "3",
         "4",
         "53",
         "0",
         "Pamphille, Mehgan",
         "1",
         "2023-07-02",
         "72",
         "5.0",
         "160",
         "58.8",
         "22.96875",
         "130",
         "90",
         "68",
         "0",
         "0",
         "0",
         "0",
         "0",
         "0",
         "0",
         "0",
         "0",
         "0",
         "266",
         "132",
         "51.9",
         "188.0",
         "6.909090909090909",
         "1.4505494505494505",
         "1.348051948051948",
         "4.883116883116883",
         "3.622350674373796",
         "0.74",
         "0.86",
         "0.86",
         "0.8",
         "0.63",
         "0.74",
         "0.91",
         "0.97",
         "0.98",
         "0.86",
         "0.74",
         "0.8",
         "0.8241666666666667",
         "2",
         "0.0",
         "1-2 times per year hypertensive crises (Corinfar)"
        ],
        [
         "4",
         "5",
         "54",
         "0",
         "Morgan, Rollin",
         "1",
         "2022-11-27",
         "57",
         "5.0",
         "180",
         "71.0",
         "21.91358024691358",
         "135",
         "75",
         "70",
         "0",
         "0",
         "1",
         "0",
         "1",
         "0",
         "0",
         "1",
         "1",
         "0",
         "194",
         "101",
         "76.8",
         "97.0",
         "5.038961038961039",
         "1.10989010989011",
         "1.9948051948051948",
         "2.51948051948052",
         "1.2630208333333337",
         "1.0",
         "1.0",
         "1.1",
         "0.9",
         "1.0",
         "1.0",
         "1.2",
         "1.2",
         "1.25",
         "1.1",
         "1.3",
         "1.13",
         "1.0983333333333334",
         "1",
         "1.0",
         null
        ]
       ],
       "shape": {
        "columns": 49,
        "rows": 5
       }
      },
      "text/html": [
       "<div>\n",
       "<style scoped>\n",
       "    .dataframe tbody tr th:only-of-type {\n",
       "        vertical-align: middle;\n",
       "    }\n",
       "\n",
       "    .dataframe tbody tr th {\n",
       "        vertical-align: top;\n",
       "    }\n",
       "\n",
       "    .dataframe thead th {\n",
       "        text-align: right;\n",
       "    }\n",
       "</style>\n",
       "<table border=\"1\" class=\"dataframe\">\n",
       "  <thead>\n",
       "    <tr style=\"text-align: right;\">\n",
       "      <th></th>\n",
       "      <th>Vialnumber</th>\n",
       "      <th>Patientnumber</th>\n",
       "      <th>Sucrose</th>\n",
       "      <th>Name</th>\n",
       "      <th>Group</th>\n",
       "      <th>Date</th>\n",
       "      <th>Age</th>\n",
       "      <th>Plasmavolume</th>\n",
       "      <th>Ht</th>\n",
       "      <th>Wt</th>\n",
       "      <th>...</th>\n",
       "      <th>rlatmax</th>\n",
       "      <th>rantmax</th>\n",
       "      <th>rposmax</th>\n",
       "      <th>llatmax</th>\n",
       "      <th>lantmax</th>\n",
       "      <th>lposmax</th>\n",
       "      <th>carotidIMTmean</th>\n",
       "      <th>Plaque</th>\n",
       "      <th>Statins</th>\n",
       "      <th>comorbidities</th>\n",
       "    </tr>\n",
       "  </thead>\n",
       "  <tbody>\n",
       "    <tr>\n",
       "      <th>0</th>\n",
       "      <td>1</td>\n",
       "      <td>50</td>\n",
       "      <td>0</td>\n",
       "      <td>Begaye, Decarlo</td>\n",
       "      <td>0</td>\n",
       "      <td>2023-01-14</td>\n",
       "      <td>63</td>\n",
       "      <td>6.5</td>\n",
       "      <td>163</td>\n",
       "      <td>84.0</td>\n",
       "      <td>...</td>\n",
       "      <td>0.65</td>\n",
       "      <td>0.80</td>\n",
       "      <td>0.80</td>\n",
       "      <td>0.81</td>\n",
       "      <td>0.78</td>\n",
       "      <td>0.80</td>\n",
       "      <td>0.642500</td>\n",
       "      <td>1</td>\n",
       "      <td>1.0</td>\n",
       "      <td>NaN</td>\n",
       "    </tr>\n",
       "    <tr>\n",
       "      <th>1</th>\n",
       "      <td>2</td>\n",
       "      <td>51</td>\n",
       "      <td>0</td>\n",
       "      <td>Sweetwater, Kristen</td>\n",
       "      <td>0</td>\n",
       "      <td>2022-10-09</td>\n",
       "      <td>47</td>\n",
       "      <td>5.5</td>\n",
       "      <td>179</td>\n",
       "      <td>111.0</td>\n",
       "      <td>...</td>\n",
       "      <td>1.03</td>\n",
       "      <td>0.92</td>\n",
       "      <td>1.03</td>\n",
       "      <td>1.03</td>\n",
       "      <td>1.03</td>\n",
       "      <td>1.09</td>\n",
       "      <td>0.840000</td>\n",
       "      <td>1</td>\n",
       "      <td>0.0</td>\n",
       "      <td>NaN</td>\n",
       "    </tr>\n",
       "    <tr>\n",
       "      <th>2</th>\n",
       "      <td>3</td>\n",
       "      <td>52</td>\n",
       "      <td>0</td>\n",
       "      <td>Figurelli, Samuel</td>\n",
       "      <td>1</td>\n",
       "      <td>2023-10-24</td>\n",
       "      <td>57</td>\n",
       "      <td>7.0</td>\n",
       "      <td>164</td>\n",
       "      <td>80.0</td>\n",
       "      <td>...</td>\n",
       "      <td>1.00</td>\n",
       "      <td>0.90</td>\n",
       "      <td>0.95</td>\n",
       "      <td>0.85</td>\n",
       "      <td>0.90</td>\n",
       "      <td>0.90</td>\n",
       "      <td>0.850000</td>\n",
       "      <td>3</td>\n",
       "      <td>1.0</td>\n",
       "      <td>Type 2 diabetes mellitus; MI - 2016</td>\n",
       "    </tr>\n",
       "    <tr>\n",
       "      <th>3</th>\n",
       "      <td>4</td>\n",
       "      <td>53</td>\n",
       "      <td>0</td>\n",
       "      <td>Pamphille, Mehgan</td>\n",
       "      <td>1</td>\n",
       "      <td>2023-07-02</td>\n",
       "      <td>72</td>\n",
       "      <td>5.0</td>\n",
       "      <td>160</td>\n",
       "      <td>58.8</td>\n",
       "      <td>...</td>\n",
       "      <td>0.91</td>\n",
       "      <td>0.97</td>\n",
       "      <td>0.98</td>\n",
       "      <td>0.86</td>\n",
       "      <td>0.74</td>\n",
       "      <td>0.80</td>\n",
       "      <td>0.824167</td>\n",
       "      <td>2</td>\n",
       "      <td>0.0</td>\n",
       "      <td>1-2 times per year hypertensive crises (Corinfar)</td>\n",
       "    </tr>\n",
       "    <tr>\n",
       "      <th>4</th>\n",
       "      <td>5</td>\n",
       "      <td>54</td>\n",
       "      <td>0</td>\n",
       "      <td>Morgan, Rollin</td>\n",
       "      <td>1</td>\n",
       "      <td>2022-11-27</td>\n",
       "      <td>57</td>\n",
       "      <td>5.0</td>\n",
       "      <td>180</td>\n",
       "      <td>71.0</td>\n",
       "      <td>...</td>\n",
       "      <td>1.20</td>\n",
       "      <td>1.20</td>\n",
       "      <td>1.25</td>\n",
       "      <td>1.10</td>\n",
       "      <td>1.30</td>\n",
       "      <td>1.13</td>\n",
       "      <td>1.098333</td>\n",
       "      <td>1</td>\n",
       "      <td>1.0</td>\n",
       "      <td>NaN</td>\n",
       "    </tr>\n",
       "  </tbody>\n",
       "</table>\n",
       "<p>5 rows × 49 columns</p>\n",
       "</div>"
      ],
      "text/plain": [
       "   Vialnumber  Patientnumber  Sucrose                 Name  Group        Date  \\\n",
       "0           1             50        0      Begaye, Decarlo      0  2023-01-14   \n",
       "1           2             51        0  Sweetwater, Kristen      0  2022-10-09   \n",
       "2           3             52        0    Figurelli, Samuel      1  2023-10-24   \n",
       "3           4             53        0    Pamphille, Mehgan      1  2023-07-02   \n",
       "4           5             54        0       Morgan, Rollin      1  2022-11-27   \n",
       "\n",
       "   Age  Plasmavolume   Ht     Wt  ...  rlatmax  rantmax  rposmax  llatmax  \\\n",
       "0   63           6.5  163   84.0  ...     0.65     0.80     0.80     0.81   \n",
       "1   47           5.5  179  111.0  ...     1.03     0.92     1.03     1.03   \n",
       "2   57           7.0  164   80.0  ...     1.00     0.90     0.95     0.85   \n",
       "3   72           5.0  160   58.8  ...     0.91     0.97     0.98     0.86   \n",
       "4   57           5.0  180   71.0  ...     1.20     1.20     1.25     1.10   \n",
       "\n",
       "   lantmax  lposmax  carotidIMTmean  Plaque  Statins  \\\n",
       "0     0.78     0.80        0.642500       1      1.0   \n",
       "1     1.03     1.09        0.840000       1      0.0   \n",
       "2     0.90     0.90        0.850000       3      1.0   \n",
       "3     0.74     0.80        0.824167       2      0.0   \n",
       "4     1.30     1.13        1.098333       1      1.0   \n",
       "\n",
       "                                       comorbidities  \n",
       "0                                                NaN  \n",
       "1                                                NaN  \n",
       "2                Type 2 diabetes mellitus; MI - 2016  \n",
       "3  1-2 times per year hypertensive crises (Corinfar)  \n",
       "4                                                NaN  \n",
       "\n",
       "[5 rows x 49 columns]"
      ]
     },
     "execution_count": 83,
     "metadata": {},
     "output_type": "execute_result"
    }
   ],
   "source": [
    "data_metadata.head()"
   ]
  },
  {
   "cell_type": "code",
   "execution_count": 84,
   "id": "c16bd03b",
   "metadata": {},
   "outputs": [
    {
     "data": {
      "application/vnd.microsoft.datawrangler.viewer.v0+json": {
       "columns": [
        {
         "name": "index",
         "rawType": "int64",
         "type": "integer"
        },
        {
         "name": "Vial.number",
         "rawType": "int64",
         "type": "integer"
        },
        {
         "name": "Patient.number",
         "rawType": "int64",
         "type": "integer"
        },
        {
         "name": "Name",
         "rawType": "object",
         "type": "string"
        },
        {
         "name": "GPHDL1",
         "rawType": "float64",
         "type": "float"
        },
        {
         "name": "GPHDL2",
         "rawType": "float64",
         "type": "float"
        },
        {
         "name": "GPHDL3",
         "rawType": "float64",
         "type": "float"
        },
        {
         "name": "GPHDL4",
         "rawType": "float64",
         "type": "float"
        },
        {
         "name": "GPHDL5",
         "rawType": "float64",
         "type": "float"
        },
        {
         "name": "GPHDL6",
         "rawType": "float64",
         "type": "float"
        },
        {
         "name": "GPHDL7",
         "rawType": "float64",
         "type": "float"
        },
        {
         "name": "GPHDL8",
         "rawType": "float64",
         "type": "float"
        },
        {
         "name": "GPHDL9",
         "rawType": "float64",
         "type": "float"
        },
        {
         "name": "GPHDL10",
         "rawType": "float64",
         "type": "float"
        },
        {
         "name": "GPHDL11",
         "rawType": "float64",
         "type": "float"
        },
        {
         "name": "GPHDL12",
         "rawType": "float64",
         "type": "float"
        },
        {
         "name": "GPHDL13",
         "rawType": "float64",
         "type": "float"
        },
        {
         "name": "GPHDL14",
         "rawType": "float64",
         "type": "float"
        },
        {
         "name": "GPHDL15",
         "rawType": "float64",
         "type": "float"
        },
        {
         "name": "GPHDL16",
         "rawType": "float64",
         "type": "float"
        },
        {
         "name": "GPHDL17",
         "rawType": "float64",
         "type": "float"
        },
        {
         "name": "GPHDL18",
         "rawType": "float64",
         "type": "float"
        },
        {
         "name": "GPHDL19",
         "rawType": "float64",
         "type": "float"
        },
        {
         "name": "GPHDL20",
         "rawType": "float64",
         "type": "float"
        },
        {
         "name": "GPHDL21",
         "rawType": "float64",
         "type": "float"
        },
        {
         "name": "GPHDL22",
         "rawType": "float64",
         "type": "float"
        },
        {
         "name": "sum_auc",
         "rawType": "float64",
         "type": "float"
        },
        {
         "name": "LB",
         "rawType": "float64",
         "type": "float"
        },
        {
         "name": "HB",
         "rawType": "float64",
         "type": "float"
        },
        {
         "name": "G1",
         "rawType": "float64",
         "type": "float"
        },
        {
         "name": "G2",
         "rawType": "float64",
         "type": "float"
        },
        {
         "name": "G3",
         "rawType": "float64",
         "type": "float"
        },
        {
         "name": "S0",
         "rawType": "float64",
         "type": "float"
        },
        {
         "name": "S1",
         "rawType": "float64",
         "type": "float"
        },
        {
         "name": "S2",
         "rawType": "float64",
         "type": "float"
        },
        {
         "name": "S3",
         "rawType": "float64",
         "type": "float"
        },
        {
         "name": "B",
         "rawType": "float64",
         "type": "float"
        },
        {
         "name": "F",
         "rawType": "float64",
         "type": "float"
        },
        {
         "name": "HM",
         "rawType": "float64",
         "type": "float"
        }
       ],
       "ref": "94b632ab-7768-4176-b3bb-eb16cf2d1692",
       "rows": [
        [
         "0",
         "1",
         "50",
         "HDL",
         "0.38",
         "1.78",
         "0.14",
         "0.05",
         "0.73",
         "2.9",
         "1.57",
         "2.57",
         "5.46",
         "18.64",
         "3.24",
         "0.71",
         "5.96",
         "29.87",
         "2.65",
         "3.16",
         "1.08",
         "1.67",
         "2.39",
         "8.81",
         "2.63",
         "3.62",
         "100.01",
         "70.92",
         "23.36",
         "12.23",
         "58.69",
         "20.97",
         "2.87",
         "29.57",
         "44.39",
         "15.06",
         "0.05",
         "7.35",
         "2.49"
        ],
        [
         "1",
         "3",
         "52",
         "HDL",
         "0.43",
         "1.3",
         "0.23",
         "0.05",
         "0.59",
         "2.62",
         "1.62",
         "3.86",
         "4.2",
         "18.92",
         "3.86",
         "0.23",
         "7.69",
         "26.23",
         "3.04",
         "3.77",
         "1.66",
         "1.54",
         "3.19",
         "8.53",
         "2.43",
         "4.01",
         "100.0",
         "69.48",
         "25.13",
         "11.98",
         "57.5",
         "21.94",
         "2.92",
         "29.6",
         "43.93",
         "14.97",
         "0.05",
         "8.71",
         "1.53"
        ],
        [
         "2",
         "4",
         "53",
         "HDL",
         "0.41",
         "3.86",
         "0.31",
         "0.1",
         "0.96",
         "3.19",
         "2.42",
         "3.75",
         "6.28",
         "23.81",
         "3.41",
         "1.22",
         "5.15",
         "28.18",
         "2.54",
         "2.72",
         "0.95",
         "1.14",
         "1.67",
         "5.05",
         "1.56",
         "1.32",
         "100.0",
         "77.1",
         "14.41",
         "15.0",
         "62.1",
         "12.74",
         "4.2",
         "37.03",
         "40.68",
         "7.93",
         "0.1",
         "4.81",
         "5.08"
        ],
        [
         "3",
         "5",
         "54",
         "HDL",
         "0.5",
         "1.79",
         "0.23",
         "0.06",
         "0.77",
         "2.96",
         "1.76",
         "3.0",
         "5.33",
         "18.72",
         "3.05",
         "0.51",
         "6.77",
         "26.24",
         "2.53",
         "3.61",
         "1.08",
         "1.55",
         "3.08",
         "9.03",
         "2.19",
         "5.24",
         "100.0",
         "68.87",
         "25.78",
         "12.85",
         "56.02",
         "22.7",
         "3.32",
         "30.01",
         "41.78",
         "16.46",
         "0.06",
         "8.85",
         "2.3"
        ],
        [
         "4",
         "6",
         "55",
         "HDL",
         "0.4",
         "3.69",
         "0.17",
         "0.03",
         "0.8",
         "3.04",
         "1.62",
         "3.23",
         "6.14",
         "21.28",
         "3.46",
         "0.64",
         "7.05",
         "26.85",
         "2.98",
         "3.14",
         "1.24",
         "0.92",
         "2.46",
         "5.96",
         "1.85",
         "3.03",
         "99.98",
         "73.59",
         "18.6",
         "13.81",
         "59.78",
         "16.14",
         "3.02",
         "33.69",
         "42.18",
         "10.84",
         "0.03",
         "7.25",
         "4.33"
        ]
       ],
       "shape": {
        "columns": 38,
        "rows": 5
       }
      },
      "text/html": [
       "<div>\n",
       "<style scoped>\n",
       "    .dataframe tbody tr th:only-of-type {\n",
       "        vertical-align: middle;\n",
       "    }\n",
       "\n",
       "    .dataframe tbody tr th {\n",
       "        vertical-align: top;\n",
       "    }\n",
       "\n",
       "    .dataframe thead th {\n",
       "        text-align: right;\n",
       "    }\n",
       "</style>\n",
       "<table border=\"1\" class=\"dataframe\">\n",
       "  <thead>\n",
       "    <tr style=\"text-align: right;\">\n",
       "      <th></th>\n",
       "      <th>Vial.number</th>\n",
       "      <th>Patient.number</th>\n",
       "      <th>Name</th>\n",
       "      <th>GPHDL1</th>\n",
       "      <th>GPHDL2</th>\n",
       "      <th>GPHDL3</th>\n",
       "      <th>GPHDL4</th>\n",
       "      <th>GPHDL5</th>\n",
       "      <th>GPHDL6</th>\n",
       "      <th>GPHDL7</th>\n",
       "      <th>...</th>\n",
       "      <th>G1</th>\n",
       "      <th>G2</th>\n",
       "      <th>G3</th>\n",
       "      <th>S0</th>\n",
       "      <th>S1</th>\n",
       "      <th>S2</th>\n",
       "      <th>S3</th>\n",
       "      <th>B</th>\n",
       "      <th>F</th>\n",
       "      <th>HM</th>\n",
       "    </tr>\n",
       "  </thead>\n",
       "  <tbody>\n",
       "    <tr>\n",
       "      <th>0</th>\n",
       "      <td>1</td>\n",
       "      <td>50</td>\n",
       "      <td>HDL</td>\n",
       "      <td>0.38</td>\n",
       "      <td>1.78</td>\n",
       "      <td>0.14</td>\n",
       "      <td>0.05</td>\n",
       "      <td>0.73</td>\n",
       "      <td>2.90</td>\n",
       "      <td>1.57</td>\n",
       "      <td>...</td>\n",
       "      <td>12.23</td>\n",
       "      <td>58.69</td>\n",
       "      <td>20.97</td>\n",
       "      <td>2.87</td>\n",
       "      <td>29.57</td>\n",
       "      <td>44.39</td>\n",
       "      <td>15.06</td>\n",
       "      <td>0.05</td>\n",
       "      <td>7.35</td>\n",
       "      <td>2.49</td>\n",
       "    </tr>\n",
       "    <tr>\n",
       "      <th>1</th>\n",
       "      <td>3</td>\n",
       "      <td>52</td>\n",
       "      <td>HDL</td>\n",
       "      <td>0.43</td>\n",
       "      <td>1.30</td>\n",
       "      <td>0.23</td>\n",
       "      <td>0.05</td>\n",
       "      <td>0.59</td>\n",
       "      <td>2.62</td>\n",
       "      <td>1.62</td>\n",
       "      <td>...</td>\n",
       "      <td>11.98</td>\n",
       "      <td>57.50</td>\n",
       "      <td>21.94</td>\n",
       "      <td>2.92</td>\n",
       "      <td>29.60</td>\n",
       "      <td>43.93</td>\n",
       "      <td>14.97</td>\n",
       "      <td>0.05</td>\n",
       "      <td>8.71</td>\n",
       "      <td>1.53</td>\n",
       "    </tr>\n",
       "    <tr>\n",
       "      <th>2</th>\n",
       "      <td>4</td>\n",
       "      <td>53</td>\n",
       "      <td>HDL</td>\n",
       "      <td>0.41</td>\n",
       "      <td>3.86</td>\n",
       "      <td>0.31</td>\n",
       "      <td>0.10</td>\n",
       "      <td>0.96</td>\n",
       "      <td>3.19</td>\n",
       "      <td>2.42</td>\n",
       "      <td>...</td>\n",
       "      <td>15.00</td>\n",
       "      <td>62.10</td>\n",
       "      <td>12.74</td>\n",
       "      <td>4.20</td>\n",
       "      <td>37.03</td>\n",
       "      <td>40.68</td>\n",
       "      <td>7.93</td>\n",
       "      <td>0.10</td>\n",
       "      <td>4.81</td>\n",
       "      <td>5.08</td>\n",
       "    </tr>\n",
       "    <tr>\n",
       "      <th>3</th>\n",
       "      <td>5</td>\n",
       "      <td>54</td>\n",
       "      <td>HDL</td>\n",
       "      <td>0.50</td>\n",
       "      <td>1.79</td>\n",
       "      <td>0.23</td>\n",
       "      <td>0.06</td>\n",
       "      <td>0.77</td>\n",
       "      <td>2.96</td>\n",
       "      <td>1.76</td>\n",
       "      <td>...</td>\n",
       "      <td>12.85</td>\n",
       "      <td>56.02</td>\n",
       "      <td>22.70</td>\n",
       "      <td>3.32</td>\n",
       "      <td>30.01</td>\n",
       "      <td>41.78</td>\n",
       "      <td>16.46</td>\n",
       "      <td>0.06</td>\n",
       "      <td>8.85</td>\n",
       "      <td>2.30</td>\n",
       "    </tr>\n",
       "    <tr>\n",
       "      <th>4</th>\n",
       "      <td>6</td>\n",
       "      <td>55</td>\n",
       "      <td>HDL</td>\n",
       "      <td>0.40</td>\n",
       "      <td>3.69</td>\n",
       "      <td>0.17</td>\n",
       "      <td>0.03</td>\n",
       "      <td>0.80</td>\n",
       "      <td>3.04</td>\n",
       "      <td>1.62</td>\n",
       "      <td>...</td>\n",
       "      <td>13.81</td>\n",
       "      <td>59.78</td>\n",
       "      <td>16.14</td>\n",
       "      <td>3.02</td>\n",
       "      <td>33.69</td>\n",
       "      <td>42.18</td>\n",
       "      <td>10.84</td>\n",
       "      <td>0.03</td>\n",
       "      <td>7.25</td>\n",
       "      <td>4.33</td>\n",
       "    </tr>\n",
       "  </tbody>\n",
       "</table>\n",
       "<p>5 rows × 38 columns</p>\n",
       "</div>"
      ],
      "text/plain": [
       "   Vial.number  Patient.number Name  GPHDL1  GPHDL2  GPHDL3  GPHDL4  GPHDL5  \\\n",
       "0            1              50  HDL    0.38    1.78    0.14    0.05    0.73   \n",
       "1            3              52  HDL    0.43    1.30    0.23    0.05    0.59   \n",
       "2            4              53  HDL    0.41    3.86    0.31    0.10    0.96   \n",
       "3            5              54  HDL    0.50    1.79    0.23    0.06    0.77   \n",
       "4            6              55  HDL    0.40    3.69    0.17    0.03    0.80   \n",
       "\n",
       "   GPHDL6  GPHDL7  ...     G1     G2     G3    S0     S1     S2     S3     B  \\\n",
       "0    2.90    1.57  ...  12.23  58.69  20.97  2.87  29.57  44.39  15.06  0.05   \n",
       "1    2.62    1.62  ...  11.98  57.50  21.94  2.92  29.60  43.93  14.97  0.05   \n",
       "2    3.19    2.42  ...  15.00  62.10  12.74  4.20  37.03  40.68   7.93  0.10   \n",
       "3    2.96    1.76  ...  12.85  56.02  22.70  3.32  30.01  41.78  16.46  0.06   \n",
       "4    3.04    1.62  ...  13.81  59.78  16.14  3.02  33.69  42.18  10.84  0.03   \n",
       "\n",
       "      F    HM  \n",
       "0  7.35  2.49  \n",
       "1  8.71  1.53  \n",
       "2  4.81  5.08  \n",
       "3  8.85  2.30  \n",
       "4  7.25  4.33  \n",
       "\n",
       "[5 rows x 38 columns]"
      ]
     },
     "execution_count": 84,
     "metadata": {},
     "output_type": "execute_result"
    }
   ],
   "source": [
    "data_high_density_lipids.head()"
   ]
  },
  {
   "cell_type": "code",
   "execution_count": 85,
   "id": "912f6719",
   "metadata": {},
   "outputs": [
    {
     "data": {
      "application/vnd.microsoft.datawrangler.viewer.v0+json": {
       "columns": [
        {
         "name": "index",
         "rawType": "int64",
         "type": "integer"
        },
        {
         "name": "Vial.number",
         "rawType": "int64",
         "type": "integer"
        },
        {
         "name": "Patient.number",
         "rawType": "int64",
         "type": "integer"
        },
        {
         "name": "Name",
         "rawType": "object",
         "type": "string"
        },
        {
         "name": "GPLDL1",
         "rawType": "float64",
         "type": "float"
        },
        {
         "name": "GPLDL2",
         "rawType": "float64",
         "type": "float"
        },
        {
         "name": "GPLDL3",
         "rawType": "float64",
         "type": "float"
        },
        {
         "name": "GPLDL4",
         "rawType": "float64",
         "type": "float"
        },
        {
         "name": "GPLDL5",
         "rawType": "float64",
         "type": "float"
        },
        {
         "name": "GPLDL6",
         "rawType": "float64",
         "type": "float"
        },
        {
         "name": "GPLDL7",
         "rawType": "float64",
         "type": "float"
        },
        {
         "name": "GPLDL8",
         "rawType": "float64",
         "type": "float"
        },
        {
         "name": "GPLDL9",
         "rawType": "float64",
         "type": "float"
        },
        {
         "name": "GPLDL10",
         "rawType": "float64",
         "type": "float"
        },
        {
         "name": "GPLDL11",
         "rawType": "float64",
         "type": "float"
        },
        {
         "name": "GPLDL12",
         "rawType": "float64",
         "type": "float"
        },
        {
         "name": "GPLDL13",
         "rawType": "float64",
         "type": "float"
        },
        {
         "name": "GPLDL14",
         "rawType": "float64",
         "type": "float"
        },
        {
         "name": "GPLDL15",
         "rawType": "float64",
         "type": "float"
        },
        {
         "name": "GPLDL16",
         "rawType": "float64",
         "type": "float"
        },
        {
         "name": "GPLDL17",
         "rawType": "float64",
         "type": "float"
        },
        {
         "name": "GPLDL18",
         "rawType": "float64",
         "type": "float"
        },
        {
         "name": "GPLDL19",
         "rawType": "float64",
         "type": "float"
        },
        {
         "name": "GPLDL20",
         "rawType": "float64",
         "type": "float"
        },
        {
         "name": "GPLDL21",
         "rawType": "float64",
         "type": "float"
        },
        {
         "name": "GPLDL22",
         "rawType": "float64",
         "type": "float"
        },
        {
         "name": "sum_auc",
         "rawType": "float64",
         "type": "float"
        },
        {
         "name": "LB",
         "rawType": "float64",
         "type": "float"
        },
        {
         "name": "HB",
         "rawType": "float64",
         "type": "float"
        },
        {
         "name": "G1",
         "rawType": "float64",
         "type": "float"
        },
        {
         "name": "G2",
         "rawType": "float64",
         "type": "float"
        },
        {
         "name": "G3",
         "rawType": "float64",
         "type": "float"
        },
        {
         "name": "S0",
         "rawType": "float64",
         "type": "float"
        },
        {
         "name": "S1",
         "rawType": "float64",
         "type": "float"
        },
        {
         "name": "S2",
         "rawType": "float64",
         "type": "float"
        },
        {
         "name": "S3",
         "rawType": "float64",
         "type": "float"
        },
        {
         "name": "B",
         "rawType": "float64",
         "type": "float"
        },
        {
         "name": "F",
         "rawType": "float64",
         "type": "float"
        },
        {
         "name": "HM",
         "rawType": "float64",
         "type": "float"
        }
       ],
       "ref": "c58659b3-af85-4844-811f-42e75ff3f132",
       "rows": [
        [
         "0",
         "1",
         "50",
         "LDL",
         "0.4",
         "6.74",
         "0.2",
         "0.02",
         "1.09",
         "3.79",
         "2.27",
         "2.38",
         "7.95",
         "25.8",
         "2.46",
         "2.49",
         "2.9",
         "36.97",
         "0.97",
         "0.92",
         "0.1",
         "0.33",
         "0.27",
         "1.21",
         "0.41",
         "0.33",
         "100.0",
         "73.0",
         "3.57",
         "4.09",
         "68.91",
         "3.57",
         "3.98",
         "28.18",
         "42.46",
         "1.95",
         "0.02",
         "1.67",
         "13.02"
        ],
        [
         "1",
         "3",
         "52",
         "LDL",
         "0.46",
         "7.37",
         "0.39",
         "0.02",
         "1.06",
         "4.55",
         "2.71",
         "3.23",
         "7.23",
         "27.2",
         "2.11",
         "2.24",
         "3.4",
         "33.94",
         "0.97",
         "0.89",
         "0.08",
         "0.26",
         "0.32",
         "0.97",
         "0.27",
         "0.32",
         "99.99",
         "73.38",
         "3.11",
         "5.16",
         "68.22",
         "3.11",
         "4.64",
         "30.43",
         "39.86",
         "1.56",
         "0.02",
         "1.69",
         "14.16"
        ],
        [
         "2",
         "4",
         "53",
         "LDL",
         "0.3",
         "8.23",
         "0.26",
         "0.02",
         "0.88",
         "3.66",
         "2.32",
         "2.49",
         "7.39",
         "26.88",
         "2.26",
         "2.0",
         "2.63",
         "35.01",
         "1.19",
         "1.36",
         "0.1",
         "0.5",
         "0.34",
         "1.47",
         "0.47",
         "0.26",
         "100.02",
         "71.98",
         "4.5",
         "3.95",
         "68.03",
         "4.5",
         "3.78",
         "29.37",
         "41.13",
         "2.2",
         "0.02",
         "1.89",
         "13.89"
        ],
        [
         "3",
         "5",
         "54",
         "LDL",
         "0.47",
         "7.94",
         "0.29",
         "0.02",
         "1.11",
         "3.97",
         "2.55",
         "2.74",
         "7.9",
         "25.8",
         "2.27",
         "2.34",
         "3.84",
         "33.68",
         "1.04",
         "1.34",
         "0.08",
         "0.26",
         "0.4",
         "1.15",
         "0.29",
         "0.51",
         "99.99",
         "71.54",
         "4.03",
         "4.63",
         "66.91",
         "4.03",
         "4.44",
         "28.54",
         "40.64",
         "1.95",
         "0.02",
         "2.03",
         "14.25"
        ],
        [
         "4",
         "6",
         "55",
         "LDL",
         "0.31",
         "9.68",
         "0.18",
         "0.02",
         "0.97",
         "4.5",
         "2.24",
         "2.57",
         "7.9",
         "24.14",
         "2.7",
         "1.88",
         "4.28",
         "32.01",
         "1.34",
         "1.79",
         "0.13",
         "0.31",
         "0.53",
         "1.45",
         "0.36",
         "0.7",
         "99.99",
         "68.06",
         "5.27",
         "4.05",
         "64.01",
         "5.27",
         "3.72",
         "26.71",
         "40.39",
         "2.51",
         "0.02",
         "2.7",
         "16.06"
        ]
       ],
       "shape": {
        "columns": 38,
        "rows": 5
       }
      },
      "text/html": [
       "<div>\n",
       "<style scoped>\n",
       "    .dataframe tbody tr th:only-of-type {\n",
       "        vertical-align: middle;\n",
       "    }\n",
       "\n",
       "    .dataframe tbody tr th {\n",
       "        vertical-align: top;\n",
       "    }\n",
       "\n",
       "    .dataframe thead th {\n",
       "        text-align: right;\n",
       "    }\n",
       "</style>\n",
       "<table border=\"1\" class=\"dataframe\">\n",
       "  <thead>\n",
       "    <tr style=\"text-align: right;\">\n",
       "      <th></th>\n",
       "      <th>Vial.number</th>\n",
       "      <th>Patient.number</th>\n",
       "      <th>Name</th>\n",
       "      <th>GPLDL1</th>\n",
       "      <th>GPLDL2</th>\n",
       "      <th>GPLDL3</th>\n",
       "      <th>GPLDL4</th>\n",
       "      <th>GPLDL5</th>\n",
       "      <th>GPLDL6</th>\n",
       "      <th>GPLDL7</th>\n",
       "      <th>...</th>\n",
       "      <th>G1</th>\n",
       "      <th>G2</th>\n",
       "      <th>G3</th>\n",
       "      <th>S0</th>\n",
       "      <th>S1</th>\n",
       "      <th>S2</th>\n",
       "      <th>S3</th>\n",
       "      <th>B</th>\n",
       "      <th>F</th>\n",
       "      <th>HM</th>\n",
       "    </tr>\n",
       "  </thead>\n",
       "  <tbody>\n",
       "    <tr>\n",
       "      <th>0</th>\n",
       "      <td>1</td>\n",
       "      <td>50</td>\n",
       "      <td>LDL</td>\n",
       "      <td>0.40</td>\n",
       "      <td>6.74</td>\n",
       "      <td>0.20</td>\n",
       "      <td>0.02</td>\n",
       "      <td>1.09</td>\n",
       "      <td>3.79</td>\n",
       "      <td>2.27</td>\n",
       "      <td>...</td>\n",
       "      <td>4.09</td>\n",
       "      <td>68.91</td>\n",
       "      <td>3.57</td>\n",
       "      <td>3.98</td>\n",
       "      <td>28.18</td>\n",
       "      <td>42.46</td>\n",
       "      <td>1.95</td>\n",
       "      <td>0.02</td>\n",
       "      <td>1.67</td>\n",
       "      <td>13.02</td>\n",
       "    </tr>\n",
       "    <tr>\n",
       "      <th>1</th>\n",
       "      <td>3</td>\n",
       "      <td>52</td>\n",
       "      <td>LDL</td>\n",
       "      <td>0.46</td>\n",
       "      <td>7.37</td>\n",
       "      <td>0.39</td>\n",
       "      <td>0.02</td>\n",
       "      <td>1.06</td>\n",
       "      <td>4.55</td>\n",
       "      <td>2.71</td>\n",
       "      <td>...</td>\n",
       "      <td>5.16</td>\n",
       "      <td>68.22</td>\n",
       "      <td>3.11</td>\n",
       "      <td>4.64</td>\n",
       "      <td>30.43</td>\n",
       "      <td>39.86</td>\n",
       "      <td>1.56</td>\n",
       "      <td>0.02</td>\n",
       "      <td>1.69</td>\n",
       "      <td>14.16</td>\n",
       "    </tr>\n",
       "    <tr>\n",
       "      <th>2</th>\n",
       "      <td>4</td>\n",
       "      <td>53</td>\n",
       "      <td>LDL</td>\n",
       "      <td>0.30</td>\n",
       "      <td>8.23</td>\n",
       "      <td>0.26</td>\n",
       "      <td>0.02</td>\n",
       "      <td>0.88</td>\n",
       "      <td>3.66</td>\n",
       "      <td>2.32</td>\n",
       "      <td>...</td>\n",
       "      <td>3.95</td>\n",
       "      <td>68.03</td>\n",
       "      <td>4.50</td>\n",
       "      <td>3.78</td>\n",
       "      <td>29.37</td>\n",
       "      <td>41.13</td>\n",
       "      <td>2.20</td>\n",
       "      <td>0.02</td>\n",
       "      <td>1.89</td>\n",
       "      <td>13.89</td>\n",
       "    </tr>\n",
       "    <tr>\n",
       "      <th>3</th>\n",
       "      <td>5</td>\n",
       "      <td>54</td>\n",
       "      <td>LDL</td>\n",
       "      <td>0.47</td>\n",
       "      <td>7.94</td>\n",
       "      <td>0.29</td>\n",
       "      <td>0.02</td>\n",
       "      <td>1.11</td>\n",
       "      <td>3.97</td>\n",
       "      <td>2.55</td>\n",
       "      <td>...</td>\n",
       "      <td>4.63</td>\n",
       "      <td>66.91</td>\n",
       "      <td>4.03</td>\n",
       "      <td>4.44</td>\n",
       "      <td>28.54</td>\n",
       "      <td>40.64</td>\n",
       "      <td>1.95</td>\n",
       "      <td>0.02</td>\n",
       "      <td>2.03</td>\n",
       "      <td>14.25</td>\n",
       "    </tr>\n",
       "    <tr>\n",
       "      <th>4</th>\n",
       "      <td>6</td>\n",
       "      <td>55</td>\n",
       "      <td>LDL</td>\n",
       "      <td>0.31</td>\n",
       "      <td>9.68</td>\n",
       "      <td>0.18</td>\n",
       "      <td>0.02</td>\n",
       "      <td>0.97</td>\n",
       "      <td>4.50</td>\n",
       "      <td>2.24</td>\n",
       "      <td>...</td>\n",
       "      <td>4.05</td>\n",
       "      <td>64.01</td>\n",
       "      <td>5.27</td>\n",
       "      <td>3.72</td>\n",
       "      <td>26.71</td>\n",
       "      <td>40.39</td>\n",
       "      <td>2.51</td>\n",
       "      <td>0.02</td>\n",
       "      <td>2.70</td>\n",
       "      <td>16.06</td>\n",
       "    </tr>\n",
       "  </tbody>\n",
       "</table>\n",
       "<p>5 rows × 38 columns</p>\n",
       "</div>"
      ],
      "text/plain": [
       "   Vial.number  Patient.number Name  GPLDL1  GPLDL2  GPLDL3  GPLDL4  GPLDL5  \\\n",
       "0            1              50  LDL    0.40    6.74    0.20    0.02    1.09   \n",
       "1            3              52  LDL    0.46    7.37    0.39    0.02    1.06   \n",
       "2            4              53  LDL    0.30    8.23    0.26    0.02    0.88   \n",
       "3            5              54  LDL    0.47    7.94    0.29    0.02    1.11   \n",
       "4            6              55  LDL    0.31    9.68    0.18    0.02    0.97   \n",
       "\n",
       "   GPLDL6  GPLDL7  ...    G1     G2    G3    S0     S1     S2    S3     B  \\\n",
       "0    3.79    2.27  ...  4.09  68.91  3.57  3.98  28.18  42.46  1.95  0.02   \n",
       "1    4.55    2.71  ...  5.16  68.22  3.11  4.64  30.43  39.86  1.56  0.02   \n",
       "2    3.66    2.32  ...  3.95  68.03  4.50  3.78  29.37  41.13  2.20  0.02   \n",
       "3    3.97    2.55  ...  4.63  66.91  4.03  4.44  28.54  40.64  1.95  0.02   \n",
       "4    4.50    2.24  ...  4.05  64.01  5.27  3.72  26.71  40.39  2.51  0.02   \n",
       "\n",
       "      F     HM  \n",
       "0  1.67  13.02  \n",
       "1  1.69  14.16  \n",
       "2  1.89  13.89  \n",
       "3  2.03  14.25  \n",
       "4  2.70  16.06  \n",
       "\n",
       "[5 rows x 38 columns]"
      ]
     },
     "execution_count": 85,
     "metadata": {},
     "output_type": "execute_result"
    }
   ],
   "source": [
    "data_low_density_lipids.head()"
   ]
  },
  {
   "cell_type": "code",
   "execution_count": 86,
   "id": "e1372a78",
   "metadata": {},
   "outputs": [
    {
     "data": {
      "text/plain": [
       "Index(['Vialnumber', 'Patientnumber', 'Sucrose', 'Name', 'Group', 'Date',\n",
       "       'Age', 'Plasmavolume', 'Ht', 'Wt', 'BMI', 'Sys', 'Dia', 'PR', 'Sm',\n",
       "       'Dm', 'HT', 'LVH', 'IHD', 'MI', 'Str', 'A_C', 'A_H', 'A_D', 'Choi',\n",
       "       'Tgi', 'HDLi', 'LDLi', 'Choi_exp', 'Tgi_exp', 'HDLi_exp', 'LDLi_exp',\n",
       "       'AI', 'rlatmin', 'rantmin', 'rposmin', 'llatmin', 'lantmin', 'lposmin',\n",
       "       'rlatmax', 'rantmax', 'rposmax', 'llatmax', 'lantmax', 'lposmax',\n",
       "       'carotidIMTmean', 'Plaque', 'Statins', 'comorbidities'],\n",
       "      dtype='object')"
      ]
     },
     "execution_count": 86,
     "metadata": {},
     "output_type": "execute_result"
    }
   ],
   "source": [
    "data_metadata.columns"
   ]
  },
  {
   "cell_type": "code",
   "execution_count": 87,
   "id": "2e336946",
   "metadata": {},
   "outputs": [
    {
     "data": {
      "application/vnd.microsoft.datawrangler.viewer.v0+json": {
       "columns": [
        {
         "name": "Patientnumber",
         "rawType": "int64",
         "type": "integer"
        },
        {
         "name": "count",
         "rawType": "int64",
         "type": "integer"
        }
       ],
       "ref": "2dbbfd14-3680-492a-9f72-e94566a2d87e",
       "rows": [
        [
         "38",
         "2"
        ],
        [
         "37",
         "2"
        ],
        [
         "40",
         "2"
        ],
        [
         "39",
         "2"
        ],
        [
         "43",
         "2"
        ],
        [
         "42",
         "2"
        ],
        [
         "50",
         "1"
        ],
        [
         "51",
         "1"
        ],
        [
         "57",
         "1"
        ],
        [
         "56",
         "1"
        ],
        [
         "58",
         "1"
        ],
        [
         "59",
         "1"
        ],
        [
         "54",
         "1"
        ],
        [
         "55",
         "1"
        ],
        [
         "52",
         "1"
        ],
        [
         "53",
         "1"
        ],
        [
         "62",
         "1"
        ],
        [
         "63",
         "1"
        ],
        [
         "60",
         "1"
        ],
        [
         "61",
         "1"
        ],
        [
         "41",
         "1"
        ],
        [
         "30",
         "1"
        ],
        [
         "31",
         "1"
        ],
        [
         "32",
         "1"
        ],
        [
         "33",
         "1"
        ],
        [
         "34",
         "1"
        ],
        [
         "35",
         "1"
        ],
        [
         "36",
         "1"
        ],
        [
         "44",
         "1"
        ],
        [
         "25",
         "1"
        ],
        [
         "26",
         "1"
        ],
        [
         "27",
         "1"
        ]
       ],
       "shape": {
        "columns": 1,
        "rows": 32
       }
      },
      "text/plain": [
       "Patientnumber\n",
       "38    2\n",
       "37    2\n",
       "40    2\n",
       "39    2\n",
       "43    2\n",
       "42    2\n",
       "50    1\n",
       "51    1\n",
       "57    1\n",
       "56    1\n",
       "58    1\n",
       "59    1\n",
       "54    1\n",
       "55    1\n",
       "52    1\n",
       "53    1\n",
       "62    1\n",
       "63    1\n",
       "60    1\n",
       "61    1\n",
       "41    1\n",
       "30    1\n",
       "31    1\n",
       "32    1\n",
       "33    1\n",
       "34    1\n",
       "35    1\n",
       "36    1\n",
       "44    1\n",
       "25    1\n",
       "26    1\n",
       "27    1\n",
       "Name: count, dtype: int64"
      ]
     },
     "execution_count": 87,
     "metadata": {},
     "output_type": "execute_result"
    }
   ],
   "source": [
    "data_metadata['Patientnumber'].value_counts()"
   ]
  },
  {
   "cell_type": "code",
   "execution_count": 88,
   "id": "4e37b4e0",
   "metadata": {},
   "outputs": [
    {
     "data": {
      "text/plain": [
       "array([50, 51, 52, 53, 54, 55, 56, 57, 58, 59, 60, 61, 62, 63, 37, 38, 39,\n",
       "       40, 41, 42, 43, 30, 31, 32, 33, 34, 35, 36, 44, 25, 26, 27])"
      ]
     },
     "execution_count": 88,
     "metadata": {},
     "output_type": "execute_result"
    }
   ],
   "source": [
    "data_metadata['Patientnumber'].unique()"
   ]
  },
  {
   "cell_type": "code",
   "execution_count": 89,
   "id": "ea011abb",
   "metadata": {},
   "outputs": [
    {
     "data": {
      "text/plain": [
       "np.int64(38)"
      ]
     },
     "execution_count": 89,
     "metadata": {},
     "output_type": "execute_result"
    }
   ],
   "source": [
    "data_metadata['Patientnumber'].count()"
   ]
  },
  {
   "cell_type": "code",
   "execution_count": 90,
   "id": "eeba4c34",
   "metadata": {},
   "outputs": [
    {
     "data": {
      "text/plain": [
       "array(['Begaye, Decarlo', 'Sweetwater, Kristen', 'Figurelli, Samuel',\n",
       "       'Pamphille, Mehgan', 'Morgan, Rollin', 'Abdul-Amin, Taelor',\n",
       "       \"el-Reza, Mu'mina\", 'Callahan, Govanni', 'Parker, Zhjade',\n",
       "       'Ficklin, Madyson', 'Headlee, Kristopher', 'Araujo, Nicole',\n",
       "       'Pelayo, Katelyn', 'Running-Rabbit, Scheridan', 'Vigil, Rene',\n",
       "       'Mascarenas, Anthony', 'el-Kamal, Shaamil', 'Drager, Rachel',\n",
       "       'el-Rasul, Faaid', 'Martinez, Nova', 'Aguilar, Dominique',\n",
       "       'Rastle, Kathy', 'Craddock, Kadijah', 'Ng, Christian',\n",
       "       'Padilla, Joshua', 'Truong, Minh', 'Blackmer, David',\n",
       "       'Garcia, Alexa', 'Gurung, Gavriel', 'Olson, Sheldon',\n",
       "       'Potter, Taylor', 'Thompson, Ben', 'Turnage, Tonaira',\n",
       "       'Kim, Mathew', 'Lynn, Amber', 'Rizzolo, Tanner', 'Gonzalez, Joy',\n",
       "       'Smith, Bayleigh'], dtype=object)"
      ]
     },
     "execution_count": 90,
     "metadata": {},
     "output_type": "execute_result"
    }
   ],
   "source": [
    "data_metadata['Name'].unique()"
   ]
  },
  {
   "cell_type": "code",
   "execution_count": 91,
   "id": "7dc0024f",
   "metadata": {},
   "outputs": [
    {
     "data": {
      "text/plain": [
       "array([0, 1])"
      ]
     },
     "execution_count": 91,
     "metadata": {},
     "output_type": "execute_result"
    }
   ],
   "source": [
    "data_metadata['Group'].unique()"
   ]
  },
  {
   "cell_type": "markdown",
   "id": "c3fe034d",
   "metadata": {},
   "source": [
    "# Пациенты разбиты на две группы (0,1).\n",
    "# персональные данные 'Name','Age'\n",
    "# Date дата забора\n",
    "# Vialnumber идентификатор образца\n",
    "# Patientnumber идентификатор пациента\n",
    "# Sucrose сахароза (0,1)\n",
    "# 'Ht', 'Wt', 'BMI', 'Sys', 'Dia', 'PR', 'Sm', 'Dm', 'HT', 'LVH', 'IHD', 'MI', 'Str', 'A_C', 'A_H', 'A_D', 'Choi', 'Tgi', 'HDLi', 'LDLi', 'Choi_exp', 'Tgi_exp', 'HDLi_exp', 'LDLi_exp','AI','rlatmin', 'rantmin', 'rposmin', 'llatmin', 'lantmin', 'lposmin','rlatmax', 'rantmax', 'rposmax', 'llatmax', 'lantmax', 'lposmax', 'carotidIMTmean', 'Plaque' - показатели анализов, данных узи, антропоментрические данные\n",
    "# Statins статины\n",
    "# comorbidities коморбидная патология"
   ]
  },
  {
   "cell_type": "code",
   "execution_count": 92,
   "id": "6212b62d",
   "metadata": {},
   "outputs": [
    {
     "data": {
      "text/plain": [
       "Index(['Vial.number', 'Patient.number', 'Name', 'GPHDL1', 'GPHDL2', 'GPHDL3',\n",
       "       'GPHDL4', 'GPHDL5', 'GPHDL6', 'GPHDL7', 'GPHDL8', 'GPHDL9', 'GPHDL10',\n",
       "       'GPHDL11', 'GPHDL12', 'GPHDL13', 'GPHDL14', 'GPHDL15', 'GPHDL16',\n",
       "       'GPHDL17', 'GPHDL18', 'GPHDL19', 'GPHDL20', 'GPHDL21', 'GPHDL22',\n",
       "       'sum_auc', 'LB', 'HB', 'G1', 'G2', 'G3', 'S0', 'S1', 'S2', 'S3', 'B',\n",
       "       'F', 'HM'],\n",
       "      dtype='object')"
      ]
     },
     "execution_count": 92,
     "metadata": {},
     "output_type": "execute_result"
    }
   ],
   "source": [
    "data_high_density_lipids.columns"
   ]
  },
  {
   "cell_type": "code",
   "execution_count": 93,
   "id": "23c7da2b",
   "metadata": {},
   "outputs": [
    {
     "data": {
      "text/plain": [
       "Index(['Vial.number', 'Patient.number', 'Name', 'GPLDL1', 'GPLDL2', 'GPLDL3',\n",
       "       'GPLDL4', 'GPLDL5', 'GPLDL6', 'GPLDL7', 'GPLDL8', 'GPLDL9', 'GPLDL10',\n",
       "       'GPLDL11', 'GPLDL12', 'GPLDL13', 'GPLDL14', 'GPLDL15', 'GPLDL16',\n",
       "       'GPLDL17', 'GPLDL18', 'GPLDL19', 'GPLDL20', 'GPLDL21', 'GPLDL22',\n",
       "       'sum_auc', 'LB', 'HB', 'G1', 'G2', 'G3', 'S0', 'S1', 'S2', 'S3', 'B',\n",
       "       'F', 'HM'],\n",
       "      dtype='object')"
      ]
     },
     "execution_count": 93,
     "metadata": {},
     "output_type": "execute_result"
    }
   ],
   "source": [
    "data_low_density_lipids.columns"
   ]
  },
  {
   "cell_type": "code",
   "execution_count": 94,
   "id": "d2d35a2e",
   "metadata": {},
   "outputs": [
    {
     "data": {
      "text/plain": [
       "array(['HDL'], dtype=object)"
      ]
     },
     "execution_count": 94,
     "metadata": {},
     "output_type": "execute_result"
    }
   ],
   "source": [
    "data_high_density_lipids['Name'].unique()"
   ]
  },
  {
   "cell_type": "code",
   "execution_count": 95,
   "id": "d3e15353",
   "metadata": {},
   "outputs": [
    {
     "data": {
      "text/plain": [
       "array(['LDL'], dtype=object)"
      ]
     },
     "execution_count": 95,
     "metadata": {},
     "output_type": "execute_result"
    }
   ],
   "source": [
    "data_low_density_lipids['Name'].unique()"
   ]
  },
  {
   "cell_type": "markdown",
   "id": "bb515e97",
   "metadata": {},
   "source": [
    "# в колонке Name два значения HDL и LDL - способ анонимизировать данные, альтернативный вариант хэш функция"
   ]
  },
  {
   "cell_type": "markdown",
   "id": "75a4b186",
   "metadata": {},
   "source": [
    "# GPLDL1', 'GPLDL2', 'GPLDL3', 'GPLDL4', 'GPLDL5', 'GPLDL6', 'GPLDL7', 'GPLDL8', 'GPLDL9', 'GPLDL10', 'GPLDL11', 'GPLDL12', 'GPLDL13', 'GPLDL14', 'GPLDL15', 'GPLDL16', 'GPLDL17', 'GPLDL18', 'GPLDL19', 'GPLDL20', 'GPLDL21', 'GPLDL22', 'sum_auc', 'LB', 'HB', 'G1', 'G2', 'G3', 'S0', 'S1', 'S2', 'S3', 'B','F', 'HM' - маркеры"
   ]
  },
  {
   "cell_type": "markdown",
   "id": "1ee6e347",
   "metadata": {},
   "source": [
    "# вероятно это обсервационное исследование\n",
    "# две группы high_density_lipids и low_density_lipids\n"
   ]
  },
  {
   "cell_type": "markdown",
   "id": "5790a0d7",
   "metadata": {},
   "source": [
    "# Age возраст int \n",
    "# BMI индекс массы теда int\n",
    "# Statins статины bool\n",
    "# 'Sm', 'Dm', 'HT', 'LVH', 'IHD', 'MI', 'Str', 'A_C', 'A_H', 'A_D' - bool"
   ]
  },
  {
   "cell_type": "code",
   "execution_count": 96,
   "id": "4db6f841",
   "metadata": {},
   "outputs": [
    {
     "data": {
      "application/vnd.microsoft.datawrangler.viewer.v0+json": {
       "columns": [
        {
         "name": "index",
         "rawType": "int64",
         "type": "integer"
        },
        {
         "name": "Vialnumber",
         "rawType": "int64",
         "type": "integer"
        },
        {
         "name": "Patientnumber",
         "rawType": "int64",
         "type": "integer"
        },
        {
         "name": "Sucrose",
         "rawType": "int64",
         "type": "integer"
        },
        {
         "name": "Name",
         "rawType": "object",
         "type": "string"
        },
        {
         "name": "Group",
         "rawType": "int64",
         "type": "integer"
        },
        {
         "name": "Date",
         "rawType": "object",
         "type": "string"
        },
        {
         "name": "Age",
         "rawType": "int64",
         "type": "integer"
        },
        {
         "name": "Plasmavolume",
         "rawType": "float64",
         "type": "float"
        },
        {
         "name": "Ht",
         "rawType": "int64",
         "type": "integer"
        },
        {
         "name": "Wt",
         "rawType": "float64",
         "type": "float"
        },
        {
         "name": "BMI",
         "rawType": "float64",
         "type": "float"
        },
        {
         "name": "Sys",
         "rawType": "int64",
         "type": "integer"
        },
        {
         "name": "Dia",
         "rawType": "int64",
         "type": "integer"
        },
        {
         "name": "PR",
         "rawType": "int64",
         "type": "integer"
        },
        {
         "name": "Sm",
         "rawType": "int64",
         "type": "integer"
        },
        {
         "name": "Dm",
         "rawType": "int64",
         "type": "integer"
        },
        {
         "name": "HT",
         "rawType": "int64",
         "type": "integer"
        },
        {
         "name": "LVH",
         "rawType": "int64",
         "type": "integer"
        },
        {
         "name": "IHD",
         "rawType": "int64",
         "type": "integer"
        },
        {
         "name": "MI",
         "rawType": "int64",
         "type": "integer"
        },
        {
         "name": "Str",
         "rawType": "int64",
         "type": "integer"
        },
        {
         "name": "A_C",
         "rawType": "int64",
         "type": "integer"
        },
        {
         "name": "A_H",
         "rawType": "int64",
         "type": "integer"
        },
        {
         "name": "A_D",
         "rawType": "int64",
         "type": "integer"
        },
        {
         "name": "Choi",
         "rawType": "int64",
         "type": "integer"
        },
        {
         "name": "Tgi",
         "rawType": "int64",
         "type": "integer"
        },
        {
         "name": "HDLi",
         "rawType": "float64",
         "type": "float"
        },
        {
         "name": "LDLi",
         "rawType": "float64",
         "type": "float"
        },
        {
         "name": "Choi_exp",
         "rawType": "float64",
         "type": "float"
        },
        {
         "name": "Tgi_exp",
         "rawType": "float64",
         "type": "float"
        },
        {
         "name": "HDLi_exp",
         "rawType": "float64",
         "type": "float"
        },
        {
         "name": "LDLi_exp",
         "rawType": "float64",
         "type": "float"
        },
        {
         "name": "AI",
         "rawType": "float64",
         "type": "float"
        },
        {
         "name": "rlatmin",
         "rawType": "float64",
         "type": "float"
        },
        {
         "name": "rantmin",
         "rawType": "float64",
         "type": "float"
        },
        {
         "name": "rposmin",
         "rawType": "float64",
         "type": "float"
        },
        {
         "name": "llatmin",
         "rawType": "float64",
         "type": "float"
        },
        {
         "name": "lantmin",
         "rawType": "float64",
         "type": "float"
        },
        {
         "name": "lposmin",
         "rawType": "float64",
         "type": "float"
        },
        {
         "name": "rlatmax",
         "rawType": "float64",
         "type": "float"
        },
        {
         "name": "rantmax",
         "rawType": "float64",
         "type": "float"
        },
        {
         "name": "rposmax",
         "rawType": "float64",
         "type": "float"
        },
        {
         "name": "llatmax",
         "rawType": "float64",
         "type": "float"
        },
        {
         "name": "lantmax",
         "rawType": "float64",
         "type": "float"
        },
        {
         "name": "lposmax",
         "rawType": "float64",
         "type": "float"
        },
        {
         "name": "carotidIMTmean",
         "rawType": "float64",
         "type": "float"
        },
        {
         "name": "Plaque",
         "rawType": "int64",
         "type": "integer"
        },
        {
         "name": "Statins",
         "rawType": "float64",
         "type": "float"
        },
        {
         "name": "comorbidities",
         "rawType": "object",
         "type": "unknown"
        }
       ],
       "ref": "773ec739-e9fb-4a41-aefd-8273ea4c3494",
       "rows": [
        [
         "0",
         "1",
         "50",
         "0",
         "Begaye, Decarlo",
         "0",
         "2023-01-14",
         "63",
         "6.5",
         "163",
         "84.0",
         "31.615792841281195",
         "125",
         "76",
         "67",
         "0",
         "0",
         "0",
         "1",
         "0",
         "0",
         "0",
         "1",
         "1",
         "0",
         "215",
         "219",
         "65.3",
         "106.0",
         "5.584415584415584",
         "2.4065934065934065",
         "1.696103896103896",
         "2.7532467532467533",
         "1.6232771822358347",
         "0.5",
         "0.55",
         "0.5",
         "0.5",
         "0.52",
         "0.5",
         "0.65",
         "0.8",
         "0.8",
         "0.81",
         "0.78",
         "0.8",
         "0.6425",
         "1",
         "1.0",
         null
        ],
        [
         "1",
         "2",
         "51",
         "0",
         "Sweetwater, Kristen",
         "0",
         "2022-10-09",
         "47",
         "5.5",
         "179",
         "111.0",
         "34.64311351081427",
         "125",
         "82",
         "65",
         "0",
         "0",
         "1",
         "1",
         "0",
         "0",
         "0",
         "0",
         "1",
         "0",
         "271",
         "147",
         "52.1",
         "189.5",
         "7.038961038961039",
         "1.6153846153846154",
         "1.3532467532467534",
         "4.922077922077922",
         "3.637236084452975",
         "0.63",
         "0.63",
         "0.63",
         "0.63",
         "0.63",
         "0.8",
         "1.03",
         "0.92",
         "1.03",
         "1.03",
         "1.03",
         "1.09",
         "0.84",
         "1",
         "0.0",
         null
        ],
        [
         "2",
         "3",
         "52",
         "0",
         "Figurelli, Samuel",
         "1",
         "2023-10-24",
         "57",
         "7.0",
         "164",
         "80.0",
         "29.7441998810232",
         "132",
         "80",
         "92",
         "0",
         "1",
         "1",
         "1",
         "1",
         "1",
         "0",
         "1",
         "1",
         "0",
         "206",
         "146",
         "38.6",
         "138.0",
         "5.35064935064935",
         "1.6043956043956045",
         "1.0025974025974027",
         "3.5844155844155843",
         "3.575129533678756",
         "0.8",
         "0.8",
         "0.8",
         "0.8",
         "0.8",
         "0.7",
         "1.0",
         "0.9",
         "0.95",
         "0.85",
         "0.9",
         "0.9",
         "0.8500000000000001",
         "3",
         "1.0",
         "Type 2 diabetes mellitus; MI - 2016"
        ],
        [
         "3",
         "4",
         "53",
         "0",
         "Pamphille, Mehgan",
         "1",
         "2023-07-02",
         "72",
         "5.0",
         "160",
         "58.8",
         "22.96875",
         "130",
         "90",
         "68",
         "0",
         "0",
         "0",
         "0",
         "0",
         "0",
         "0",
         "0",
         "0",
         "0",
         "266",
         "132",
         "51.9",
         "188.0",
         "6.909090909090909",
         "1.4505494505494505",
         "1.348051948051948",
         "4.883116883116883",
         "3.622350674373796",
         "0.74",
         "0.86",
         "0.86",
         "0.8",
         "0.63",
         "0.74",
         "0.91",
         "0.97",
         "0.98",
         "0.86",
         "0.74",
         "0.8",
         "0.8241666666666667",
         "2",
         "0.0",
         "1-2 times per year hypertensive crises (Corinfar)"
        ],
        [
         "4",
         "5",
         "54",
         "0",
         "Morgan, Rollin",
         "1",
         "2022-11-27",
         "57",
         "5.0",
         "180",
         "71.0",
         "21.91358024691358",
         "135",
         "75",
         "70",
         "0",
         "0",
         "1",
         "0",
         "1",
         "0",
         "0",
         "1",
         "1",
         "0",
         "194",
         "101",
         "76.8",
         "97.0",
         "5.038961038961039",
         "1.10989010989011",
         "1.9948051948051948",
         "2.51948051948052",
         "1.2630208333333337",
         "1.0",
         "1.0",
         "1.1",
         "0.9",
         "1.0",
         "1.0",
         "1.2",
         "1.2",
         "1.25",
         "1.1",
         "1.3",
         "1.13",
         "1.0983333333333334",
         "1",
         "1.0",
         null
        ]
       ],
       "shape": {
        "columns": 49,
        "rows": 5
       }
      },
      "text/html": [
       "<div>\n",
       "<style scoped>\n",
       "    .dataframe tbody tr th:only-of-type {\n",
       "        vertical-align: middle;\n",
       "    }\n",
       "\n",
       "    .dataframe tbody tr th {\n",
       "        vertical-align: top;\n",
       "    }\n",
       "\n",
       "    .dataframe thead th {\n",
       "        text-align: right;\n",
       "    }\n",
       "</style>\n",
       "<table border=\"1\" class=\"dataframe\">\n",
       "  <thead>\n",
       "    <tr style=\"text-align: right;\">\n",
       "      <th></th>\n",
       "      <th>Vialnumber</th>\n",
       "      <th>Patientnumber</th>\n",
       "      <th>Sucrose</th>\n",
       "      <th>Name</th>\n",
       "      <th>Group</th>\n",
       "      <th>Date</th>\n",
       "      <th>Age</th>\n",
       "      <th>Plasmavolume</th>\n",
       "      <th>Ht</th>\n",
       "      <th>Wt</th>\n",
       "      <th>...</th>\n",
       "      <th>rlatmax</th>\n",
       "      <th>rantmax</th>\n",
       "      <th>rposmax</th>\n",
       "      <th>llatmax</th>\n",
       "      <th>lantmax</th>\n",
       "      <th>lposmax</th>\n",
       "      <th>carotidIMTmean</th>\n",
       "      <th>Plaque</th>\n",
       "      <th>Statins</th>\n",
       "      <th>comorbidities</th>\n",
       "    </tr>\n",
       "  </thead>\n",
       "  <tbody>\n",
       "    <tr>\n",
       "      <th>0</th>\n",
       "      <td>1</td>\n",
       "      <td>50</td>\n",
       "      <td>0</td>\n",
       "      <td>Begaye, Decarlo</td>\n",
       "      <td>0</td>\n",
       "      <td>2023-01-14</td>\n",
       "      <td>63</td>\n",
       "      <td>6.5</td>\n",
       "      <td>163</td>\n",
       "      <td>84.0</td>\n",
       "      <td>...</td>\n",
       "      <td>0.65</td>\n",
       "      <td>0.80</td>\n",
       "      <td>0.80</td>\n",
       "      <td>0.81</td>\n",
       "      <td>0.78</td>\n",
       "      <td>0.80</td>\n",
       "      <td>0.642500</td>\n",
       "      <td>1</td>\n",
       "      <td>1.0</td>\n",
       "      <td>NaN</td>\n",
       "    </tr>\n",
       "    <tr>\n",
       "      <th>1</th>\n",
       "      <td>2</td>\n",
       "      <td>51</td>\n",
       "      <td>0</td>\n",
       "      <td>Sweetwater, Kristen</td>\n",
       "      <td>0</td>\n",
       "      <td>2022-10-09</td>\n",
       "      <td>47</td>\n",
       "      <td>5.5</td>\n",
       "      <td>179</td>\n",
       "      <td>111.0</td>\n",
       "      <td>...</td>\n",
       "      <td>1.03</td>\n",
       "      <td>0.92</td>\n",
       "      <td>1.03</td>\n",
       "      <td>1.03</td>\n",
       "      <td>1.03</td>\n",
       "      <td>1.09</td>\n",
       "      <td>0.840000</td>\n",
       "      <td>1</td>\n",
       "      <td>0.0</td>\n",
       "      <td>NaN</td>\n",
       "    </tr>\n",
       "    <tr>\n",
       "      <th>2</th>\n",
       "      <td>3</td>\n",
       "      <td>52</td>\n",
       "      <td>0</td>\n",
       "      <td>Figurelli, Samuel</td>\n",
       "      <td>1</td>\n",
       "      <td>2023-10-24</td>\n",
       "      <td>57</td>\n",
       "      <td>7.0</td>\n",
       "      <td>164</td>\n",
       "      <td>80.0</td>\n",
       "      <td>...</td>\n",
       "      <td>1.00</td>\n",
       "      <td>0.90</td>\n",
       "      <td>0.95</td>\n",
       "      <td>0.85</td>\n",
       "      <td>0.90</td>\n",
       "      <td>0.90</td>\n",
       "      <td>0.850000</td>\n",
       "      <td>3</td>\n",
       "      <td>1.0</td>\n",
       "      <td>Type 2 diabetes mellitus; MI - 2016</td>\n",
       "    </tr>\n",
       "    <tr>\n",
       "      <th>3</th>\n",
       "      <td>4</td>\n",
       "      <td>53</td>\n",
       "      <td>0</td>\n",
       "      <td>Pamphille, Mehgan</td>\n",
       "      <td>1</td>\n",
       "      <td>2023-07-02</td>\n",
       "      <td>72</td>\n",
       "      <td>5.0</td>\n",
       "      <td>160</td>\n",
       "      <td>58.8</td>\n",
       "      <td>...</td>\n",
       "      <td>0.91</td>\n",
       "      <td>0.97</td>\n",
       "      <td>0.98</td>\n",
       "      <td>0.86</td>\n",
       "      <td>0.74</td>\n",
       "      <td>0.80</td>\n",
       "      <td>0.824167</td>\n",
       "      <td>2</td>\n",
       "      <td>0.0</td>\n",
       "      <td>1-2 times per year hypertensive crises (Corinfar)</td>\n",
       "    </tr>\n",
       "    <tr>\n",
       "      <th>4</th>\n",
       "      <td>5</td>\n",
       "      <td>54</td>\n",
       "      <td>0</td>\n",
       "      <td>Morgan, Rollin</td>\n",
       "      <td>1</td>\n",
       "      <td>2022-11-27</td>\n",
       "      <td>57</td>\n",
       "      <td>5.0</td>\n",
       "      <td>180</td>\n",
       "      <td>71.0</td>\n",
       "      <td>...</td>\n",
       "      <td>1.20</td>\n",
       "      <td>1.20</td>\n",
       "      <td>1.25</td>\n",
       "      <td>1.10</td>\n",
       "      <td>1.30</td>\n",
       "      <td>1.13</td>\n",
       "      <td>1.098333</td>\n",
       "      <td>1</td>\n",
       "      <td>1.0</td>\n",
       "      <td>NaN</td>\n",
       "    </tr>\n",
       "  </tbody>\n",
       "</table>\n",
       "<p>5 rows × 49 columns</p>\n",
       "</div>"
      ],
      "text/plain": [
       "   Vialnumber  Patientnumber  Sucrose                 Name  Group        Date  \\\n",
       "0           1             50        0      Begaye, Decarlo      0  2023-01-14   \n",
       "1           2             51        0  Sweetwater, Kristen      0  2022-10-09   \n",
       "2           3             52        0    Figurelli, Samuel      1  2023-10-24   \n",
       "3           4             53        0    Pamphille, Mehgan      1  2023-07-02   \n",
       "4           5             54        0       Morgan, Rollin      1  2022-11-27   \n",
       "\n",
       "   Age  Plasmavolume   Ht     Wt  ...  rlatmax  rantmax  rposmax  llatmax  \\\n",
       "0   63           6.5  163   84.0  ...     0.65     0.80     0.80     0.81   \n",
       "1   47           5.5  179  111.0  ...     1.03     0.92     1.03     1.03   \n",
       "2   57           7.0  164   80.0  ...     1.00     0.90     0.95     0.85   \n",
       "3   72           5.0  160   58.8  ...     0.91     0.97     0.98     0.86   \n",
       "4   57           5.0  180   71.0  ...     1.20     1.20     1.25     1.10   \n",
       "\n",
       "   lantmax  lposmax  carotidIMTmean  Plaque  Statins  \\\n",
       "0     0.78     0.80        0.642500       1      1.0   \n",
       "1     1.03     1.09        0.840000       1      0.0   \n",
       "2     0.90     0.90        0.850000       3      1.0   \n",
       "3     0.74     0.80        0.824167       2      0.0   \n",
       "4     1.30     1.13        1.098333       1      1.0   \n",
       "\n",
       "                                       comorbidities  \n",
       "0                                                NaN  \n",
       "1                                                NaN  \n",
       "2                Type 2 diabetes mellitus; MI - 2016  \n",
       "3  1-2 times per year hypertensive crises (Corinfar)  \n",
       "4                                                NaN  \n",
       "\n",
       "[5 rows x 49 columns]"
      ]
     },
     "execution_count": 96,
     "metadata": {},
     "output_type": "execute_result"
    }
   ],
   "source": [
    "data_metadata.head()"
   ]
  },
  {
   "cell_type": "markdown",
   "id": "3148e94b",
   "metadata": {},
   "source": [
    "# эмпирические гипоты\n",
    "* влияние приема статинов на уровень ЛПНП и ЛПВП\n",
    "* влияние уровня липопротеинов на риск развития сердечно-сосудистых заболеваний\n",
    "* влияние уровня липопротеинов на степень выраженности атеросклероза брахиоцефальных артерий"
   ]
  },
  {
   "cell_type": "markdown",
   "id": "574baa60",
   "metadata": {},
   "source": [
    "# 2"
   ]
  },
  {
   "cell_type": "markdown",
   "id": "9c356a65",
   "metadata": {},
   "source": [
    "# Гистограммы распределения значений переменных и вид распределения."
   ]
  },
  {
   "cell_type": "code",
   "execution_count": 110,
   "id": "d2ac0921",
   "metadata": {},
   "outputs": [
    {
     "data": {
      "application/vnd.microsoft.datawrangler.viewer.v0+json": {
       "columns": [
        {
         "name": "index",
         "rawType": "int64",
         "type": "integer"
        },
        {
         "name": "Vialnumber",
         "rawType": "int64",
         "type": "integer"
        },
        {
         "name": "Patientnumber",
         "rawType": "int64",
         "type": "integer"
        },
        {
         "name": "Sucrose",
         "rawType": "int64",
         "type": "integer"
        },
        {
         "name": "Name",
         "rawType": "object",
         "type": "string"
        },
        {
         "name": "Group",
         "rawType": "int64",
         "type": "integer"
        },
        {
         "name": "Date",
         "rawType": "object",
         "type": "string"
        },
        {
         "name": "Age",
         "rawType": "int64",
         "type": "integer"
        },
        {
         "name": "Plasmavolume",
         "rawType": "float64",
         "type": "float"
        },
        {
         "name": "Ht",
         "rawType": "int64",
         "type": "integer"
        },
        {
         "name": "Wt",
         "rawType": "float64",
         "type": "float"
        },
        {
         "name": "BMI",
         "rawType": "float64",
         "type": "float"
        },
        {
         "name": "Sys",
         "rawType": "int64",
         "type": "integer"
        },
        {
         "name": "Dia",
         "rawType": "int64",
         "type": "integer"
        },
        {
         "name": "PR",
         "rawType": "int64",
         "type": "integer"
        },
        {
         "name": "Sm",
         "rawType": "int64",
         "type": "integer"
        },
        {
         "name": "Dm",
         "rawType": "int64",
         "type": "integer"
        },
        {
         "name": "HT",
         "rawType": "int64",
         "type": "integer"
        },
        {
         "name": "LVH",
         "rawType": "int64",
         "type": "integer"
        },
        {
         "name": "IHD",
         "rawType": "int64",
         "type": "integer"
        },
        {
         "name": "MI",
         "rawType": "int64",
         "type": "integer"
        },
        {
         "name": "Str",
         "rawType": "int64",
         "type": "integer"
        },
        {
         "name": "A_C",
         "rawType": "int64",
         "type": "integer"
        },
        {
         "name": "A_H",
         "rawType": "int64",
         "type": "integer"
        },
        {
         "name": "A_D",
         "rawType": "int64",
         "type": "integer"
        },
        {
         "name": "Choi",
         "rawType": "int64",
         "type": "integer"
        },
        {
         "name": "Tgi",
         "rawType": "int64",
         "type": "integer"
        },
        {
         "name": "HDLi",
         "rawType": "float64",
         "type": "float"
        },
        {
         "name": "LDLi",
         "rawType": "float64",
         "type": "float"
        },
        {
         "name": "Choi_exp",
         "rawType": "float64",
         "type": "float"
        },
        {
         "name": "Tgi_exp",
         "rawType": "float64",
         "type": "float"
        },
        {
         "name": "HDLi_exp",
         "rawType": "float64",
         "type": "float"
        },
        {
         "name": "LDLi_exp",
         "rawType": "float64",
         "type": "float"
        },
        {
         "name": "AI",
         "rawType": "float64",
         "type": "float"
        },
        {
         "name": "rlatmin",
         "rawType": "float64",
         "type": "float"
        },
        {
         "name": "rantmin",
         "rawType": "float64",
         "type": "float"
        },
        {
         "name": "rposmin",
         "rawType": "float64",
         "type": "float"
        },
        {
         "name": "llatmin",
         "rawType": "float64",
         "type": "float"
        },
        {
         "name": "lantmin",
         "rawType": "float64",
         "type": "float"
        },
        {
         "name": "lposmin",
         "rawType": "float64",
         "type": "float"
        },
        {
         "name": "rlatmax",
         "rawType": "float64",
         "type": "float"
        },
        {
         "name": "rantmax",
         "rawType": "float64",
         "type": "float"
        },
        {
         "name": "rposmax",
         "rawType": "float64",
         "type": "float"
        },
        {
         "name": "llatmax",
         "rawType": "float64",
         "type": "float"
        },
        {
         "name": "lantmax",
         "rawType": "float64",
         "type": "float"
        },
        {
         "name": "lposmax",
         "rawType": "float64",
         "type": "float"
        },
        {
         "name": "carotidIMTmean",
         "rawType": "float64",
         "type": "float"
        },
        {
         "name": "Plaque",
         "rawType": "int64",
         "type": "integer"
        },
        {
         "name": "Statins",
         "rawType": "float64",
         "type": "float"
        },
        {
         "name": "comorbidities",
         "rawType": "object",
         "type": "unknown"
        }
       ],
       "ref": "f07925cb-cfd4-42b8-bd89-bbbb775f0db0",
       "rows": [
        [
         "0",
         "1",
         "50",
         "0",
         "Begaye, Decarlo",
         "0",
         "2023-01-14",
         "63",
         "6.5",
         "163",
         "84.0",
         "31.615792841281195",
         "125",
         "76",
         "67",
         "0",
         "0",
         "0",
         "1",
         "0",
         "0",
         "0",
         "1",
         "1",
         "0",
         "215",
         "219",
         "65.3",
         "106.0",
         "5.584415584415584",
         "2.4065934065934065",
         "1.696103896103896",
         "2.7532467532467533",
         "1.6232771822358347",
         "0.5",
         "0.55",
         "0.5",
         "0.5",
         "0.52",
         "0.5",
         "0.65",
         "0.8",
         "0.8",
         "0.81",
         "0.78",
         "0.8",
         "0.6425",
         "1",
         "1.0",
         null
        ],
        [
         "1",
         "2",
         "51",
         "0",
         "Sweetwater, Kristen",
         "0",
         "2022-10-09",
         "47",
         "5.5",
         "179",
         "111.0",
         "34.64311351081427",
         "125",
         "82",
         "65",
         "0",
         "0",
         "1",
         "1",
         "0",
         "0",
         "0",
         "0",
         "1",
         "0",
         "271",
         "147",
         "52.1",
         "189.5",
         "7.038961038961039",
         "1.6153846153846154",
         "1.3532467532467534",
         "4.922077922077922",
         "3.637236084452975",
         "0.63",
         "0.63",
         "0.63",
         "0.63",
         "0.63",
         "0.8",
         "1.03",
         "0.92",
         "1.03",
         "1.03",
         "1.03",
         "1.09",
         "0.84",
         "1",
         "0.0",
         null
        ],
        [
         "2",
         "3",
         "52",
         "0",
         "Figurelli, Samuel",
         "1",
         "2023-10-24",
         "57",
         "7.0",
         "164",
         "80.0",
         "29.7441998810232",
         "132",
         "80",
         "92",
         "0",
         "1",
         "1",
         "1",
         "1",
         "1",
         "0",
         "1",
         "1",
         "0",
         "206",
         "146",
         "38.6",
         "138.0",
         "5.35064935064935",
         "1.6043956043956045",
         "1.0025974025974027",
         "3.5844155844155843",
         "3.575129533678756",
         "0.8",
         "0.8",
         "0.8",
         "0.8",
         "0.8",
         "0.7",
         "1.0",
         "0.9",
         "0.95",
         "0.85",
         "0.9",
         "0.9",
         "0.8500000000000001",
         "3",
         "1.0",
         "Type 2 diabetes mellitus; MI - 2016"
        ],
        [
         "3",
         "4",
         "53",
         "0",
         "Pamphille, Mehgan",
         "1",
         "2023-07-02",
         "72",
         "5.0",
         "160",
         "58.8",
         "22.96875",
         "130",
         "90",
         "68",
         "0",
         "0",
         "0",
         "0",
         "0",
         "0",
         "0",
         "0",
         "0",
         "0",
         "266",
         "132",
         "51.9",
         "188.0",
         "6.909090909090909",
         "1.4505494505494505",
         "1.348051948051948",
         "4.883116883116883",
         "3.622350674373796",
         "0.74",
         "0.86",
         "0.86",
         "0.8",
         "0.63",
         "0.74",
         "0.91",
         "0.97",
         "0.98",
         "0.86",
         "0.74",
         "0.8",
         "0.8241666666666667",
         "2",
         "0.0",
         "1-2 times per year hypertensive crises (Corinfar)"
        ],
        [
         "4",
         "5",
         "54",
         "0",
         "Morgan, Rollin",
         "1",
         "2022-11-27",
         "57",
         "5.0",
         "180",
         "71.0",
         "21.91358024691358",
         "135",
         "75",
         "70",
         "0",
         "0",
         "1",
         "0",
         "1",
         "0",
         "0",
         "1",
         "1",
         "0",
         "194",
         "101",
         "76.8",
         "97.0",
         "5.038961038961039",
         "1.10989010989011",
         "1.9948051948051948",
         "2.51948051948052",
         "1.2630208333333337",
         "1.0",
         "1.0",
         "1.1",
         "0.9",
         "1.0",
         "1.0",
         "1.2",
         "1.2",
         "1.25",
         "1.1",
         "1.3",
         "1.13",
         "1.0983333333333334",
         "1",
         "1.0",
         null
        ]
       ],
       "shape": {
        "columns": 49,
        "rows": 5
       }
      },
      "text/html": [
       "<div>\n",
       "<style scoped>\n",
       "    .dataframe tbody tr th:only-of-type {\n",
       "        vertical-align: middle;\n",
       "    }\n",
       "\n",
       "    .dataframe tbody tr th {\n",
       "        vertical-align: top;\n",
       "    }\n",
       "\n",
       "    .dataframe thead th {\n",
       "        text-align: right;\n",
       "    }\n",
       "</style>\n",
       "<table border=\"1\" class=\"dataframe\">\n",
       "  <thead>\n",
       "    <tr style=\"text-align: right;\">\n",
       "      <th></th>\n",
       "      <th>Vialnumber</th>\n",
       "      <th>Patientnumber</th>\n",
       "      <th>Sucrose</th>\n",
       "      <th>Name</th>\n",
       "      <th>Group</th>\n",
       "      <th>Date</th>\n",
       "      <th>Age</th>\n",
       "      <th>Plasmavolume</th>\n",
       "      <th>Ht</th>\n",
       "      <th>Wt</th>\n",
       "      <th>...</th>\n",
       "      <th>rlatmax</th>\n",
       "      <th>rantmax</th>\n",
       "      <th>rposmax</th>\n",
       "      <th>llatmax</th>\n",
       "      <th>lantmax</th>\n",
       "      <th>lposmax</th>\n",
       "      <th>carotidIMTmean</th>\n",
       "      <th>Plaque</th>\n",
       "      <th>Statins</th>\n",
       "      <th>comorbidities</th>\n",
       "    </tr>\n",
       "  </thead>\n",
       "  <tbody>\n",
       "    <tr>\n",
       "      <th>0</th>\n",
       "      <td>1</td>\n",
       "      <td>50</td>\n",
       "      <td>0</td>\n",
       "      <td>Begaye, Decarlo</td>\n",
       "      <td>0</td>\n",
       "      <td>2023-01-14</td>\n",
       "      <td>63</td>\n",
       "      <td>6.5</td>\n",
       "      <td>163</td>\n",
       "      <td>84.0</td>\n",
       "      <td>...</td>\n",
       "      <td>0.65</td>\n",
       "      <td>0.80</td>\n",
       "      <td>0.80</td>\n",
       "      <td>0.81</td>\n",
       "      <td>0.78</td>\n",
       "      <td>0.80</td>\n",
       "      <td>0.642500</td>\n",
       "      <td>1</td>\n",
       "      <td>1.0</td>\n",
       "      <td>NaN</td>\n",
       "    </tr>\n",
       "    <tr>\n",
       "      <th>1</th>\n",
       "      <td>2</td>\n",
       "      <td>51</td>\n",
       "      <td>0</td>\n",
       "      <td>Sweetwater, Kristen</td>\n",
       "      <td>0</td>\n",
       "      <td>2022-10-09</td>\n",
       "      <td>47</td>\n",
       "      <td>5.5</td>\n",
       "      <td>179</td>\n",
       "      <td>111.0</td>\n",
       "      <td>...</td>\n",
       "      <td>1.03</td>\n",
       "      <td>0.92</td>\n",
       "      <td>1.03</td>\n",
       "      <td>1.03</td>\n",
       "      <td>1.03</td>\n",
       "      <td>1.09</td>\n",
       "      <td>0.840000</td>\n",
       "      <td>1</td>\n",
       "      <td>0.0</td>\n",
       "      <td>NaN</td>\n",
       "    </tr>\n",
       "    <tr>\n",
       "      <th>2</th>\n",
       "      <td>3</td>\n",
       "      <td>52</td>\n",
       "      <td>0</td>\n",
       "      <td>Figurelli, Samuel</td>\n",
       "      <td>1</td>\n",
       "      <td>2023-10-24</td>\n",
       "      <td>57</td>\n",
       "      <td>7.0</td>\n",
       "      <td>164</td>\n",
       "      <td>80.0</td>\n",
       "      <td>...</td>\n",
       "      <td>1.00</td>\n",
       "      <td>0.90</td>\n",
       "      <td>0.95</td>\n",
       "      <td>0.85</td>\n",
       "      <td>0.90</td>\n",
       "      <td>0.90</td>\n",
       "      <td>0.850000</td>\n",
       "      <td>3</td>\n",
       "      <td>1.0</td>\n",
       "      <td>Type 2 diabetes mellitus; MI - 2016</td>\n",
       "    </tr>\n",
       "    <tr>\n",
       "      <th>3</th>\n",
       "      <td>4</td>\n",
       "      <td>53</td>\n",
       "      <td>0</td>\n",
       "      <td>Pamphille, Mehgan</td>\n",
       "      <td>1</td>\n",
       "      <td>2023-07-02</td>\n",
       "      <td>72</td>\n",
       "      <td>5.0</td>\n",
       "      <td>160</td>\n",
       "      <td>58.8</td>\n",
       "      <td>...</td>\n",
       "      <td>0.91</td>\n",
       "      <td>0.97</td>\n",
       "      <td>0.98</td>\n",
       "      <td>0.86</td>\n",
       "      <td>0.74</td>\n",
       "      <td>0.80</td>\n",
       "      <td>0.824167</td>\n",
       "      <td>2</td>\n",
       "      <td>0.0</td>\n",
       "      <td>1-2 times per year hypertensive crises (Corinfar)</td>\n",
       "    </tr>\n",
       "    <tr>\n",
       "      <th>4</th>\n",
       "      <td>5</td>\n",
       "      <td>54</td>\n",
       "      <td>0</td>\n",
       "      <td>Morgan, Rollin</td>\n",
       "      <td>1</td>\n",
       "      <td>2022-11-27</td>\n",
       "      <td>57</td>\n",
       "      <td>5.0</td>\n",
       "      <td>180</td>\n",
       "      <td>71.0</td>\n",
       "      <td>...</td>\n",
       "      <td>1.20</td>\n",
       "      <td>1.20</td>\n",
       "      <td>1.25</td>\n",
       "      <td>1.10</td>\n",
       "      <td>1.30</td>\n",
       "      <td>1.13</td>\n",
       "      <td>1.098333</td>\n",
       "      <td>1</td>\n",
       "      <td>1.0</td>\n",
       "      <td>NaN</td>\n",
       "    </tr>\n",
       "  </tbody>\n",
       "</table>\n",
       "<p>5 rows × 49 columns</p>\n",
       "</div>"
      ],
      "text/plain": [
       "   Vialnumber  Patientnumber  Sucrose                 Name  Group        Date  \\\n",
       "0           1             50        0      Begaye, Decarlo      0  2023-01-14   \n",
       "1           2             51        0  Sweetwater, Kristen      0  2022-10-09   \n",
       "2           3             52        0    Figurelli, Samuel      1  2023-10-24   \n",
       "3           4             53        0    Pamphille, Mehgan      1  2023-07-02   \n",
       "4           5             54        0       Morgan, Rollin      1  2022-11-27   \n",
       "\n",
       "   Age  Plasmavolume   Ht     Wt  ...  rlatmax  rantmax  rposmax  llatmax  \\\n",
       "0   63           6.5  163   84.0  ...     0.65     0.80     0.80     0.81   \n",
       "1   47           5.5  179  111.0  ...     1.03     0.92     1.03     1.03   \n",
       "2   57           7.0  164   80.0  ...     1.00     0.90     0.95     0.85   \n",
       "3   72           5.0  160   58.8  ...     0.91     0.97     0.98     0.86   \n",
       "4   57           5.0  180   71.0  ...     1.20     1.20     1.25     1.10   \n",
       "\n",
       "   lantmax  lposmax  carotidIMTmean  Plaque  Statins  \\\n",
       "0     0.78     0.80        0.642500       1      1.0   \n",
       "1     1.03     1.09        0.840000       1      0.0   \n",
       "2     0.90     0.90        0.850000       3      1.0   \n",
       "3     0.74     0.80        0.824167       2      0.0   \n",
       "4     1.30     1.13        1.098333       1      1.0   \n",
       "\n",
       "                                       comorbidities  \n",
       "0                                                NaN  \n",
       "1                                                NaN  \n",
       "2                Type 2 diabetes mellitus; MI - 2016  \n",
       "3  1-2 times per year hypertensive crises (Corinfar)  \n",
       "4                                                NaN  \n",
       "\n",
       "[5 rows x 49 columns]"
      ]
     },
     "execution_count": 110,
     "metadata": {},
     "output_type": "execute_result"
    }
   ],
   "source": [
    "data_metadata.head()"
   ]
  },
  {
   "cell_type": "code",
   "execution_count": 173,
   "id": "2c9f818d",
   "metadata": {},
   "outputs": [],
   "source": [
    "def normal_distribution(data):\n",
    "    stat, p = sc.stats.shapiro(data) # тест Шапиро-Уилк\n",
    "    print('тест Шапиро-Уилк: Statistics=%.3f, p-value=%.3f' % (stat, p))\n",
    "\n",
    "    alpha = 0.05\n",
    "    if p > alpha:\n",
    "        print('Принять гипотезу о нормальности')\n",
    "    else:\n",
    "        print('Отклонить гипотезу о нормальности')\n",
    "        sns.histplot(data=data,kde=True,)\n",
    "        plt.show();\n",
    "        columns_not_norm.append(data.name)\n",
    "    \"\"\"stat, p = sc.stats.normaltest(data) # Критерий согласия Пирсона (n ≥ 100)\n",
    "    print('Критерий согласия Пирсона: Statistics=%.3f, p-value=%.3f' % (stat, p))\n",
    "\n",
    "    if p > alpha:\n",
    "        print('Принять гипотезу о нормальности')\n",
    "    else:\n",
    "        print('Отклонить гипотезу о нормальности')\n",
    "    \"\"\"\n",
    "    "
   ]
  },
  {
   "cell_type": "code",
   "execution_count": 175,
   "id": "e164aa0f",
   "metadata": {},
   "outputs": [
    {
     "name": "stdout",
     "output_type": "stream",
     "text": [
      "тест Шапиро-Уилк: Statistics=0.931, p-value=0.021\n",
      "Отклонить гипотезу о нормальности\n"
     ]
    },
    {
     "data": {
      "image/png": "[encoded data removed]",
      "text/plain": [
       "<Figure size 640x480 with 1 Axes>"
      ]
     },
     "metadata": {},
     "output_type": "display_data"
    }
   ],
   "source": [
    "normal_distribution(data_metadata['Wt'])"
   ]
  },
  {
   "cell_type": "code",
   "execution_count": 176,
   "id": "9f7e9893",
   "metadata": {},
   "outputs": [],
   "source": [
    "columns_not_norm = []"
   ]
  },
  {
   "cell_type": "code",
   "execution_count": 177,
   "id": "1ed0117f",
   "metadata": {},
   "outputs": [],
   "source": [
    "def stat_columns(data):\n",
    "    for column in data.columns[2:]:\n",
    "        if (data[column].dtype == 'float64') or (data[column].dtype == 'int64'):\n",
    "            print('-'*35)\n",
    "            print(f'Признак: {column}')\n",
    "            normal_distribution(data[column])\n",
    "        \n"
   ]
  },
  {
   "cell_type": "code",
   "execution_count": 178,
   "id": "f549aed7",
   "metadata": {},
   "outputs": [
    {
     "name": "stdout",
     "output_type": "stream",
     "text": [
      "-----------------------------------\n",
      "Признак: Sucrose\n",
      "тест Шапиро-Уилк: Statistics=0.612, p-value=0.000\n",
      "Отклонить гипотезу о нормальности\n"
     ]
    },
    {
     "data": {
      "image/png": "[encoded data removed]",
      "text/plain": [
       "<Figure size 640x480 with 1 Axes>"
      ]
     },
     "metadata": {},
     "output_type": "display_data"
    },
    {
     "name": "stdout",
     "output_type": "stream",
     "text": [
      "-----------------------------------\n",
      "Признак: Group\n",
      "тест Шапиро-Уилк: Statistics=0.612, p-value=0.000\n",
      "Отклонить гипотезу о нормальности\n"
     ]
    },
    {
     "data": {
      "image/png": "[encoded data removed]",
      "text/plain": [
       "<Figure size 640x480 with 1 Axes>"
      ]
     },
     "metadata": {},
     "output_type": "display_data"
    },
    {
     "name": "stdout",
     "output_type": "stream",
     "text": [
      "-----------------------------------\n",
      "Признак: Age\n",
      "тест Шапиро-Уилк: Statistics=0.983, p-value=0.836\n",
      "Принять гипотезу о нормальности\n",
      "-----------------------------------\n",
      "Признак: Plasmavolume\n",
      "тест Шапиро-Уилк: Statistics=0.866, p-value=0.000\n",
      "Отклонить гипотезу о нормальности\n"
     ]
    },
    {
     "data": {
      "image/png": "[encoded data removed]",
      "text/plain": [
       "<Figure size 640x480 with 1 Axes>"
      ]
     },
     "metadata": {},
     "output_type": "display_data"
    },
    {
     "name": "stdout",
     "output_type": "stream",
     "text": [
      "-----------------------------------\n",
      "Признак: Ht\n",
      "тест Шапиро-Уилк: Statistics=0.976, p-value=0.580\n",
      "Принять гипотезу о нормальности\n",
      "-----------------------------------\n",
      "Признак: Wt\n",
      "тест Шапиро-Уилк: Statistics=0.931, p-value=0.021\n",
      "Отклонить гипотезу о нормальности\n"
     ]
    },
    {
     "data": {
      "image/png": "[encoded data removed]",
      "text/plain": [
       "<Figure size 640x480 with 1 Axes>"
      ]
     },
     "metadata": {},
     "output_type": "display_data"
    },
    {
     "name": "stdout",
     "output_type": "stream",
     "text": [
      "-----------------------------------\n",
      "Признак: BMI\n",
      "тест Шапиро-Уилк: Statistics=0.933, p-value=0.025\n",
      "Отклонить гипотезу о нормальности\n"
     ]
    },
    {
     "data": {
      "image/png": "[encoded data removed]",
      "text/plain": [
       "<Figure size 640x480 with 1 Axes>"
      ]
     },
     "metadata": {},
     "output_type": "display_data"
    },
    {
     "name": "stdout",
     "output_type": "stream",
     "text": [
      "-----------------------------------\n",
      "Признак: Sys\n",
      "тест Шапиро-Уилк: Statistics=0.926, p-value=0.016\n",
      "Отклонить гипотезу о нормальности\n"
     ]
    },
    {
     "data": {
      "image/png": "[encoded data removed]",
      "text/plain": [
       "<Figure size 640x480 with 1 Axes>"
      ]
     },
     "metadata": {},
     "output_type": "display_data"
    },
    {
     "name": "stdout",
     "output_type": "stream",
     "text": [
      "-----------------------------------\n",
      "Признак: Dia\n",
      "тест Шапиро-Уилк: Statistics=0.986, p-value=0.900\n",
      "Принять гипотезу о нормальности\n",
      "-----------------------------------\n",
      "Признак: PR\n",
      "тест Шапиро-Уилк: Statistics=0.964, p-value=0.263\n",
      "Принять гипотезу о нормальности\n",
      "-----------------------------------\n",
      "Признак: Sm\n",
      "тест Шапиро-Уилк: Statistics=0.302, p-value=0.000\n",
      "Отклонить гипотезу о нормальности\n"
     ]
    },
    {
     "data": {
      "image/png": "[encoded data removed]",
      "text/plain": [
       "<Figure size 640x480 with 1 Axes>"
      ]
     },
     "metadata": {},
     "output_type": "display_data"
    },
    {
     "name": "stdout",
     "output_type": "stream",
     "text": [
      "-----------------------------------\n",
      "Признак: Dm\n",
      "тест Шапиро-Уилк: Statistics=0.355, p-value=0.000\n",
      "Отклонить гипотезу о нормальности\n"
     ]
    },
    {
     "data": {
      "image/png": "[encoded data removed]",
      "text/plain": [
       "<Figure size 640x480 with 1 Axes>"
      ]
     },
     "metadata": {},
     "output_type": "display_data"
    },
    {
     "name": "stdout",
     "output_type": "stream",
     "text": [
      "-----------------------------------\n",
      "Признак: HT\n",
      "тест Шапиро-Уилк: Statistics=0.621, p-value=0.000\n",
      "Отклонить гипотезу о нормальности\n"
     ]
    },
    {
     "data": {
      "image/png": "[encoded data removed]",
      "text/plain": [
       "<Figure size 640x480 with 1 Axes>"
      ]
     },
     "metadata": {},
     "output_type": "display_data"
    },
    {
     "name": "stdout",
     "output_type": "stream",
     "text": [
      "-----------------------------------\n",
      "Признак: LVH\n",
      "тест Шапиро-Уилк: Statistics=0.612, p-value=0.000\n",
      "Отклонить гипотезу о нормальности\n"
     ]
    },
    {
     "data": {
      "image/png": "[encoded data removed]",
      "text/plain": [
       "<Figure size 640x480 with 1 Axes>"
      ]
     },
     "metadata": {},
     "output_type": "display_data"
    },
    {
     "name": "stdout",
     "output_type": "stream",
     "text": [
      "-----------------------------------\n",
      "Признак: IHD\n",
      "тест Шапиро-Уилк: Statistics=0.637, p-value=0.000\n",
      "Отклонить гипотезу о нормальности\n"
     ]
    },
    {
     "data": {
      "image/png": "[encoded data removed]",
      "text/plain": [
       "<Figure size 640x480 with 1 Axes>"
      ]
     },
     "metadata": {},
     "output_type": "display_data"
    },
    {
     "name": "stdout",
     "output_type": "stream",
     "text": [
      "-----------------------------------\n",
      "Признак: MI\n",
      "тест Шапиро-Уилк: Statistics=0.355, p-value=0.000\n",
      "Отклонить гипотезу о нормальности\n"
     ]
    },
    {
     "data": {
      "image/png": "[encoded data removed]",
      "text/plain": [
       "<Figure size 640x480 with 1 Axes>"
      ]
     },
     "metadata": {},
     "output_type": "display_data"
    },
    {
     "name": "stdout",
     "output_type": "stream",
     "text": [
      "-----------------------------------\n",
      "Признак: Str\n",
      "тест Шапиро-Уилк: Statistics=0.237, p-value=0.000\n",
      "Отклонить гипотезу о нормальности\n"
     ]
    },
    {
     "data": {
      "image/png": "[encoded data removed]",
      "text/plain": [
       "<Figure size 640x480 with 1 Axes>"
      ]
     },
     "metadata": {},
     "output_type": "display_data"
    },
    {
     "name": "stdout",
     "output_type": "stream",
     "text": [
      "-----------------------------------\n",
      "Признак: A_C\n",
      "тест Шапиро-Уилк: Statistics=0.621, p-value=0.000\n",
      "Отклонить гипотезу о нормальности\n"
     ]
    },
    {
     "data": {
      "image/png": "[encoded data removed]",
      "text/plain": [
       "<Figure size 640x480 with 1 Axes>"
      ]
     },
     "metadata": {},
     "output_type": "display_data"
    },
    {
     "name": "stdout",
     "output_type": "stream",
     "text": [
      "-----------------------------------\n",
      "Признак: A_H\n",
      "тест Шапиро-Уилк: Statistics=0.628, p-value=0.000\n",
      "Отклонить гипотезу о нормальности\n"
     ]
    },
    {
     "data": {
      "image/png": "[encoded data removed]",
      "text/plain": [
       "<Figure size 640x480 with 1 Axes>"
      ]
     },
     "metadata": {},
     "output_type": "display_data"
    },
    {
     "name": "stdout",
     "output_type": "stream",
     "text": [
      "-----------------------------------\n",
      "Признак: A_D\n",
      "тест Шапиро-Уилк: Statistics=0.473, p-value=0.000\n",
      "Отклонить гипотезу о нормальности\n"
     ]
    },
    {
     "data": {
      "image/png": "[encoded data removed]",
      "text/plain": [
       "<Figure size 640x480 with 1 Axes>"
      ]
     },
     "metadata": {},
     "output_type": "display_data"
    },
    {
     "name": "stdout",
     "output_type": "stream",
     "text": [
      "-----------------------------------\n",
      "Признак: Choi\n",
      "тест Шапиро-Уилк: Statistics=0.969, p-value=0.376\n",
      "Принять гипотезу о нормальности\n",
      "-----------------------------------\n",
      "Признак: Tgi\n",
      "тест Шапиро-Уилк: Statistics=0.873, p-value=0.000\n",
      "Отклонить гипотезу о нормальности\n"
     ]
    },
    {
     "data": {
      "image/png": "[encoded data removed]",
      "text/plain": [
       "<Figure size 640x480 with 1 Axes>"
      ]
     },
     "metadata": {},
     "output_type": "display_data"
    },
    {
     "name": "stdout",
     "output_type": "stream",
     "text": [
      "-----------------------------------\n",
      "Признак: HDLi\n",
      "тест Шапиро-Уилк: Statistics=0.933, p-value=0.026\n",
      "Отклонить гипотезу о нормальности\n"
     ]
    },
    {
     "data": {
      "image/png": "[encoded data removed]",
      "text/plain": [
       "<Figure size 640x480 with 1 Axes>"
      ]
     },
     "metadata": {},
     "output_type": "display_data"
    },
    {
     "name": "stdout",
     "output_type": "stream",
     "text": [
      "-----------------------------------\n",
      "Признак: LDLi\n",
      "тест Шапиро-Уилк: Statistics=0.958, p-value=0.169\n",
      "Принять гипотезу о нормальности\n",
      "-----------------------------------\n",
      "Признак: Choi_exp\n",
      "тест Шапиро-Уилк: Statistics=0.969, p-value=0.376\n",
      "Принять гипотезу о нормальности\n",
      "-----------------------------------\n",
      "Признак: Tgi_exp\n",
      "тест Шапиро-Уилк: Statistics=0.873, p-value=0.000\n",
      "Отклонить гипотезу о нормальности\n"
     ]
    },
    {
     "data": {
      "image/png": "[encoded data removed]",
      "text/plain": [
       "<Figure size 640x480 with 1 Axes>"
      ]
     },
     "metadata": {},
     "output_type": "display_data"
    },
    {
     "name": "stdout",
     "output_type": "stream",
     "text": [
      "-----------------------------------\n",
      "Признак: HDLi_exp\n",
      "тест Шапиро-Уилк: Statistics=0.933, p-value=0.026\n",
      "Отклонить гипотезу о нормальности\n"
     ]
    },
    {
     "data": {
      "image/png": "[encoded data removed]",
      "text/plain": [
       "<Figure size 640x480 with 1 Axes>"
      ]
     },
     "metadata": {},
     "output_type": "display_data"
    },
    {
     "name": "stdout",
     "output_type": "stream",
     "text": [
      "-----------------------------------\n",
      "Признак: LDLi_exp\n",
      "тест Шапиро-Уилк: Statistics=0.958, p-value=0.169\n",
      "Принять гипотезу о нормальности\n",
      "-----------------------------------\n",
      "Признак: AI\n",
      "тест Шапиро-Уилк: Statistics=0.978, p-value=0.658\n",
      "Принять гипотезу о нормальности\n",
      "-----------------------------------\n",
      "Признак: rlatmin\n",
      "тест Шапиро-Уилк: Statistics=0.959, p-value=0.173\n",
      "Принять гипотезу о нормальности\n",
      "-----------------------------------\n",
      "Признак: rantmin\n",
      "тест Шапиро-Уилк: Statistics=0.945, p-value=0.059\n",
      "Принять гипотезу о нормальности\n",
      "-----------------------------------\n",
      "Признак: rposmin\n",
      "тест Шапиро-Уилк: Statistics=0.975, p-value=0.528\n",
      "Принять гипотезу о нормальности\n",
      "-----------------------------------\n",
      "Признак: llatmin\n",
      "тест Шапиро-Уилк: Statistics=0.916, p-value=0.008\n",
      "Отклонить гипотезу о нормальности\n"
     ]
    },
    {
     "data": {
      "image/png": "[encoded data removed]",
      "text/plain": [
       "<Figure size 640x480 with 1 Axes>"
      ]
     },
     "metadata": {},
     "output_type": "display_data"
    },
    {
     "name": "stdout",
     "output_type": "stream",
     "text": [
      "-----------------------------------\n",
      "Признак: lantmin\n",
      "тест Шапиро-Уилк: Statistics=0.948, p-value=0.075\n",
      "Принять гипотезу о нормальности\n",
      "-----------------------------------\n",
      "Признак: lposmin\n",
      "тест Шапиро-Уилк: Statistics=0.969, p-value=0.376\n",
      "Принять гипотезу о нормальности\n",
      "-----------------------------------\n",
      "Признак: rlatmax\n",
      "тест Шапиро-Уилк: Statistics=0.978, p-value=0.642\n",
      "Принять гипотезу о нормальности\n",
      "-----------------------------------\n",
      "Признак: rantmax\n",
      "тест Шапиро-Уилк: Statistics=0.974, p-value=0.513\n",
      "Принять гипотезу о нормальности\n",
      "-----------------------------------\n",
      "Признак: rposmax\n",
      "тест Шапиро-Уилк: Statistics=0.972, p-value=0.450\n",
      "Принять гипотезу о нормальности\n",
      "-----------------------------------\n",
      "Признак: llatmax\n",
      "тест Шапиро-Уилк: Statistics=0.955, p-value=0.132\n",
      "Принять гипотезу о нормальности\n",
      "-----------------------------------\n",
      "Признак: lantmax\n",
      "тест Шапиро-Уилк: Statistics=0.963, p-value=0.230\n",
      "Принять гипотезу о нормальности\n",
      "-----------------------------------\n",
      "Признак: lposmax\n",
      "тест Шапиро-Уилк: Statistics=0.960, p-value=0.192\n",
      "Принять гипотезу о нормальности\n",
      "-----------------------------------\n",
      "Признак: carotidIMTmean\n",
      "тест Шапиро-Уилк: Statistics=0.975, p-value=0.549\n",
      "Принять гипотезу о нормальности\n",
      "-----------------------------------\n",
      "Признак: Plaque\n",
      "тест Шапиро-Уилк: Statistics=0.854, p-value=0.000\n",
      "Отклонить гипотезу о нормальности\n"
     ]
    },
    {
     "data": {
      "image/png": "[encoded data removed]",
      "text/plain": [
       "<Figure size 640x480 with 1 Axes>"
      ]
     },
     "metadata": {},
     "output_type": "display_data"
    },
    {
     "name": "stdout",
     "output_type": "stream",
     "text": [
      "-----------------------------------\n",
      "Признак: Statins\n",
      "тест Шапиро-Уилк: Statistics=nan, p-value=nan\n",
      "Отклонить гипотезу о нормальности\n"
     ]
    },
    {
     "data": {
      "image/png": "[encoded data removed]",
      "text/plain": [
       "<Figure size 640x480 with 1 Axes>"
      ]
     },
     "metadata": {},
     "output_type": "display_data"
    }
   ],
   "source": [
    "stat_columns(data_metadata)"
   ]
  },
  {
   "cell_type": "code",
   "execution_count": 179,
   "id": "cce17229",
   "metadata": {},
   "outputs": [
    {
     "data": {
      "text/plain": [
       "['Sucrose',\n",
       " 'Group',\n",
       " 'Plasmavolume',\n",
       " 'Wt',\n",
       " 'BMI',\n",
       " 'Sys',\n",
       " 'Sm',\n",
       " 'Dm',\n",
       " 'HT',\n",
       " 'LVH',\n",
       " 'IHD',\n",
       " 'MI',\n",
       " 'Str',\n",
       " 'A_C',\n",
       " 'A_H',\n",
       " 'A_D',\n",
       " 'Tgi',\n",
       " 'HDLi',\n",
       " 'Tgi_exp',\n",
       " 'HDLi_exp',\n",
       " 'llatmin',\n",
       " 'Plaque',\n",
       " 'Statins']"
      ]
     },
     "execution_count": 179,
     "metadata": {},
     "output_type": "execute_result"
    }
   ],
   "source": [
    "columns_not_norm"
   ]
  },
  {
   "cell_type": "markdown",
   "id": "eff6359e",
   "metadata": {},
   "source": [
    "# вывод\n",
    "* columns_not_norm распределения не нормальной формы (использовался тест Шапиро-Уилк)\n",
    "* имеются распередения скошенные вправо и влево\n",
    "* присутствуют также распределения Бернули и Биноминальное."
   ]
  }
 ],
 "metadata": {
  "kernelspec": {
   "display_name": "venv",
   "language": "python",
   "name": "python3"
  },
  "language_info": {
   "codemirror_mode": {
    "name": "ipython",
    "version": 3
   },
   "file_extension": ".py",
   "mimetype": "text/x-python",
   "name": "python",
   "nbconvert_exporter": "python",
   "pygments_lexer": "ipython3",
   "version": "3.10.12"
  }
 },
 "nbformat": 4,
 "nbformat_minor": 5
}
