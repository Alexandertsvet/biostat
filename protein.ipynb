{
 "cells": [
  {
   "cell_type": "code",
   "execution_count": 1,
   "id": "7bdeeaa0",
   "metadata": {},
   "outputs": [],
   "source": [
    "import pandas as pd"
   ]
  },
  {
   "cell_type": "code",
   "execution_count": 116,
   "id": "98493841",
   "metadata": {},
   "outputs": [],
   "source": [
    "from Bio import Entrez\n",
    "from Bio import SeqIO\n",
    "Entrez.email = \"A.N.Other@example.com\"\n",
    "import xml.etree.ElementTree as ET\n",
    "from Bio.SeqRecord import SeqRecord"
   ]
  },
  {
   "cell_type": "code",
   "execution_count": 3,
   "id": "027fa5cf",
   "metadata": {},
   "outputs": [],
   "source": [
    "try:\n",
    "    data = pd.read_table('gene_disease_associations.tsv')\n",
    "except:\n",
    "    print('error_load_data')"
   ]
  },
  {
   "cell_type": "code",
   "execution_count": 4,
   "id": "38123d97",
   "metadata": {},
   "outputs": [
    {
     "data": {
      "application/vnd.microsoft.datawrangler.viewer.v0+json": {
       "columns": [
        {
         "name": "index",
         "rawType": "int64",
         "type": "integer"
        },
        {
         "name": "gene_pli",
         "rawType": "float64",
         "type": "float"
        },
        {
         "name": "score",
         "rawType": "float64",
         "type": "float"
        },
        {
         "name": "diseaseid",
         "rawType": "object",
         "type": "string"
        },
        {
         "name": "gene_dsi",
         "rawType": "float64",
         "type": "float"
        },
        {
         "name": "protein_class_name",
         "rawType": "object",
         "type": "string"
        },
        {
         "name": "geneid",
         "rawType": "int64",
         "type": "integer"
        },
        {
         "name": "disease_class",
         "rawType": "object",
         "type": "string"
        },
        {
         "name": "disease_type",
         "rawType": "object",
         "type": "string"
        },
        {
         "name": "uniprotid",
         "rawType": "object",
         "type": "string"
        },
        {
         "name": "disease_class_name",
         "rawType": "object",
         "type": "string"
        },
        {
         "name": "disease_name",
         "rawType": "object",
         "type": "string"
        },
        {
         "name": "el",
         "rawType": "object",
         "type": "unknown"
        },
        {
         "name": "year_initial",
         "rawType": "float64",
         "type": "float"
        },
        {
         "name": "source",
         "rawType": "object",
         "type": "string"
        },
        {
         "name": "ei",
         "rawType": "float64",
         "type": "float"
        },
        {
         "name": "gene_dpi",
         "rawType": "float64",
         "type": "float"
        },
        {
         "name": "protein_class",
         "rawType": "object",
         "type": "string"
        },
        {
         "name": "year_final",
         "rawType": "float64",
         "type": "float"
        },
        {
         "name": "gene_symbol",
         "rawType": "object",
         "type": "string"
        },
        {
         "name": "disease_semantic_type",
         "rawType": "object",
         "type": "string"
        }
       ],
       "conversionMethod": "pd.DataFrame",
       "ref": "c450b9c6-a34c-48ff-b580-7e427c4f3833",
       "rows": [
        [
         "0",
         "1.6432e-05",
         "1.0",
         "C0001080",
         "0.391",
         "Kinase",
         "2261",
         "C16;C05",
         "disease",
         "P22607",
         "   Congenital, Hereditary, and Neonatal Diseases and Abnormalities;    Musculoskeletal Diseases",
         "Achondroplasia",
         "definitive",
         "1994.0",
         "CURATED",
         "0.974",
         "0.846",
         "DTO_03300101",
         "2020.0",
         "FGFR3",
         "Congenital Abnormality"
        ],
        [
         "1",
         "1.04e-05",
         "0.8",
         "C0000744",
         "0.505",
         "Transporter",
         "4547",
         "C16;C18",
         "disease",
         "P55157",
         "   Congenital, Hereditary, and Neonatal Diseases and Abnormalities;    Nutritional and Metabolic Diseases",
         "Abetalipoproteinemia",
         null,
         "1985.0",
         "CURATED",
         "0.982",
         "0.846",
         "DTO_05007405",
         "2019.0",
         "MTTP",
         "Disease or Syndrome"
        ],
        [
         "2",
         "0.99731",
         "0.8",
         "C0001193",
         "0.38",
         "Kinase",
         "2263",
         "C16;C05",
         "disease",
         "P21802",
         "   Congenital, Hereditary, and Neonatal Diseases and Abnormalities;    Musculoskeletal Diseases",
         "Apert syndrome",
         null,
         "1994.0",
         "CURATED",
         "0.976",
         "0.808",
         "DTO_03300101",
         "2019.0",
         "FGFR2",
         "Congenital Abnormality"
        ],
        [
         "3",
         "0.53235",
         "0.7",
         "C0001418",
         "0.236",
         "Transcription factor",
         "7157",
         "C04",
         "group",
         "P04637",
         "   Neoplasms",
         "Adenocarcinoma",
         null,
         "1986.0",
         "CURATED",
         "0.975",
         "0.962",
         "DTO_05007542",
         "2020.0",
         "TP53",
         "Neoplastic Process"
        ],
        [
         "4",
         "0.84602",
         "0.69",
         "C0001126",
         "0.522",
         "Transporter",
         "6521",
         "C16;C18;C13;C12",
         "phenotype",
         "P02730",
         "   Congenital, Hereditary, and Neonatal Diseases and Abnormalities;    Nutritional and Metabolic Diseases;    Female Urogenital Diseases and Pregnancy Complications;    Male Urogenital Diseases",
         "Renal tubular acidosis",
         null,
         "1996.0",
         "CURATED",
         "1.0",
         "0.731",
         "DTO_05007405",
         "2013.0",
         "SLC4A1",
         "Disease or Syndrome"
        ]
       ],
       "shape": {
        "columns": 20,
        "rows": 5
       }
      },
      "text/html": [
       "<div>\n",
       "<style scoped>\n",
       "    .dataframe tbody tr th:only-of-type {\n",
       "        vertical-align: middle;\n",
       "    }\n",
       "\n",
       "    .dataframe tbody tr th {\n",
       "        vertical-align: top;\n",
       "    }\n",
       "\n",
       "    .dataframe thead th {\n",
       "        text-align: right;\n",
       "    }\n",
       "</style>\n",
       "<table border=\"1\" class=\"dataframe\">\n",
       "  <thead>\n",
       "    <tr style=\"text-align: right;\">\n",
       "      <th></th>\n",
       "      <th>gene_pli</th>\n",
       "      <th>score</th>\n",
       "      <th>diseaseid</th>\n",
       "      <th>gene_dsi</th>\n",
       "      <th>protein_class_name</th>\n",
       "      <th>geneid</th>\n",
       "      <th>disease_class</th>\n",
       "      <th>disease_type</th>\n",
       "      <th>uniprotid</th>\n",
       "      <th>disease_class_name</th>\n",
       "      <th>disease_name</th>\n",
       "      <th>el</th>\n",
       "      <th>year_initial</th>\n",
       "      <th>source</th>\n",
       "      <th>ei</th>\n",
       "      <th>gene_dpi</th>\n",
       "      <th>protein_class</th>\n",
       "      <th>year_final</th>\n",
       "      <th>gene_symbol</th>\n",
       "      <th>disease_semantic_type</th>\n",
       "    </tr>\n",
       "  </thead>\n",
       "  <tbody>\n",
       "    <tr>\n",
       "      <th>0</th>\n",
       "      <td>0.000016</td>\n",
       "      <td>1.00</td>\n",
       "      <td>C0001080</td>\n",
       "      <td>0.391</td>\n",
       "      <td>Kinase</td>\n",
       "      <td>2261</td>\n",
       "      <td>C16;C05</td>\n",
       "      <td>disease</td>\n",
       "      <td>P22607</td>\n",
       "      <td>Congenital, Hereditary, and Neonatal Diseas...</td>\n",
       "      <td>Achondroplasia</td>\n",
       "      <td>definitive</td>\n",
       "      <td>1994.0</td>\n",
       "      <td>CURATED</td>\n",
       "      <td>0.974</td>\n",
       "      <td>0.846</td>\n",
       "      <td>DTO_03300101</td>\n",
       "      <td>2020.0</td>\n",
       "      <td>FGFR3</td>\n",
       "      <td>Congenital Abnormality</td>\n",
       "    </tr>\n",
       "    <tr>\n",
       "      <th>1</th>\n",
       "      <td>0.000010</td>\n",
       "      <td>0.80</td>\n",
       "      <td>C0000744</td>\n",
       "      <td>0.505</td>\n",
       "      <td>Transporter</td>\n",
       "      <td>4547</td>\n",
       "      <td>C16;C18</td>\n",
       "      <td>disease</td>\n",
       "      <td>P55157</td>\n",
       "      <td>Congenital, Hereditary, and Neonatal Diseas...</td>\n",
       "      <td>Abetalipoproteinemia</td>\n",
       "      <td>NaN</td>\n",
       "      <td>1985.0</td>\n",
       "      <td>CURATED</td>\n",
       "      <td>0.982</td>\n",
       "      <td>0.846</td>\n",
       "      <td>DTO_05007405</td>\n",
       "      <td>2019.0</td>\n",
       "      <td>MTTP</td>\n",
       "      <td>Disease or Syndrome</td>\n",
       "    </tr>\n",
       "    <tr>\n",
       "      <th>2</th>\n",
       "      <td>0.997310</td>\n",
       "      <td>0.80</td>\n",
       "      <td>C0001193</td>\n",
       "      <td>0.380</td>\n",
       "      <td>Kinase</td>\n",
       "      <td>2263</td>\n",
       "      <td>C16;C05</td>\n",
       "      <td>disease</td>\n",
       "      <td>P21802</td>\n",
       "      <td>Congenital, Hereditary, and Neonatal Diseas...</td>\n",
       "      <td>Apert syndrome</td>\n",
       "      <td>NaN</td>\n",
       "      <td>1994.0</td>\n",
       "      <td>CURATED</td>\n",
       "      <td>0.976</td>\n",
       "      <td>0.808</td>\n",
       "      <td>DTO_03300101</td>\n",
       "      <td>2019.0</td>\n",
       "      <td>FGFR2</td>\n",
       "      <td>Congenital Abnormality</td>\n",
       "    </tr>\n",
       "    <tr>\n",
       "      <th>3</th>\n",
       "      <td>0.532350</td>\n",
       "      <td>0.70</td>\n",
       "      <td>C0001418</td>\n",
       "      <td>0.236</td>\n",
       "      <td>Transcription factor</td>\n",
       "      <td>7157</td>\n",
       "      <td>C04</td>\n",
       "      <td>group</td>\n",
       "      <td>P04637</td>\n",
       "      <td>Neoplasms</td>\n",
       "      <td>Adenocarcinoma</td>\n",
       "      <td>NaN</td>\n",
       "      <td>1986.0</td>\n",
       "      <td>CURATED</td>\n",
       "      <td>0.975</td>\n",
       "      <td>0.962</td>\n",
       "      <td>DTO_05007542</td>\n",
       "      <td>2020.0</td>\n",
       "      <td>TP53</td>\n",
       "      <td>Neoplastic Process</td>\n",
       "    </tr>\n",
       "    <tr>\n",
       "      <th>4</th>\n",
       "      <td>0.846020</td>\n",
       "      <td>0.69</td>\n",
       "      <td>C0001126</td>\n",
       "      <td>0.522</td>\n",
       "      <td>Transporter</td>\n",
       "      <td>6521</td>\n",
       "      <td>C16;C18;C13;C12</td>\n",
       "      <td>phenotype</td>\n",
       "      <td>P02730</td>\n",
       "      <td>Congenital, Hereditary, and Neonatal Diseas...</td>\n",
       "      <td>Renal tubular acidosis</td>\n",
       "      <td>NaN</td>\n",
       "      <td>1996.0</td>\n",
       "      <td>CURATED</td>\n",
       "      <td>1.000</td>\n",
       "      <td>0.731</td>\n",
       "      <td>DTO_05007405</td>\n",
       "      <td>2013.0</td>\n",
       "      <td>SLC4A1</td>\n",
       "      <td>Disease or Syndrome</td>\n",
       "    </tr>\n",
       "  </tbody>\n",
       "</table>\n",
       "</div>"
      ],
      "text/plain": [
       "   gene_pli  score diseaseid  gene_dsi    protein_class_name  geneid  \\\n",
       "0  0.000016   1.00  C0001080     0.391                Kinase    2261   \n",
       "1  0.000010   0.80  C0000744     0.505           Transporter    4547   \n",
       "2  0.997310   0.80  C0001193     0.380                Kinase    2263   \n",
       "3  0.532350   0.70  C0001418     0.236  Transcription factor    7157   \n",
       "4  0.846020   0.69  C0001126     0.522           Transporter    6521   \n",
       "\n",
       "     disease_class disease_type uniprotid  \\\n",
       "0          C16;C05      disease    P22607   \n",
       "1          C16;C18      disease    P55157   \n",
       "2          C16;C05      disease    P21802   \n",
       "3              C04        group    P04637   \n",
       "4  C16;C18;C13;C12    phenotype    P02730   \n",
       "\n",
       "                                  disease_class_name            disease_name  \\\n",
       "0     Congenital, Hereditary, and Neonatal Diseas...          Achondroplasia   \n",
       "1     Congenital, Hereditary, and Neonatal Diseas...    Abetalipoproteinemia   \n",
       "2     Congenital, Hereditary, and Neonatal Diseas...          Apert syndrome   \n",
       "3                                          Neoplasms          Adenocarcinoma   \n",
       "4     Congenital, Hereditary, and Neonatal Diseas...  Renal tubular acidosis   \n",
       "\n",
       "           el  year_initial   source     ei  gene_dpi protein_class  \\\n",
       "0  definitive        1994.0  CURATED  0.974     0.846  DTO_03300101   \n",
       "1         NaN        1985.0  CURATED  0.982     0.846  DTO_05007405   \n",
       "2         NaN        1994.0  CURATED  0.976     0.808  DTO_03300101   \n",
       "3         NaN        1986.0  CURATED  0.975     0.962  DTO_05007542   \n",
       "4         NaN        1996.0  CURATED  1.000     0.731  DTO_05007405   \n",
       "\n",
       "   year_final gene_symbol   disease_semantic_type  \n",
       "0      2020.0       FGFR3  Congenital Abnormality  \n",
       "1      2019.0        MTTP     Disease or Syndrome  \n",
       "2      2019.0       FGFR2  Congenital Abnormality  \n",
       "3      2020.0        TP53      Neoplastic Process  \n",
       "4      2013.0      SLC4A1     Disease or Syndrome  "
      ]
     },
     "execution_count": 4,
     "metadata": {},
     "output_type": "execute_result"
    }
   ],
   "source": [
    "data.head()"
   ]
  },
  {
   "cell_type": "code",
   "execution_count": 5,
   "id": "3b401f22",
   "metadata": {},
   "outputs": [
    {
     "name": "stdout",
     "output_type": "stream",
     "text": [
      "<class 'pandas.core.frame.DataFrame'>\n",
      "RangeIndex: 458 entries, 0 to 457\n",
      "Data columns (total 20 columns):\n",
      " #   Column                 Non-Null Count  Dtype  \n",
      "---  ------                 --------------  -----  \n",
      " 0   gene_pli               442 non-null    float64\n",
      " 1   score                  458 non-null    float64\n",
      " 2   diseaseid              458 non-null    object \n",
      " 3   gene_dsi               458 non-null    float64\n",
      " 4   protein_class_name     276 non-null    object \n",
      " 5   geneid                 458 non-null    int64  \n",
      " 6   disease_class          458 non-null    object \n",
      " 7   disease_type           458 non-null    object \n",
      " 8   uniprotid              452 non-null    object \n",
      " 9   disease_class_name     458 non-null    object \n",
      " 10  disease_name           458 non-null    object \n",
      " 11  el                     8 non-null      object \n",
      " 12  year_initial           451 non-null    float64\n",
      " 13  source                 458 non-null    object \n",
      " 14  ei                     451 non-null    float64\n",
      " 15  gene_dpi               458 non-null    float64\n",
      " 16  protein_class          276 non-null    object \n",
      " 17  year_final             451 non-null    float64\n",
      " 18  gene_symbol            458 non-null    object \n",
      " 19  disease_semantic_type  458 non-null    object \n",
      "dtypes: float64(7), int64(1), object(12)\n",
      "memory usage: 71.7+ KB\n"
     ]
    }
   ],
   "source": [
    "data.info()"
   ]
  },
  {
   "cell_type": "code",
   "execution_count": 6,
   "id": "106857a8",
   "metadata": {},
   "outputs": [
    {
     "data": {
      "application/vnd.microsoft.datawrangler.viewer.v0+json": {
       "columns": [
        {
         "name": "index",
         "rawType": "object",
         "type": "string"
        },
        {
         "name": "count",
         "rawType": "float64",
         "type": "float"
        },
        {
         "name": "mean",
         "rawType": "float64",
         "type": "float"
        },
        {
         "name": "std",
         "rawType": "float64",
         "type": "float"
        },
        {
         "name": "min",
         "rawType": "float64",
         "type": "float"
        },
        {
         "name": "25%",
         "rawType": "float64",
         "type": "float"
        },
        {
         "name": "50%",
         "rawType": "float64",
         "type": "float"
        },
        {
         "name": "75%",
         "rawType": "float64",
         "type": "float"
        },
        {
         "name": "max",
         "rawType": "float64",
         "type": "float"
        }
       ],
       "conversionMethod": "pd.DataFrame",
       "ref": "9580ead9-9c66-4892-9c5c-d8fb3e42b7aa",
       "rows": [
        [
         "gene_pli",
         "442.0",
         "0.31411837787408187",
         "0.4123825421584904",
         "2.7904000000000004e-54",
         "1.8722e-07",
         "0.0065625",
         "0.77089",
         "1.0"
        ],
        [
         "score",
         "458.0",
         "0.32552401746724885",
         "0.06449134821976663",
         "0.3",
         "0.3",
         "0.3",
         "0.32",
         "1.0"
        ],
        [
         "gene_dsi",
         "458.0",
         "0.5163187772925764",
         "0.1326263029458147",
         "0.231",
         "0.425",
         "0.5105",
         "0.601",
         "1.0"
        ],
        [
         "geneid",
         "458.0",
         "14780.775109170305",
         "50812.09174416642",
         "25.0",
         "2252.0",
         "4322.0",
         "7186.5",
         "574456.0"
        ],
        [
         "year_initial",
         "451.0",
         "2005.760532150776",
         "6.881236560755279",
         "1974.0",
         "2004.0",
         "2008.0",
         "2008.0",
         "2020.0"
        ],
        [
         "ei",
         "451.0",
         "0.9922660753880266",
         "0.03608767320948116",
         "0.5",
         "1.0",
         "1.0",
         "1.0",
         "1.0"
        ],
        [
         "gene_dpi",
         "458.0",
         "0.7320807860262009",
         "0.19251039933782835",
         "0.038",
         "0.654",
         "0.769",
         "0.885",
         "0.962"
        ],
        [
         "year_final",
         "451.0",
         "2010.8957871396897",
         "4.92704599251596",
         "1990.0",
         "2008.0",
         "2008.0",
         "2016.0",
         "2020.0"
        ]
       ],
       "shape": {
        "columns": 8,
        "rows": 8
       }
      },
      "text/html": [
       "<div>\n",
       "<style scoped>\n",
       "    .dataframe tbody tr th:only-of-type {\n",
       "        vertical-align: middle;\n",
       "    }\n",
       "\n",
       "    .dataframe tbody tr th {\n",
       "        vertical-align: top;\n",
       "    }\n",
       "\n",
       "    .dataframe thead th {\n",
       "        text-align: right;\n",
       "    }\n",
       "</style>\n",
       "<table border=\"1\" class=\"dataframe\">\n",
       "  <thead>\n",
       "    <tr style=\"text-align: right;\">\n",
       "      <th></th>\n",
       "      <th>count</th>\n",
       "      <th>mean</th>\n",
       "      <th>std</th>\n",
       "      <th>min</th>\n",
       "      <th>25%</th>\n",
       "      <th>50%</th>\n",
       "      <th>75%</th>\n",
       "      <th>max</th>\n",
       "    </tr>\n",
       "  </thead>\n",
       "  <tbody>\n",
       "    <tr>\n",
       "      <th>gene_pli</th>\n",
       "      <td>442.0</td>\n",
       "      <td>0.314118</td>\n",
       "      <td>0.412383</td>\n",
       "      <td>2.790400e-54</td>\n",
       "      <td>1.872200e-07</td>\n",
       "      <td>0.006562</td>\n",
       "      <td>0.77089</td>\n",
       "      <td>1.000</td>\n",
       "    </tr>\n",
       "    <tr>\n",
       "      <th>score</th>\n",
       "      <td>458.0</td>\n",
       "      <td>0.325524</td>\n",
       "      <td>0.064491</td>\n",
       "      <td>3.000000e-01</td>\n",
       "      <td>3.000000e-01</td>\n",
       "      <td>0.300000</td>\n",
       "      <td>0.32000</td>\n",
       "      <td>1.000</td>\n",
       "    </tr>\n",
       "    <tr>\n",
       "      <th>gene_dsi</th>\n",
       "      <td>458.0</td>\n",
       "      <td>0.516319</td>\n",
       "      <td>0.132626</td>\n",
       "      <td>2.310000e-01</td>\n",
       "      <td>4.250000e-01</td>\n",
       "      <td>0.510500</td>\n",
       "      <td>0.60100</td>\n",
       "      <td>1.000</td>\n",
       "    </tr>\n",
       "    <tr>\n",
       "      <th>geneid</th>\n",
       "      <td>458.0</td>\n",
       "      <td>14780.775109</td>\n",
       "      <td>50812.091744</td>\n",
       "      <td>2.500000e+01</td>\n",
       "      <td>2.252000e+03</td>\n",
       "      <td>4322.000000</td>\n",
       "      <td>7186.50000</td>\n",
       "      <td>574456.000</td>\n",
       "    </tr>\n",
       "    <tr>\n",
       "      <th>year_initial</th>\n",
       "      <td>451.0</td>\n",
       "      <td>2005.760532</td>\n",
       "      <td>6.881237</td>\n",
       "      <td>1.974000e+03</td>\n",
       "      <td>2.004000e+03</td>\n",
       "      <td>2008.000000</td>\n",
       "      <td>2008.00000</td>\n",
       "      <td>2020.000</td>\n",
       "    </tr>\n",
       "    <tr>\n",
       "      <th>ei</th>\n",
       "      <td>451.0</td>\n",
       "      <td>0.992266</td>\n",
       "      <td>0.036088</td>\n",
       "      <td>5.000000e-01</td>\n",
       "      <td>1.000000e+00</td>\n",
       "      <td>1.000000</td>\n",
       "      <td>1.00000</td>\n",
       "      <td>1.000</td>\n",
       "    </tr>\n",
       "    <tr>\n",
       "      <th>gene_dpi</th>\n",
       "      <td>458.0</td>\n",
       "      <td>0.732081</td>\n",
       "      <td>0.192510</td>\n",
       "      <td>3.800000e-02</td>\n",
       "      <td>6.540000e-01</td>\n",
       "      <td>0.769000</td>\n",
       "      <td>0.88500</td>\n",
       "      <td>0.962</td>\n",
       "    </tr>\n",
       "    <tr>\n",
       "      <th>year_final</th>\n",
       "      <td>451.0</td>\n",
       "      <td>2010.895787</td>\n",
       "      <td>4.927046</td>\n",
       "      <td>1.990000e+03</td>\n",
       "      <td>2.008000e+03</td>\n",
       "      <td>2008.000000</td>\n",
       "      <td>2016.00000</td>\n",
       "      <td>2020.000</td>\n",
       "    </tr>\n",
       "  </tbody>\n",
       "</table>\n",
       "</div>"
      ],
      "text/plain": [
       "              count          mean           std           min           25%  \\\n",
       "gene_pli      442.0      0.314118      0.412383  2.790400e-54  1.872200e-07   \n",
       "score         458.0      0.325524      0.064491  3.000000e-01  3.000000e-01   \n",
       "gene_dsi      458.0      0.516319      0.132626  2.310000e-01  4.250000e-01   \n",
       "geneid        458.0  14780.775109  50812.091744  2.500000e+01  2.252000e+03   \n",
       "year_initial  451.0   2005.760532      6.881237  1.974000e+03  2.004000e+03   \n",
       "ei            451.0      0.992266      0.036088  5.000000e-01  1.000000e+00   \n",
       "gene_dpi      458.0      0.732081      0.192510  3.800000e-02  6.540000e-01   \n",
       "year_final    451.0   2010.895787      4.927046  1.990000e+03  2.008000e+03   \n",
       "\n",
       "                      50%         75%         max  \n",
       "gene_pli         0.006562     0.77089       1.000  \n",
       "score            0.300000     0.32000       1.000  \n",
       "gene_dsi         0.510500     0.60100       1.000  \n",
       "geneid        4322.000000  7186.50000  574456.000  \n",
       "year_initial  2008.000000  2008.00000    2020.000  \n",
       "ei               1.000000     1.00000       1.000  \n",
       "gene_dpi         0.769000     0.88500       0.962  \n",
       "year_final    2008.000000  2016.00000    2020.000  "
      ]
     },
     "execution_count": 6,
     "metadata": {},
     "output_type": "execute_result"
    }
   ],
   "source": [
    "data.describe().T"
   ]
  },
  {
   "cell_type": "code",
   "execution_count": 7,
   "id": "3e974640",
   "metadata": {},
   "outputs": [
    {
     "data": {
      "text/plain": [
       "array(['Achondroplasia', 'Abetalipoproteinemia', 'Apert syndrome',\n",
       "       'Adenocarcinoma', 'Renal tubular acidosis',\n",
       "       'Tumors of Adrenal Cortex', 'Addison Disease', 'Acidosis, Lactic',\n",
       "       'Congenital Abnormality', 'Multiple congenital anomalies',\n",
       "       'Spontaneous abortion', 'Acromegaly', 'ACTH Syndrome, Ectopic',\n",
       "       'Adenoma', 'Acquired Immunodeficiency Syndrome', 'Acrodermatitis',\n",
       "       'Abortion, Habitual', 'Abruptio Placentae', 'Acne Vulgaris',\n",
       "       'Adrenal Cortex Diseases', 'Abdominal Pain',\n",
       "       'Abnormalities, Drug-Induced', 'Threatened abortion',\n",
       "       'Abortion, Tubal', 'Acidosis',\n",
       "       'Herpetic Acute Necrotizing Encephalitis', 'Acute-Phase Reaction',\n",
       "       'Massive Hepatic Necrosis', 'Adjustment Disorders'], dtype=object)"
      ]
     },
     "execution_count": 7,
     "metadata": {},
     "output_type": "execute_result"
    }
   ],
   "source": [
    "data['disease_name'].unique()"
   ]
  },
  {
   "cell_type": "code",
   "execution_count": 8,
   "id": "0775fe4a",
   "metadata": {},
   "outputs": [
    {
     "data": {
      "application/vnd.microsoft.datawrangler.viewer.v0+json": {
       "columns": [
        {
         "name": "index",
         "rawType": "int64",
         "type": "integer"
        },
        {
         "name": "gene_pli",
         "rawType": "float64",
         "type": "float"
        },
        {
         "name": "score",
         "rawType": "float64",
         "type": "float"
        },
        {
         "name": "diseaseid",
         "rawType": "object",
         "type": "string"
        },
        {
         "name": "gene_dsi",
         "rawType": "float64",
         "type": "float"
        },
        {
         "name": "protein_class_name",
         "rawType": "object",
         "type": "unknown"
        },
        {
         "name": "geneid",
         "rawType": "int64",
         "type": "integer"
        },
        {
         "name": "disease_class",
         "rawType": "object",
         "type": "string"
        },
        {
         "name": "disease_type",
         "rawType": "object",
         "type": "string"
        },
        {
         "name": "uniprotid",
         "rawType": "object",
         "type": "string"
        },
        {
         "name": "disease_class_name",
         "rawType": "object",
         "type": "string"
        },
        {
         "name": "disease_name",
         "rawType": "object",
         "type": "string"
        },
        {
         "name": "el",
         "rawType": "object",
         "type": "unknown"
        },
        {
         "name": "year_initial",
         "rawType": "float64",
         "type": "float"
        },
        {
         "name": "source",
         "rawType": "object",
         "type": "string"
        },
        {
         "name": "ei",
         "rawType": "float64",
         "type": "float"
        },
        {
         "name": "gene_dpi",
         "rawType": "float64",
         "type": "float"
        },
        {
         "name": "protein_class",
         "rawType": "object",
         "type": "unknown"
        },
        {
         "name": "year_final",
         "rawType": "float64",
         "type": "float"
        },
        {
         "name": "gene_symbol",
         "rawType": "object",
         "type": "string"
        },
        {
         "name": "disease_semantic_type",
         "rawType": "object",
         "type": "string"
        }
       ],
       "conversionMethod": "pd.DataFrame",
       "ref": "5355789a-5e4a-40e7-9d0f-3118f1b54c44",
       "rows": [
        [
         "20",
         "0.030057",
         "0.4",
         "C0001206",
         "0.373",
         "Signaling",
         "2688",
         "C05;C10;C19",
         "disease",
         "P01241",
         "   Musculoskeletal Diseases;    Nervous System Diseases;    Endocrine System Diseases",
         "Acromegaly",
         null,
         "1978.0",
         "CURATED",
         "0.982",
         "0.923",
         "DTO_05007599",
         "2020.0",
         "GH1",
         "Disease or Syndrome"
        ],
        [
         "21",
         "0.2716",
         "0.4",
         "C0001206",
         "0.318",
         null,
         "3479",
         "C05;C10;C19",
         "disease",
         "P05019",
         "   Musculoskeletal Diseases;    Nervous System Diseases;    Endocrine System Diseases",
         "Acromegaly",
         null,
         "1991.0",
         "CURATED",
         "0.977",
         "0.885",
         null,
         "2020.0",
         "IGF1",
         "Disease or Syndrome"
        ],
        [
         "22",
         "0.36163",
         "0.4",
         "C0001206",
         "0.517",
         "Chaperone",
         "9049",
         "C05;C10;C19",
         "disease",
         "O00170",
         "   Musculoskeletal Diseases;    Nervous System Diseases;    Endocrine System Diseases",
         "Acromegaly",
         null,
         "2007.0",
         "CURATED",
         "1.0",
         "0.769",
         "DTO_05007613",
         "2019.0",
         "AIP",
         "Disease or Syndrome"
        ],
        [
         "80",
         "0.68076",
         "0.35",
         "C0001206",
         "0.42",
         "Enzyme modulator",
         "2778",
         "C05;C10;C19",
         "disease",
         "O95467;P63092;P84996;Q5JWF2",
         "   Musculoskeletal Diseases;    Nervous System Diseases;    Endocrine System Diseases",
         "Acromegaly",
         null,
         "1991.0",
         "CURATED",
         "0.8",
         "0.885",
         "DTO_05007584",
         "2017.0",
         "GNAS",
         "Disease or Syndrome"
        ],
        [
         "81",
         "0.70375",
         "0.35",
         "C0001206",
         "0.631",
         "G-protein coupled receptor",
         "83550",
         "C05;C10;C19",
         "disease",
         "Q96P66",
         "   Musculoskeletal Diseases;    Nervous System Diseases;    Endocrine System Diseases",
         "Acromegaly",
         null,
         "2014.0",
         "CURATED",
         "1.0",
         "0.538",
         "DTO_02300001",
         "2019.0",
         "GPR101",
         "Disease or Syndrome"
        ]
       ],
       "shape": {
        "columns": 20,
        "rows": 5
       }
      },
      "text/html": [
       "<div>\n",
       "<style scoped>\n",
       "    .dataframe tbody tr th:only-of-type {\n",
       "        vertical-align: middle;\n",
       "    }\n",
       "\n",
       "    .dataframe tbody tr th {\n",
       "        vertical-align: top;\n",
       "    }\n",
       "\n",
       "    .dataframe thead th {\n",
       "        text-align: right;\n",
       "    }\n",
       "</style>\n",
       "<table border=\"1\" class=\"dataframe\">\n",
       "  <thead>\n",
       "    <tr style=\"text-align: right;\">\n",
       "      <th></th>\n",
       "      <th>gene_pli</th>\n",
       "      <th>score</th>\n",
       "      <th>diseaseid</th>\n",
       "      <th>gene_dsi</th>\n",
       "      <th>protein_class_name</th>\n",
       "      <th>geneid</th>\n",
       "      <th>disease_class</th>\n",
       "      <th>disease_type</th>\n",
       "      <th>uniprotid</th>\n",
       "      <th>disease_class_name</th>\n",
       "      <th>disease_name</th>\n",
       "      <th>el</th>\n",
       "      <th>year_initial</th>\n",
       "      <th>source</th>\n",
       "      <th>ei</th>\n",
       "      <th>gene_dpi</th>\n",
       "      <th>protein_class</th>\n",
       "      <th>year_final</th>\n",
       "      <th>gene_symbol</th>\n",
       "      <th>disease_semantic_type</th>\n",
       "    </tr>\n",
       "  </thead>\n",
       "  <tbody>\n",
       "    <tr>\n",
       "      <th>20</th>\n",
       "      <td>0.030057</td>\n",
       "      <td>0.40</td>\n",
       "      <td>C0001206</td>\n",
       "      <td>0.373</td>\n",
       "      <td>Signaling</td>\n",
       "      <td>2688</td>\n",
       "      <td>C05;C10;C19</td>\n",
       "      <td>disease</td>\n",
       "      <td>P01241</td>\n",
       "      <td>Musculoskeletal Diseases;    Nervous System...</td>\n",
       "      <td>Acromegaly</td>\n",
       "      <td>NaN</td>\n",
       "      <td>1978.0</td>\n",
       "      <td>CURATED</td>\n",
       "      <td>0.982</td>\n",
       "      <td>0.923</td>\n",
       "      <td>DTO_05007599</td>\n",
       "      <td>2020.0</td>\n",
       "      <td>GH1</td>\n",
       "      <td>Disease or Syndrome</td>\n",
       "    </tr>\n",
       "    <tr>\n",
       "      <th>21</th>\n",
       "      <td>0.271600</td>\n",
       "      <td>0.40</td>\n",
       "      <td>C0001206</td>\n",
       "      <td>0.318</td>\n",
       "      <td>NaN</td>\n",
       "      <td>3479</td>\n",
       "      <td>C05;C10;C19</td>\n",
       "      <td>disease</td>\n",
       "      <td>P05019</td>\n",
       "      <td>Musculoskeletal Diseases;    Nervous System...</td>\n",
       "      <td>Acromegaly</td>\n",
       "      <td>NaN</td>\n",
       "      <td>1991.0</td>\n",
       "      <td>CURATED</td>\n",
       "      <td>0.977</td>\n",
       "      <td>0.885</td>\n",
       "      <td>NaN</td>\n",
       "      <td>2020.0</td>\n",
       "      <td>IGF1</td>\n",
       "      <td>Disease or Syndrome</td>\n",
       "    </tr>\n",
       "    <tr>\n",
       "      <th>22</th>\n",
       "      <td>0.361630</td>\n",
       "      <td>0.40</td>\n",
       "      <td>C0001206</td>\n",
       "      <td>0.517</td>\n",
       "      <td>Chaperone</td>\n",
       "      <td>9049</td>\n",
       "      <td>C05;C10;C19</td>\n",
       "      <td>disease</td>\n",
       "      <td>O00170</td>\n",
       "      <td>Musculoskeletal Diseases;    Nervous System...</td>\n",
       "      <td>Acromegaly</td>\n",
       "      <td>NaN</td>\n",
       "      <td>2007.0</td>\n",
       "      <td>CURATED</td>\n",
       "      <td>1.000</td>\n",
       "      <td>0.769</td>\n",
       "      <td>DTO_05007613</td>\n",
       "      <td>2019.0</td>\n",
       "      <td>AIP</td>\n",
       "      <td>Disease or Syndrome</td>\n",
       "    </tr>\n",
       "    <tr>\n",
       "      <th>80</th>\n",
       "      <td>0.680760</td>\n",
       "      <td>0.35</td>\n",
       "      <td>C0001206</td>\n",
       "      <td>0.420</td>\n",
       "      <td>Enzyme modulator</td>\n",
       "      <td>2778</td>\n",
       "      <td>C05;C10;C19</td>\n",
       "      <td>disease</td>\n",
       "      <td>O95467;P63092;P84996;Q5JWF2</td>\n",
       "      <td>Musculoskeletal Diseases;    Nervous System...</td>\n",
       "      <td>Acromegaly</td>\n",
       "      <td>NaN</td>\n",
       "      <td>1991.0</td>\n",
       "      <td>CURATED</td>\n",
       "      <td>0.800</td>\n",
       "      <td>0.885</td>\n",
       "      <td>DTO_05007584</td>\n",
       "      <td>2017.0</td>\n",
       "      <td>GNAS</td>\n",
       "      <td>Disease or Syndrome</td>\n",
       "    </tr>\n",
       "    <tr>\n",
       "      <th>81</th>\n",
       "      <td>0.703750</td>\n",
       "      <td>0.35</td>\n",
       "      <td>C0001206</td>\n",
       "      <td>0.631</td>\n",
       "      <td>G-protein coupled receptor</td>\n",
       "      <td>83550</td>\n",
       "      <td>C05;C10;C19</td>\n",
       "      <td>disease</td>\n",
       "      <td>Q96P66</td>\n",
       "      <td>Musculoskeletal Diseases;    Nervous System...</td>\n",
       "      <td>Acromegaly</td>\n",
       "      <td>NaN</td>\n",
       "      <td>2014.0</td>\n",
       "      <td>CURATED</td>\n",
       "      <td>1.000</td>\n",
       "      <td>0.538</td>\n",
       "      <td>DTO_02300001</td>\n",
       "      <td>2019.0</td>\n",
       "      <td>GPR101</td>\n",
       "      <td>Disease or Syndrome</td>\n",
       "    </tr>\n",
       "  </tbody>\n",
       "</table>\n",
       "</div>"
      ],
      "text/plain": [
       "    gene_pli  score diseaseid  gene_dsi          protein_class_name  geneid  \\\n",
       "20  0.030057   0.40  C0001206     0.373                   Signaling    2688   \n",
       "21  0.271600   0.40  C0001206     0.318                         NaN    3479   \n",
       "22  0.361630   0.40  C0001206     0.517                   Chaperone    9049   \n",
       "80  0.680760   0.35  C0001206     0.420            Enzyme modulator    2778   \n",
       "81  0.703750   0.35  C0001206     0.631  G-protein coupled receptor   83550   \n",
       "\n",
       "   disease_class disease_type                    uniprotid  \\\n",
       "20   C05;C10;C19      disease                       P01241   \n",
       "21   C05;C10;C19      disease                       P05019   \n",
       "22   C05;C10;C19      disease                       O00170   \n",
       "80   C05;C10;C19      disease  O95467;P63092;P84996;Q5JWF2   \n",
       "81   C05;C10;C19      disease                       Q96P66   \n",
       "\n",
       "                                   disease_class_name disease_name   el  \\\n",
       "20     Musculoskeletal Diseases;    Nervous System...   Acromegaly  NaN   \n",
       "21     Musculoskeletal Diseases;    Nervous System...   Acromegaly  NaN   \n",
       "22     Musculoskeletal Diseases;    Nervous System...   Acromegaly  NaN   \n",
       "80     Musculoskeletal Diseases;    Nervous System...   Acromegaly  NaN   \n",
       "81     Musculoskeletal Diseases;    Nervous System...   Acromegaly  NaN   \n",
       "\n",
       "    year_initial   source     ei  gene_dpi protein_class  year_final  \\\n",
       "20        1978.0  CURATED  0.982     0.923  DTO_05007599      2020.0   \n",
       "21        1991.0  CURATED  0.977     0.885           NaN      2020.0   \n",
       "22        2007.0  CURATED  1.000     0.769  DTO_05007613      2019.0   \n",
       "80        1991.0  CURATED  0.800     0.885  DTO_05007584      2017.0   \n",
       "81        2014.0  CURATED  1.000     0.538  DTO_02300001      2019.0   \n",
       "\n",
       "   gene_symbol disease_semantic_type  \n",
       "20         GH1   Disease or Syndrome  \n",
       "21        IGF1   Disease or Syndrome  \n",
       "22         AIP   Disease or Syndrome  \n",
       "80        GNAS   Disease or Syndrome  \n",
       "81      GPR101   Disease or Syndrome  "
      ]
     },
     "execution_count": 8,
     "metadata": {},
     "output_type": "execute_result"
    }
   ],
   "source": [
    "data[data['disease_name']=='Acromegaly']"
   ]
  },
  {
   "cell_type": "code",
   "execution_count": 9,
   "id": "3420677b",
   "metadata": {},
   "outputs": [
    {
     "data": {
      "text/plain": [
       "<http.client.HTTPResponse at 0x7f72e57228f0>"
      ]
     },
     "execution_count": 9,
     "metadata": {},
     "output_type": "execute_result"
    }
   ],
   "source": [
    "handle = Entrez.efetch(db=\"gene\", id=\"2688\", rettype = 'xml')\n",
    "handle"
   ]
  },
  {
   "cell_type": "code",
   "execution_count": 10,
   "id": "4da88f34",
   "metadata": {},
   "outputs": [
    {
     "name": "stdout",
     "output_type": "stream",
     "text": [
      "63917203 63918839 568815581 minus\n"
     ]
    }
   ],
   "source": [
    "gene_locus = ET.parse(handle).getroot().find(\"Entrezgene/Entrezgene_locus\")\n",
    "region = gene_locus.find(\"Gene-commentary/Gene-commentary_seqs/Seq-loc/Seq-loc_int/Seq-interval\")\n",
    "start = int(region.find(\"Seq-interval_from\").text) + 1\n",
    "end = int(region.find(\"Seq-interval_to\").text) + 1\n",
    "gi_id = region.find(\"Seq-interval_id/Seq-id/Seq-id_gi\").text\n",
    "strand = region.find(\"Seq-interval_strand/Na-strand\").get(\"value\")\n",
    "print(start, end, gi_id, strand)"
   ]
  },
  {
   "cell_type": "code",
   "execution_count": 11,
   "id": "01e0d1ad",
   "metadata": {},
   "outputs": [],
   "source": [
    "handle = Entrez.efetch(db=\"nucleotide\",\n",
    "                       id=\"568815581\", \n",
    "                       rettype = 'fasta',\n",
    "                       retmode = 'text')\n",
    "\n",
    "chromosome = SeqIO.read(handle, 'fasta')"
   ]
  },
  {
   "cell_type": "code",
   "execution_count": 110,
   "id": "574370b2",
   "metadata": {},
   "outputs": [
    {
     "data": {
      "text/plain": [
       "SeqRecord(seq=Seq('NNNNNNNNNNNNNNNNNNNNNNNNNNNNNNNNNNNNNNNNNNNNNNNNNNNNNN...NNN'), id='NC_000017.11', name='NC_000017.11', description='NC_000017.11 Homo sapiens chromosome 17, GRCh38.p14 Primary Assembly', dbxrefs=[])"
      ]
     },
     "execution_count": 110,
     "metadata": {},
     "output_type": "execute_result"
    }
   ],
   "source": [
    "chromosome"
   ]
  },
  {
   "cell_type": "code",
   "execution_count": 12,
   "id": "fece42bc",
   "metadata": {},
   "outputs": [
    {
     "data": {
      "text/plain": [
       "'NC_000017.11 Homo sapiens chromosome 17, GRCh38.p14 Primary Assembly'"
      ]
     },
     "execution_count": 12,
     "metadata": {},
     "output_type": "execute_result"
    }
   ],
   "source": [
    "chromosome.description"
   ]
  },
  {
   "cell_type": "code",
   "execution_count": 118,
   "id": "bc6d45e4",
   "metadata": {},
   "outputs": [
    {
     "name": "stdout",
     "output_type": "stream",
     "text": [
      "GATGCAACTTAATTTTATTAGGACAAGGCTGGTGGGCACTGGAGTGGCAACTTCCAGGGCCAGGAGAGGCACTGGGGAGGGGTCACAGGGATGCCACCCGGGCAGCTAGAAGCCACAGCTGCCCTCCACAGAGCGGCACTGCACGATGCGCAGGAATGTCTCGACCTTGTCCATGTCCTTCCTGAAGCAGTAGAGCAGCCCGTAGTTCTTGAGTAGTGCGTCATCGTTGTGTGAGTTTGTGTCGAACTTGCTGTAGGTCTGCTTGAAGATCTGCCCAGTCCGGGGGCTGCCATCTTCCAGCCTCTGCAAAGTGAAGGAAGAGAAGGAGAGGCCAAGCGCTTGGGTACTGTTCCCTCCCTTTCTCATTCATTCATTTTCCTCCCTCCCCTTCAGGGTGTAGAGAAAGGCCTGGAGGATTCACGAGGGGAAATGAAGAATAAGGTGAGTTCTCTTGGGTCAGGGCCTGACTGCTAAAAAGAGGGCAGCAGTGTTTCTCTAACACAGCTCTCAAAGTCAGTGGGGCTCCAGGATTGGGGACCCCTGGCGCCACCCTCACCCCCATCAGCGTTTGGATGCCTTCCTCTAGGTCCTTTAGGAGGTCATAGACGTTGCTGTCAGAGGCGCCGTACACCAGGCTGTTGGCGAAGACACTCCTGAGGAACTGCACGGGCTCCAGCCACGACTGGATGAGCAGCAGGGAGATGCGGAGCAGCTCTAGGTTCTGCAGGGGAAGGACGGGCATTGGCTGTGCTGCCCGGGGGCTCTGACTACAGGTCTCCCCCATCCCCGCCTGGGGAGAAGGCATCCACTCACGGATTTCTGTTGTGTTTCCTCCCTGTTGGAGGGTGTCGGAATAGACTCTGAGAAACAGAGGGAGGTCTGGGGGTTCTGCAGGAATGAATACTTCTGTTCCTTTGGGATATAGGCTTCTTCCTAGGAGAAGGACCGCCCACCAAGGTCTACGCTGGAGACCAGCTCCCATTGTTACTTTTCTGGGAACCTCACTCAGCGTGTGCTCATCTGCCTGCATTTTCGCTTCGGGAAAAACCCTGAGCTCCTTAGTCTCCTCCTCTTATTTCCCAGCGGGGGAAAGTCACCCCTTCCTGCCACCCCTGATGCGCACCCATTCCCCAAGAGCTTACAAACTCCTGGTAGGTGTCAAAGGCCAGCTGGTGCAGACGATGGGCGCGGAGCATAGCGTTGTCAAAAAGCCTGGATAAGGGAATGGTTGGGAAGGCACTGCCCTCTTGAAGCCAGGGCAGGCAGAGCAGGCCAAAAGCCAGGAGCAGGGACGTCCGGGAGCCTGGGGAGAAACCAGAGGGCAACAGAGGGAGCCGGAGAGCAAGAGGCCAGCACTCTCCCTGCTCCAGGAGCTGTTTGTTTTTCTCTCTCCATCCCTCCAGGGACCAGGAGCTTTCTGAGATTGGCCAAATACTGGGCTTACATGGCGATACTCACATTCAGAAGCCCCAAACCTGAGGGTTAGTGCCCCCGTCCCATCTACAGGTCGCTGCCTCTCCCCTCAGGACACATTGTGCCCAAAGGGATTTTAGGGGCGCTTACCTGTAGCCATTGCAGCTAGGTGAGCTGTCCACAGGACCCTGAGTGGTTCGGGGAGTTGGGCCTTGGGATCCTT\n"
     ]
    },
    {
     "data": {
      "text/plain": [
       "1636"
      ]
     },
     "execution_count": 118,
     "metadata": {},
     "output_type": "execute_result"
    }
   ],
   "source": [
    "gene_GH1 = chromosome.seq[63917203:63918839]\n",
    "print(gene_GH1)\n",
    "len(gene_GH1)"
   ]
  },
  {
   "cell_type": "code",
   "execution_count": 121,
   "id": "c81bb0e8",
   "metadata": {},
   "outputs": [
    {
     "data": {
      "text/plain": [
       "545.3333333333334"
      ]
     },
     "execution_count": 121,
     "metadata": {},
     "output_type": "execute_result"
    }
   ],
   "source": [
    "len(gene_GH1)/3"
   ]
  },
  {
   "cell_type": "code",
   "execution_count": 36,
   "id": "60d63098",
   "metadata": {},
   "outputs": [
    {
     "data": {
      "application/vnd.microsoft.datawrangler.viewer.v0+json": {
       "columns": [
        {
         "name": "index",
         "rawType": "int64",
         "type": "integer"
        },
        {
         "name": "gene_pli",
         "rawType": "float64",
         "type": "float"
        },
        {
         "name": "score",
         "rawType": "float64",
         "type": "float"
        },
        {
         "name": "diseaseid",
         "rawType": "object",
         "type": "string"
        },
        {
         "name": "gene_dsi",
         "rawType": "float64",
         "type": "float"
        },
        {
         "name": "protein_class_name",
         "rawType": "object",
         "type": "string"
        },
        {
         "name": "geneid",
         "rawType": "int64",
         "type": "integer"
        },
        {
         "name": "disease_class",
         "rawType": "object",
         "type": "string"
        },
        {
         "name": "disease_type",
         "rawType": "object",
         "type": "string"
        },
        {
         "name": "uniprotid",
         "rawType": "object",
         "type": "string"
        },
        {
         "name": "disease_class_name",
         "rawType": "object",
         "type": "string"
        },
        {
         "name": "disease_name",
         "rawType": "object",
         "type": "string"
        },
        {
         "name": "el",
         "rawType": "object",
         "type": "unknown"
        },
        {
         "name": "year_initial",
         "rawType": "float64",
         "type": "float"
        },
        {
         "name": "source",
         "rawType": "object",
         "type": "string"
        },
        {
         "name": "ei",
         "rawType": "float64",
         "type": "float"
        },
        {
         "name": "gene_dpi",
         "rawType": "float64",
         "type": "float"
        },
        {
         "name": "protein_class",
         "rawType": "object",
         "type": "string"
        },
        {
         "name": "year_final",
         "rawType": "float64",
         "type": "float"
        },
        {
         "name": "gene_symbol",
         "rawType": "object",
         "type": "string"
        },
        {
         "name": "disease_semantic_type",
         "rawType": "object",
         "type": "string"
        }
       ],
       "conversionMethod": "pd.DataFrame",
       "ref": "d6e37663-6447-4b41-8b53-b774d08f0147",
       "rows": [
        [
         "20",
         "0.030057",
         "0.4",
         "C0001206",
         "0.373",
         "Signaling",
         "2688",
         "C05;C10;C19",
         "disease",
         "P01241",
         "   Musculoskeletal Diseases;    Nervous System Diseases;    Endocrine System Diseases",
         "Acromegaly",
         null,
         "1978.0",
         "CURATED",
         "0.982",
         "0.923",
         "DTO_05007599",
         "2020.0",
         "GH1",
         "Disease or Syndrome"
        ]
       ],
       "shape": {
        "columns": 20,
        "rows": 1
       }
      },
      "text/html": [
       "<div>\n",
       "<style scoped>\n",
       "    .dataframe tbody tr th:only-of-type {\n",
       "        vertical-align: middle;\n",
       "    }\n",
       "\n",
       "    .dataframe tbody tr th {\n",
       "        vertical-align: top;\n",
       "    }\n",
       "\n",
       "    .dataframe thead th {\n",
       "        text-align: right;\n",
       "    }\n",
       "</style>\n",
       "<table border=\"1\" class=\"dataframe\">\n",
       "  <thead>\n",
       "    <tr style=\"text-align: right;\">\n",
       "      <th></th>\n",
       "      <th>gene_pli</th>\n",
       "      <th>score</th>\n",
       "      <th>diseaseid</th>\n",
       "      <th>gene_dsi</th>\n",
       "      <th>protein_class_name</th>\n",
       "      <th>geneid</th>\n",
       "      <th>disease_class</th>\n",
       "      <th>disease_type</th>\n",
       "      <th>uniprotid</th>\n",
       "      <th>disease_class_name</th>\n",
       "      <th>disease_name</th>\n",
       "      <th>el</th>\n",
       "      <th>year_initial</th>\n",
       "      <th>source</th>\n",
       "      <th>ei</th>\n",
       "      <th>gene_dpi</th>\n",
       "      <th>protein_class</th>\n",
       "      <th>year_final</th>\n",
       "      <th>gene_symbol</th>\n",
       "      <th>disease_semantic_type</th>\n",
       "    </tr>\n",
       "  </thead>\n",
       "  <tbody>\n",
       "    <tr>\n",
       "      <th>20</th>\n",
       "      <td>0.030057</td>\n",
       "      <td>0.4</td>\n",
       "      <td>C0001206</td>\n",
       "      <td>0.373</td>\n",
       "      <td>Signaling</td>\n",
       "      <td>2688</td>\n",
       "      <td>C05;C10;C19</td>\n",
       "      <td>disease</td>\n",
       "      <td>P01241</td>\n",
       "      <td>Musculoskeletal Diseases;    Nervous System...</td>\n",
       "      <td>Acromegaly</td>\n",
       "      <td>NaN</td>\n",
       "      <td>1978.0</td>\n",
       "      <td>CURATED</td>\n",
       "      <td>0.982</td>\n",
       "      <td>0.923</td>\n",
       "      <td>DTO_05007599</td>\n",
       "      <td>2020.0</td>\n",
       "      <td>GH1</td>\n",
       "      <td>Disease or Syndrome</td>\n",
       "    </tr>\n",
       "  </tbody>\n",
       "</table>\n",
       "</div>"
      ],
      "text/plain": [
       "    gene_pli  score diseaseid  gene_dsi protein_class_name  geneid  \\\n",
       "20  0.030057    0.4  C0001206     0.373          Signaling    2688   \n",
       "\n",
       "   disease_class disease_type uniprotid  \\\n",
       "20   C05;C10;C19      disease    P01241   \n",
       "\n",
       "                                   disease_class_name disease_name   el  \\\n",
       "20     Musculoskeletal Diseases;    Nervous System...   Acromegaly  NaN   \n",
       "\n",
       "    year_initial   source     ei  gene_dpi protein_class  year_final  \\\n",
       "20        1978.0  CURATED  0.982     0.923  DTO_05007599      2020.0   \n",
       "\n",
       "   gene_symbol disease_semantic_type  \n",
       "20         GH1   Disease or Syndrome  "
      ]
     },
     "execution_count": 36,
     "metadata": {},
     "output_type": "execute_result"
    }
   ],
   "source": [
    "data[data['gene_symbol']=='GH1']"
   ]
  },
  {
   "cell_type": "code",
   "execution_count": 122,
   "id": "b157f49c",
   "metadata": {},
   "outputs": [
    {
     "data": {
      "text/plain": [
       "Seq('GATGCAACTTAATTTTATTAGGACAAGGCTGGTGGGCACTGGAGTGGCAACTTC...CTT')"
      ]
     },
     "execution_count": 122,
     "metadata": {},
     "output_type": "execute_result"
    }
   ],
   "source": [
    "gene_GH1"
   ]
  },
  {
   "cell_type": "code",
   "execution_count": 123,
   "id": "30572ea4",
   "metadata": {},
   "outputs": [
    {
     "data": {
      "text/plain": [
       "Seq('GAUGCAACUUAAUUUUAUUAGGACAAGGCUGGUGGGCACUGGAGUGGCAACUUC...CUU')"
      ]
     },
     "execution_count": 123,
     "metadata": {},
     "output_type": "execute_result"
    }
   ],
   "source": [
    "gene_GH1.transcribe()"
   ]
  },
  {
   "cell_type": "code",
   "execution_count": 124,
   "id": "988ace1b",
   "metadata": {},
   "outputs": [
    {
     "name": "stderr",
     "output_type": "stream",
     "text": [
      "/home/alexandr/biostat/venv/lib/python3.10/site-packages/Bio/Seq.py:2879: BiopythonWarning: Partial codon, len(sequence) not a multiple of three. Explicitly trim the sequence or add trailing N before translation. This may become an error in future.\n",
      "  warnings.warn(\n"
     ]
    }
   ],
   "source": [
    "protein_seq = gene_GH1.transcribe().translate()"
   ]
  },
  {
   "cell_type": "code",
   "execution_count": 97,
   "id": "1c75dc38",
   "metadata": {},
   "outputs": [
    {
     "name": "stdout",
     "output_type": "stream",
     "text": [
      "Table 1 Standard, SGC0\n",
      "\n",
      "  |  T      |  C      |  A      |  G      |\n",
      "--+---------+---------+---------+---------+--\n",
      "T | TTT F   | TCT S   | TAT Y   | TGT C   | T\n",
      "T | TTC F   | TCC S   | TAC Y   | TGC C   | C\n",
      "T | TTA L   | TCA S   | TAA Stop| TGA Stop| A\n",
      "T | TTG L(s)| TCG S   | TAG Stop| TGG W   | G\n",
      "--+---------+---------+---------+---------+--\n",
      "C | CTT L   | CCT P   | CAT H   | CGT R   | T\n",
      "C | CTC L   | CCC P   | CAC H   | CGC R   | C\n",
      "C | CTA L   | CCA P   | CAA Q   | CGA R   | A\n",
      "C | CTG L(s)| CCG P   | CAG Q   | CGG R   | G\n",
      "--+---------+---------+---------+---------+--\n",
      "A | ATT I   | ACT T   | AAT N   | AGT S   | T\n",
      "A | ATC I   | ACC T   | AAC N   | AGC S   | C\n",
      "A | ATA I   | ACA T   | AAA K   | AGA R   | A\n",
      "A | ATG M(s)| ACG T   | AAG K   | AGG R   | G\n",
      "--+---------+---------+---------+---------+--\n",
      "G | GTT V   | GCT A   | GAT D   | GGT G   | T\n",
      "G | GTC V   | GCC A   | GAC D   | GGC G   | C\n",
      "G | GTA V   | GCA A   | GAA E   | GGA G   | A\n",
      "G | GTG V   | GCG A   | GAG E   | GGG G   | G\n",
      "--+---------+---------+---------+---------+--\n"
     ]
    }
   ],
   "source": [
    "from Bio.Data import CodonTable \n",
    "table = CodonTable.unambiguous_dna_by_name[\"Standard\"] \n",
    "print(table) "
   ]
  },
  {
   "cell_type": "code",
   "execution_count": 114,
   "id": "b0963a0e",
   "metadata": {},
   "outputs": [
    {
     "data": {
      "text/plain": [
       "Seq('DAT*FY*DKAGGHWSGNFQGQERHWGGVTGMPPGQLEATAALHRAALHDAQECL...WDP')"
      ]
     },
     "execution_count": 114,
     "metadata": {},
     "output_type": "execute_result"
    }
   ],
   "source": [
    "protein_seq"
   ]
  },
  {
   "cell_type": "code",
   "execution_count": 117,
   "id": "a20d2481",
   "metadata": {},
   "outputs": [
    {
     "data": {
      "text/plain": [
       "[Seq('DAT'),\n",
       " Seq('FY'),\n",
       " Seq('DKAGGHWSGNFQGQERHWGGVTGMPPGQLEATAALHRAALHDAQECLDLVHVLP...VLE'),\n",
       " Seq('CVIVV'),\n",
       " Seq('VCVELAVGLLEDLPSPGAAIFQPLQSEGREGEAKRLGTVPSLSHSFIFLPPLQG...PDC'),\n",
       " Seq('KEGSSVSLTQLSKSVGLQDWGPLAPPSPPSAFGCLPLGPLGGHRRCCQRRRTPGCWRRHS'),\n",
       " Seq('GTARAPATTG'),\n",
       " Seq('AAGRCGAALGSAGEGRALAVLPGGSDYRSPPSPPGEKASTHGFLLCFLPVGGCRNRL'),\n",
       " Seq('ETEGGLGVLQE'),\n",
       " Seq('ILLFLWDIGFFLGEGPPTKVYAGDQLPLLLFWEPHSACAHLPAFSLREKP'),\n",
       " Seq('AP'),\n",
       " Seq('SPPLISQRGKVTPSCHP'),\n",
       " Seq('CAPIPQELTNSW'),\n",
       " Seq('VSKASWCRRWARSIALSKSLDKGMVGKALPS'),\n",
       " Seq('SQGRQSRPKARSRDVREPGEKPEGNRGSRRARGQHSPCSRSCLFFSLHPSRDQE...PQT'),\n",
       " Seq('GLVPPSHLQVAASPLRTHCAQRDFRGAYL'),\n",
       " Seq('PLQLGELSTGP'),\n",
       " Seq('VVRGVGPWDP')]"
      ]
     },
     "execution_count": 117,
     "metadata": {},
     "output_type": "execute_result"
    }
   ],
   "source": [
    "protein_seq.split('*')"
   ]
  },
  {
   "cell_type": "code",
   "execution_count": 115,
   "id": "6767fd54",
   "metadata": {},
   "outputs": [
    {
     "data": {
      "text/plain": [
       "1"
      ]
     },
     "execution_count": 115,
     "metadata": {},
     "output_type": "execute_result"
    }
   ],
   "source": [
    "SeqIO.write(SeqRecord(seq=protein_seq, id='568815581'), 'prot.fasta','fasta')"
   ]
  },
  {
   "cell_type": "code",
   "execution_count": null,
   "id": "31fc7777",
   "metadata": {},
   "outputs": [],
   "source": []
  },
  {
   "cell_type": "code",
   "execution_count": null,
   "id": "85020f25",
   "metadata": {},
   "outputs": [],
   "source": []
  },
  {
   "cell_type": "code",
   "execution_count": null,
   "id": "e29bcaa4",
   "metadata": {},
   "outputs": [],
   "source": []
  },
  {
   "cell_type": "code",
   "execution_count": null,
   "id": "cf3a94d3",
   "metadata": {},
   "outputs": [],
   "source": []
  }
 ],
 "metadata": {
  "kernelspec": {
   "display_name": "venv",
   "language": "python",
   "name": "python3"
  },
  "language_info": {
   "codemirror_mode": {
    "name": "ipython",
    "version": 3
   },
   "file_extension": ".py",
   "mimetype": "text/x-python",
   "name": "python",
   "nbconvert_exporter": "python",
   "pygments_lexer": "ipython3",
   "version": "3.10.12"
  }
 },
 "nbformat": 4,
 "nbformat_minor": 5
}
