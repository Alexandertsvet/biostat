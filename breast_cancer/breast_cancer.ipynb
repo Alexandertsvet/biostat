{
 "cells": [
  {
   "cell_type": "code",
   "execution_count": 49,
   "id": "5bc75753",
   "metadata": {},
   "outputs": [],
   "source": [
    "import pandas as pd\n",
    "import phik\n",
    "import matplotlib.pyplot as plt\n",
    "import seaborn as sns\n",
    "import scipy.stats as st"
   ]
  },
  {
   "cell_type": "code",
   "execution_count": 4,
   "id": "0b7a3e87",
   "metadata": {},
   "outputs": [],
   "source": [
    "try:\n",
    "    clinical = pd.read_table('data/clinical.tsv')\n",
    "    exposure = pd.read_table('data/exposure.tsv')\n",
    "    family_history = pd.read_table('data/family_history.tsv')\n",
    "    follow_up = pd.read_table('data/follow_up.tsv')\n",
    "    pathology_detail = pd.read_table('data/pathology_detail.tsv')\n",
    "except:\n",
    "    print('error_load_data')"
   ]
  },
  {
   "cell_type": "code",
   "execution_count": 5,
   "id": "e7b155a7",
   "metadata": {},
   "outputs": [
    {
     "data": {
      "application/vnd.microsoft.datawrangler.viewer.v0+json": {
       "columns": [
        {
         "name": "index",
         "rawType": "int64",
         "type": "integer"
        },
        {
         "name": "case_id",
         "rawType": "object",
         "type": "string"
        },
        {
         "name": "case_submitter_id",
         "rawType": "object",
         "type": "string"
        },
        {
         "name": "project_id",
         "rawType": "object",
         "type": "string"
        },
        {
         "name": "age_at_index",
         "rawType": "object",
         "type": "string"
        },
        {
         "name": "age_is_obfuscated",
         "rawType": "object",
         "type": "string"
        },
        {
         "name": "cause_of_death",
         "rawType": "object",
         "type": "string"
        },
        {
         "name": "cause_of_death_source",
         "rawType": "object",
         "type": "string"
        },
        {
         "name": "country_of_residence_at_enrollment",
         "rawType": "object",
         "type": "string"
        },
        {
         "name": "days_to_birth",
         "rawType": "object",
         "type": "string"
        },
        {
         "name": "days_to_death",
         "rawType": "object",
         "type": "string"
        },
        {
         "name": "ethnicity",
         "rawType": "object",
         "type": "string"
        },
        {
         "name": "gender",
         "rawType": "object",
         "type": "string"
        },
        {
         "name": "occupation_duration_years",
         "rawType": "object",
         "type": "string"
        },
        {
         "name": "premature_at_birth",
         "rawType": "object",
         "type": "string"
        },
        {
         "name": "race",
         "rawType": "object",
         "type": "string"
        },
        {
         "name": "vital_status",
         "rawType": "object",
         "type": "string"
        },
        {
         "name": "weeks_gestation_at_birth",
         "rawType": "object",
         "type": "string"
        },
        {
         "name": "year_of_birth",
         "rawType": "object",
         "type": "string"
        },
        {
         "name": "year_of_death",
         "rawType": "object",
         "type": "string"
        },
        {
         "name": "adrenal_hormone",
         "rawType": "object",
         "type": "string"
        },
        {
         "name": "age_at_diagnosis",
         "rawType": "object",
         "type": "string"
        },
        {
         "name": "ajcc_clinical_m",
         "rawType": "object",
         "type": "string"
        },
        {
         "name": "ajcc_clinical_n",
         "rawType": "object",
         "type": "string"
        },
        {
         "name": "ajcc_clinical_stage",
         "rawType": "object",
         "type": "string"
        },
        {
         "name": "ajcc_clinical_t",
         "rawType": "object",
         "type": "string"
        },
        {
         "name": "ajcc_pathologic_m",
         "rawType": "object",
         "type": "string"
        },
        {
         "name": "ajcc_pathologic_n",
         "rawType": "object",
         "type": "string"
        },
        {
         "name": "ajcc_pathologic_stage",
         "rawType": "object",
         "type": "string"
        },
        {
         "name": "ajcc_pathologic_t",
         "rawType": "object",
         "type": "string"
        },
        {
         "name": "ajcc_staging_system_edition",
         "rawType": "object",
         "type": "string"
        },
        {
         "name": "anaplasia_present",
         "rawType": "object",
         "type": "string"
        },
        {
         "name": "anaplasia_present_type",
         "rawType": "object",
         "type": "string"
        },
        {
         "name": "ann_arbor_b_symptoms",
         "rawType": "object",
         "type": "string"
        },
        {
         "name": "ann_arbor_b_symptoms_described",
         "rawType": "object",
         "type": "string"
        },
        {
         "name": "ann_arbor_clinical_stage",
         "rawType": "object",
         "type": "string"
        },
        {
         "name": "ann_arbor_extranodal_involvement",
         "rawType": "object",
         "type": "string"
        },
        {
         "name": "ann_arbor_pathologic_stage",
         "rawType": "object",
         "type": "string"
        },
        {
         "name": "best_overall_response",
         "rawType": "object",
         "type": "string"
        },
        {
         "name": "breslow_thickness",
         "rawType": "object",
         "type": "string"
        },
        {
         "name": "burkitt_lymphoma_clinical_variant",
         "rawType": "object",
         "type": "string"
        },
        {
         "name": "child_pugh_classification",
         "rawType": "object",
         "type": "string"
        },
        {
         "name": "circumferential_resection_margin",
         "rawType": "object",
         "type": "string"
        },
        {
         "name": "classification_of_tumor",
         "rawType": "object",
         "type": "string"
        },
        {
         "name": "cog_liver_stage",
         "rawType": "object",
         "type": "string"
        },
        {
         "name": "cog_neuroblastoma_risk_group",
         "rawType": "object",
         "type": "string"
        },
        {
         "name": "cog_renal_stage",
         "rawType": "object",
         "type": "string"
        },
        {
         "name": "cog_rhabdomyosarcoma_risk_group",
         "rawType": "object",
         "type": "string"
        },
        {
         "name": "days_to_best_overall_response",
         "rawType": "object",
         "type": "string"
        },
        {
         "name": "days_to_diagnosis",
         "rawType": "object",
         "type": "string"
        },
        {
         "name": "days_to_last_follow_up",
         "rawType": "object",
         "type": "string"
        },
        {
         "name": "days_to_last_known_disease_status",
         "rawType": "object",
         "type": "string"
        },
        {
         "name": "days_to_recurrence",
         "rawType": "object",
         "type": "string"
        },
        {
         "name": "eln_risk_classification",
         "rawType": "object",
         "type": "string"
        },
        {
         "name": "enneking_msts_grade",
         "rawType": "object",
         "type": "string"
        },
        {
         "name": "enneking_msts_metastasis",
         "rawType": "object",
         "type": "string"
        },
        {
         "name": "enneking_msts_stage",
         "rawType": "object",
         "type": "string"
        },
        {
         "name": "enneking_msts_tumor_site",
         "rawType": "object",
         "type": "string"
        },
        {
         "name": "esophageal_columnar_dysplasia_degree",
         "rawType": "object",
         "type": "string"
        },
        {
         "name": "esophageal_columnar_metaplasia_present",
         "rawType": "object",
         "type": "string"
        },
        {
         "name": "figo_stage",
         "rawType": "object",
         "type": "string"
        },
        {
         "name": "figo_staging_edition_year",
         "rawType": "object",
         "type": "string"
        },
        {
         "name": "first_symptom_prior_to_diagnosis",
         "rawType": "object",
         "type": "string"
        },
        {
         "name": "gastric_esophageal_junction_involvement",
         "rawType": "object",
         "type": "string"
        },
        {
         "name": "gleason_grade_group",
         "rawType": "object",
         "type": "string"
        },
        {
         "name": "gleason_grade_tertiary",
         "rawType": "object",
         "type": "string"
        },
        {
         "name": "gleason_patterns_percent",
         "rawType": "object",
         "type": "string"
        },
        {
         "name": "goblet_cells_columnar_mucosa_present",
         "rawType": "object",
         "type": "string"
        },
        {
         "name": "greatest_tumor_dimension",
         "rawType": "object",
         "type": "string"
        },
        {
         "name": "gross_tumor_weight",
         "rawType": "object",
         "type": "string"
        },
        {
         "name": "icd_10_code",
         "rawType": "object",
         "type": "string"
        },
        {
         "name": "igcccg_stage",
         "rawType": "object",
         "type": "string"
        },
        {
         "name": "inpc_grade",
         "rawType": "object",
         "type": "string"
        },
        {
         "name": "inpc_histologic_group",
         "rawType": "object",
         "type": "string"
        },
        {
         "name": "inrg_stage",
         "rawType": "object",
         "type": "string"
        },
        {
         "name": "inss_stage",
         "rawType": "object",
         "type": "string"
        },
        {
         "name": "international_prognostic_index",
         "rawType": "object",
         "type": "string"
        },
        {
         "name": "irs_group",
         "rawType": "object",
         "type": "string"
        },
        {
         "name": "irs_stage",
         "rawType": "object",
         "type": "string"
        },
        {
         "name": "ishak_fibrosis_score",
         "rawType": "object",
         "type": "string"
        },
        {
         "name": "iss_stage",
         "rawType": "object",
         "type": "string"
        },
        {
         "name": "largest_extrapelvic_peritoneal_focus",
         "rawType": "object",
         "type": "string"
        },
        {
         "name": "last_known_disease_status",
         "rawType": "object",
         "type": "string"
        },
        {
         "name": "laterality",
         "rawType": "object",
         "type": "string"
        },
        {
         "name": "lymph_node_involved_site",
         "rawType": "object",
         "type": "string"
        },
        {
         "name": "lymph_nodes_positive",
         "rawType": "object",
         "type": "string"
        },
        {
         "name": "lymph_nodes_tested",
         "rawType": "object",
         "type": "string"
        },
        {
         "name": "lymphatic_invasion_present",
         "rawType": "object",
         "type": "string"
        },
        {
         "name": "margin_distance",
         "rawType": "object",
         "type": "string"
        },
        {
         "name": "margins_involved_site",
         "rawType": "object",
         "type": "string"
        },
        {
         "name": "masaoka_stage",
         "rawType": "object",
         "type": "string"
        },
        {
         "name": "medulloblastoma_molecular_classification",
         "rawType": "object",
         "type": "string"
        },
        {
         "name": "metastasis_at_diagnosis",
         "rawType": "object",
         "type": "string"
        },
        {
         "name": "metastasis_at_diagnosis_site",
         "rawType": "object",
         "type": "string"
        },
        {
         "name": "method_of_diagnosis",
         "rawType": "object",
         "type": "string"
        },
        {
         "name": "micropapillary_features",
         "rawType": "object",
         "type": "string"
        },
        {
         "name": "mitosis_karyorrhexis_index",
         "rawType": "object",
         "type": "string"
        },
        {
         "name": "mitotic_count",
         "rawType": "object",
         "type": "string"
        },
        {
         "name": "morphology",
         "rawType": "object",
         "type": "string"
        },
        {
         "name": "non_nodal_regional_disease",
         "rawType": "object",
         "type": "string"
        },
        {
         "name": "non_nodal_tumor_deposits",
         "rawType": "object",
         "type": "string"
        },
        {
         "name": "ovarian_specimen_status",
         "rawType": "object",
         "type": "string"
        },
        {
         "name": "ovarian_surface_involvement",
         "rawType": "object",
         "type": "string"
        },
        {
         "name": "papillary_renal_cell_type",
         "rawType": "object",
         "type": "string"
        },
        {
         "name": "percent_tumor_invasion",
         "rawType": "object",
         "type": "string"
        },
        {
         "name": "perineural_invasion_present",
         "rawType": "object",
         "type": "string"
        },
        {
         "name": "peripancreatic_lymph_nodes_positive",
         "rawType": "object",
         "type": "string"
        },
        {
         "name": "peripancreatic_lymph_nodes_tested",
         "rawType": "object",
         "type": "string"
        },
        {
         "name": "peritoneal_fluid_cytological_status",
         "rawType": "object",
         "type": "string"
        },
        {
         "name": "pregnant_at_diagnosis",
         "rawType": "object",
         "type": "string"
        },
        {
         "name": "primary_diagnosis",
         "rawType": "object",
         "type": "string"
        },
        {
         "name": "primary_disease",
         "rawType": "object",
         "type": "string"
        },
        {
         "name": "primary_gleason_grade",
         "rawType": "object",
         "type": "string"
        },
        {
         "name": "prior_malignancy",
         "rawType": "object",
         "type": "string"
        },
        {
         "name": "prior_treatment",
         "rawType": "object",
         "type": "string"
        },
        {
         "name": "progression_or_recurrence",
         "rawType": "object",
         "type": "string"
        },
        {
         "name": "residual_disease",
         "rawType": "object",
         "type": "string"
        },
        {
         "name": "satellite_nodule_present",
         "rawType": "object",
         "type": "string"
        },
        {
         "name": "secondary_gleason_grade",
         "rawType": "object",
         "type": "string"
        },
        {
         "name": "site_of_resection_or_biopsy",
         "rawType": "object",
         "type": "string"
        },
        {
         "name": "sites_of_involvement",
         "rawType": "object",
         "type": "string"
        },
        {
         "name": "supratentorial_localization",
         "rawType": "object",
         "type": "string"
        },
        {
         "name": "synchronous_malignancy",
         "rawType": "object",
         "type": "string"
        },
        {
         "name": "tissue_or_organ_of_origin",
         "rawType": "object",
         "type": "string"
        },
        {
         "name": "transglottic_extension",
         "rawType": "object",
         "type": "string"
        },
        {
         "name": "tumor_confined_to_organ_of_origin",
         "rawType": "object",
         "type": "string"
        },
        {
         "name": "tumor_depth",
         "rawType": "object",
         "type": "string"
        },
        {
         "name": "tumor_focality",
         "rawType": "object",
         "type": "string"
        },
        {
         "name": "tumor_grade",
         "rawType": "object",
         "type": "string"
        },
        {
         "name": "tumor_largest_dimension_diameter",
         "rawType": "object",
         "type": "string"
        },
        {
         "name": "tumor_regression_grade",
         "rawType": "object",
         "type": "string"
        },
        {
         "name": "tumor_stage",
         "rawType": "object",
         "type": "string"
        },
        {
         "name": "vascular_invasion_present",
         "rawType": "object",
         "type": "string"
        },
        {
         "name": "vascular_invasion_type",
         "rawType": "object",
         "type": "string"
        },
        {
         "name": "weiss_assessment_score",
         "rawType": "object",
         "type": "string"
        },
        {
         "name": "who_cns_grade",
         "rawType": "object",
         "type": "string"
        },
        {
         "name": "who_nte_grade",
         "rawType": "object",
         "type": "string"
        },
        {
         "name": "wilms_tumor_histologic_subtype",
         "rawType": "object",
         "type": "string"
        },
        {
         "name": "year_of_diagnosis",
         "rawType": "object",
         "type": "string"
        },
        {
         "name": "chemo_concurrent_to_radiation",
         "rawType": "object",
         "type": "string"
        },
        {
         "name": "days_to_treatment_end",
         "rawType": "object",
         "type": "string"
        },
        {
         "name": "days_to_treatment_start",
         "rawType": "object",
         "type": "string"
        },
        {
         "name": "initial_disease_status",
         "rawType": "object",
         "type": "string"
        },
        {
         "name": "number_of_cycles",
         "rawType": "object",
         "type": "string"
        },
        {
         "name": "reason_treatment_ended",
         "rawType": "object",
         "type": "string"
        },
        {
         "name": "regimen_or_line_of_therapy",
         "rawType": "object",
         "type": "string"
        },
        {
         "name": "route_of_administration",
         "rawType": "object",
         "type": "string"
        },
        {
         "name": "therapeutic_agents",
         "rawType": "object",
         "type": "string"
        },
        {
         "name": "treatment_anatomic_site",
         "rawType": "object",
         "type": "string"
        },
        {
         "name": "treatment_arm",
         "rawType": "object",
         "type": "string"
        },
        {
         "name": "treatment_dose",
         "rawType": "object",
         "type": "string"
        },
        {
         "name": "treatment_dose_units",
         "rawType": "object",
         "type": "string"
        },
        {
         "name": "treatment_effect",
         "rawType": "object",
         "type": "string"
        },
        {
         "name": "treatment_effect_indicator",
         "rawType": "object",
         "type": "string"
        },
        {
         "name": "treatment_frequency",
         "rawType": "object",
         "type": "string"
        },
        {
         "name": "treatment_intent_type",
         "rawType": "object",
         "type": "string"
        },
        {
         "name": "treatment_or_therapy",
         "rawType": "object",
         "type": "string"
        },
        {
         "name": "treatment_outcome",
         "rawType": "object",
         "type": "string"
        },
        {
         "name": "treatment_type",
         "rawType": "object",
         "type": "string"
        }
       ],
       "conversionMethod": "pd.DataFrame",
       "ref": "7a2ba8ba-b9bc-4138-b863-50b96b52bd03",
       "rows": [
        [
         "0",
         "0030a28c-81aa-44b0-8be0-b35e1dcbf98c",
         "TCGA-FA-A7Q1",
         "TCGA-DLBC",
         "61",
         "'--",
         "'--",
         "'--",
         "'--",
         "-22454",
         "248",
         "not hispanic or latino",
         "female",
         "'--",
         "'--",
         "asian",
         "Dead",
         "'--",
         "1952",
         "'--",
         "'--",
         "22454",
         "'--",
         "'--",
         "'--",
         "'--",
         "'--",
         "'--",
         "'--",
         "'--",
         "'--",
         "'--",
         "'--",
         "No",
         "'--",
         "Stage I",
         "No",
         "'--",
         "'--",
         "'--",
         "'--",
         "'--",
         "'--",
         "not reported",
         "'--",
         "'--",
         "'--",
         "'--",
         "'--",
         "0",
         "22",
         "'--",
         "'--",
         "'--",
         "'--",
         "'--",
         "'--",
         "'--",
         "'--",
         "'--",
         "'--",
         "'--",
         "'--",
         "'--",
         "'--",
         "'--",
         "'--",
         "'--",
         "'--",
         "'--",
         "C48.1",
         "'--",
         "'--",
         "'--",
         "'--",
         "'--",
         "'--",
         "'--",
         "'--",
         "'--",
         "'--",
         "'--",
         "not reported",
         "'--",
         "'--",
         "'--",
         "'--",
         "'--",
         "'--",
         "'--",
         "'--",
         "'--",
         "'--",
         "'--",
         "'--",
         "'--",
         "'--",
         "'--",
         "9680/3",
         "'--",
         "'--",
         "'--",
         "'--",
         "'--",
         "'--",
         "'--",
         "'--",
         "'--",
         "'--",
         "'--",
         "Malignant lymphoma, large B-cell, diffuse, NOS",
         "'--",
         "'--",
         "no",
         "No",
         "not reported",
         "'--",
         "'--",
         "'--",
         "Intra-abdominal lymph nodes",
         "'--",
         "'--",
         "No",
         "Intra-abdominal lymph nodes",
         "'--",
         "'--",
         "'--",
         "'--",
         "not reported",
         "'--",
         "'--",
         "'--",
         "'--",
         "'--",
         "'--",
         "'--",
         "'--",
         "'--",
         "2013",
         "'--",
         "'--",
         "'--",
         "'--",
         "'--",
         "'--",
         "'--",
         "'--",
         "'--",
         "'--",
         "'--",
         "'--",
         "'--",
         "'--",
         "'--",
         "'--",
         "'--",
         "yes",
         "'--",
         "Pharmaceutical Therapy, NOS"
        ],
        [
         "1",
         "0030a28c-81aa-44b0-8be0-b35e1dcbf98c",
         "TCGA-FA-A7Q1",
         "TCGA-DLBC",
         "61",
         "'--",
         "'--",
         "'--",
         "'--",
         "-22454",
         "248",
         "not hispanic or latino",
         "female",
         "'--",
         "'--",
         "asian",
         "Dead",
         "'--",
         "1952",
         "'--",
         "'--",
         "22454",
         "'--",
         "'--",
         "'--",
         "'--",
         "'--",
         "'--",
         "'--",
         "'--",
         "'--",
         "'--",
         "'--",
         "No",
         "'--",
         "Stage I",
         "No",
         "'--",
         "'--",
         "'--",
         "'--",
         "'--",
         "'--",
         "not reported",
         "'--",
         "'--",
         "'--",
         "'--",
         "'--",
         "0",
         "22",
         "'--",
         "'--",
         "'--",
         "'--",
         "'--",
         "'--",
         "'--",
         "'--",
         "'--",
         "'--",
         "'--",
         "'--",
         "'--",
         "'--",
         "'--",
         "'--",
         "'--",
         "'--",
         "'--",
         "C48.1",
         "'--",
         "'--",
         "'--",
         "'--",
         "'--",
         "'--",
         "'--",
         "'--",
         "'--",
         "'--",
         "'--",
         "not reported",
         "'--",
         "'--",
         "'--",
         "'--",
         "'--",
         "'--",
         "'--",
         "'--",
         "'--",
         "'--",
         "'--",
         "'--",
         "'--",
         "'--",
         "'--",
         "9680/3",
         "'--",
         "'--",
         "'--",
         "'--",
         "'--",
         "'--",
         "'--",
         "'--",
         "'--",
         "'--",
         "'--",
         "Malignant lymphoma, large B-cell, diffuse, NOS",
         "'--",
         "'--",
         "no",
         "No",
         "not reported",
         "'--",
         "'--",
         "'--",
         "Intra-abdominal lymph nodes",
         "'--",
         "'--",
         "No",
         "Intra-abdominal lymph nodes",
         "'--",
         "'--",
         "'--",
         "'--",
         "not reported",
         "'--",
         "'--",
         "'--",
         "'--",
         "'--",
         "'--",
         "'--",
         "'--",
         "'--",
         "2013",
         "'--",
         "'--",
         "'--",
         "'--",
         "'--",
         "'--",
         "'--",
         "'--",
         "'--",
         "'--",
         "'--",
         "'--",
         "'--",
         "'--",
         "'--",
         "'--",
         "'--",
         "no",
         "'--",
         "Radiation Therapy, NOS"
        ],
        [
         "2",
         "0bf573ac-cd1e-42d8-90cf-b30d7b08679c",
         "TCGA-FA-A6HN",
         "TCGA-DLBC",
         "73",
         "'--",
         "'--",
         "'--",
         "'--",
         "-27025",
         "58",
         "not hispanic or latino",
         "male",
         "'--",
         "'--",
         "asian",
         "Dead",
         "'--",
         "1940",
         "'--",
         "'--",
         "27025",
         "'--",
         "'--",
         "'--",
         "'--",
         "'--",
         "'--",
         "'--",
         "'--",
         "'--",
         "'--",
         "'--",
         "No",
         "'--",
         "'--",
         "No",
         "'--",
         "'--",
         "'--",
         "'--",
         "'--",
         "'--",
         "not reported",
         "'--",
         "'--",
         "'--",
         "'--",
         "'--",
         "0",
         "6",
         "'--",
         "'--",
         "'--",
         "'--",
         "'--",
         "'--",
         "'--",
         "'--",
         "'--",
         "'--",
         "'--",
         "'--",
         "'--",
         "'--",
         "'--",
         "'--",
         "'--",
         "'--",
         "'--",
         "C83.3",
         "'--",
         "'--",
         "'--",
         "'--",
         "'--",
         "'--",
         "'--",
         "'--",
         "'--",
         "'--",
         "'--",
         "not reported",
         "'--",
         "'--",
         "'--",
         "'--",
         "'--",
         "'--",
         "'--",
         "'--",
         "'--",
         "'--",
         "'--",
         "'--",
         "'--",
         "'--",
         "'--",
         "9680/3",
         "'--",
         "'--",
         "'--",
         "'--",
         "'--",
         "'--",
         "'--",
         "'--",
         "'--",
         "'--",
         "'--",
         "Malignant lymphoma, large B-cell, diffuse, NOS",
         "'--",
         "'--",
         "no",
         "No",
         "not reported",
         "'--",
         "'--",
         "'--",
         "Lymph nodes of head, face and neck",
         "'--",
         "'--",
         "No",
         "Lymph nodes of head, face and neck",
         "'--",
         "'--",
         "'--",
         "'--",
         "not reported",
         "'--",
         "'--",
         "'--",
         "'--",
         "'--",
         "'--",
         "'--",
         "'--",
         "'--",
         "2013",
         "'--",
         "'--",
         "'--",
         "'--",
         "'--",
         "'--",
         "'--",
         "'--",
         "'--",
         "'--",
         "'--",
         "'--",
         "'--",
         "'--",
         "'--",
         "'--",
         "'--",
         "no",
         "'--",
         "Radiation Therapy, NOS"
        ],
        [
         "3",
         "0bf573ac-cd1e-42d8-90cf-b30d7b08679c",
         "TCGA-FA-A6HN",
         "TCGA-DLBC",
         "73",
         "'--",
         "'--",
         "'--",
         "'--",
         "-27025",
         "58",
         "not hispanic or latino",
         "male",
         "'--",
         "'--",
         "asian",
         "Dead",
         "'--",
         "1940",
         "'--",
         "'--",
         "27025",
         "'--",
         "'--",
         "'--",
         "'--",
         "'--",
         "'--",
         "'--",
         "'--",
         "'--",
         "'--",
         "'--",
         "No",
         "'--",
         "'--",
         "No",
         "'--",
         "'--",
         "'--",
         "'--",
         "'--",
         "'--",
         "not reported",
         "'--",
         "'--",
         "'--",
         "'--",
         "'--",
         "0",
         "6",
         "'--",
         "'--",
         "'--",
         "'--",
         "'--",
         "'--",
         "'--",
         "'--",
         "'--",
         "'--",
         "'--",
         "'--",
         "'--",
         "'--",
         "'--",
         "'--",
         "'--",
         "'--",
         "'--",
         "C83.3",
         "'--",
         "'--",
         "'--",
         "'--",
         "'--",
         "'--",
         "'--",
         "'--",
         "'--",
         "'--",
         "'--",
         "not reported",
         "'--",
         "'--",
         "'--",
         "'--",
         "'--",
         "'--",
         "'--",
         "'--",
         "'--",
         "'--",
         "'--",
         "'--",
         "'--",
         "'--",
         "'--",
         "9680/3",
         "'--",
         "'--",
         "'--",
         "'--",
         "'--",
         "'--",
         "'--",
         "'--",
         "'--",
         "'--",
         "'--",
         "Malignant lymphoma, large B-cell, diffuse, NOS",
         "'--",
         "'--",
         "no",
         "No",
         "not reported",
         "'--",
         "'--",
         "'--",
         "Lymph nodes of head, face and neck",
         "'--",
         "'--",
         "No",
         "Lymph nodes of head, face and neck",
         "'--",
         "'--",
         "'--",
         "'--",
         "not reported",
         "'--",
         "'--",
         "'--",
         "'--",
         "'--",
         "'--",
         "'--",
         "'--",
         "'--",
         "2013",
         "'--",
         "'--",
         "'--",
         "'--",
         "'--",
         "'--",
         "'--",
         "'--",
         "'--",
         "'--",
         "'--",
         "'--",
         "'--",
         "'--",
         "'--",
         "'--",
         "'--",
         "yes",
         "'--",
         "Pharmaceutical Therapy, NOS"
        ],
        [
         "4",
         "0e251c03-bf86-4ed8-b45d-3cbc97160502",
         "TCGA-GS-A9U4",
         "TCGA-DLBC",
         "27",
         "'--",
         "'--",
         "'--",
         "'--",
         "-10075",
         "391",
         "hispanic or latino",
         "female",
         "'--",
         "'--",
         "white",
         "Dead",
         "'--",
         "1984",
         "2012",
         "'--",
         "10075",
         "'--",
         "'--",
         "'--",
         "'--",
         "'--",
         "'--",
         "'--",
         "'--",
         "'--",
         "'--",
         "'--",
         "No",
         "'--",
         "Stage II",
         "No",
         "'--",
         "'--",
         "'--",
         "'--",
         "'--",
         "'--",
         "not reported",
         "'--",
         "'--",
         "'--",
         "'--",
         "'--",
         "0",
         "'--",
         "'--",
         "'--",
         "'--",
         "'--",
         "'--",
         "'--",
         "'--",
         "'--",
         "'--",
         "'--",
         "'--",
         "'--",
         "'--",
         "'--",
         "'--",
         "'--",
         "'--",
         "'--",
         "'--",
         "C83.3",
         "'--",
         "'--",
         "'--",
         "'--",
         "'--",
         "'--",
         "'--",
         "'--",
         "'--",
         "'--",
         "'--",
         "not reported",
         "'--",
         "'--",
         "'--",
         "'--",
         "'--",
         "'--",
         "'--",
         "'--",
         "'--",
         "'--",
         "'--",
         "'--",
         "'--",
         "'--",
         "'--",
         "9680/3",
         "'--",
         "'--",
         "'--",
         "'--",
         "'--",
         "'--",
         "'--",
         "'--",
         "'--",
         "'--",
         "'--",
         "Malignant lymphoma, large B-cell, diffuse, NOS",
         "'--",
         "'--",
         "no",
         "No",
         "not reported",
         "'--",
         "'--",
         "'--",
         "Lymph nodes of head, face and neck",
         "'--",
         "'--",
         "No",
         "Lymph nodes of head, face and neck",
         "'--",
         "'--",
         "'--",
         "'--",
         "not reported",
         "'--",
         "'--",
         "'--",
         "'--",
         "'--",
         "'--",
         "'--",
         "'--",
         "'--",
         "2011",
         "'--",
         "'--",
         "'--",
         "'--",
         "'--",
         "'--",
         "'--",
         "'--",
         "'--",
         "'--",
         "'--",
         "'--",
         "'--",
         "'--",
         "'--",
         "'--",
         "'--",
         "yes",
         "'--",
         "Pharmaceutical Therapy, NOS"
        ]
       ],
       "shape": {
        "columns": 158,
        "rows": 5
       }
      },
      "text/html": [
       "<div>\n",
       "<style scoped>\n",
       "    .dataframe tbody tr th:only-of-type {\n",
       "        vertical-align: middle;\n",
       "    }\n",
       "\n",
       "    .dataframe tbody tr th {\n",
       "        vertical-align: top;\n",
       "    }\n",
       "\n",
       "    .dataframe thead th {\n",
       "        text-align: right;\n",
       "    }\n",
       "</style>\n",
       "<table border=\"1\" class=\"dataframe\">\n",
       "  <thead>\n",
       "    <tr style=\"text-align: right;\">\n",
       "      <th></th>\n",
       "      <th>case_id</th>\n",
       "      <th>case_submitter_id</th>\n",
       "      <th>project_id</th>\n",
       "      <th>age_at_index</th>\n",
       "      <th>age_is_obfuscated</th>\n",
       "      <th>cause_of_death</th>\n",
       "      <th>cause_of_death_source</th>\n",
       "      <th>country_of_residence_at_enrollment</th>\n",
       "      <th>days_to_birth</th>\n",
       "      <th>days_to_death</th>\n",
       "      <th>...</th>\n",
       "      <th>treatment_arm</th>\n",
       "      <th>treatment_dose</th>\n",
       "      <th>treatment_dose_units</th>\n",
       "      <th>treatment_effect</th>\n",
       "      <th>treatment_effect_indicator</th>\n",
       "      <th>treatment_frequency</th>\n",
       "      <th>treatment_intent_type</th>\n",
       "      <th>treatment_or_therapy</th>\n",
       "      <th>treatment_outcome</th>\n",
       "      <th>treatment_type</th>\n",
       "    </tr>\n",
       "  </thead>\n",
       "  <tbody>\n",
       "    <tr>\n",
       "      <th>0</th>\n",
       "      <td>0030a28c-81aa-44b0-8be0-b35e1dcbf98c</td>\n",
       "      <td>TCGA-FA-A7Q1</td>\n",
       "      <td>TCGA-DLBC</td>\n",
       "      <td>61</td>\n",
       "      <td>'--</td>\n",
       "      <td>'--</td>\n",
       "      <td>'--</td>\n",
       "      <td>'--</td>\n",
       "      <td>-22454</td>\n",
       "      <td>248</td>\n",
       "      <td>...</td>\n",
       "      <td>'--</td>\n",
       "      <td>'--</td>\n",
       "      <td>'--</td>\n",
       "      <td>'--</td>\n",
       "      <td>'--</td>\n",
       "      <td>'--</td>\n",
       "      <td>'--</td>\n",
       "      <td>yes</td>\n",
       "      <td>'--</td>\n",
       "      <td>Pharmaceutical Therapy, NOS</td>\n",
       "    </tr>\n",
       "    <tr>\n",
       "      <th>1</th>\n",
       "      <td>0030a28c-81aa-44b0-8be0-b35e1dcbf98c</td>\n",
       "      <td>TCGA-FA-A7Q1</td>\n",
       "      <td>TCGA-DLBC</td>\n",
       "      <td>61</td>\n",
       "      <td>'--</td>\n",
       "      <td>'--</td>\n",
       "      <td>'--</td>\n",
       "      <td>'--</td>\n",
       "      <td>-22454</td>\n",
       "      <td>248</td>\n",
       "      <td>...</td>\n",
       "      <td>'--</td>\n",
       "      <td>'--</td>\n",
       "      <td>'--</td>\n",
       "      <td>'--</td>\n",
       "      <td>'--</td>\n",
       "      <td>'--</td>\n",
       "      <td>'--</td>\n",
       "      <td>no</td>\n",
       "      <td>'--</td>\n",
       "      <td>Radiation Therapy, NOS</td>\n",
       "    </tr>\n",
       "    <tr>\n",
       "      <th>2</th>\n",
       "      <td>0bf573ac-cd1e-42d8-90cf-b30d7b08679c</td>\n",
       "      <td>TCGA-FA-A6HN</td>\n",
       "      <td>TCGA-DLBC</td>\n",
       "      <td>73</td>\n",
       "      <td>'--</td>\n",
       "      <td>'--</td>\n",
       "      <td>'--</td>\n",
       "      <td>'--</td>\n",
       "      <td>-27025</td>\n",
       "      <td>58</td>\n",
       "      <td>...</td>\n",
       "      <td>'--</td>\n",
       "      <td>'--</td>\n",
       "      <td>'--</td>\n",
       "      <td>'--</td>\n",
       "      <td>'--</td>\n",
       "      <td>'--</td>\n",
       "      <td>'--</td>\n",
       "      <td>no</td>\n",
       "      <td>'--</td>\n",
       "      <td>Radiation Therapy, NOS</td>\n",
       "    </tr>\n",
       "    <tr>\n",
       "      <th>3</th>\n",
       "      <td>0bf573ac-cd1e-42d8-90cf-b30d7b08679c</td>\n",
       "      <td>TCGA-FA-A6HN</td>\n",
       "      <td>TCGA-DLBC</td>\n",
       "      <td>73</td>\n",
       "      <td>'--</td>\n",
       "      <td>'--</td>\n",
       "      <td>'--</td>\n",
       "      <td>'--</td>\n",
       "      <td>-27025</td>\n",
       "      <td>58</td>\n",
       "      <td>...</td>\n",
       "      <td>'--</td>\n",
       "      <td>'--</td>\n",
       "      <td>'--</td>\n",
       "      <td>'--</td>\n",
       "      <td>'--</td>\n",
       "      <td>'--</td>\n",
       "      <td>'--</td>\n",
       "      <td>yes</td>\n",
       "      <td>'--</td>\n",
       "      <td>Pharmaceutical Therapy, NOS</td>\n",
       "    </tr>\n",
       "    <tr>\n",
       "      <th>4</th>\n",
       "      <td>0e251c03-bf86-4ed8-b45d-3cbc97160502</td>\n",
       "      <td>TCGA-GS-A9U4</td>\n",
       "      <td>TCGA-DLBC</td>\n",
       "      <td>27</td>\n",
       "      <td>'--</td>\n",
       "      <td>'--</td>\n",
       "      <td>'--</td>\n",
       "      <td>'--</td>\n",
       "      <td>-10075</td>\n",
       "      <td>391</td>\n",
       "      <td>...</td>\n",
       "      <td>'--</td>\n",
       "      <td>'--</td>\n",
       "      <td>'--</td>\n",
       "      <td>'--</td>\n",
       "      <td>'--</td>\n",
       "      <td>'--</td>\n",
       "      <td>'--</td>\n",
       "      <td>yes</td>\n",
       "      <td>'--</td>\n",
       "      <td>Pharmaceutical Therapy, NOS</td>\n",
       "    </tr>\n",
       "  </tbody>\n",
       "</table>\n",
       "<p>5 rows × 158 columns</p>\n",
       "</div>"
      ],
      "text/plain": [
       "                                case_id case_submitter_id project_id  \\\n",
       "0  0030a28c-81aa-44b0-8be0-b35e1dcbf98c      TCGA-FA-A7Q1  TCGA-DLBC   \n",
       "1  0030a28c-81aa-44b0-8be0-b35e1dcbf98c      TCGA-FA-A7Q1  TCGA-DLBC   \n",
       "2  0bf573ac-cd1e-42d8-90cf-b30d7b08679c      TCGA-FA-A6HN  TCGA-DLBC   \n",
       "3  0bf573ac-cd1e-42d8-90cf-b30d7b08679c      TCGA-FA-A6HN  TCGA-DLBC   \n",
       "4  0e251c03-bf86-4ed8-b45d-3cbc97160502      TCGA-GS-A9U4  TCGA-DLBC   \n",
       "\n",
       "  age_at_index age_is_obfuscated cause_of_death cause_of_death_source  \\\n",
       "0           61               '--            '--                   '--   \n",
       "1           61               '--            '--                   '--   \n",
       "2           73               '--            '--                   '--   \n",
       "3           73               '--            '--                   '--   \n",
       "4           27               '--            '--                   '--   \n",
       "\n",
       "  country_of_residence_at_enrollment days_to_birth days_to_death  ...  \\\n",
       "0                                '--        -22454           248  ...   \n",
       "1                                '--        -22454           248  ...   \n",
       "2                                '--        -27025            58  ...   \n",
       "3                                '--        -27025            58  ...   \n",
       "4                                '--        -10075           391  ...   \n",
       "\n",
       "  treatment_arm treatment_dose treatment_dose_units treatment_effect  \\\n",
       "0           '--            '--                  '--              '--   \n",
       "1           '--            '--                  '--              '--   \n",
       "2           '--            '--                  '--              '--   \n",
       "3           '--            '--                  '--              '--   \n",
       "4           '--            '--                  '--              '--   \n",
       "\n",
       "  treatment_effect_indicator treatment_frequency treatment_intent_type  \\\n",
       "0                        '--                 '--                   '--   \n",
       "1                        '--                 '--                   '--   \n",
       "2                        '--                 '--                   '--   \n",
       "3                        '--                 '--                   '--   \n",
       "4                        '--                 '--                   '--   \n",
       "\n",
       "  treatment_or_therapy treatment_outcome               treatment_type  \n",
       "0                  yes               '--  Pharmaceutical Therapy, NOS  \n",
       "1                   no               '--       Radiation Therapy, NOS  \n",
       "2                   no               '--       Radiation Therapy, NOS  \n",
       "3                  yes               '--  Pharmaceutical Therapy, NOS  \n",
       "4                  yes               '--  Pharmaceutical Therapy, NOS  \n",
       "\n",
       "[5 rows x 158 columns]"
      ]
     },
     "execution_count": 5,
     "metadata": {},
     "output_type": "execute_result"
    }
   ],
   "source": [
    "clinical.head()"
   ]
  },
  {
   "cell_type": "code",
   "execution_count": 6,
   "id": "cf468640",
   "metadata": {},
   "outputs": [
    {
     "data": {
      "application/vnd.microsoft.datawrangler.viewer.v0+json": {
       "columns": [
        {
         "name": "index",
         "rawType": "int64",
         "type": "integer"
        },
        {
         "name": "case_id",
         "rawType": "object",
         "type": "string"
        },
        {
         "name": "case_submitter_id",
         "rawType": "object",
         "type": "string"
        },
        {
         "name": "project_id",
         "rawType": "object",
         "type": "string"
        },
        {
         "name": "age_at_onset",
         "rawType": "object",
         "type": "string"
        },
        {
         "name": "alcohol_days_per_week",
         "rawType": "object",
         "type": "string"
        },
        {
         "name": "alcohol_drinks_per_day",
         "rawType": "object",
         "type": "string"
        },
        {
         "name": "alcohol_history",
         "rawType": "object",
         "type": "string"
        },
        {
         "name": "alcohol_intensity",
         "rawType": "object",
         "type": "string"
        },
        {
         "name": "alcohol_type",
         "rawType": "object",
         "type": "string"
        },
        {
         "name": "asbestos_exposure",
         "rawType": "object",
         "type": "string"
        },
        {
         "name": "bmi",
         "rawType": "object",
         "type": "string"
        },
        {
         "name": "cigarettes_per_day",
         "rawType": "object",
         "type": "string"
        },
        {
         "name": "coal_dust_exposure",
         "rawType": "object",
         "type": "string"
        },
        {
         "name": "environmental_tobacco_smoke_exposure",
         "rawType": "object",
         "type": "string"
        },
        {
         "name": "exposure_duration",
         "rawType": "object",
         "type": "string"
        },
        {
         "name": "exposure_duration_years",
         "rawType": "object",
         "type": "string"
        },
        {
         "name": "exposure_type",
         "rawType": "object",
         "type": "string"
        },
        {
         "name": "height",
         "rawType": "object",
         "type": "string"
        },
        {
         "name": "marijuana_use_per_week",
         "rawType": "object",
         "type": "string"
        },
        {
         "name": "pack_years_smoked",
         "rawType": "object",
         "type": "string"
        },
        {
         "name": "parent_with_radiation_exposure",
         "rawType": "object",
         "type": "string"
        },
        {
         "name": "radon_exposure",
         "rawType": "object",
         "type": "string"
        },
        {
         "name": "respirable_crystalline_silica_exposure",
         "rawType": "object",
         "type": "string"
        },
        {
         "name": "secondhand_smoke_as_child",
         "rawType": "object",
         "type": "string"
        },
        {
         "name": "smokeless_tobacco_quit_age",
         "rawType": "object",
         "type": "string"
        },
        {
         "name": "smoking_frequency",
         "rawType": "object",
         "type": "string"
        },
        {
         "name": "time_between_waking_and_first_smoke",
         "rawType": "object",
         "type": "string"
        },
        {
         "name": "tobacco_smoking_onset_year",
         "rawType": "object",
         "type": "string"
        },
        {
         "name": "tobacco_smoking_quit_year",
         "rawType": "object",
         "type": "string"
        },
        {
         "name": "tobacco_smoking_status",
         "rawType": "object",
         "type": "string"
        },
        {
         "name": "tobacco_use_per_day",
         "rawType": "object",
         "type": "string"
        },
        {
         "name": "type_of_smoke_exposure",
         "rawType": "object",
         "type": "string"
        },
        {
         "name": "type_of_tobacco_used",
         "rawType": "object",
         "type": "string"
        },
        {
         "name": "weight",
         "rawType": "object",
         "type": "string"
        },
        {
         "name": "years_smoked",
         "rawType": "object",
         "type": "string"
        }
       ],
       "conversionMethod": "pd.DataFrame",
       "ref": "51c85cde-03ed-43a0-94fd-5aca3438ebcf",
       "rows": [
        [
         "0",
         "0030a28c-81aa-44b0-8be0-b35e1dcbf98c",
         "TCGA-FA-A7Q1",
         "TCGA-DLBC",
         "'--",
         "'--",
         "'--",
         "Not Reported",
         "'--",
         "'--",
         "'--",
         "'--",
         "'--",
         "'--",
         "'--",
         "'--",
         "'--",
         "'--",
         "'--",
         "'--",
         "'--",
         "'--",
         "'--",
         "'--",
         "'--",
         "'--",
         "'--",
         "'--",
         "'--",
         "'--",
         "'--",
         "'--",
         "'--",
         "'--",
         "'--",
         "'--"
        ],
        [
         "1",
         "0bf573ac-cd1e-42d8-90cf-b30d7b08679c",
         "TCGA-FA-A6HN",
         "TCGA-DLBC",
         "'--",
         "'--",
         "'--",
         "Not Reported",
         "'--",
         "'--",
         "'--",
         "'--",
         "'--",
         "'--",
         "'--",
         "'--",
         "'--",
         "'--",
         "'--",
         "'--",
         "'--",
         "'--",
         "'--",
         "'--",
         "'--",
         "'--",
         "'--",
         "'--",
         "'--",
         "'--",
         "'--",
         "'--",
         "'--",
         "'--",
         "'--",
         "'--"
        ],
        [
         "2",
         "0e251c03-bf86-4ed8-b45d-3cbc97160502",
         "TCGA-GS-A9U4",
         "TCGA-DLBC",
         "'--",
         "'--",
         "'--",
         "Not Reported",
         "'--",
         "'--",
         "'--",
         "'--",
         "'--",
         "'--",
         "'--",
         "'--",
         "'--",
         "'--",
         "'--",
         "'--",
         "'--",
         "'--",
         "'--",
         "'--",
         "'--",
         "'--",
         "'--",
         "'--",
         "'--",
         "'--",
         "'--",
         "'--",
         "'--",
         "'--",
         "'--",
         "'--"
        ],
        [
         "3",
         "0e9fcccc-0630-408d-a121-2c6413824cb7",
         "TCGA-FF-8062",
         "TCGA-DLBC",
         "'--",
         "'--",
         "'--",
         "Not Reported",
         "'--",
         "'--",
         "'--",
         "'--",
         "'--",
         "'--",
         "'--",
         "'--",
         "'--",
         "'--",
         "'--",
         "'--",
         "'--",
         "'--",
         "'--",
         "'--",
         "'--",
         "'--",
         "'--",
         "'--",
         "'--",
         "'--",
         "'--",
         "'--",
         "'--",
         "'--",
         "'--",
         "'--"
        ],
        [
         "4",
         "1843c82e-7a35-474f-9f79-c0a9af9aa09c",
         "TCGA-FA-A4BB",
         "TCGA-DLBC",
         "'--",
         "'--",
         "'--",
         "Not Reported",
         "'--",
         "'--",
         "'--",
         "'--",
         "'--",
         "'--",
         "'--",
         "'--",
         "'--",
         "'--",
         "'--",
         "'--",
         "'--",
         "'--",
         "'--",
         "'--",
         "'--",
         "'--",
         "'--",
         "'--",
         "'--",
         "'--",
         "'--",
         "'--",
         "'--",
         "'--",
         "'--",
         "'--"
        ]
       ],
       "shape": {
        "columns": 35,
        "rows": 5
       }
      },
      "text/html": [
       "<div>\n",
       "<style scoped>\n",
       "    .dataframe tbody tr th:only-of-type {\n",
       "        vertical-align: middle;\n",
       "    }\n",
       "\n",
       "    .dataframe tbody tr th {\n",
       "        vertical-align: top;\n",
       "    }\n",
       "\n",
       "    .dataframe thead th {\n",
       "        text-align: right;\n",
       "    }\n",
       "</style>\n",
       "<table border=\"1\" class=\"dataframe\">\n",
       "  <thead>\n",
       "    <tr style=\"text-align: right;\">\n",
       "      <th></th>\n",
       "      <th>case_id</th>\n",
       "      <th>case_submitter_id</th>\n",
       "      <th>project_id</th>\n",
       "      <th>age_at_onset</th>\n",
       "      <th>alcohol_days_per_week</th>\n",
       "      <th>alcohol_drinks_per_day</th>\n",
       "      <th>alcohol_history</th>\n",
       "      <th>alcohol_intensity</th>\n",
       "      <th>alcohol_type</th>\n",
       "      <th>asbestos_exposure</th>\n",
       "      <th>...</th>\n",
       "      <th>smoking_frequency</th>\n",
       "      <th>time_between_waking_and_first_smoke</th>\n",
       "      <th>tobacco_smoking_onset_year</th>\n",
       "      <th>tobacco_smoking_quit_year</th>\n",
       "      <th>tobacco_smoking_status</th>\n",
       "      <th>tobacco_use_per_day</th>\n",
       "      <th>type_of_smoke_exposure</th>\n",
       "      <th>type_of_tobacco_used</th>\n",
       "      <th>weight</th>\n",
       "      <th>years_smoked</th>\n",
       "    </tr>\n",
       "  </thead>\n",
       "  <tbody>\n",
       "    <tr>\n",
       "      <th>0</th>\n",
       "      <td>0030a28c-81aa-44b0-8be0-b35e1dcbf98c</td>\n",
       "      <td>TCGA-FA-A7Q1</td>\n",
       "      <td>TCGA-DLBC</td>\n",
       "      <td>'--</td>\n",
       "      <td>'--</td>\n",
       "      <td>'--</td>\n",
       "      <td>Not Reported</td>\n",
       "      <td>'--</td>\n",
       "      <td>'--</td>\n",
       "      <td>'--</td>\n",
       "      <td>...</td>\n",
       "      <td>'--</td>\n",
       "      <td>'--</td>\n",
       "      <td>'--</td>\n",
       "      <td>'--</td>\n",
       "      <td>'--</td>\n",
       "      <td>'--</td>\n",
       "      <td>'--</td>\n",
       "      <td>'--</td>\n",
       "      <td>'--</td>\n",
       "      <td>'--</td>\n",
       "    </tr>\n",
       "    <tr>\n",
       "      <th>1</th>\n",
       "      <td>0bf573ac-cd1e-42d8-90cf-b30d7b08679c</td>\n",
       "      <td>TCGA-FA-A6HN</td>\n",
       "      <td>TCGA-DLBC</td>\n",
       "      <td>'--</td>\n",
       "      <td>'--</td>\n",
       "      <td>'--</td>\n",
       "      <td>Not Reported</td>\n",
       "      <td>'--</td>\n",
       "      <td>'--</td>\n",
       "      <td>'--</td>\n",
       "      <td>...</td>\n",
       "      <td>'--</td>\n",
       "      <td>'--</td>\n",
       "      <td>'--</td>\n",
       "      <td>'--</td>\n",
       "      <td>'--</td>\n",
       "      <td>'--</td>\n",
       "      <td>'--</td>\n",
       "      <td>'--</td>\n",
       "      <td>'--</td>\n",
       "      <td>'--</td>\n",
       "    </tr>\n",
       "    <tr>\n",
       "      <th>2</th>\n",
       "      <td>0e251c03-bf86-4ed8-b45d-3cbc97160502</td>\n",
       "      <td>TCGA-GS-A9U4</td>\n",
       "      <td>TCGA-DLBC</td>\n",
       "      <td>'--</td>\n",
       "      <td>'--</td>\n",
       "      <td>'--</td>\n",
       "      <td>Not Reported</td>\n",
       "      <td>'--</td>\n",
       "      <td>'--</td>\n",
       "      <td>'--</td>\n",
       "      <td>...</td>\n",
       "      <td>'--</td>\n",
       "      <td>'--</td>\n",
       "      <td>'--</td>\n",
       "      <td>'--</td>\n",
       "      <td>'--</td>\n",
       "      <td>'--</td>\n",
       "      <td>'--</td>\n",
       "      <td>'--</td>\n",
       "      <td>'--</td>\n",
       "      <td>'--</td>\n",
       "    </tr>\n",
       "    <tr>\n",
       "      <th>3</th>\n",
       "      <td>0e9fcccc-0630-408d-a121-2c6413824cb7</td>\n",
       "      <td>TCGA-FF-8062</td>\n",
       "      <td>TCGA-DLBC</td>\n",
       "      <td>'--</td>\n",
       "      <td>'--</td>\n",
       "      <td>'--</td>\n",
       "      <td>Not Reported</td>\n",
       "      <td>'--</td>\n",
       "      <td>'--</td>\n",
       "      <td>'--</td>\n",
       "      <td>...</td>\n",
       "      <td>'--</td>\n",
       "      <td>'--</td>\n",
       "      <td>'--</td>\n",
       "      <td>'--</td>\n",
       "      <td>'--</td>\n",
       "      <td>'--</td>\n",
       "      <td>'--</td>\n",
       "      <td>'--</td>\n",
       "      <td>'--</td>\n",
       "      <td>'--</td>\n",
       "    </tr>\n",
       "    <tr>\n",
       "      <th>4</th>\n",
       "      <td>1843c82e-7a35-474f-9f79-c0a9af9aa09c</td>\n",
       "      <td>TCGA-FA-A4BB</td>\n",
       "      <td>TCGA-DLBC</td>\n",
       "      <td>'--</td>\n",
       "      <td>'--</td>\n",
       "      <td>'--</td>\n",
       "      <td>Not Reported</td>\n",
       "      <td>'--</td>\n",
       "      <td>'--</td>\n",
       "      <td>'--</td>\n",
       "      <td>...</td>\n",
       "      <td>'--</td>\n",
       "      <td>'--</td>\n",
       "      <td>'--</td>\n",
       "      <td>'--</td>\n",
       "      <td>'--</td>\n",
       "      <td>'--</td>\n",
       "      <td>'--</td>\n",
       "      <td>'--</td>\n",
       "      <td>'--</td>\n",
       "      <td>'--</td>\n",
       "    </tr>\n",
       "  </tbody>\n",
       "</table>\n",
       "<p>5 rows × 35 columns</p>\n",
       "</div>"
      ],
      "text/plain": [
       "                                case_id case_submitter_id project_id  \\\n",
       "0  0030a28c-81aa-44b0-8be0-b35e1dcbf98c      TCGA-FA-A7Q1  TCGA-DLBC   \n",
       "1  0bf573ac-cd1e-42d8-90cf-b30d7b08679c      TCGA-FA-A6HN  TCGA-DLBC   \n",
       "2  0e251c03-bf86-4ed8-b45d-3cbc97160502      TCGA-GS-A9U4  TCGA-DLBC   \n",
       "3  0e9fcccc-0630-408d-a121-2c6413824cb7      TCGA-FF-8062  TCGA-DLBC   \n",
       "4  1843c82e-7a35-474f-9f79-c0a9af9aa09c      TCGA-FA-A4BB  TCGA-DLBC   \n",
       "\n",
       "  age_at_onset alcohol_days_per_week alcohol_drinks_per_day alcohol_history  \\\n",
       "0          '--                   '--                    '--    Not Reported   \n",
       "1          '--                   '--                    '--    Not Reported   \n",
       "2          '--                   '--                    '--    Not Reported   \n",
       "3          '--                   '--                    '--    Not Reported   \n",
       "4          '--                   '--                    '--    Not Reported   \n",
       "\n",
       "  alcohol_intensity alcohol_type asbestos_exposure  ... smoking_frequency  \\\n",
       "0               '--          '--               '--  ...               '--   \n",
       "1               '--          '--               '--  ...               '--   \n",
       "2               '--          '--               '--  ...               '--   \n",
       "3               '--          '--               '--  ...               '--   \n",
       "4               '--          '--               '--  ...               '--   \n",
       "\n",
       "  time_between_waking_and_first_smoke tobacco_smoking_onset_year  \\\n",
       "0                                 '--                        '--   \n",
       "1                                 '--                        '--   \n",
       "2                                 '--                        '--   \n",
       "3                                 '--                        '--   \n",
       "4                                 '--                        '--   \n",
       "\n",
       "  tobacco_smoking_quit_year tobacco_smoking_status tobacco_use_per_day  \\\n",
       "0                       '--                    '--                 '--   \n",
       "1                       '--                    '--                 '--   \n",
       "2                       '--                    '--                 '--   \n",
       "3                       '--                    '--                 '--   \n",
       "4                       '--                    '--                 '--   \n",
       "\n",
       "  type_of_smoke_exposure type_of_tobacco_used weight years_smoked  \n",
       "0                    '--                  '--    '--          '--  \n",
       "1                    '--                  '--    '--          '--  \n",
       "2                    '--                  '--    '--          '--  \n",
       "3                    '--                  '--    '--          '--  \n",
       "4                    '--                  '--    '--          '--  \n",
       "\n",
       "[5 rows x 35 columns]"
      ]
     },
     "execution_count": 6,
     "metadata": {},
     "output_type": "execute_result"
    }
   ],
   "source": [
    "exposure.head()"
   ]
  },
  {
   "cell_type": "code",
   "execution_count": 7,
   "id": "6824a0a3",
   "metadata": {},
   "outputs": [
    {
     "data": {
      "application/vnd.microsoft.datawrangler.viewer.v0+json": {
       "columns": [
        {
         "name": "index",
         "rawType": "int64",
         "type": "integer"
        },
        {
         "name": "case_id",
         "rawType": "object",
         "type": "string"
        },
        {
         "name": "case_submitter_id",
         "rawType": "object",
         "type": "string"
        },
        {
         "name": "project_id",
         "rawType": "object",
         "type": "string"
        },
        {
         "name": "relationship_age_at_diagnosis",
         "rawType": "object",
         "type": "string"
        },
        {
         "name": "relationship_gender",
         "rawType": "object",
         "type": "string"
        },
        {
         "name": "relationship_primary_diagnosis",
         "rawType": "object",
         "type": "string"
        },
        {
         "name": "relationship_type",
         "rawType": "object",
         "type": "string"
        },
        {
         "name": "relative_with_cancer_history",
         "rawType": "object",
         "type": "string"
        },
        {
         "name": "relatives_with_cancer_history_count",
         "rawType": "object",
         "type": "string"
        }
       ],
       "conversionMethod": "pd.DataFrame",
       "ref": "3324cd0c-b447-4b90-960d-67c61f40bb1c",
       "rows": [],
       "shape": {
        "columns": 9,
        "rows": 0
       }
      },
      "text/html": [
       "<div>\n",
       "<style scoped>\n",
       "    .dataframe tbody tr th:only-of-type {\n",
       "        vertical-align: middle;\n",
       "    }\n",
       "\n",
       "    .dataframe tbody tr th {\n",
       "        vertical-align: top;\n",
       "    }\n",
       "\n",
       "    .dataframe thead th {\n",
       "        text-align: right;\n",
       "    }\n",
       "</style>\n",
       "<table border=\"1\" class=\"dataframe\">\n",
       "  <thead>\n",
       "    <tr style=\"text-align: right;\">\n",
       "      <th></th>\n",
       "      <th>case_id</th>\n",
       "      <th>case_submitter_id</th>\n",
       "      <th>project_id</th>\n",
       "      <th>relationship_age_at_diagnosis</th>\n",
       "      <th>relationship_gender</th>\n",
       "      <th>relationship_primary_diagnosis</th>\n",
       "      <th>relationship_type</th>\n",
       "      <th>relative_with_cancer_history</th>\n",
       "      <th>relatives_with_cancer_history_count</th>\n",
       "    </tr>\n",
       "  </thead>\n",
       "  <tbody>\n",
       "  </tbody>\n",
       "</table>\n",
       "</div>"
      ],
      "text/plain": [
       "Empty DataFrame\n",
       "Columns: [case_id, case_submitter_id, project_id, relationship_age_at_diagnosis, relationship_gender, relationship_primary_diagnosis, relationship_type, relative_with_cancer_history, relatives_with_cancer_history_count]\n",
       "Index: []"
      ]
     },
     "execution_count": 7,
     "metadata": {},
     "output_type": "execute_result"
    }
   ],
   "source": [
    "family_history.head()"
   ]
  },
  {
   "cell_type": "code",
   "execution_count": 8,
   "id": "29436be0",
   "metadata": {},
   "outputs": [
    {
     "data": {
      "application/vnd.microsoft.datawrangler.viewer.v0+json": {
       "columns": [
        {
         "name": "index",
         "rawType": "int64",
         "type": "integer"
        },
        {
         "name": "case_id",
         "rawType": "object",
         "type": "string"
        },
        {
         "name": "case_submitter_id",
         "rawType": "object",
         "type": "string"
        },
        {
         "name": "project_id",
         "rawType": "object",
         "type": "string"
        },
        {
         "name": "adverse_event",
         "rawType": "object",
         "type": "string"
        },
        {
         "name": "adverse_event_grade",
         "rawType": "object",
         "type": "string"
        },
        {
         "name": "aids_risk_factors",
         "rawType": "object",
         "type": "string"
        },
        {
         "name": "barretts_esophagus_goblet_cells_present",
         "rawType": "object",
         "type": "string"
        },
        {
         "name": "bmi",
         "rawType": "object",
         "type": "string"
        },
        {
         "name": "body_surface_area",
         "rawType": "object",
         "type": "string"
        },
        {
         "name": "cause_of_response",
         "rawType": "object",
         "type": "string"
        },
        {
         "name": "cd4_count",
         "rawType": "object",
         "type": "string"
        },
        {
         "name": "cdc_hiv_risk_factors",
         "rawType": "object",
         "type": "string"
        },
        {
         "name": "comorbidity",
         "rawType": "object",
         "type": "string"
        },
        {
         "name": "comorbidity_method_of_diagnosis",
         "rawType": "object",
         "type": "string"
        },
        {
         "name": "days_to_adverse_event",
         "rawType": "object",
         "type": "string"
        },
        {
         "name": "days_to_comorbidity",
         "rawType": "object",
         "type": "string"
        },
        {
         "name": "days_to_follow_up",
         "rawType": "object",
         "type": "string"
        },
        {
         "name": "days_to_imaging",
         "rawType": "object",
         "type": "string"
        },
        {
         "name": "days_to_progression",
         "rawType": "object",
         "type": "string"
        },
        {
         "name": "days_to_progression_free",
         "rawType": "object",
         "type": "string"
        },
        {
         "name": "days_to_recurrence",
         "rawType": "object",
         "type": "string"
        },
        {
         "name": "diabetes_treatment_type",
         "rawType": "object",
         "type": "string"
        },
        {
         "name": "disease_response",
         "rawType": "object",
         "type": "string"
        },
        {
         "name": "dlco_ref_predictive_percent",
         "rawType": "object",
         "type": "string"
        },
        {
         "name": "ecog_performance_status",
         "rawType": "object",
         "type": "string"
        },
        {
         "name": "evidence_of_recurrence_type",
         "rawType": "object",
         "type": "string"
        },
        {
         "name": "eye_color",
         "rawType": "object",
         "type": "string"
        },
        {
         "name": "fev1_fvc_post_bronch_percent",
         "rawType": "object",
         "type": "string"
        },
        {
         "name": "fev1_fvc_pre_bronch_percent",
         "rawType": "object",
         "type": "string"
        },
        {
         "name": "fev1_ref_post_bronch_percent",
         "rawType": "object",
         "type": "string"
        },
        {
         "name": "fev1_ref_pre_bronch_percent",
         "rawType": "object",
         "type": "string"
        },
        {
         "name": "follow_up_id",
         "rawType": "object",
         "type": "string"
        },
        {
         "name": "follow_up_submitter_id",
         "rawType": "object",
         "type": "string"
        },
        {
         "name": "haart_treatment_indicator",
         "rawType": "object",
         "type": "string"
        },
        {
         "name": "height",
         "rawType": "object",
         "type": "string"
        },
        {
         "name": "hepatitis_sustained_virological_response",
         "rawType": "object",
         "type": "string"
        },
        {
         "name": "history_of_tumor",
         "rawType": "object",
         "type": "string"
        },
        {
         "name": "history_of_tumor_type",
         "rawType": "object",
         "type": "string"
        },
        {
         "name": "hiv_viral_load",
         "rawType": "object",
         "type": "string"
        },
        {
         "name": "hormonal_contraceptive_type",
         "rawType": "object",
         "type": "string"
        },
        {
         "name": "hormonal_contraceptive_use",
         "rawType": "object",
         "type": "string"
        },
        {
         "name": "hormone_replacement_therapy_type",
         "rawType": "object",
         "type": "string"
        },
        {
         "name": "hpv_positive_type",
         "rawType": "object",
         "type": "string"
        },
        {
         "name": "hysterectomy_margins_involved",
         "rawType": "object",
         "type": "string"
        },
        {
         "name": "hysterectomy_type",
         "rawType": "object",
         "type": "string"
        },
        {
         "name": "imaging_result",
         "rawType": "object",
         "type": "string"
        },
        {
         "name": "imaging_type",
         "rawType": "object",
         "type": "string"
        },
        {
         "name": "immunosuppressive_treatment_type",
         "rawType": "object",
         "type": "string"
        },
        {
         "name": "karnofsky_performance_status",
         "rawType": "object",
         "type": "string"
        },
        {
         "name": "menopause_status",
         "rawType": "object",
         "type": "string"
        },
        {
         "name": "nadir_cd4_count",
         "rawType": "object",
         "type": "string"
        },
        {
         "name": "pancreatitis_onset_year",
         "rawType": "object",
         "type": "string"
        },
        {
         "name": "pregnancy_outcome",
         "rawType": "object",
         "type": "string"
        },
        {
         "name": "procedures_performed",
         "rawType": "object",
         "type": "string"
        },
        {
         "name": "progression_or_recurrence",
         "rawType": "object",
         "type": "string"
        },
        {
         "name": "progression_or_recurrence_anatomic_site",
         "rawType": "object",
         "type": "string"
        },
        {
         "name": "progression_or_recurrence_type",
         "rawType": "object",
         "type": "string"
        },
        {
         "name": "recist_targeted_regions_number",
         "rawType": "object",
         "type": "string"
        },
        {
         "name": "recist_targeted_regions_sum",
         "rawType": "object",
         "type": "string"
        },
        {
         "name": "reflux_treatment_type",
         "rawType": "object",
         "type": "string"
        },
        {
         "name": "risk_factor",
         "rawType": "object",
         "type": "string"
        },
        {
         "name": "risk_factor_treatment",
         "rawType": "object",
         "type": "string"
        },
        {
         "name": "scan_tracer_used",
         "rawType": "object",
         "type": "string"
        },
        {
         "name": "undescended_testis_corrected",
         "rawType": "object",
         "type": "string"
        },
        {
         "name": "undescended_testis_corrected_age",
         "rawType": "object",
         "type": "string"
        },
        {
         "name": "undescended_testis_corrected_laterality",
         "rawType": "object",
         "type": "string"
        },
        {
         "name": "undescended_testis_corrected_method",
         "rawType": "object",
         "type": "string"
        },
        {
         "name": "undescended_testis_history",
         "rawType": "object",
         "type": "string"
        },
        {
         "name": "undescended_testis_history_laterality",
         "rawType": "object",
         "type": "string"
        },
        {
         "name": "viral_hepatitis_serologies",
         "rawType": "object",
         "type": "string"
        },
        {
         "name": "weight",
         "rawType": "object",
         "type": "string"
        },
        {
         "name": "aa_change",
         "rawType": "object",
         "type": "string"
        },
        {
         "name": "antigen",
         "rawType": "object",
         "type": "string"
        },
        {
         "name": "biospecimen_type",
         "rawType": "object",
         "type": "string"
        },
        {
         "name": "biospecimen_volume",
         "rawType": "object",
         "type": "string"
        },
        {
         "name": "blood_test_normal_range_lower",
         "rawType": "object",
         "type": "string"
        },
        {
         "name": "blood_test_normal_range_upper",
         "rawType": "object",
         "type": "string"
        },
        {
         "name": "cell_count",
         "rawType": "object",
         "type": "string"
        },
        {
         "name": "chromosome",
         "rawType": "object",
         "type": "string"
        },
        {
         "name": "clonality",
         "rawType": "object",
         "type": "string"
        },
        {
         "name": "copy_number",
         "rawType": "object",
         "type": "string"
        },
        {
         "name": "cytoband",
         "rawType": "object",
         "type": "string"
        },
        {
         "name": "days_to_test",
         "rawType": "object",
         "type": "string"
        },
        {
         "name": "exon",
         "rawType": "object",
         "type": "string"
        },
        {
         "name": "gene_symbol",
         "rawType": "object",
         "type": "string"
        },
        {
         "name": "histone_family",
         "rawType": "object",
         "type": "string"
        },
        {
         "name": "histone_variant",
         "rawType": "object",
         "type": "string"
        },
        {
         "name": "intron",
         "rawType": "object",
         "type": "string"
        },
        {
         "name": "laboratory_test",
         "rawType": "object",
         "type": "string"
        },
        {
         "name": "loci_abnormal_count",
         "rawType": "object",
         "type": "string"
        },
        {
         "name": "loci_count",
         "rawType": "object",
         "type": "string"
        },
        {
         "name": "locus",
         "rawType": "object",
         "type": "string"
        },
        {
         "name": "mismatch_repair_mutation",
         "rawType": "object",
         "type": "string"
        },
        {
         "name": "mitotic_count",
         "rawType": "object",
         "type": "string"
        },
        {
         "name": "mitotic_total_area",
         "rawType": "object",
         "type": "string"
        },
        {
         "name": "molecular_analysis_method",
         "rawType": "object",
         "type": "string"
        },
        {
         "name": "molecular_consequence",
         "rawType": "object",
         "type": "string"
        },
        {
         "name": "molecular_test_id",
         "rawType": "object",
         "type": "string"
        },
        {
         "name": "molecular_test_submitter_id",
         "rawType": "object",
         "type": "string"
        },
        {
         "name": "pathogenicity",
         "rawType": "object",
         "type": "string"
        },
        {
         "name": "ploidy",
         "rawType": "object",
         "type": "string"
        },
        {
         "name": "second_exon",
         "rawType": "object",
         "type": "string"
        },
        {
         "name": "second_gene_symbol",
         "rawType": "object",
         "type": "string"
        },
        {
         "name": "specialized_molecular_test",
         "rawType": "object",
         "type": "string"
        },
        {
         "name": "test_analyte_type",
         "rawType": "object",
         "type": "string"
        },
        {
         "name": "test_result",
         "rawType": "object",
         "type": "string"
        },
        {
         "name": "test_units",
         "rawType": "object",
         "type": "string"
        },
        {
         "name": "test_value",
         "rawType": "object",
         "type": "string"
        },
        {
         "name": "transcript",
         "rawType": "object",
         "type": "string"
        },
        {
         "name": "variant_origin",
         "rawType": "object",
         "type": "string"
        },
        {
         "name": "variant_type",
         "rawType": "object",
         "type": "string"
        },
        {
         "name": "zygosity",
         "rawType": "object",
         "type": "string"
        }
       ],
       "conversionMethod": "pd.DataFrame",
       "ref": "470cdf95-401c-49be-99d5-8b33324b23dc",
       "rows": [],
       "shape": {
        "columns": 112,
        "rows": 0
       }
      },
      "text/html": [
       "<div>\n",
       "<style scoped>\n",
       "    .dataframe tbody tr th:only-of-type {\n",
       "        vertical-align: middle;\n",
       "    }\n",
       "\n",
       "    .dataframe tbody tr th {\n",
       "        vertical-align: top;\n",
       "    }\n",
       "\n",
       "    .dataframe thead th {\n",
       "        text-align: right;\n",
       "    }\n",
       "</style>\n",
       "<table border=\"1\" class=\"dataframe\">\n",
       "  <thead>\n",
       "    <tr style=\"text-align: right;\">\n",
       "      <th></th>\n",
       "      <th>case_id</th>\n",
       "      <th>case_submitter_id</th>\n",
       "      <th>project_id</th>\n",
       "      <th>adverse_event</th>\n",
       "      <th>adverse_event_grade</th>\n",
       "      <th>aids_risk_factors</th>\n",
       "      <th>barretts_esophagus_goblet_cells_present</th>\n",
       "      <th>bmi</th>\n",
       "      <th>body_surface_area</th>\n",
       "      <th>cause_of_response</th>\n",
       "      <th>...</th>\n",
       "      <th>second_gene_symbol</th>\n",
       "      <th>specialized_molecular_test</th>\n",
       "      <th>test_analyte_type</th>\n",
       "      <th>test_result</th>\n",
       "      <th>test_units</th>\n",
       "      <th>test_value</th>\n",
       "      <th>transcript</th>\n",
       "      <th>variant_origin</th>\n",
       "      <th>variant_type</th>\n",
       "      <th>zygosity</th>\n",
       "    </tr>\n",
       "  </thead>\n",
       "  <tbody>\n",
       "  </tbody>\n",
       "</table>\n",
       "<p>0 rows × 112 columns</p>\n",
       "</div>"
      ],
      "text/plain": [
       "Empty DataFrame\n",
       "Columns: [case_id, case_submitter_id, project_id, adverse_event, adverse_event_grade, aids_risk_factors, barretts_esophagus_goblet_cells_present, bmi, body_surface_area, cause_of_response, cd4_count, cdc_hiv_risk_factors, comorbidity, comorbidity_method_of_diagnosis, days_to_adverse_event, days_to_comorbidity, days_to_follow_up, days_to_imaging, days_to_progression, days_to_progression_free, days_to_recurrence, diabetes_treatment_type, disease_response, dlco_ref_predictive_percent, ecog_performance_status, evidence_of_recurrence_type, eye_color, fev1_fvc_post_bronch_percent, fev1_fvc_pre_bronch_percent, fev1_ref_post_bronch_percent, fev1_ref_pre_bronch_percent, follow_up_id, follow_up_submitter_id, haart_treatment_indicator, height, hepatitis_sustained_virological_response, history_of_tumor, history_of_tumor_type, hiv_viral_load, hormonal_contraceptive_type, hormonal_contraceptive_use, hormone_replacement_therapy_type, hpv_positive_type, hysterectomy_margins_involved, hysterectomy_type, imaging_result, imaging_type, immunosuppressive_treatment_type, karnofsky_performance_status, menopause_status, nadir_cd4_count, pancreatitis_onset_year, pregnancy_outcome, procedures_performed, progression_or_recurrence, progression_or_recurrence_anatomic_site, progression_or_recurrence_type, recist_targeted_regions_number, recist_targeted_regions_sum, reflux_treatment_type, risk_factor, risk_factor_treatment, scan_tracer_used, undescended_testis_corrected, undescended_testis_corrected_age, undescended_testis_corrected_laterality, undescended_testis_corrected_method, undescended_testis_history, undescended_testis_history_laterality, viral_hepatitis_serologies, weight, aa_change, antigen, biospecimen_type, biospecimen_volume, blood_test_normal_range_lower, blood_test_normal_range_upper, cell_count, chromosome, clonality, copy_number, cytoband, days_to_test, exon, gene_symbol, histone_family, histone_variant, intron, laboratory_test, loci_abnormal_count, loci_count, locus, mismatch_repair_mutation, mitotic_count, mitotic_total_area, molecular_analysis_method, molecular_consequence, molecular_test_id, molecular_test_submitter_id, pathogenicity, ...]\n",
       "Index: []\n",
       "\n",
       "[0 rows x 112 columns]"
      ]
     },
     "execution_count": 8,
     "metadata": {},
     "output_type": "execute_result"
    }
   ],
   "source": [
    "follow_up.head()"
   ]
  },
  {
   "cell_type": "code",
   "execution_count": 9,
   "id": "5cf46168",
   "metadata": {},
   "outputs": [
    {
     "data": {
      "application/vnd.microsoft.datawrangler.viewer.v0+json": {
       "columns": [
        {
         "name": "index",
         "rawType": "int64",
         "type": "integer"
        },
        {
         "name": "case_id",
         "rawType": "object",
         "type": "string"
        },
        {
         "name": "case_submitter_id",
         "rawType": "object",
         "type": "string"
        },
        {
         "name": "project_id",
         "rawType": "object",
         "type": "string"
        },
        {
         "name": "diagnosis_id",
         "rawType": "object",
         "type": "string"
        },
        {
         "name": "diagnosis_submitter_id",
         "rawType": "object",
         "type": "string"
        },
        {
         "name": "additional_pathology_findings",
         "rawType": "object",
         "type": "string"
        },
        {
         "name": "anaplasia_present",
         "rawType": "object",
         "type": "string"
        },
        {
         "name": "anaplasia_present_type",
         "rawType": "object",
         "type": "string"
        },
        {
         "name": "bone_marrow_malignant_cells",
         "rawType": "object",
         "type": "string"
        },
        {
         "name": "breslow_thickness",
         "rawType": "object",
         "type": "string"
        },
        {
         "name": "circumferential_resection_margin",
         "rawType": "object",
         "type": "string"
        },
        {
         "name": "columnar_mucosa_present",
         "rawType": "object",
         "type": "string"
        },
        {
         "name": "consistent_pathology_review",
         "rawType": "object",
         "type": "string"
        },
        {
         "name": "dysplasia_degree",
         "rawType": "object",
         "type": "string"
        },
        {
         "name": "dysplasia_type",
         "rawType": "object",
         "type": "string"
        },
        {
         "name": "greatest_tumor_dimension",
         "rawType": "object",
         "type": "string"
        },
        {
         "name": "gross_tumor_weight",
         "rawType": "object",
         "type": "string"
        },
        {
         "name": "largest_extrapelvic_peritoneal_focus",
         "rawType": "object",
         "type": "string"
        },
        {
         "name": "lymph_node_involved_site",
         "rawType": "object",
         "type": "string"
        },
        {
         "name": "lymph_node_involvement",
         "rawType": "object",
         "type": "string"
        },
        {
         "name": "lymph_nodes_positive",
         "rawType": "object",
         "type": "string"
        },
        {
         "name": "lymph_nodes_tested",
         "rawType": "object",
         "type": "string"
        },
        {
         "name": "lymphatic_invasion_present",
         "rawType": "object",
         "type": "string"
        },
        {
         "name": "margin_status",
         "rawType": "object",
         "type": "string"
        },
        {
         "name": "metaplasia_present",
         "rawType": "object",
         "type": "string"
        },
        {
         "name": "morphologic_architectural_pattern",
         "rawType": "object",
         "type": "string"
        },
        {
         "name": "necrosis_percent",
         "rawType": "object",
         "type": "string"
        },
        {
         "name": "necrosis_present",
         "rawType": "object",
         "type": "string"
        },
        {
         "name": "non_nodal_regional_disease",
         "rawType": "object",
         "type": "string"
        },
        {
         "name": "non_nodal_tumor_deposits",
         "rawType": "object",
         "type": "string"
        },
        {
         "name": "number_proliferating_cells",
         "rawType": "object",
         "type": "string"
        },
        {
         "name": "pathology_detail_id",
         "rawType": "object",
         "type": "string"
        },
        {
         "name": "pathology_detail_submitter_id",
         "rawType": "object",
         "type": "string"
        },
        {
         "name": "percent_tumor_invasion",
         "rawType": "object",
         "type": "string"
        },
        {
         "name": "perineural_invasion_present",
         "rawType": "object",
         "type": "string"
        },
        {
         "name": "peripancreatic_lymph_nodes_positive",
         "rawType": "object",
         "type": "string"
        },
        {
         "name": "peripancreatic_lymph_nodes_tested",
         "rawType": "object",
         "type": "string"
        },
        {
         "name": "prostatic_chips_positive_count",
         "rawType": "object",
         "type": "string"
        },
        {
         "name": "prostatic_chips_total_count",
         "rawType": "object",
         "type": "string"
        },
        {
         "name": "prostatic_involvement_percent",
         "rawType": "object",
         "type": "string"
        },
        {
         "name": "residual_tumor",
         "rawType": "object",
         "type": "string"
        },
        {
         "name": "rhabdoid_percent",
         "rawType": "object",
         "type": "string"
        },
        {
         "name": "rhabdoid_present",
         "rawType": "object",
         "type": "string"
        },
        {
         "name": "sarcomatoid_percent",
         "rawType": "object",
         "type": "string"
        },
        {
         "name": "sarcomatoid_present",
         "rawType": "object",
         "type": "string"
        },
        {
         "name": "size_extraocular_nodule",
         "rawType": "object",
         "type": "string"
        },
        {
         "name": "transglottic_extension",
         "rawType": "object",
         "type": "string"
        },
        {
         "name": "tumor_largest_dimension_diameter",
         "rawType": "object",
         "type": "string"
        },
        {
         "name": "tumor_thickness",
         "rawType": "object",
         "type": "string"
        },
        {
         "name": "vascular_invasion_present",
         "rawType": "object",
         "type": "string"
        },
        {
         "name": "vascular_invasion_type",
         "rawType": "object",
         "type": "string"
        }
       ],
       "conversionMethod": "pd.DataFrame",
       "ref": "f57fdef1-162a-48bf-9b39-f591f2538897",
       "rows": [],
       "shape": {
        "columns": 51,
        "rows": 0
       }
      },
      "text/html": [
       "<div>\n",
       "<style scoped>\n",
       "    .dataframe tbody tr th:only-of-type {\n",
       "        vertical-align: middle;\n",
       "    }\n",
       "\n",
       "    .dataframe tbody tr th {\n",
       "        vertical-align: top;\n",
       "    }\n",
       "\n",
       "    .dataframe thead th {\n",
       "        text-align: right;\n",
       "    }\n",
       "</style>\n",
       "<table border=\"1\" class=\"dataframe\">\n",
       "  <thead>\n",
       "    <tr style=\"text-align: right;\">\n",
       "      <th></th>\n",
       "      <th>case_id</th>\n",
       "      <th>case_submitter_id</th>\n",
       "      <th>project_id</th>\n",
       "      <th>diagnosis_id</th>\n",
       "      <th>diagnosis_submitter_id</th>\n",
       "      <th>additional_pathology_findings</th>\n",
       "      <th>anaplasia_present</th>\n",
       "      <th>anaplasia_present_type</th>\n",
       "      <th>bone_marrow_malignant_cells</th>\n",
       "      <th>breslow_thickness</th>\n",
       "      <th>...</th>\n",
       "      <th>rhabdoid_percent</th>\n",
       "      <th>rhabdoid_present</th>\n",
       "      <th>sarcomatoid_percent</th>\n",
       "      <th>sarcomatoid_present</th>\n",
       "      <th>size_extraocular_nodule</th>\n",
       "      <th>transglottic_extension</th>\n",
       "      <th>tumor_largest_dimension_diameter</th>\n",
       "      <th>tumor_thickness</th>\n",
       "      <th>vascular_invasion_present</th>\n",
       "      <th>vascular_invasion_type</th>\n",
       "    </tr>\n",
       "  </thead>\n",
       "  <tbody>\n",
       "  </tbody>\n",
       "</table>\n",
       "<p>0 rows × 51 columns</p>\n",
       "</div>"
      ],
      "text/plain": [
       "Empty DataFrame\n",
       "Columns: [case_id, case_submitter_id, project_id, diagnosis_id, diagnosis_submitter_id, additional_pathology_findings, anaplasia_present, anaplasia_present_type, bone_marrow_malignant_cells, breslow_thickness, circumferential_resection_margin, columnar_mucosa_present, consistent_pathology_review, dysplasia_degree, dysplasia_type, greatest_tumor_dimension, gross_tumor_weight, largest_extrapelvic_peritoneal_focus, lymph_node_involved_site, lymph_node_involvement, lymph_nodes_positive, lymph_nodes_tested, lymphatic_invasion_present, margin_status, metaplasia_present, morphologic_architectural_pattern, necrosis_percent, necrosis_present, non_nodal_regional_disease, non_nodal_tumor_deposits, number_proliferating_cells, pathology_detail_id, pathology_detail_submitter_id, percent_tumor_invasion, perineural_invasion_present, peripancreatic_lymph_nodes_positive, peripancreatic_lymph_nodes_tested, prostatic_chips_positive_count, prostatic_chips_total_count, prostatic_involvement_percent, residual_tumor, rhabdoid_percent, rhabdoid_present, sarcomatoid_percent, sarcomatoid_present, size_extraocular_nodule, transglottic_extension, tumor_largest_dimension_diameter, tumor_thickness, vascular_invasion_present, vascular_invasion_type]\n",
       "Index: []\n",
       "\n",
       "[0 rows x 51 columns]"
      ]
     },
     "execution_count": 9,
     "metadata": {},
     "output_type": "execute_result"
    }
   ],
   "source": [
    "pathology_detail.head()"
   ]
  },
  {
   "cell_type": "code",
   "execution_count": 10,
   "id": "64cc6e77",
   "metadata": {},
   "outputs": [
    {
     "name": "stdout",
     "output_type": "stream",
     "text": [
      "<class 'pandas.core.frame.DataFrame'>\n",
      "RangeIndex: 106 entries, 0 to 105\n",
      "Columns: 158 entries, case_id to treatment_type\n",
      "dtypes: object(158)\n",
      "memory usage: 131.0+ KB\n"
     ]
    }
   ],
   "source": [
    "clinical.info()"
   ]
  },
  {
   "cell_type": "code",
   "execution_count": 11,
   "id": "36801c2f",
   "metadata": {},
   "outputs": [
    {
     "name": "stdout",
     "output_type": "stream",
     "text": [
      "<class 'pandas.core.frame.DataFrame'>\n",
      "RangeIndex: 48 entries, 0 to 47\n",
      "Data columns (total 35 columns):\n",
      " #   Column                                  Non-Null Count  Dtype \n",
      "---  ------                                  --------------  ----- \n",
      " 0   case_id                                 48 non-null     object\n",
      " 1   case_submitter_id                       48 non-null     object\n",
      " 2   project_id                              48 non-null     object\n",
      " 3   age_at_onset                            48 non-null     object\n",
      " 4   alcohol_days_per_week                   48 non-null     object\n",
      " 5   alcohol_drinks_per_day                  48 non-null     object\n",
      " 6   alcohol_history                         48 non-null     object\n",
      " 7   alcohol_intensity                       48 non-null     object\n",
      " 8   alcohol_type                            48 non-null     object\n",
      " 9   asbestos_exposure                       48 non-null     object\n",
      " 10  bmi                                     48 non-null     object\n",
      " 11  cigarettes_per_day                      48 non-null     object\n",
      " 12  coal_dust_exposure                      48 non-null     object\n",
      " 13  environmental_tobacco_smoke_exposure    48 non-null     object\n",
      " 14  exposure_duration                       48 non-null     object\n",
      " 15  exposure_duration_years                 48 non-null     object\n",
      " 16  exposure_type                           48 non-null     object\n",
      " 17  height                                  48 non-null     object\n",
      " 18  marijuana_use_per_week                  48 non-null     object\n",
      " 19  pack_years_smoked                       48 non-null     object\n",
      " 20  parent_with_radiation_exposure          48 non-null     object\n",
      " 21  radon_exposure                          48 non-null     object\n",
      " 22  respirable_crystalline_silica_exposure  48 non-null     object\n",
      " 23  secondhand_smoke_as_child               48 non-null     object\n",
      " 24  smokeless_tobacco_quit_age              48 non-null     object\n",
      " 25  smoking_frequency                       48 non-null     object\n",
      " 26  time_between_waking_and_first_smoke     48 non-null     object\n",
      " 27  tobacco_smoking_onset_year              48 non-null     object\n",
      " 28  tobacco_smoking_quit_year               48 non-null     object\n",
      " 29  tobacco_smoking_status                  48 non-null     object\n",
      " 30  tobacco_use_per_day                     48 non-null     object\n",
      " 31  type_of_smoke_exposure                  48 non-null     object\n",
      " 32  type_of_tobacco_used                    48 non-null     object\n",
      " 33  weight                                  48 non-null     object\n",
      " 34  years_smoked                            48 non-null     object\n",
      "dtypes: object(35)\n",
      "memory usage: 13.2+ KB\n"
     ]
    }
   ],
   "source": [
    "exposure.info()"
   ]
  },
  {
   "cell_type": "code",
   "execution_count": 12,
   "id": "3a5b8233",
   "metadata": {},
   "outputs": [
    {
     "data": {
      "application/vnd.microsoft.datawrangler.viewer.v0+json": {
       "columns": [
        {
         "name": "index",
         "rawType": "object",
         "type": "string"
        },
        {
         "name": "count",
         "rawType": "object",
         "type": "unknown"
        },
        {
         "name": "unique",
         "rawType": "object",
         "type": "unknown"
        },
        {
         "name": "top",
         "rawType": "object",
         "type": "string"
        },
        {
         "name": "freq",
         "rawType": "object",
         "type": "unknown"
        }
       ],
       "conversionMethod": "pd.DataFrame",
       "ref": "ba48043f-09a5-4ae8-9d6e-e26f10209436",
       "rows": [
        [
         "case_id",
         "106",
         "58",
         "0030a28c-81aa-44b0-8be0-b35e1dcbf98c",
         "2"
        ],
        [
         "case_submitter_id",
         "106",
         "58",
         "TCGA-FA-A7Q1",
         "2"
        ],
        [
         "project_id",
         "106",
         "1",
         "TCGA-DLBC",
         "106"
        ],
        [
         "age_at_index",
         "106",
         "35",
         "'--",
         "10"
        ],
        [
         "age_is_obfuscated",
         "106",
         "1",
         "'--",
         "106"
        ],
        [
         "cause_of_death",
         "106",
         "1",
         "'--",
         "106"
        ],
        [
         "cause_of_death_source",
         "106",
         "1",
         "'--",
         "106"
        ],
        [
         "country_of_residence_at_enrollment",
         "106",
         "1",
         "'--",
         "106"
        ],
        [
         "days_to_birth",
         "106",
         "49",
         "'--",
         "10"
        ],
        [
         "days_to_death",
         "106",
         "10",
         "'--",
         "88"
        ],
        [
         "ethnicity",
         "106",
         "3",
         "not hispanic or latino",
         "72"
        ],
        [
         "gender",
         "106",
         "3",
         "female",
         "52"
        ],
        [
         "occupation_duration_years",
         "106",
         "1",
         "'--",
         "106"
        ],
        [
         "premature_at_birth",
         "106",
         "1",
         "'--",
         "106"
        ],
        [
         "race",
         "106",
         "4",
         "white",
         "58"
        ],
        [
         "vital_status",
         "106",
         "3",
         "Alive",
         "78"
        ],
        [
         "weeks_gestation_at_birth",
         "106",
         "1",
         "'--",
         "106"
        ],
        [
         "year_of_birth",
         "106",
         "35",
         "'--",
         "10"
        ],
        [
         "year_of_death",
         "106",
         "5",
         "'--",
         "96"
        ],
        [
         "adrenal_hormone",
         "106",
         "1",
         "'--",
         "106"
        ],
        [
         "age_at_diagnosis",
         "106",
         "49",
         "'--",
         "10"
        ],
        [
         "ajcc_clinical_m",
         "106",
         "1",
         "'--",
         "106"
        ],
        [
         "ajcc_clinical_n",
         "106",
         "1",
         "'--",
         "106"
        ],
        [
         "ajcc_clinical_stage",
         "106",
         "1",
         "'--",
         "106"
        ],
        [
         "ajcc_clinical_t",
         "106",
         "1",
         "'--",
         "106"
        ],
        [
         "ajcc_pathologic_m",
         "106",
         "1",
         "'--",
         "106"
        ],
        [
         "ajcc_pathologic_n",
         "106",
         "1",
         "'--",
         "106"
        ],
        [
         "ajcc_pathologic_stage",
         "106",
         "1",
         "'--",
         "106"
        ],
        [
         "ajcc_pathologic_t",
         "106",
         "1",
         "'--",
         "106"
        ],
        [
         "ajcc_staging_system_edition",
         "106",
         "1",
         "'--",
         "106"
        ],
        [
         "anaplasia_present",
         "106",
         "1",
         "'--",
         "106"
        ],
        [
         "anaplasia_present_type",
         "106",
         "1",
         "'--",
         "106"
        ],
        [
         "ann_arbor_b_symptoms",
         "106",
         "3",
         "No",
         "70"
        ],
        [
         "ann_arbor_b_symptoms_described",
         "106",
         "1",
         "'--",
         "106"
        ],
        [
         "ann_arbor_clinical_stage",
         "106",
         "5",
         "Stage II",
         "34"
        ],
        [
         "ann_arbor_extranodal_involvement",
         "106",
         "3",
         "No",
         "50"
        ],
        [
         "ann_arbor_pathologic_stage",
         "106",
         "1",
         "'--",
         "106"
        ],
        [
         "best_overall_response",
         "106",
         "1",
         "'--",
         "106"
        ],
        [
         "breslow_thickness",
         "106",
         "1",
         "'--",
         "106"
        ],
        [
         "burkitt_lymphoma_clinical_variant",
         "106",
         "1",
         "'--",
         "106"
        ],
        [
         "child_pugh_classification",
         "106",
         "1",
         "'--",
         "106"
        ],
        [
         "circumferential_resection_margin",
         "106",
         "1",
         "'--",
         "106"
        ],
        [
         "classification_of_tumor",
         "106",
         "2",
         "not reported",
         "96"
        ],
        [
         "cog_liver_stage",
         "106",
         "1",
         "'--",
         "106"
        ],
        [
         "cog_neuroblastoma_risk_group",
         "106",
         "1",
         "'--",
         "106"
        ],
        [
         "cog_renal_stage",
         "106",
         "1",
         "'--",
         "106"
        ],
        [
         "cog_rhabdomyosarcoma_risk_group",
         "106",
         "1",
         "'--",
         "106"
        ],
        [
         "days_to_best_overall_response",
         "106",
         "1",
         "'--",
         "106"
        ],
        [
         "days_to_diagnosis",
         "106",
         "2",
         "0",
         "96"
        ],
        [
         "days_to_last_follow_up",
         "106",
         "42",
         "'--",
         "20"
        ]
       ],
       "shape": {
        "columns": 4,
        "rows": 158
       }
      },
      "text/html": [
       "<div>\n",
       "<style scoped>\n",
       "    .dataframe tbody tr th:only-of-type {\n",
       "        vertical-align: middle;\n",
       "    }\n",
       "\n",
       "    .dataframe tbody tr th {\n",
       "        vertical-align: top;\n",
       "    }\n",
       "\n",
       "    .dataframe thead th {\n",
       "        text-align: right;\n",
       "    }\n",
       "</style>\n",
       "<table border=\"1\" class=\"dataframe\">\n",
       "  <thead>\n",
       "    <tr style=\"text-align: right;\">\n",
       "      <th></th>\n",
       "      <th>count</th>\n",
       "      <th>unique</th>\n",
       "      <th>top</th>\n",
       "      <th>freq</th>\n",
       "    </tr>\n",
       "  </thead>\n",
       "  <tbody>\n",
       "    <tr>\n",
       "      <th>case_id</th>\n",
       "      <td>106</td>\n",
       "      <td>58</td>\n",
       "      <td>0030a28c-81aa-44b0-8be0-b35e1dcbf98c</td>\n",
       "      <td>2</td>\n",
       "    </tr>\n",
       "    <tr>\n",
       "      <th>case_submitter_id</th>\n",
       "      <td>106</td>\n",
       "      <td>58</td>\n",
       "      <td>TCGA-FA-A7Q1</td>\n",
       "      <td>2</td>\n",
       "    </tr>\n",
       "    <tr>\n",
       "      <th>project_id</th>\n",
       "      <td>106</td>\n",
       "      <td>1</td>\n",
       "      <td>TCGA-DLBC</td>\n",
       "      <td>106</td>\n",
       "    </tr>\n",
       "    <tr>\n",
       "      <th>age_at_index</th>\n",
       "      <td>106</td>\n",
       "      <td>35</td>\n",
       "      <td>'--</td>\n",
       "      <td>10</td>\n",
       "    </tr>\n",
       "    <tr>\n",
       "      <th>age_is_obfuscated</th>\n",
       "      <td>106</td>\n",
       "      <td>1</td>\n",
       "      <td>'--</td>\n",
       "      <td>106</td>\n",
       "    </tr>\n",
       "    <tr>\n",
       "      <th>...</th>\n",
       "      <td>...</td>\n",
       "      <td>...</td>\n",
       "      <td>...</td>\n",
       "      <td>...</td>\n",
       "    </tr>\n",
       "    <tr>\n",
       "      <th>treatment_frequency</th>\n",
       "      <td>106</td>\n",
       "      <td>1</td>\n",
       "      <td>'--</td>\n",
       "      <td>106</td>\n",
       "    </tr>\n",
       "    <tr>\n",
       "      <th>treatment_intent_type</th>\n",
       "      <td>106</td>\n",
       "      <td>1</td>\n",
       "      <td>'--</td>\n",
       "      <td>106</td>\n",
       "    </tr>\n",
       "    <tr>\n",
       "      <th>treatment_or_therapy</th>\n",
       "      <td>106</td>\n",
       "      <td>4</td>\n",
       "      <td>yes</td>\n",
       "      <td>51</td>\n",
       "    </tr>\n",
       "    <tr>\n",
       "      <th>treatment_outcome</th>\n",
       "      <td>106</td>\n",
       "      <td>1</td>\n",
       "      <td>'--</td>\n",
       "      <td>106</td>\n",
       "    </tr>\n",
       "    <tr>\n",
       "      <th>treatment_type</th>\n",
       "      <td>106</td>\n",
       "      <td>3</td>\n",
       "      <td>Pharmaceutical Therapy, NOS</td>\n",
       "      <td>48</td>\n",
       "    </tr>\n",
       "  </tbody>\n",
       "</table>\n",
       "<p>158 rows × 4 columns</p>\n",
       "</div>"
      ],
      "text/plain": [
       "                      count unique                                   top freq\n",
       "case_id                 106     58  0030a28c-81aa-44b0-8be0-b35e1dcbf98c    2\n",
       "case_submitter_id       106     58                          TCGA-FA-A7Q1    2\n",
       "project_id              106      1                             TCGA-DLBC  106\n",
       "age_at_index            106     35                                   '--   10\n",
       "age_is_obfuscated       106      1                                   '--  106\n",
       "...                     ...    ...                                   ...  ...\n",
       "treatment_frequency     106      1                                   '--  106\n",
       "treatment_intent_type   106      1                                   '--  106\n",
       "treatment_or_therapy    106      4                                   yes   51\n",
       "treatment_outcome       106      1                                   '--  106\n",
       "treatment_type          106      3           Pharmaceutical Therapy, NOS   48\n",
       "\n",
       "[158 rows x 4 columns]"
      ]
     },
     "execution_count": 12,
     "metadata": {},
     "output_type": "execute_result"
    }
   ],
   "source": [
    "clinical.describe().T"
   ]
  },
  {
   "cell_type": "code",
   "execution_count": 13,
   "id": "2071e608",
   "metadata": {},
   "outputs": [
    {
     "data": {
      "application/vnd.microsoft.datawrangler.viewer.v0+json": {
       "columns": [
        {
         "name": "index",
         "rawType": "object",
         "type": "string"
        },
        {
         "name": "count",
         "rawType": "object",
         "type": "unknown"
        },
        {
         "name": "unique",
         "rawType": "object",
         "type": "unknown"
        },
        {
         "name": "top",
         "rawType": "object",
         "type": "string"
        },
        {
         "name": "freq",
         "rawType": "object",
         "type": "unknown"
        }
       ],
       "conversionMethod": "pd.DataFrame",
       "ref": "568dbe76-8c8d-4d97-a785-775c541ff373",
       "rows": [
        [
         "case_id",
         "48",
         "48",
         "0030a28c-81aa-44b0-8be0-b35e1dcbf98c",
         "1"
        ],
        [
         "case_submitter_id",
         "48",
         "48",
         "TCGA-FA-A7Q1",
         "1"
        ],
        [
         "project_id",
         "48",
         "1",
         "TCGA-DLBC",
         "48"
        ],
        [
         "age_at_onset",
         "48",
         "1",
         "'--",
         "48"
        ],
        [
         "alcohol_days_per_week",
         "48",
         "1",
         "'--",
         "48"
        ],
        [
         "alcohol_drinks_per_day",
         "48",
         "1",
         "'--",
         "48"
        ],
        [
         "alcohol_history",
         "48",
         "1",
         "Not Reported",
         "48"
        ],
        [
         "alcohol_intensity",
         "48",
         "1",
         "'--",
         "48"
        ],
        [
         "alcohol_type",
         "48",
         "1",
         "'--",
         "48"
        ],
        [
         "asbestos_exposure",
         "48",
         "1",
         "'--",
         "48"
        ],
        [
         "bmi",
         "48",
         "1",
         "'--",
         "48"
        ],
        [
         "cigarettes_per_day",
         "48",
         "1",
         "'--",
         "48"
        ],
        [
         "coal_dust_exposure",
         "48",
         "1",
         "'--",
         "48"
        ],
        [
         "environmental_tobacco_smoke_exposure",
         "48",
         "1",
         "'--",
         "48"
        ],
        [
         "exposure_duration",
         "48",
         "1",
         "'--",
         "48"
        ],
        [
         "exposure_duration_years",
         "48",
         "1",
         "'--",
         "48"
        ],
        [
         "exposure_type",
         "48",
         "1",
         "'--",
         "48"
        ],
        [
         "height",
         "48",
         "1",
         "'--",
         "48"
        ],
        [
         "marijuana_use_per_week",
         "48",
         "1",
         "'--",
         "48"
        ],
        [
         "pack_years_smoked",
         "48",
         "1",
         "'--",
         "48"
        ],
        [
         "parent_with_radiation_exposure",
         "48",
         "1",
         "'--",
         "48"
        ],
        [
         "radon_exposure",
         "48",
         "1",
         "'--",
         "48"
        ],
        [
         "respirable_crystalline_silica_exposure",
         "48",
         "1",
         "'--",
         "48"
        ],
        [
         "secondhand_smoke_as_child",
         "48",
         "1",
         "'--",
         "48"
        ],
        [
         "smokeless_tobacco_quit_age",
         "48",
         "1",
         "'--",
         "48"
        ],
        [
         "smoking_frequency",
         "48",
         "1",
         "'--",
         "48"
        ],
        [
         "time_between_waking_and_first_smoke",
         "48",
         "1",
         "'--",
         "48"
        ],
        [
         "tobacco_smoking_onset_year",
         "48",
         "1",
         "'--",
         "48"
        ],
        [
         "tobacco_smoking_quit_year",
         "48",
         "1",
         "'--",
         "48"
        ],
        [
         "tobacco_smoking_status",
         "48",
         "1",
         "'--",
         "48"
        ],
        [
         "tobacco_use_per_day",
         "48",
         "1",
         "'--",
         "48"
        ],
        [
         "type_of_smoke_exposure",
         "48",
         "1",
         "'--",
         "48"
        ],
        [
         "type_of_tobacco_used",
         "48",
         "1",
         "'--",
         "48"
        ],
        [
         "weight",
         "48",
         "1",
         "'--",
         "48"
        ],
        [
         "years_smoked",
         "48",
         "1",
         "'--",
         "48"
        ]
       ],
       "shape": {
        "columns": 4,
        "rows": 35
       }
      },
      "text/html": [
       "<div>\n",
       "<style scoped>\n",
       "    .dataframe tbody tr th:only-of-type {\n",
       "        vertical-align: middle;\n",
       "    }\n",
       "\n",
       "    .dataframe tbody tr th {\n",
       "        vertical-align: top;\n",
       "    }\n",
       "\n",
       "    .dataframe thead th {\n",
       "        text-align: right;\n",
       "    }\n",
       "</style>\n",
       "<table border=\"1\" class=\"dataframe\">\n",
       "  <thead>\n",
       "    <tr style=\"text-align: right;\">\n",
       "      <th></th>\n",
       "      <th>count</th>\n",
       "      <th>unique</th>\n",
       "      <th>top</th>\n",
       "      <th>freq</th>\n",
       "    </tr>\n",
       "  </thead>\n",
       "  <tbody>\n",
       "    <tr>\n",
       "      <th>case_id</th>\n",
       "      <td>48</td>\n",
       "      <td>48</td>\n",
       "      <td>0030a28c-81aa-44b0-8be0-b35e1dcbf98c</td>\n",
       "      <td>1</td>\n",
       "    </tr>\n",
       "    <tr>\n",
       "      <th>case_submitter_id</th>\n",
       "      <td>48</td>\n",
       "      <td>48</td>\n",
       "      <td>TCGA-FA-A7Q1</td>\n",
       "      <td>1</td>\n",
       "    </tr>\n",
       "    <tr>\n",
       "      <th>project_id</th>\n",
       "      <td>48</td>\n",
       "      <td>1</td>\n",
       "      <td>TCGA-DLBC</td>\n",
       "      <td>48</td>\n",
       "    </tr>\n",
       "    <tr>\n",
       "      <th>age_at_onset</th>\n",
       "      <td>48</td>\n",
       "      <td>1</td>\n",
       "      <td>'--</td>\n",
       "      <td>48</td>\n",
       "    </tr>\n",
       "    <tr>\n",
       "      <th>alcohol_days_per_week</th>\n",
       "      <td>48</td>\n",
       "      <td>1</td>\n",
       "      <td>'--</td>\n",
       "      <td>48</td>\n",
       "    </tr>\n",
       "    <tr>\n",
       "      <th>alcohol_drinks_per_day</th>\n",
       "      <td>48</td>\n",
       "      <td>1</td>\n",
       "      <td>'--</td>\n",
       "      <td>48</td>\n",
       "    </tr>\n",
       "    <tr>\n",
       "      <th>alcohol_history</th>\n",
       "      <td>48</td>\n",
       "      <td>1</td>\n",
       "      <td>Not Reported</td>\n",
       "      <td>48</td>\n",
       "    </tr>\n",
       "    <tr>\n",
       "      <th>alcohol_intensity</th>\n",
       "      <td>48</td>\n",
       "      <td>1</td>\n",
       "      <td>'--</td>\n",
       "      <td>48</td>\n",
       "    </tr>\n",
       "    <tr>\n",
       "      <th>alcohol_type</th>\n",
       "      <td>48</td>\n",
       "      <td>1</td>\n",
       "      <td>'--</td>\n",
       "      <td>48</td>\n",
       "    </tr>\n",
       "    <tr>\n",
       "      <th>asbestos_exposure</th>\n",
       "      <td>48</td>\n",
       "      <td>1</td>\n",
       "      <td>'--</td>\n",
       "      <td>48</td>\n",
       "    </tr>\n",
       "    <tr>\n",
       "      <th>bmi</th>\n",
       "      <td>48</td>\n",
       "      <td>1</td>\n",
       "      <td>'--</td>\n",
       "      <td>48</td>\n",
       "    </tr>\n",
       "    <tr>\n",
       "      <th>cigarettes_per_day</th>\n",
       "      <td>48</td>\n",
       "      <td>1</td>\n",
       "      <td>'--</td>\n",
       "      <td>48</td>\n",
       "    </tr>\n",
       "    <tr>\n",
       "      <th>coal_dust_exposure</th>\n",
       "      <td>48</td>\n",
       "      <td>1</td>\n",
       "      <td>'--</td>\n",
       "      <td>48</td>\n",
       "    </tr>\n",
       "    <tr>\n",
       "      <th>environmental_tobacco_smoke_exposure</th>\n",
       "      <td>48</td>\n",
       "      <td>1</td>\n",
       "      <td>'--</td>\n",
       "      <td>48</td>\n",
       "    </tr>\n",
       "    <tr>\n",
       "      <th>exposure_duration</th>\n",
       "      <td>48</td>\n",
       "      <td>1</td>\n",
       "      <td>'--</td>\n",
       "      <td>48</td>\n",
       "    </tr>\n",
       "    <tr>\n",
       "      <th>exposure_duration_years</th>\n",
       "      <td>48</td>\n",
       "      <td>1</td>\n",
       "      <td>'--</td>\n",
       "      <td>48</td>\n",
       "    </tr>\n",
       "    <tr>\n",
       "      <th>exposure_type</th>\n",
       "      <td>48</td>\n",
       "      <td>1</td>\n",
       "      <td>'--</td>\n",
       "      <td>48</td>\n",
       "    </tr>\n",
       "    <tr>\n",
       "      <th>height</th>\n",
       "      <td>48</td>\n",
       "      <td>1</td>\n",
       "      <td>'--</td>\n",
       "      <td>48</td>\n",
       "    </tr>\n",
       "    <tr>\n",
       "      <th>marijuana_use_per_week</th>\n",
       "      <td>48</td>\n",
       "      <td>1</td>\n",
       "      <td>'--</td>\n",
       "      <td>48</td>\n",
       "    </tr>\n",
       "    <tr>\n",
       "      <th>pack_years_smoked</th>\n",
       "      <td>48</td>\n",
       "      <td>1</td>\n",
       "      <td>'--</td>\n",
       "      <td>48</td>\n",
       "    </tr>\n",
       "    <tr>\n",
       "      <th>parent_with_radiation_exposure</th>\n",
       "      <td>48</td>\n",
       "      <td>1</td>\n",
       "      <td>'--</td>\n",
       "      <td>48</td>\n",
       "    </tr>\n",
       "    <tr>\n",
       "      <th>radon_exposure</th>\n",
       "      <td>48</td>\n",
       "      <td>1</td>\n",
       "      <td>'--</td>\n",
       "      <td>48</td>\n",
       "    </tr>\n",
       "    <tr>\n",
       "      <th>respirable_crystalline_silica_exposure</th>\n",
       "      <td>48</td>\n",
       "      <td>1</td>\n",
       "      <td>'--</td>\n",
       "      <td>48</td>\n",
       "    </tr>\n",
       "    <tr>\n",
       "      <th>secondhand_smoke_as_child</th>\n",
       "      <td>48</td>\n",
       "      <td>1</td>\n",
       "      <td>'--</td>\n",
       "      <td>48</td>\n",
       "    </tr>\n",
       "    <tr>\n",
       "      <th>smokeless_tobacco_quit_age</th>\n",
       "      <td>48</td>\n",
       "      <td>1</td>\n",
       "      <td>'--</td>\n",
       "      <td>48</td>\n",
       "    </tr>\n",
       "    <tr>\n",
       "      <th>smoking_frequency</th>\n",
       "      <td>48</td>\n",
       "      <td>1</td>\n",
       "      <td>'--</td>\n",
       "      <td>48</td>\n",
       "    </tr>\n",
       "    <tr>\n",
       "      <th>time_between_waking_and_first_smoke</th>\n",
       "      <td>48</td>\n",
       "      <td>1</td>\n",
       "      <td>'--</td>\n",
       "      <td>48</td>\n",
       "    </tr>\n",
       "    <tr>\n",
       "      <th>tobacco_smoking_onset_year</th>\n",
       "      <td>48</td>\n",
       "      <td>1</td>\n",
       "      <td>'--</td>\n",
       "      <td>48</td>\n",
       "    </tr>\n",
       "    <tr>\n",
       "      <th>tobacco_smoking_quit_year</th>\n",
       "      <td>48</td>\n",
       "      <td>1</td>\n",
       "      <td>'--</td>\n",
       "      <td>48</td>\n",
       "    </tr>\n",
       "    <tr>\n",
       "      <th>tobacco_smoking_status</th>\n",
       "      <td>48</td>\n",
       "      <td>1</td>\n",
       "      <td>'--</td>\n",
       "      <td>48</td>\n",
       "    </tr>\n",
       "    <tr>\n",
       "      <th>tobacco_use_per_day</th>\n",
       "      <td>48</td>\n",
       "      <td>1</td>\n",
       "      <td>'--</td>\n",
       "      <td>48</td>\n",
       "    </tr>\n",
       "    <tr>\n",
       "      <th>type_of_smoke_exposure</th>\n",
       "      <td>48</td>\n",
       "      <td>1</td>\n",
       "      <td>'--</td>\n",
       "      <td>48</td>\n",
       "    </tr>\n",
       "    <tr>\n",
       "      <th>type_of_tobacco_used</th>\n",
       "      <td>48</td>\n",
       "      <td>1</td>\n",
       "      <td>'--</td>\n",
       "      <td>48</td>\n",
       "    </tr>\n",
       "    <tr>\n",
       "      <th>weight</th>\n",
       "      <td>48</td>\n",
       "      <td>1</td>\n",
       "      <td>'--</td>\n",
       "      <td>48</td>\n",
       "    </tr>\n",
       "    <tr>\n",
       "      <th>years_smoked</th>\n",
       "      <td>48</td>\n",
       "      <td>1</td>\n",
       "      <td>'--</td>\n",
       "      <td>48</td>\n",
       "    </tr>\n",
       "  </tbody>\n",
       "</table>\n",
       "</div>"
      ],
      "text/plain": [
       "                                       count unique  \\\n",
       "case_id                                   48     48   \n",
       "case_submitter_id                         48     48   \n",
       "project_id                                48      1   \n",
       "age_at_onset                              48      1   \n",
       "alcohol_days_per_week                     48      1   \n",
       "alcohol_drinks_per_day                    48      1   \n",
       "alcohol_history                           48      1   \n",
       "alcohol_intensity                         48      1   \n",
       "alcohol_type                              48      1   \n",
       "asbestos_exposure                         48      1   \n",
       "bmi                                       48      1   \n",
       "cigarettes_per_day                        48      1   \n",
       "coal_dust_exposure                        48      1   \n",
       "environmental_tobacco_smoke_exposure      48      1   \n",
       "exposure_duration                         48      1   \n",
       "exposure_duration_years                   48      1   \n",
       "exposure_type                             48      1   \n",
       "height                                    48      1   \n",
       "marijuana_use_per_week                    48      1   \n",
       "pack_years_smoked                         48      1   \n",
       "parent_with_radiation_exposure            48      1   \n",
       "radon_exposure                            48      1   \n",
       "respirable_crystalline_silica_exposure    48      1   \n",
       "secondhand_smoke_as_child                 48      1   \n",
       "smokeless_tobacco_quit_age                48      1   \n",
       "smoking_frequency                         48      1   \n",
       "time_between_waking_and_first_smoke       48      1   \n",
       "tobacco_smoking_onset_year                48      1   \n",
       "tobacco_smoking_quit_year                 48      1   \n",
       "tobacco_smoking_status                    48      1   \n",
       "tobacco_use_per_day                       48      1   \n",
       "type_of_smoke_exposure                    48      1   \n",
       "type_of_tobacco_used                      48      1   \n",
       "weight                                    48      1   \n",
       "years_smoked                              48      1   \n",
       "\n",
       "                                                                         top  \\\n",
       "case_id                                 0030a28c-81aa-44b0-8be0-b35e1dcbf98c   \n",
       "case_submitter_id                                               TCGA-FA-A7Q1   \n",
       "project_id                                                         TCGA-DLBC   \n",
       "age_at_onset                                                             '--   \n",
       "alcohol_days_per_week                                                    '--   \n",
       "alcohol_drinks_per_day                                                   '--   \n",
       "alcohol_history                                                 Not Reported   \n",
       "alcohol_intensity                                                        '--   \n",
       "alcohol_type                                                             '--   \n",
       "asbestos_exposure                                                        '--   \n",
       "bmi                                                                      '--   \n",
       "cigarettes_per_day                                                       '--   \n",
       "coal_dust_exposure                                                       '--   \n",
       "environmental_tobacco_smoke_exposure                                     '--   \n",
       "exposure_duration                                                        '--   \n",
       "exposure_duration_years                                                  '--   \n",
       "exposure_type                                                            '--   \n",
       "height                                                                   '--   \n",
       "marijuana_use_per_week                                                   '--   \n",
       "pack_years_smoked                                                        '--   \n",
       "parent_with_radiation_exposure                                           '--   \n",
       "radon_exposure                                                           '--   \n",
       "respirable_crystalline_silica_exposure                                   '--   \n",
       "secondhand_smoke_as_child                                                '--   \n",
       "smokeless_tobacco_quit_age                                               '--   \n",
       "smoking_frequency                                                        '--   \n",
       "time_between_waking_and_first_smoke                                      '--   \n",
       "tobacco_smoking_onset_year                                               '--   \n",
       "tobacco_smoking_quit_year                                                '--   \n",
       "tobacco_smoking_status                                                   '--   \n",
       "tobacco_use_per_day                                                      '--   \n",
       "type_of_smoke_exposure                                                   '--   \n",
       "type_of_tobacco_used                                                     '--   \n",
       "weight                                                                   '--   \n",
       "years_smoked                                                             '--   \n",
       "\n",
       "                                       freq  \n",
       "case_id                                   1  \n",
       "case_submitter_id                         1  \n",
       "project_id                               48  \n",
       "age_at_onset                             48  \n",
       "alcohol_days_per_week                    48  \n",
       "alcohol_drinks_per_day                   48  \n",
       "alcohol_history                          48  \n",
       "alcohol_intensity                        48  \n",
       "alcohol_type                             48  \n",
       "asbestos_exposure                        48  \n",
       "bmi                                      48  \n",
       "cigarettes_per_day                       48  \n",
       "coal_dust_exposure                       48  \n",
       "environmental_tobacco_smoke_exposure     48  \n",
       "exposure_duration                        48  \n",
       "exposure_duration_years                  48  \n",
       "exposure_type                            48  \n",
       "height                                   48  \n",
       "marijuana_use_per_week                   48  \n",
       "pack_years_smoked                        48  \n",
       "parent_with_radiation_exposure           48  \n",
       "radon_exposure                           48  \n",
       "respirable_crystalline_silica_exposure   48  \n",
       "secondhand_smoke_as_child                48  \n",
       "smokeless_tobacco_quit_age               48  \n",
       "smoking_frequency                        48  \n",
       "time_between_waking_and_first_smoke      48  \n",
       "tobacco_smoking_onset_year               48  \n",
       "tobacco_smoking_quit_year                48  \n",
       "tobacco_smoking_status                   48  \n",
       "tobacco_use_per_day                      48  \n",
       "type_of_smoke_exposure                   48  \n",
       "type_of_tobacco_used                     48  \n",
       "weight                                   48  \n",
       "years_smoked                             48  "
      ]
     },
     "execution_count": 13,
     "metadata": {},
     "output_type": "execute_result"
    }
   ],
   "source": [
    "exposure.describe().T"
   ]
  },
  {
   "cell_type": "code",
   "execution_count": 14,
   "id": "b24cab1a",
   "metadata": {},
   "outputs": [
    {
     "data": {
      "application/vnd.microsoft.datawrangler.viewer.v0+json": {
       "columns": [
        {
         "name": "index",
         "rawType": "int64",
         "type": "integer"
        },
        {
         "name": "case_id",
         "rawType": "object",
         "type": "string"
        },
        {
         "name": "case_submitter_id",
         "rawType": "object",
         "type": "string"
        },
        {
         "name": "project_id",
         "rawType": "object",
         "type": "string"
        },
        {
         "name": "age_at_index",
         "rawType": "object",
         "type": "string"
        },
        {
         "name": "age_is_obfuscated",
         "rawType": "object",
         "type": "string"
        },
        {
         "name": "cause_of_death",
         "rawType": "object",
         "type": "string"
        },
        {
         "name": "cause_of_death_source",
         "rawType": "object",
         "type": "string"
        },
        {
         "name": "country_of_residence_at_enrollment",
         "rawType": "object",
         "type": "string"
        },
        {
         "name": "days_to_birth",
         "rawType": "object",
         "type": "string"
        },
        {
         "name": "days_to_death",
         "rawType": "object",
         "type": "string"
        },
        {
         "name": "ethnicity",
         "rawType": "object",
         "type": "string"
        },
        {
         "name": "gender",
         "rawType": "object",
         "type": "string"
        },
        {
         "name": "occupation_duration_years",
         "rawType": "object",
         "type": "string"
        },
        {
         "name": "premature_at_birth",
         "rawType": "object",
         "type": "string"
        },
        {
         "name": "race",
         "rawType": "object",
         "type": "string"
        },
        {
         "name": "vital_status",
         "rawType": "object",
         "type": "string"
        },
        {
         "name": "weeks_gestation_at_birth",
         "rawType": "object",
         "type": "string"
        },
        {
         "name": "year_of_birth",
         "rawType": "object",
         "type": "string"
        },
        {
         "name": "year_of_death",
         "rawType": "object",
         "type": "string"
        },
        {
         "name": "adrenal_hormone",
         "rawType": "object",
         "type": "string"
        },
        {
         "name": "age_at_diagnosis",
         "rawType": "object",
         "type": "string"
        },
        {
         "name": "ajcc_clinical_m",
         "rawType": "object",
         "type": "string"
        },
        {
         "name": "ajcc_clinical_n",
         "rawType": "object",
         "type": "string"
        },
        {
         "name": "ajcc_clinical_stage",
         "rawType": "object",
         "type": "string"
        },
        {
         "name": "ajcc_clinical_t",
         "rawType": "object",
         "type": "string"
        },
        {
         "name": "ajcc_pathologic_m",
         "rawType": "object",
         "type": "string"
        },
        {
         "name": "ajcc_pathologic_n",
         "rawType": "object",
         "type": "string"
        },
        {
         "name": "ajcc_pathologic_stage",
         "rawType": "object",
         "type": "string"
        },
        {
         "name": "ajcc_pathologic_t",
         "rawType": "object",
         "type": "string"
        },
        {
         "name": "ajcc_staging_system_edition",
         "rawType": "object",
         "type": "string"
        },
        {
         "name": "anaplasia_present",
         "rawType": "object",
         "type": "string"
        },
        {
         "name": "anaplasia_present_type",
         "rawType": "object",
         "type": "string"
        },
        {
         "name": "ann_arbor_b_symptoms",
         "rawType": "object",
         "type": "string"
        },
        {
         "name": "ann_arbor_b_symptoms_described",
         "rawType": "object",
         "type": "string"
        },
        {
         "name": "ann_arbor_clinical_stage",
         "rawType": "object",
         "type": "string"
        },
        {
         "name": "ann_arbor_extranodal_involvement",
         "rawType": "object",
         "type": "string"
        },
        {
         "name": "ann_arbor_pathologic_stage",
         "rawType": "object",
         "type": "string"
        },
        {
         "name": "best_overall_response",
         "rawType": "object",
         "type": "string"
        },
        {
         "name": "breslow_thickness",
         "rawType": "object",
         "type": "string"
        },
        {
         "name": "burkitt_lymphoma_clinical_variant",
         "rawType": "object",
         "type": "string"
        },
        {
         "name": "child_pugh_classification",
         "rawType": "object",
         "type": "string"
        },
        {
         "name": "circumferential_resection_margin",
         "rawType": "object",
         "type": "string"
        },
        {
         "name": "classification_of_tumor",
         "rawType": "object",
         "type": "string"
        },
        {
         "name": "cog_liver_stage",
         "rawType": "object",
         "type": "string"
        },
        {
         "name": "cog_neuroblastoma_risk_group",
         "rawType": "object",
         "type": "string"
        },
        {
         "name": "cog_renal_stage",
         "rawType": "object",
         "type": "string"
        },
        {
         "name": "cog_rhabdomyosarcoma_risk_group",
         "rawType": "object",
         "type": "string"
        },
        {
         "name": "days_to_best_overall_response",
         "rawType": "object",
         "type": "string"
        },
        {
         "name": "days_to_diagnosis",
         "rawType": "object",
         "type": "string"
        },
        {
         "name": "days_to_last_follow_up",
         "rawType": "object",
         "type": "string"
        },
        {
         "name": "days_to_last_known_disease_status",
         "rawType": "object",
         "type": "string"
        },
        {
         "name": "days_to_recurrence",
         "rawType": "object",
         "type": "string"
        },
        {
         "name": "eln_risk_classification",
         "rawType": "object",
         "type": "string"
        },
        {
         "name": "enneking_msts_grade",
         "rawType": "object",
         "type": "string"
        },
        {
         "name": "enneking_msts_metastasis",
         "rawType": "object",
         "type": "string"
        },
        {
         "name": "enneking_msts_stage",
         "rawType": "object",
         "type": "string"
        },
        {
         "name": "enneking_msts_tumor_site",
         "rawType": "object",
         "type": "string"
        },
        {
         "name": "esophageal_columnar_dysplasia_degree",
         "rawType": "object",
         "type": "string"
        },
        {
         "name": "esophageal_columnar_metaplasia_present",
         "rawType": "object",
         "type": "string"
        },
        {
         "name": "figo_stage",
         "rawType": "object",
         "type": "string"
        },
        {
         "name": "figo_staging_edition_year",
         "rawType": "object",
         "type": "string"
        },
        {
         "name": "first_symptom_prior_to_diagnosis",
         "rawType": "object",
         "type": "string"
        },
        {
         "name": "gastric_esophageal_junction_involvement",
         "rawType": "object",
         "type": "string"
        },
        {
         "name": "gleason_grade_group",
         "rawType": "object",
         "type": "string"
        },
        {
         "name": "gleason_grade_tertiary",
         "rawType": "object",
         "type": "string"
        },
        {
         "name": "gleason_patterns_percent",
         "rawType": "object",
         "type": "string"
        },
        {
         "name": "goblet_cells_columnar_mucosa_present",
         "rawType": "object",
         "type": "string"
        },
        {
         "name": "greatest_tumor_dimension",
         "rawType": "object",
         "type": "string"
        },
        {
         "name": "gross_tumor_weight",
         "rawType": "object",
         "type": "string"
        },
        {
         "name": "icd_10_code",
         "rawType": "object",
         "type": "string"
        },
        {
         "name": "igcccg_stage",
         "rawType": "object",
         "type": "string"
        },
        {
         "name": "inpc_grade",
         "rawType": "object",
         "type": "string"
        },
        {
         "name": "inpc_histologic_group",
         "rawType": "object",
         "type": "string"
        },
        {
         "name": "inrg_stage",
         "rawType": "object",
         "type": "string"
        },
        {
         "name": "inss_stage",
         "rawType": "object",
         "type": "string"
        },
        {
         "name": "international_prognostic_index",
         "rawType": "object",
         "type": "string"
        },
        {
         "name": "irs_group",
         "rawType": "object",
         "type": "string"
        },
        {
         "name": "irs_stage",
         "rawType": "object",
         "type": "string"
        },
        {
         "name": "ishak_fibrosis_score",
         "rawType": "object",
         "type": "string"
        },
        {
         "name": "iss_stage",
         "rawType": "object",
         "type": "string"
        },
        {
         "name": "largest_extrapelvic_peritoneal_focus",
         "rawType": "object",
         "type": "string"
        },
        {
         "name": "last_known_disease_status",
         "rawType": "object",
         "type": "string"
        },
        {
         "name": "laterality",
         "rawType": "object",
         "type": "string"
        },
        {
         "name": "lymph_node_involved_site",
         "rawType": "object",
         "type": "string"
        },
        {
         "name": "lymph_nodes_positive",
         "rawType": "object",
         "type": "string"
        },
        {
         "name": "lymph_nodes_tested",
         "rawType": "object",
         "type": "string"
        },
        {
         "name": "lymphatic_invasion_present",
         "rawType": "object",
         "type": "string"
        },
        {
         "name": "margin_distance",
         "rawType": "object",
         "type": "string"
        },
        {
         "name": "margins_involved_site",
         "rawType": "object",
         "type": "string"
        },
        {
         "name": "masaoka_stage",
         "rawType": "object",
         "type": "string"
        },
        {
         "name": "medulloblastoma_molecular_classification",
         "rawType": "object",
         "type": "string"
        },
        {
         "name": "metastasis_at_diagnosis",
         "rawType": "object",
         "type": "string"
        },
        {
         "name": "metastasis_at_diagnosis_site",
         "rawType": "object",
         "type": "string"
        },
        {
         "name": "method_of_diagnosis",
         "rawType": "object",
         "type": "string"
        },
        {
         "name": "micropapillary_features",
         "rawType": "object",
         "type": "string"
        },
        {
         "name": "mitosis_karyorrhexis_index",
         "rawType": "object",
         "type": "string"
        },
        {
         "name": "mitotic_count",
         "rawType": "object",
         "type": "string"
        },
        {
         "name": "morphology",
         "rawType": "object",
         "type": "string"
        },
        {
         "name": "non_nodal_regional_disease",
         "rawType": "object",
         "type": "string"
        },
        {
         "name": "non_nodal_tumor_deposits",
         "rawType": "object",
         "type": "string"
        },
        {
         "name": "ovarian_specimen_status",
         "rawType": "object",
         "type": "string"
        },
        {
         "name": "ovarian_surface_involvement",
         "rawType": "object",
         "type": "string"
        },
        {
         "name": "papillary_renal_cell_type",
         "rawType": "object",
         "type": "string"
        },
        {
         "name": "percent_tumor_invasion",
         "rawType": "object",
         "type": "string"
        },
        {
         "name": "perineural_invasion_present",
         "rawType": "object",
         "type": "string"
        },
        {
         "name": "peripancreatic_lymph_nodes_positive",
         "rawType": "object",
         "type": "string"
        },
        {
         "name": "peripancreatic_lymph_nodes_tested",
         "rawType": "object",
         "type": "string"
        },
        {
         "name": "peritoneal_fluid_cytological_status",
         "rawType": "object",
         "type": "string"
        },
        {
         "name": "pregnant_at_diagnosis",
         "rawType": "object",
         "type": "string"
        },
        {
         "name": "primary_diagnosis",
         "rawType": "object",
         "type": "string"
        },
        {
         "name": "primary_disease",
         "rawType": "object",
         "type": "string"
        },
        {
         "name": "primary_gleason_grade",
         "rawType": "object",
         "type": "string"
        },
        {
         "name": "prior_malignancy",
         "rawType": "object",
         "type": "string"
        },
        {
         "name": "prior_treatment",
         "rawType": "object",
         "type": "string"
        },
        {
         "name": "progression_or_recurrence",
         "rawType": "object",
         "type": "string"
        },
        {
         "name": "residual_disease",
         "rawType": "object",
         "type": "string"
        },
        {
         "name": "satellite_nodule_present",
         "rawType": "object",
         "type": "string"
        },
        {
         "name": "secondary_gleason_grade",
         "rawType": "object",
         "type": "string"
        },
        {
         "name": "site_of_resection_or_biopsy",
         "rawType": "object",
         "type": "string"
        },
        {
         "name": "sites_of_involvement",
         "rawType": "object",
         "type": "string"
        },
        {
         "name": "supratentorial_localization",
         "rawType": "object",
         "type": "string"
        },
        {
         "name": "synchronous_malignancy",
         "rawType": "object",
         "type": "string"
        },
        {
         "name": "tissue_or_organ_of_origin",
         "rawType": "object",
         "type": "string"
        },
        {
         "name": "transglottic_extension",
         "rawType": "object",
         "type": "string"
        },
        {
         "name": "tumor_confined_to_organ_of_origin",
         "rawType": "object",
         "type": "string"
        },
        {
         "name": "tumor_depth",
         "rawType": "object",
         "type": "string"
        },
        {
         "name": "tumor_focality",
         "rawType": "object",
         "type": "string"
        },
        {
         "name": "tumor_grade",
         "rawType": "object",
         "type": "string"
        },
        {
         "name": "tumor_largest_dimension_diameter",
         "rawType": "object",
         "type": "string"
        },
        {
         "name": "tumor_regression_grade",
         "rawType": "object",
         "type": "string"
        },
        {
         "name": "tumor_stage",
         "rawType": "object",
         "type": "string"
        },
        {
         "name": "vascular_invasion_present",
         "rawType": "object",
         "type": "string"
        },
        {
         "name": "vascular_invasion_type",
         "rawType": "object",
         "type": "string"
        },
        {
         "name": "weiss_assessment_score",
         "rawType": "object",
         "type": "string"
        },
        {
         "name": "who_cns_grade",
         "rawType": "object",
         "type": "string"
        },
        {
         "name": "who_nte_grade",
         "rawType": "object",
         "type": "string"
        },
        {
         "name": "wilms_tumor_histologic_subtype",
         "rawType": "object",
         "type": "string"
        },
        {
         "name": "year_of_diagnosis",
         "rawType": "object",
         "type": "string"
        },
        {
         "name": "chemo_concurrent_to_radiation",
         "rawType": "object",
         "type": "string"
        },
        {
         "name": "days_to_treatment_end",
         "rawType": "object",
         "type": "string"
        },
        {
         "name": "days_to_treatment_start",
         "rawType": "object",
         "type": "string"
        },
        {
         "name": "initial_disease_status",
         "rawType": "object",
         "type": "string"
        },
        {
         "name": "number_of_cycles",
         "rawType": "object",
         "type": "string"
        },
        {
         "name": "reason_treatment_ended",
         "rawType": "object",
         "type": "string"
        },
        {
         "name": "regimen_or_line_of_therapy",
         "rawType": "object",
         "type": "string"
        },
        {
         "name": "route_of_administration",
         "rawType": "object",
         "type": "string"
        },
        {
         "name": "therapeutic_agents",
         "rawType": "object",
         "type": "string"
        },
        {
         "name": "treatment_anatomic_site",
         "rawType": "object",
         "type": "string"
        },
        {
         "name": "treatment_arm",
         "rawType": "object",
         "type": "string"
        },
        {
         "name": "treatment_dose",
         "rawType": "object",
         "type": "string"
        },
        {
         "name": "treatment_dose_units",
         "rawType": "object",
         "type": "string"
        },
        {
         "name": "treatment_effect",
         "rawType": "object",
         "type": "string"
        },
        {
         "name": "treatment_effect_indicator",
         "rawType": "object",
         "type": "string"
        },
        {
         "name": "treatment_frequency",
         "rawType": "object",
         "type": "string"
        },
        {
         "name": "treatment_intent_type",
         "rawType": "object",
         "type": "string"
        },
        {
         "name": "treatment_or_therapy",
         "rawType": "object",
         "type": "string"
        },
        {
         "name": "treatment_outcome",
         "rawType": "object",
         "type": "string"
        },
        {
         "name": "treatment_type",
         "rawType": "object",
         "type": "string"
        }
       ],
       "conversionMethod": "pd.DataFrame",
       "ref": "6249467d-a911-4094-8656-27b3c34c1f39",
       "rows": [
        [
         "0",
         "0030a28c-81aa-44b0-8be0-b35e1dcbf98c",
         "TCGA-FA-A7Q1",
         "TCGA-DLBC",
         "61",
         "'--",
         "'--",
         "'--",
         "'--",
         "-22454",
         "248",
         "not hispanic or latino",
         "female",
         "'--",
         "'--",
         "asian",
         "Dead",
         "'--",
         "1952",
         "'--",
         "'--",
         "22454",
         "'--",
         "'--",
         "'--",
         "'--",
         "'--",
         "'--",
         "'--",
         "'--",
         "'--",
         "'--",
         "'--",
         "No",
         "'--",
         "Stage I",
         "No",
         "'--",
         "'--",
         "'--",
         "'--",
         "'--",
         "'--",
         "not reported",
         "'--",
         "'--",
         "'--",
         "'--",
         "'--",
         "0",
         "22",
         "'--",
         "'--",
         "'--",
         "'--",
         "'--",
         "'--",
         "'--",
         "'--",
         "'--",
         "'--",
         "'--",
         "'--",
         "'--",
         "'--",
         "'--",
         "'--",
         "'--",
         "'--",
         "'--",
         "C48.1",
         "'--",
         "'--",
         "'--",
         "'--",
         "'--",
         "'--",
         "'--",
         "'--",
         "'--",
         "'--",
         "'--",
         "not reported",
         "'--",
         "'--",
         "'--",
         "'--",
         "'--",
         "'--",
         "'--",
         "'--",
         "'--",
         "'--",
         "'--",
         "'--",
         "'--",
         "'--",
         "'--",
         "9680/3",
         "'--",
         "'--",
         "'--",
         "'--",
         "'--",
         "'--",
         "'--",
         "'--",
         "'--",
         "'--",
         "'--",
         "Malignant lymphoma, large B-cell, diffuse, NOS",
         "'--",
         "'--",
         "no",
         "No",
         "not reported",
         "'--",
         "'--",
         "'--",
         "Intra-abdominal lymph nodes",
         "'--",
         "'--",
         "No",
         "Intra-abdominal lymph nodes",
         "'--",
         "'--",
         "'--",
         "'--",
         "not reported",
         "'--",
         "'--",
         "'--",
         "'--",
         "'--",
         "'--",
         "'--",
         "'--",
         "'--",
         "2013",
         "'--",
         "'--",
         "'--",
         "'--",
         "'--",
         "'--",
         "'--",
         "'--",
         "'--",
         "'--",
         "'--",
         "'--",
         "'--",
         "'--",
         "'--",
         "'--",
         "'--",
         "yes",
         "'--",
         "Pharmaceutical Therapy, NOS"
        ],
        [
         "1",
         "0030a28c-81aa-44b0-8be0-b35e1dcbf98c",
         "TCGA-FA-A7Q1",
         "TCGA-DLBC",
         "61",
         "'--",
         "'--",
         "'--",
         "'--",
         "-22454",
         "248",
         "not hispanic or latino",
         "female",
         "'--",
         "'--",
         "asian",
         "Dead",
         "'--",
         "1952",
         "'--",
         "'--",
         "22454",
         "'--",
         "'--",
         "'--",
         "'--",
         "'--",
         "'--",
         "'--",
         "'--",
         "'--",
         "'--",
         "'--",
         "No",
         "'--",
         "Stage I",
         "No",
         "'--",
         "'--",
         "'--",
         "'--",
         "'--",
         "'--",
         "not reported",
         "'--",
         "'--",
         "'--",
         "'--",
         "'--",
         "0",
         "22",
         "'--",
         "'--",
         "'--",
         "'--",
         "'--",
         "'--",
         "'--",
         "'--",
         "'--",
         "'--",
         "'--",
         "'--",
         "'--",
         "'--",
         "'--",
         "'--",
         "'--",
         "'--",
         "'--",
         "C48.1",
         "'--",
         "'--",
         "'--",
         "'--",
         "'--",
         "'--",
         "'--",
         "'--",
         "'--",
         "'--",
         "'--",
         "not reported",
         "'--",
         "'--",
         "'--",
         "'--",
         "'--",
         "'--",
         "'--",
         "'--",
         "'--",
         "'--",
         "'--",
         "'--",
         "'--",
         "'--",
         "'--",
         "9680/3",
         "'--",
         "'--",
         "'--",
         "'--",
         "'--",
         "'--",
         "'--",
         "'--",
         "'--",
         "'--",
         "'--",
         "Malignant lymphoma, large B-cell, diffuse, NOS",
         "'--",
         "'--",
         "no",
         "No",
         "not reported",
         "'--",
         "'--",
         "'--",
         "Intra-abdominal lymph nodes",
         "'--",
         "'--",
         "No",
         "Intra-abdominal lymph nodes",
         "'--",
         "'--",
         "'--",
         "'--",
         "not reported",
         "'--",
         "'--",
         "'--",
         "'--",
         "'--",
         "'--",
         "'--",
         "'--",
         "'--",
         "2013",
         "'--",
         "'--",
         "'--",
         "'--",
         "'--",
         "'--",
         "'--",
         "'--",
         "'--",
         "'--",
         "'--",
         "'--",
         "'--",
         "'--",
         "'--",
         "'--",
         "'--",
         "no",
         "'--",
         "Radiation Therapy, NOS"
        ],
        [
         "2",
         "0bf573ac-cd1e-42d8-90cf-b30d7b08679c",
         "TCGA-FA-A6HN",
         "TCGA-DLBC",
         "73",
         "'--",
         "'--",
         "'--",
         "'--",
         "-27025",
         "58",
         "not hispanic or latino",
         "male",
         "'--",
         "'--",
         "asian",
         "Dead",
         "'--",
         "1940",
         "'--",
         "'--",
         "27025",
         "'--",
         "'--",
         "'--",
         "'--",
         "'--",
         "'--",
         "'--",
         "'--",
         "'--",
         "'--",
         "'--",
         "No",
         "'--",
         "'--",
         "No",
         "'--",
         "'--",
         "'--",
         "'--",
         "'--",
         "'--",
         "not reported",
         "'--",
         "'--",
         "'--",
         "'--",
         "'--",
         "0",
         "6",
         "'--",
         "'--",
         "'--",
         "'--",
         "'--",
         "'--",
         "'--",
         "'--",
         "'--",
         "'--",
         "'--",
         "'--",
         "'--",
         "'--",
         "'--",
         "'--",
         "'--",
         "'--",
         "'--",
         "C83.3",
         "'--",
         "'--",
         "'--",
         "'--",
         "'--",
         "'--",
         "'--",
         "'--",
         "'--",
         "'--",
         "'--",
         "not reported",
         "'--",
         "'--",
         "'--",
         "'--",
         "'--",
         "'--",
         "'--",
         "'--",
         "'--",
         "'--",
         "'--",
         "'--",
         "'--",
         "'--",
         "'--",
         "9680/3",
         "'--",
         "'--",
         "'--",
         "'--",
         "'--",
         "'--",
         "'--",
         "'--",
         "'--",
         "'--",
         "'--",
         "Malignant lymphoma, large B-cell, diffuse, NOS",
         "'--",
         "'--",
         "no",
         "No",
         "not reported",
         "'--",
         "'--",
         "'--",
         "Lymph nodes of head, face and neck",
         "'--",
         "'--",
         "No",
         "Lymph nodes of head, face and neck",
         "'--",
         "'--",
         "'--",
         "'--",
         "not reported",
         "'--",
         "'--",
         "'--",
         "'--",
         "'--",
         "'--",
         "'--",
         "'--",
         "'--",
         "2013",
         "'--",
         "'--",
         "'--",
         "'--",
         "'--",
         "'--",
         "'--",
         "'--",
         "'--",
         "'--",
         "'--",
         "'--",
         "'--",
         "'--",
         "'--",
         "'--",
         "'--",
         "no",
         "'--",
         "Radiation Therapy, NOS"
        ],
        [
         "3",
         "0bf573ac-cd1e-42d8-90cf-b30d7b08679c",
         "TCGA-FA-A6HN",
         "TCGA-DLBC",
         "73",
         "'--",
         "'--",
         "'--",
         "'--",
         "-27025",
         "58",
         "not hispanic or latino",
         "male",
         "'--",
         "'--",
         "asian",
         "Dead",
         "'--",
         "1940",
         "'--",
         "'--",
         "27025",
         "'--",
         "'--",
         "'--",
         "'--",
         "'--",
         "'--",
         "'--",
         "'--",
         "'--",
         "'--",
         "'--",
         "No",
         "'--",
         "'--",
         "No",
         "'--",
         "'--",
         "'--",
         "'--",
         "'--",
         "'--",
         "not reported",
         "'--",
         "'--",
         "'--",
         "'--",
         "'--",
         "0",
         "6",
         "'--",
         "'--",
         "'--",
         "'--",
         "'--",
         "'--",
         "'--",
         "'--",
         "'--",
         "'--",
         "'--",
         "'--",
         "'--",
         "'--",
         "'--",
         "'--",
         "'--",
         "'--",
         "'--",
         "C83.3",
         "'--",
         "'--",
         "'--",
         "'--",
         "'--",
         "'--",
         "'--",
         "'--",
         "'--",
         "'--",
         "'--",
         "not reported",
         "'--",
         "'--",
         "'--",
         "'--",
         "'--",
         "'--",
         "'--",
         "'--",
         "'--",
         "'--",
         "'--",
         "'--",
         "'--",
         "'--",
         "'--",
         "9680/3",
         "'--",
         "'--",
         "'--",
         "'--",
         "'--",
         "'--",
         "'--",
         "'--",
         "'--",
         "'--",
         "'--",
         "Malignant lymphoma, large B-cell, diffuse, NOS",
         "'--",
         "'--",
         "no",
         "No",
         "not reported",
         "'--",
         "'--",
         "'--",
         "Lymph nodes of head, face and neck",
         "'--",
         "'--",
         "No",
         "Lymph nodes of head, face and neck",
         "'--",
         "'--",
         "'--",
         "'--",
         "not reported",
         "'--",
         "'--",
         "'--",
         "'--",
         "'--",
         "'--",
         "'--",
         "'--",
         "'--",
         "2013",
         "'--",
         "'--",
         "'--",
         "'--",
         "'--",
         "'--",
         "'--",
         "'--",
         "'--",
         "'--",
         "'--",
         "'--",
         "'--",
         "'--",
         "'--",
         "'--",
         "'--",
         "yes",
         "'--",
         "Pharmaceutical Therapy, NOS"
        ],
        [
         "4",
         "0e251c03-bf86-4ed8-b45d-3cbc97160502",
         "TCGA-GS-A9U4",
         "TCGA-DLBC",
         "27",
         "'--",
         "'--",
         "'--",
         "'--",
         "-10075",
         "391",
         "hispanic or latino",
         "female",
         "'--",
         "'--",
         "white",
         "Dead",
         "'--",
         "1984",
         "2012",
         "'--",
         "10075",
         "'--",
         "'--",
         "'--",
         "'--",
         "'--",
         "'--",
         "'--",
         "'--",
         "'--",
         "'--",
         "'--",
         "No",
         "'--",
         "Stage II",
         "No",
         "'--",
         "'--",
         "'--",
         "'--",
         "'--",
         "'--",
         "not reported",
         "'--",
         "'--",
         "'--",
         "'--",
         "'--",
         "0",
         "'--",
         "'--",
         "'--",
         "'--",
         "'--",
         "'--",
         "'--",
         "'--",
         "'--",
         "'--",
         "'--",
         "'--",
         "'--",
         "'--",
         "'--",
         "'--",
         "'--",
         "'--",
         "'--",
         "'--",
         "C83.3",
         "'--",
         "'--",
         "'--",
         "'--",
         "'--",
         "'--",
         "'--",
         "'--",
         "'--",
         "'--",
         "'--",
         "not reported",
         "'--",
         "'--",
         "'--",
         "'--",
         "'--",
         "'--",
         "'--",
         "'--",
         "'--",
         "'--",
         "'--",
         "'--",
         "'--",
         "'--",
         "'--",
         "9680/3",
         "'--",
         "'--",
         "'--",
         "'--",
         "'--",
         "'--",
         "'--",
         "'--",
         "'--",
         "'--",
         "'--",
         "Malignant lymphoma, large B-cell, diffuse, NOS",
         "'--",
         "'--",
         "no",
         "No",
         "not reported",
         "'--",
         "'--",
         "'--",
         "Lymph nodes of head, face and neck",
         "'--",
         "'--",
         "No",
         "Lymph nodes of head, face and neck",
         "'--",
         "'--",
         "'--",
         "'--",
         "not reported",
         "'--",
         "'--",
         "'--",
         "'--",
         "'--",
         "'--",
         "'--",
         "'--",
         "'--",
         "2011",
         "'--",
         "'--",
         "'--",
         "'--",
         "'--",
         "'--",
         "'--",
         "'--",
         "'--",
         "'--",
         "'--",
         "'--",
         "'--",
         "'--",
         "'--",
         "'--",
         "'--",
         "yes",
         "'--",
         "Pharmaceutical Therapy, NOS"
        ]
       ],
       "shape": {
        "columns": 158,
        "rows": 5
       }
      },
      "text/html": [
       "<div>\n",
       "<style scoped>\n",
       "    .dataframe tbody tr th:only-of-type {\n",
       "        vertical-align: middle;\n",
       "    }\n",
       "\n",
       "    .dataframe tbody tr th {\n",
       "        vertical-align: top;\n",
       "    }\n",
       "\n",
       "    .dataframe thead th {\n",
       "        text-align: right;\n",
       "    }\n",
       "</style>\n",
       "<table border=\"1\" class=\"dataframe\">\n",
       "  <thead>\n",
       "    <tr style=\"text-align: right;\">\n",
       "      <th></th>\n",
       "      <th>case_id</th>\n",
       "      <th>case_submitter_id</th>\n",
       "      <th>project_id</th>\n",
       "      <th>age_at_index</th>\n",
       "      <th>age_is_obfuscated</th>\n",
       "      <th>cause_of_death</th>\n",
       "      <th>cause_of_death_source</th>\n",
       "      <th>country_of_residence_at_enrollment</th>\n",
       "      <th>days_to_birth</th>\n",
       "      <th>days_to_death</th>\n",
       "      <th>...</th>\n",
       "      <th>treatment_arm</th>\n",
       "      <th>treatment_dose</th>\n",
       "      <th>treatment_dose_units</th>\n",
       "      <th>treatment_effect</th>\n",
       "      <th>treatment_effect_indicator</th>\n",
       "      <th>treatment_frequency</th>\n",
       "      <th>treatment_intent_type</th>\n",
       "      <th>treatment_or_therapy</th>\n",
       "      <th>treatment_outcome</th>\n",
       "      <th>treatment_type</th>\n",
       "    </tr>\n",
       "  </thead>\n",
       "  <tbody>\n",
       "    <tr>\n",
       "      <th>0</th>\n",
       "      <td>0030a28c-81aa-44b0-8be0-b35e1dcbf98c</td>\n",
       "      <td>TCGA-FA-A7Q1</td>\n",
       "      <td>TCGA-DLBC</td>\n",
       "      <td>61</td>\n",
       "      <td>'--</td>\n",
       "      <td>'--</td>\n",
       "      <td>'--</td>\n",
       "      <td>'--</td>\n",
       "      <td>-22454</td>\n",
       "      <td>248</td>\n",
       "      <td>...</td>\n",
       "      <td>'--</td>\n",
       "      <td>'--</td>\n",
       "      <td>'--</td>\n",
       "      <td>'--</td>\n",
       "      <td>'--</td>\n",
       "      <td>'--</td>\n",
       "      <td>'--</td>\n",
       "      <td>yes</td>\n",
       "      <td>'--</td>\n",
       "      <td>Pharmaceutical Therapy, NOS</td>\n",
       "    </tr>\n",
       "    <tr>\n",
       "      <th>1</th>\n",
       "      <td>0030a28c-81aa-44b0-8be0-b35e1dcbf98c</td>\n",
       "      <td>TCGA-FA-A7Q1</td>\n",
       "      <td>TCGA-DLBC</td>\n",
       "      <td>61</td>\n",
       "      <td>'--</td>\n",
       "      <td>'--</td>\n",
       "      <td>'--</td>\n",
       "      <td>'--</td>\n",
       "      <td>-22454</td>\n",
       "      <td>248</td>\n",
       "      <td>...</td>\n",
       "      <td>'--</td>\n",
       "      <td>'--</td>\n",
       "      <td>'--</td>\n",
       "      <td>'--</td>\n",
       "      <td>'--</td>\n",
       "      <td>'--</td>\n",
       "      <td>'--</td>\n",
       "      <td>no</td>\n",
       "      <td>'--</td>\n",
       "      <td>Radiation Therapy, NOS</td>\n",
       "    </tr>\n",
       "    <tr>\n",
       "      <th>2</th>\n",
       "      <td>0bf573ac-cd1e-42d8-90cf-b30d7b08679c</td>\n",
       "      <td>TCGA-FA-A6HN</td>\n",
       "      <td>TCGA-DLBC</td>\n",
       "      <td>73</td>\n",
       "      <td>'--</td>\n",
       "      <td>'--</td>\n",
       "      <td>'--</td>\n",
       "      <td>'--</td>\n",
       "      <td>-27025</td>\n",
       "      <td>58</td>\n",
       "      <td>...</td>\n",
       "      <td>'--</td>\n",
       "      <td>'--</td>\n",
       "      <td>'--</td>\n",
       "      <td>'--</td>\n",
       "      <td>'--</td>\n",
       "      <td>'--</td>\n",
       "      <td>'--</td>\n",
       "      <td>no</td>\n",
       "      <td>'--</td>\n",
       "      <td>Radiation Therapy, NOS</td>\n",
       "    </tr>\n",
       "    <tr>\n",
       "      <th>3</th>\n",
       "      <td>0bf573ac-cd1e-42d8-90cf-b30d7b08679c</td>\n",
       "      <td>TCGA-FA-A6HN</td>\n",
       "      <td>TCGA-DLBC</td>\n",
       "      <td>73</td>\n",
       "      <td>'--</td>\n",
       "      <td>'--</td>\n",
       "      <td>'--</td>\n",
       "      <td>'--</td>\n",
       "      <td>-27025</td>\n",
       "      <td>58</td>\n",
       "      <td>...</td>\n",
       "      <td>'--</td>\n",
       "      <td>'--</td>\n",
       "      <td>'--</td>\n",
       "      <td>'--</td>\n",
       "      <td>'--</td>\n",
       "      <td>'--</td>\n",
       "      <td>'--</td>\n",
       "      <td>yes</td>\n",
       "      <td>'--</td>\n",
       "      <td>Pharmaceutical Therapy, NOS</td>\n",
       "    </tr>\n",
       "    <tr>\n",
       "      <th>4</th>\n",
       "      <td>0e251c03-bf86-4ed8-b45d-3cbc97160502</td>\n",
       "      <td>TCGA-GS-A9U4</td>\n",
       "      <td>TCGA-DLBC</td>\n",
       "      <td>27</td>\n",
       "      <td>'--</td>\n",
       "      <td>'--</td>\n",
       "      <td>'--</td>\n",
       "      <td>'--</td>\n",
       "      <td>-10075</td>\n",
       "      <td>391</td>\n",
       "      <td>...</td>\n",
       "      <td>'--</td>\n",
       "      <td>'--</td>\n",
       "      <td>'--</td>\n",
       "      <td>'--</td>\n",
       "      <td>'--</td>\n",
       "      <td>'--</td>\n",
       "      <td>'--</td>\n",
       "      <td>yes</td>\n",
       "      <td>'--</td>\n",
       "      <td>Pharmaceutical Therapy, NOS</td>\n",
       "    </tr>\n",
       "  </tbody>\n",
       "</table>\n",
       "<p>5 rows × 158 columns</p>\n",
       "</div>"
      ],
      "text/plain": [
       "                                case_id case_submitter_id project_id  \\\n",
       "0  0030a28c-81aa-44b0-8be0-b35e1dcbf98c      TCGA-FA-A7Q1  TCGA-DLBC   \n",
       "1  0030a28c-81aa-44b0-8be0-b35e1dcbf98c      TCGA-FA-A7Q1  TCGA-DLBC   \n",
       "2  0bf573ac-cd1e-42d8-90cf-b30d7b08679c      TCGA-FA-A6HN  TCGA-DLBC   \n",
       "3  0bf573ac-cd1e-42d8-90cf-b30d7b08679c      TCGA-FA-A6HN  TCGA-DLBC   \n",
       "4  0e251c03-bf86-4ed8-b45d-3cbc97160502      TCGA-GS-A9U4  TCGA-DLBC   \n",
       "\n",
       "  age_at_index age_is_obfuscated cause_of_death cause_of_death_source  \\\n",
       "0           61               '--            '--                   '--   \n",
       "1           61               '--            '--                   '--   \n",
       "2           73               '--            '--                   '--   \n",
       "3           73               '--            '--                   '--   \n",
       "4           27               '--            '--                   '--   \n",
       "\n",
       "  country_of_residence_at_enrollment days_to_birth days_to_death  ...  \\\n",
       "0                                '--        -22454           248  ...   \n",
       "1                                '--        -22454           248  ...   \n",
       "2                                '--        -27025            58  ...   \n",
       "3                                '--        -27025            58  ...   \n",
       "4                                '--        -10075           391  ...   \n",
       "\n",
       "  treatment_arm treatment_dose treatment_dose_units treatment_effect  \\\n",
       "0           '--            '--                  '--              '--   \n",
       "1           '--            '--                  '--              '--   \n",
       "2           '--            '--                  '--              '--   \n",
       "3           '--            '--                  '--              '--   \n",
       "4           '--            '--                  '--              '--   \n",
       "\n",
       "  treatment_effect_indicator treatment_frequency treatment_intent_type  \\\n",
       "0                        '--                 '--                   '--   \n",
       "1                        '--                 '--                   '--   \n",
       "2                        '--                 '--                   '--   \n",
       "3                        '--                 '--                   '--   \n",
       "4                        '--                 '--                   '--   \n",
       "\n",
       "  treatment_or_therapy treatment_outcome               treatment_type  \n",
       "0                  yes               '--  Pharmaceutical Therapy, NOS  \n",
       "1                   no               '--       Radiation Therapy, NOS  \n",
       "2                   no               '--       Radiation Therapy, NOS  \n",
       "3                  yes               '--  Pharmaceutical Therapy, NOS  \n",
       "4                  yes               '--  Pharmaceutical Therapy, NOS  \n",
       "\n",
       "[5 rows x 158 columns]"
      ]
     },
     "execution_count": 14,
     "metadata": {},
     "output_type": "execute_result"
    }
   ],
   "source": [
    "clinical.head()"
   ]
  },
  {
   "cell_type": "code",
   "execution_count": 15,
   "id": "1c3a6873",
   "metadata": {},
   "outputs": [
    {
     "data": {
      "text/plain": [
       "58"
      ]
     },
     "execution_count": 15,
     "metadata": {},
     "output_type": "execute_result"
    }
   ],
   "source": [
    "len(clinical['case_id'].unique())"
   ]
  },
  {
   "cell_type": "code",
   "execution_count": 16,
   "id": "0bd6ad5b",
   "metadata": {},
   "outputs": [
    {
     "data": {
      "text/plain": [
       "58"
      ]
     },
     "execution_count": 16,
     "metadata": {},
     "output_type": "execute_result"
    }
   ],
   "source": [
    "len(clinical['case_submitter_id'].unique())"
   ]
  },
  {
   "cell_type": "code",
   "execution_count": 17,
   "id": "3bdef6ad",
   "metadata": {},
   "outputs": [
    {
     "data": {
      "text/plain": [
       "case_id                  106\n",
       "case_submitter_id        106\n",
       "project_id               106\n",
       "age_at_index             106\n",
       "age_is_obfuscated        106\n",
       "                        ... \n",
       "treatment_frequency      106\n",
       "treatment_intent_type    106\n",
       "treatment_or_therapy     106\n",
       "treatment_outcome        106\n",
       "treatment_type           106\n",
       "Length: 158, dtype: int64"
      ]
     },
     "execution_count": 17,
     "metadata": {},
     "output_type": "execute_result"
    }
   ],
   "source": [
    "clinical.count()"
   ]
  },
  {
   "cell_type": "code",
   "execution_count": 18,
   "id": "3e476fa1",
   "metadata": {},
   "outputs": [
    {
     "data": {
      "text/plain": [
       "np.True_"
      ]
     },
     "execution_count": 18,
     "metadata": {},
     "output_type": "execute_result"
    }
   ],
   "source": [
    "len(exposure['case_id'].unique()) == exposure['case_id'].count()"
   ]
  },
  {
   "cell_type": "markdown",
   "id": "cc1a9530",
   "metadata": {},
   "source": [
    "exposure 48 уникальных значений (параметры исследуемого (анамнестические, антропометрические данные...))\n",
    "clinical 58 уникальных значений (клинический случай)\n",
    "первичный ключ case_id"
   ]
  },
  {
   "cell_type": "code",
   "execution_count": 19,
   "id": "f7b5a993",
   "metadata": {},
   "outputs": [
    {
     "data": {
      "text/plain": [
       "Index(['case_id', 'case_submitter_id', 'project_id', 'age_at_index',\n",
       "       'age_is_obfuscated', 'cause_of_death', 'cause_of_death_source',\n",
       "       'country_of_residence_at_enrollment', 'days_to_birth', 'days_to_death',\n",
       "       ...\n",
       "       'treatment_arm', 'treatment_dose', 'treatment_dose_units',\n",
       "       'treatment_effect', 'treatment_effect_indicator', 'treatment_frequency',\n",
       "       'treatment_intent_type', 'treatment_or_therapy', 'treatment_outcome',\n",
       "       'treatment_type'],\n",
       "      dtype='object', length=158)"
      ]
     },
     "execution_count": 19,
     "metadata": {},
     "output_type": "execute_result"
    }
   ],
   "source": [
    "clinical.columns"
   ]
  },
  {
   "cell_type": "code",
   "execution_count": 20,
   "id": "5c54046b",
   "metadata": {},
   "outputs": [
    {
     "data": {
      "text/plain": [
       "array([False, False, False, False, False, False, False, False, False,\n",
       "       False, False, False, False, False, False, False, False, False,\n",
       "       False, False, False, False, False, False, False, False, False,\n",
       "       False, False, False, False, False, False, False, False, False,\n",
       "       False, False, False, False, False, False, False, False, False,\n",
       "       False, False, False, False, False, False, False, False, False,\n",
       "       False, False, False, False])"
      ]
     },
     "execution_count": 20,
     "metadata": {},
     "output_type": "execute_result"
    }
   ],
   "source": [
    "clinical['case_id'].unique()==\"'--\""
   ]
  },
  {
   "cell_type": "code",
   "execution_count": 21,
   "id": "d82dca73",
   "metadata": {},
   "outputs": [
    {
     "data": {
      "text/plain": [
       "np.int64(0)"
      ]
     },
     "execution_count": 21,
     "metadata": {},
     "output_type": "execute_result"
    }
   ],
   "source": [
    "sum(clinical['case_id'].unique()==\"'--\")"
   ]
  },
  {
   "cell_type": "code",
   "execution_count": 22,
   "id": "f6f84c64",
   "metadata": {},
   "outputs": [],
   "source": [
    "result = []"
   ]
  },
  {
   "cell_type": "code",
   "execution_count": 23,
   "id": "584c658b",
   "metadata": {},
   "outputs": [],
   "source": [
    "count_column = 0\n",
    "for colun in clinical.columns:\n",
    "    if sum(clinical[colun].unique()==\"'--\")==1 and len(clinical[colun].unique())==1:\n",
    "        pass\n",
    "    else:\n",
    "        result.append(colun)"
   ]
  },
  {
   "cell_type": "code",
   "execution_count": 24,
   "id": "7cee713b",
   "metadata": {},
   "outputs": [
    {
     "data": {
      "text/plain": [
       "['case_id',\n",
       " 'case_submitter_id',\n",
       " 'project_id',\n",
       " 'age_at_index',\n",
       " 'days_to_birth',\n",
       " 'days_to_death',\n",
       " 'ethnicity',\n",
       " 'gender',\n",
       " 'race',\n",
       " 'vital_status',\n",
       " 'year_of_birth',\n",
       " 'year_of_death',\n",
       " 'age_at_diagnosis',\n",
       " 'ann_arbor_b_symptoms',\n",
       " 'ann_arbor_clinical_stage',\n",
       " 'ann_arbor_extranodal_involvement',\n",
       " 'classification_of_tumor',\n",
       " 'days_to_diagnosis',\n",
       " 'days_to_last_follow_up',\n",
       " 'icd_10_code',\n",
       " 'last_known_disease_status',\n",
       " 'morphology',\n",
       " 'primary_diagnosis',\n",
       " 'prior_malignancy',\n",
       " 'prior_treatment',\n",
       " 'progression_or_recurrence',\n",
       " 'site_of_resection_or_biopsy',\n",
       " 'synchronous_malignancy',\n",
       " 'tissue_or_organ_of_origin',\n",
       " 'tumor_grade',\n",
       " 'year_of_diagnosis',\n",
       " 'treatment_or_therapy',\n",
       " 'treatment_type']"
      ]
     },
     "execution_count": 24,
     "metadata": {},
     "output_type": "execute_result"
    }
   ],
   "source": [
    "result"
   ]
  },
  {
   "cell_type": "code",
   "execution_count": 30,
   "id": "9a6306fe",
   "metadata": {},
   "outputs": [
    {
     "data": {
      "text/plain": [
       "33"
      ]
     },
     "execution_count": 30,
     "metadata": {},
     "output_type": "execute_result"
    }
   ],
   "source": [
    "len(result)"
   ]
  },
  {
   "cell_type": "code",
   "execution_count": 39,
   "id": "1aaa8d2b",
   "metadata": {},
   "outputs": [],
   "source": [
    "data = clinical[result]"
   ]
  },
  {
   "cell_type": "code",
   "execution_count": 108,
   "id": "0849433d",
   "metadata": {},
   "outputs": [
    {
     "data": {
      "text/plain": [
       "treatment_or_therapy\n",
       "yes             53.125000\n",
       "no              44.791667\n",
       "not reported     2.083333\n",
       "Name: proportion, dtype: float64"
      ]
     },
     "execution_count": 108,
     "metadata": {},
     "output_type": "execute_result"
    }
   ],
   "source": [
    "data[data['treatment_or_therapy']!=\"'--\"]['treatment_or_therapy'].value_counts(normalize=True)*100"
   ]
  },
  {
   "cell_type": "code",
   "execution_count": 68,
   "id": "ebd6cb85",
   "metadata": {},
   "outputs": [],
   "source": [
    "year_of_birth = data[data['year_of_birth']!=\"'--\"]['year_of_birth']"
   ]
  },
  {
   "cell_type": "code",
   "execution_count": 78,
   "id": "fc5d7aad",
   "metadata": {},
   "outputs": [],
   "source": [
    "age_at_diagnosis = data[data['age_at_diagnosis']!=\"'--\"]['age_at_diagnosis']"
   ]
  },
  {
   "cell_type": "code",
   "execution_count": 90,
   "id": "7cd0d33d",
   "metadata": {},
   "outputs": [
    {
     "data": {
      "text/plain": [
       "vital_status\n",
       "Alive    0.8125\n",
       "Dead     0.1875\n",
       "Name: proportion, dtype: float64"
      ]
     },
     "execution_count": 90,
     "metadata": {},
     "output_type": "execute_result"
    }
   ],
   "source": [
    "target_graf = data[data['vital_status']!=\"'--\"]['vital_status'].value_counts(normalize=True)\n",
    "target_graf"
   ]
  },
  {
   "cell_type": "code",
   "execution_count": 100,
   "id": "c7d14c9f",
   "metadata": {},
   "outputs": [
    {
     "name": "stderr",
     "output_type": "stream",
     "text": [
      "/tmp/ipykernel_54319/3522173680.py:2: FutureWarning: Series.__getitem__ treating keys as positions is deprecated. In a future version, integer keys will always be treated as labels (consistent with DataFrame behavior). To access a value by position, use `ser.iloc[pos]`\n",
      "  target_graf.plot(kind='bar', label=f'{target_graf[0]}, {target_graf[1]}')\n"
     ]
    },
    {
     "data": {
      "image/png": "[encoded data removed]",
      "text/plain": [
       "<Figure size 1200x600 with 1 Axes>"
      ]
     },
     "metadata": {},
     "output_type": "display_data"
    }
   ],
   "source": [
    "plt.figure(figsize=(12, 6))\n",
    "target_graf.plot(kind='bar', label=f'{target_graf[0]}, {target_graf[1]}')\n",
    "plt.title('Распределение целевого признака')\n",
    "plt.legend(loc=\"upper right\")\n",
    "plt.show();"
   ]
  },
  {
   "cell_type": "code",
   "execution_count": 81,
   "id": "ab44d50b",
   "metadata": {},
   "outputs": [
    {
     "data": {
      "image/png": "[encoded data removed]",
      "text/plain": [
       "<Figure size 1500x700 with 2 Axes>"
      ]
     },
     "metadata": {},
     "output_type": "display_data"
    }
   ],
   "source": [
    "fig, axes = plt.subplots(1,2,figsize=(15,7), sharey='col')  \n",
    "sns.histplot(data=age_at_diagnosis,ax=axes[0],kde=True, )\n",
    "sns.boxplot(data=age_at_diagnosis,ax=axes[1])\n",
    "axes[0].set_title('histplot')\n",
    "axes[0].tick_params(axis='x', rotation=90)\n",
    "axes[1].set_title('boxplot')\n",
    "fig.suptitle('age_at_diagnosis')\n",
    "plt.show();"
   ]
  },
  {
   "cell_type": "code",
   "execution_count": 80,
   "id": "5c28438d",
   "metadata": {},
   "outputs": [
    {
     "data": {
      "image/png": "[encoded data removed]",
      "text/plain": [
       "<Figure size 1500x700 with 2 Axes>"
      ]
     },
     "metadata": {},
     "output_type": "display_data"
    }
   ],
   "source": [
    "fig, axes = plt.subplots(1,2,figsize=(15,7), sharey='col')  \n",
    "sns.histplot(data=year_of_birth,ax=axes[0],kde=True, )\n",
    "sns.boxplot(data=year_of_birth,ax=axes[1])\n",
    "axes[0].set_title('histplot')\n",
    "axes[0].tick_params(axis='x', rotation=90)\n",
    "axes[1].set_title('boxplot')\n",
    "fig.suptitle('year_of_birth')\n",
    "plt.show();"
   ]
  },
  {
   "cell_type": "markdown",
   "id": "023ba7dd",
   "metadata": {},
   "source": [
    "# таблицы clinical, exposure возможно их объединение по первичному ключю с последующей группировкой case_submitter_id, project_id\n",
    "# присутствуют большое колво пропусков \"'--\"\n",
    "# возможно использовать целевую переменную:\n",
    "* days_to_death прогнозирвоание летальности (продолжительности жизни)\n",
    "* vital_status прогнозирвоание летальности (его верояности)"
   ]
  },
  {
   "cell_type": "code",
   "execution_count": null,
   "id": "b40870b9",
   "metadata": {},
   "outputs": [],
   "source": []
  }
 ],
 "metadata": {
  "kernelspec": {
   "display_name": "venv",
   "language": "python",
   "name": "python3"
  },
  "language_info": {
   "codemirror_mode": {
    "name": "ipython",
    "version": 3
   },
   "file_extension": ".py",
   "mimetype": "text/x-python",
   "name": "python",
   "nbconvert_exporter": "python",
   "pygments_lexer": "ipython3",
   "version": "3.10.12"
  }
 },
 "nbformat": 4,
 "nbformat_minor": 5
}
