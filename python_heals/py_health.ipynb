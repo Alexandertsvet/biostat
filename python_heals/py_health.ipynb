{
 "cells": [
  {
   "cell_type": "code",
   "execution_count": 7,
   "id": "ffb0a38a",
   "metadata": {},
   "outputs": [
    {
     "name": "stdout",
     "output_type": "stream",
     "text": [
      "Requirement already satisfied: pyhealth in /home/alexandr/biostat/venv/lib/python3.10/site-packages (1.1.6)\n",
      "Requirement already satisfied: torch>=1.8.0 in /home/alexandr/biostat/venv/lib/python3.10/site-packages (from pyhealth) (2.7.0)\n",
      "Requirement already satisfied: torchvision>=0.9.0 in /home/alexandr/biostat/venv/lib/python3.10/site-packages (from pyhealth) (0.22.0)\n",
      "Requirement already satisfied: rdkit>=2022.03.4 in /home/alexandr/biostat/venv/lib/python3.10/site-packages (from pyhealth) (2025.3.2)\n",
      "Requirement already satisfied: scikit-learn>=0.24.2 in /home/alexandr/biostat/venv/lib/python3.10/site-packages (from pyhealth) (1.6.1)\n",
      "Requirement already satisfied: networkx>=2.6.3 in /home/alexandr/biostat/venv/lib/python3.10/site-packages (from pyhealth) (3.4.2)\n",
      "Requirement already satisfied: pandas<2,>=1.3.2 in /home/alexandr/biostat/venv/lib/python3.10/site-packages (from pyhealth) (1.5.3)\n",
      "Requirement already satisfied: pandarallel>=1.5.3 in /home/alexandr/biostat/venv/lib/python3.10/site-packages (from pyhealth) (1.6.5)\n",
      "Requirement already satisfied: mne>=1.0.3 in /home/alexandr/biostat/venv/lib/python3.10/site-packages (from pyhealth) (1.9.0)\n",
      "Requirement already satisfied: urllib3<=1.26.15 in /home/alexandr/biostat/venv/lib/python3.10/site-packages (from pyhealth) (1.26.15)\n",
      "Requirement already satisfied: numpy in /home/alexandr/biostat/venv/lib/python3.10/site-packages (from pyhealth) (2.2.6)\n",
      "Requirement already satisfied: tqdm in /home/alexandr/biostat/venv/lib/python3.10/site-packages (from pyhealth) (4.67.1)\n",
      "Requirement already satisfied: python-dateutil>=2.8.1 in /home/alexandr/biostat/venv/lib/python3.10/site-packages (from pandas<2,>=1.3.2->pyhealth) (2.9.0.post0)\n",
      "Requirement already satisfied: pytz>=2020.1 in /home/alexandr/biostat/venv/lib/python3.10/site-packages (from pandas<2,>=1.3.2->pyhealth) (2025.2)\n",
      "Requirement already satisfied: decorator in /home/alexandr/biostat/venv/lib/python3.10/site-packages (from mne>=1.0.3->pyhealth) (5.2.1)\n",
      "Requirement already satisfied: jinja2 in /home/alexandr/biostat/venv/lib/python3.10/site-packages (from mne>=1.0.3->pyhealth) (3.1.6)\n",
      "Requirement already satisfied: lazy-loader>=0.3 in /home/alexandr/biostat/venv/lib/python3.10/site-packages (from mne>=1.0.3->pyhealth) (0.4)\n",
      "Requirement already satisfied: matplotlib>=3.6 in /home/alexandr/biostat/venv/lib/python3.10/site-packages (from mne>=1.0.3->pyhealth) (3.10.3)\n",
      "Requirement already satisfied: packaging in /home/alexandr/biostat/venv/lib/python3.10/site-packages (from mne>=1.0.3->pyhealth) (25.0)\n",
      "Requirement already satisfied: pooch>=1.5 in /home/alexandr/biostat/venv/lib/python3.10/site-packages (from mne>=1.0.3->pyhealth) (1.8.2)\n",
      "Requirement already satisfied: scipy>=1.9 in /home/alexandr/biostat/venv/lib/python3.10/site-packages (from mne>=1.0.3->pyhealth) (1.15.3)\n",
      "Requirement already satisfied: contourpy>=1.0.1 in /home/alexandr/biostat/venv/lib/python3.10/site-packages (from matplotlib>=3.6->mne>=1.0.3->pyhealth) (1.3.2)\n",
      "Requirement already satisfied: cycler>=0.10 in /home/alexandr/biostat/venv/lib/python3.10/site-packages (from matplotlib>=3.6->mne>=1.0.3->pyhealth) (0.12.1)\n",
      "Requirement already satisfied: fonttools>=4.22.0 in /home/alexandr/biostat/venv/lib/python3.10/site-packages (from matplotlib>=3.6->mne>=1.0.3->pyhealth) (4.58.1)\n",
      "Requirement already satisfied: kiwisolver>=1.3.1 in /home/alexandr/biostat/venv/lib/python3.10/site-packages (from matplotlib>=3.6->mne>=1.0.3->pyhealth) (1.4.8)\n",
      "Requirement already satisfied: pillow>=8 in /home/alexandr/biostat/venv/lib/python3.10/site-packages (from matplotlib>=3.6->mne>=1.0.3->pyhealth) (11.2.1)\n",
      "Requirement already satisfied: pyparsing>=2.3.1 in /home/alexandr/biostat/venv/lib/python3.10/site-packages (from matplotlib>=3.6->mne>=1.0.3->pyhealth) (3.2.3)\n",
      "Requirement already satisfied: dill>=0.3.1 in /home/alexandr/biostat/venv/lib/python3.10/site-packages (from pandarallel>=1.5.3->pyhealth) (0.4.0)\n",
      "Requirement already satisfied: psutil in /home/alexandr/biostat/venv/lib/python3.10/site-packages (from pandarallel>=1.5.3->pyhealth) (7.0.0)\n",
      "Requirement already satisfied: platformdirs>=2.5.0 in /home/alexandr/biostat/venv/lib/python3.10/site-packages (from pooch>=1.5->mne>=1.0.3->pyhealth) (4.3.8)\n",
      "Requirement already satisfied: requests>=2.19.0 in /home/alexandr/biostat/venv/lib/python3.10/site-packages (from pooch>=1.5->mne>=1.0.3->pyhealth) (2.32.3)\n",
      "Requirement already satisfied: six>=1.5 in /home/alexandr/biostat/venv/lib/python3.10/site-packages (from python-dateutil>=2.8.1->pandas<2,>=1.3.2->pyhealth) (1.17.0)\n",
      "Requirement already satisfied: charset-normalizer<4,>=2 in /home/alexandr/biostat/venv/lib/python3.10/site-packages (from requests>=2.19.0->pooch>=1.5->mne>=1.0.3->pyhealth) (3.4.2)\n",
      "Requirement already satisfied: idna<4,>=2.5 in /home/alexandr/biostat/venv/lib/python3.10/site-packages (from requests>=2.19.0->pooch>=1.5->mne>=1.0.3->pyhealth) (3.10)\n",
      "Requirement already satisfied: certifi>=2017.4.17 in /home/alexandr/biostat/venv/lib/python3.10/site-packages (from requests>=2.19.0->pooch>=1.5->mne>=1.0.3->pyhealth) (2025.4.26)\n",
      "Requirement already satisfied: joblib>=1.2.0 in /home/alexandr/biostat/venv/lib/python3.10/site-packages (from scikit-learn>=0.24.2->pyhealth) (1.5.1)\n",
      "Requirement already satisfied: threadpoolctl>=3.1.0 in /home/alexandr/biostat/venv/lib/python3.10/site-packages (from scikit-learn>=0.24.2->pyhealth) (3.6.0)\n",
      "Requirement already satisfied: filelock in /home/alexandr/biostat/venv/lib/python3.10/site-packages (from torch>=1.8.0->pyhealth) (3.18.0)\n",
      "Requirement already satisfied: typing-extensions>=4.10.0 in /home/alexandr/biostat/venv/lib/python3.10/site-packages (from torch>=1.8.0->pyhealth) (4.13.2)\n",
      "Requirement already satisfied: sympy>=1.13.3 in /home/alexandr/biostat/venv/lib/python3.10/site-packages (from torch>=1.8.0->pyhealth) (1.14.0)\n",
      "Requirement already satisfied: fsspec in /home/alexandr/biostat/venv/lib/python3.10/site-packages (from torch>=1.8.0->pyhealth) (2025.5.1)\n",
      "Requirement already satisfied: nvidia-cuda-nvrtc-cu12==12.6.77 in /home/alexandr/biostat/venv/lib/python3.10/site-packages (from torch>=1.8.0->pyhealth) (12.6.77)\n",
      "Requirement already satisfied: nvidia-cuda-runtime-cu12==12.6.77 in /home/alexandr/biostat/venv/lib/python3.10/site-packages (from torch>=1.8.0->pyhealth) (12.6.77)\n",
      "Requirement already satisfied: nvidia-cuda-cupti-cu12==12.6.80 in /home/alexandr/biostat/venv/lib/python3.10/site-packages (from torch>=1.8.0->pyhealth) (12.6.80)\n",
      "Requirement already satisfied: nvidia-cudnn-cu12==9.5.1.17 in /home/alexandr/biostat/venv/lib/python3.10/site-packages (from torch>=1.8.0->pyhealth) (9.5.1.17)\n",
      "Requirement already satisfied: nvidia-cublas-cu12==12.6.4.1 in /home/alexandr/biostat/venv/lib/python3.10/site-packages (from torch>=1.8.0->pyhealth) (12.6.4.1)\n",
      "Requirement already satisfied: nvidia-cufft-cu12==11.3.0.4 in /home/alexandr/biostat/venv/lib/python3.10/site-packages (from torch>=1.8.0->pyhealth) (11.3.0.4)\n",
      "Requirement already satisfied: nvidia-curand-cu12==10.3.7.77 in /home/alexandr/biostat/venv/lib/python3.10/site-packages (from torch>=1.8.0->pyhealth) (10.3.7.77)\n",
      "Requirement already satisfied: nvidia-cusolver-cu12==11.7.1.2 in /home/alexandr/biostat/venv/lib/python3.10/site-packages (from torch>=1.8.0->pyhealth) (11.7.1.2)\n",
      "Requirement already satisfied: nvidia-cusparse-cu12==12.5.4.2 in /home/alexandr/biostat/venv/lib/python3.10/site-packages (from torch>=1.8.0->pyhealth) (12.5.4.2)\n",
      "Requirement already satisfied: nvidia-cusparselt-cu12==0.6.3 in /home/alexandr/biostat/venv/lib/python3.10/site-packages (from torch>=1.8.0->pyhealth) (0.6.3)\n",
      "Requirement already satisfied: nvidia-nccl-cu12==2.26.2 in /home/alexandr/biostat/venv/lib/python3.10/site-packages (from torch>=1.8.0->pyhealth) (2.26.2)\n",
      "Requirement already satisfied: nvidia-nvtx-cu12==12.6.77 in /home/alexandr/biostat/venv/lib/python3.10/site-packages (from torch>=1.8.0->pyhealth) (12.6.77)\n",
      "Requirement already satisfied: nvidia-nvjitlink-cu12==12.6.85 in /home/alexandr/biostat/venv/lib/python3.10/site-packages (from torch>=1.8.0->pyhealth) (12.6.85)\n",
      "Requirement already satisfied: nvidia-cufile-cu12==1.11.1.6 in /home/alexandr/biostat/venv/lib/python3.10/site-packages (from torch>=1.8.0->pyhealth) (1.11.1.6)\n",
      "Requirement already satisfied: triton==3.3.0 in /home/alexandr/biostat/venv/lib/python3.10/site-packages (from torch>=1.8.0->pyhealth) (3.3.0)\n",
      "Requirement already satisfied: setuptools>=40.8.0 in /home/alexandr/biostat/venv/lib/python3.10/site-packages (from triton==3.3.0->torch>=1.8.0->pyhealth) (59.6.0)\n",
      "Requirement already satisfied: mpmath<1.4,>=1.1.0 in /home/alexandr/biostat/venv/lib/python3.10/site-packages (from sympy>=1.13.3->torch>=1.8.0->pyhealth) (1.3.0)\n",
      "Requirement already satisfied: MarkupSafe>=2.0 in /home/alexandr/biostat/venv/lib/python3.10/site-packages (from jinja2->mne>=1.0.3->pyhealth) (3.0.2)\n"
     ]
    }
   ],
   "source": [
    "!pip install pyhealth"
   ]
  },
  {
   "cell_type": "code",
   "execution_count": 12,
   "id": "7a19f292",
   "metadata": {},
   "outputs": [
    {
     "name": "stdout",
     "output_type": "stream",
     "text": [
      "Requirement already satisfied: mne in /home/alexandr/biostat/venv/lib/python3.10/site-packages (1.9.0)\n",
      "Requirement already satisfied: pandarallel in /home/alexandr/biostat/venv/lib/python3.10/site-packages (1.6.5)\n",
      "Requirement already satisfied: rdkit in /home/alexandr/biostat/venv/lib/python3.10/site-packages (2025.3.2)\n",
      "Requirement already satisfied: transformers in /home/alexandr/biostat/venv/lib/python3.10/site-packages (4.52.3)\n",
      "Requirement already satisfied: accelerate in /home/alexandr/biostat/venv/lib/python3.10/site-packages (1.7.0)\n",
      "Requirement already satisfied: polars in /home/alexandr/biostat/venv/lib/python3.10/site-packages (1.30.0)\n",
      "Requirement already satisfied: decorator in /home/alexandr/biostat/venv/lib/python3.10/site-packages (from mne) (5.2.1)\n",
      "Requirement already satisfied: jinja2 in /home/alexandr/biostat/venv/lib/python3.10/site-packages (from mne) (3.1.6)\n",
      "Requirement already satisfied: lazy-loader>=0.3 in /home/alexandr/biostat/venv/lib/python3.10/site-packages (from mne) (0.4)\n",
      "Requirement already satisfied: matplotlib>=3.6 in /home/alexandr/biostat/venv/lib/python3.10/site-packages (from mne) (3.10.3)\n",
      "Requirement already satisfied: numpy<3,>=1.23 in /home/alexandr/biostat/venv/lib/python3.10/site-packages (from mne) (2.2.6)\n",
      "Requirement already satisfied: packaging in /home/alexandr/biostat/venv/lib/python3.10/site-packages (from mne) (25.0)\n",
      "Requirement already satisfied: pooch>=1.5 in /home/alexandr/biostat/venv/lib/python3.10/site-packages (from mne) (1.8.2)\n",
      "Requirement already satisfied: scipy>=1.9 in /home/alexandr/biostat/venv/lib/python3.10/site-packages (from mne) (1.15.3)\n",
      "Requirement already satisfied: tqdm in /home/alexandr/biostat/venv/lib/python3.10/site-packages (from mne) (4.67.1)\n",
      "Requirement already satisfied: dill>=0.3.1 in /home/alexandr/biostat/venv/lib/python3.10/site-packages (from pandarallel) (0.4.0)\n",
      "Requirement already satisfied: pandas>=1 in /home/alexandr/biostat/venv/lib/python3.10/site-packages (from pandarallel) (1.5.3)\n",
      "Requirement already satisfied: psutil in /home/alexandr/biostat/venv/lib/python3.10/site-packages (from pandarallel) (7.0.0)\n",
      "Requirement already satisfied: Pillow in /home/alexandr/biostat/venv/lib/python3.10/site-packages (from rdkit) (11.2.1)\n",
      "Requirement already satisfied: filelock in /home/alexandr/biostat/venv/lib/python3.10/site-packages (from transformers) (3.18.0)\n",
      "Requirement already satisfied: huggingface-hub<1.0,>=0.30.0 in /home/alexandr/biostat/venv/lib/python3.10/site-packages (from transformers) (0.32.2)\n",
      "Requirement already satisfied: pyyaml>=5.1 in /home/alexandr/biostat/venv/lib/python3.10/site-packages (from transformers) (6.0.2)\n",
      "Requirement already satisfied: regex!=2019.12.17 in /home/alexandr/biostat/venv/lib/python3.10/site-packages (from transformers) (2024.11.6)\n",
      "Requirement already satisfied: requests in /home/alexandr/biostat/venv/lib/python3.10/site-packages (from transformers) (2.32.3)\n",
      "Requirement already satisfied: tokenizers<0.22,>=0.21 in /home/alexandr/biostat/venv/lib/python3.10/site-packages (from transformers) (0.21.1)\n",
      "Requirement already satisfied: safetensors>=0.4.3 in /home/alexandr/biostat/venv/lib/python3.10/site-packages (from transformers) (0.5.3)\n",
      "Requirement already satisfied: fsspec>=2023.5.0 in /home/alexandr/biostat/venv/lib/python3.10/site-packages (from huggingface-hub<1.0,>=0.30.0->transformers) (2025.5.1)\n",
      "Requirement already satisfied: typing-extensions>=3.7.4.3 in /home/alexandr/biostat/venv/lib/python3.10/site-packages (from huggingface-hub<1.0,>=0.30.0->transformers) (4.13.2)\n",
      "Requirement already satisfied: hf-xet<2.0.0,>=1.1.2 in /home/alexandr/biostat/venv/lib/python3.10/site-packages (from huggingface-hub<1.0,>=0.30.0->transformers) (1.1.2)\n",
      "Requirement already satisfied: torch>=2.0.0 in /home/alexandr/biostat/venv/lib/python3.10/site-packages (from accelerate) (2.7.0)\n",
      "Requirement already satisfied: contourpy>=1.0.1 in /home/alexandr/biostat/venv/lib/python3.10/site-packages (from matplotlib>=3.6->mne) (1.3.2)\n",
      "Requirement already satisfied: cycler>=0.10 in /home/alexandr/biostat/venv/lib/python3.10/site-packages (from matplotlib>=3.6->mne) (0.12.1)\n",
      "Requirement already satisfied: fonttools>=4.22.0 in /home/alexandr/biostat/venv/lib/python3.10/site-packages (from matplotlib>=3.6->mne) (4.58.1)\n",
      "Requirement already satisfied: kiwisolver>=1.3.1 in /home/alexandr/biostat/venv/lib/python3.10/site-packages (from matplotlib>=3.6->mne) (1.4.8)\n",
      "Requirement already satisfied: pyparsing>=2.3.1 in /home/alexandr/biostat/venv/lib/python3.10/site-packages (from matplotlib>=3.6->mne) (3.2.3)\n",
      "Requirement already satisfied: python-dateutil>=2.7 in /home/alexandr/biostat/venv/lib/python3.10/site-packages (from matplotlib>=3.6->mne) (2.9.0.post0)\n",
      "Requirement already satisfied: pytz>=2020.1 in /home/alexandr/biostat/venv/lib/python3.10/site-packages (from pandas>=1->pandarallel) (2025.2)\n",
      "Requirement already satisfied: platformdirs>=2.5.0 in /home/alexandr/biostat/venv/lib/python3.10/site-packages (from pooch>=1.5->mne) (4.3.8)\n",
      "Requirement already satisfied: six>=1.5 in /home/alexandr/biostat/venv/lib/python3.10/site-packages (from python-dateutil>=2.7->matplotlib>=3.6->mne) (1.17.0)\n",
      "Requirement already satisfied: charset-normalizer<4,>=2 in /home/alexandr/biostat/venv/lib/python3.10/site-packages (from requests->transformers) (3.4.2)\n",
      "Requirement already satisfied: idna<4,>=2.5 in /home/alexandr/biostat/venv/lib/python3.10/site-packages (from requests->transformers) (3.10)\n",
      "Requirement already satisfied: urllib3<3,>=1.21.1 in /home/alexandr/biostat/venv/lib/python3.10/site-packages (from requests->transformers) (1.26.15)\n",
      "Requirement already satisfied: certifi>=2017.4.17 in /home/alexandr/biostat/venv/lib/python3.10/site-packages (from requests->transformers) (2025.4.26)\n",
      "Requirement already satisfied: sympy>=1.13.3 in /home/alexandr/biostat/venv/lib/python3.10/site-packages (from torch>=2.0.0->accelerate) (1.14.0)\n",
      "Requirement already satisfied: networkx in /home/alexandr/biostat/venv/lib/python3.10/site-packages (from torch>=2.0.0->accelerate) (3.4.2)\n",
      "Requirement already satisfied: nvidia-cuda-nvrtc-cu12==12.6.77 in /home/alexandr/biostat/venv/lib/python3.10/site-packages (from torch>=2.0.0->accelerate) (12.6.77)\n",
      "Requirement already satisfied: nvidia-cuda-runtime-cu12==12.6.77 in /home/alexandr/biostat/venv/lib/python3.10/site-packages (from torch>=2.0.0->accelerate) (12.6.77)\n",
      "Requirement already satisfied: nvidia-cuda-cupti-cu12==12.6.80 in /home/alexandr/biostat/venv/lib/python3.10/site-packages (from torch>=2.0.0->accelerate) (12.6.80)\n",
      "Requirement already satisfied: nvidia-cudnn-cu12==9.5.1.17 in /home/alexandr/biostat/venv/lib/python3.10/site-packages (from torch>=2.0.0->accelerate) (9.5.1.17)\n",
      "Requirement already satisfied: nvidia-cublas-cu12==12.6.4.1 in /home/alexandr/biostat/venv/lib/python3.10/site-packages (from torch>=2.0.0->accelerate) (12.6.4.1)\n",
      "Requirement already satisfied: nvidia-cufft-cu12==11.3.0.4 in /home/alexandr/biostat/venv/lib/python3.10/site-packages (from torch>=2.0.0->accelerate) (11.3.0.4)\n",
      "Requirement already satisfied: nvidia-curand-cu12==10.3.7.77 in /home/alexandr/biostat/venv/lib/python3.10/site-packages (from torch>=2.0.0->accelerate) (10.3.7.77)\n",
      "Requirement already satisfied: nvidia-cusolver-cu12==11.7.1.2 in /home/alexandr/biostat/venv/lib/python3.10/site-packages (from torch>=2.0.0->accelerate) (11.7.1.2)\n",
      "Requirement already satisfied: nvidia-cusparse-cu12==12.5.4.2 in /home/alexandr/biostat/venv/lib/python3.10/site-packages (from torch>=2.0.0->accelerate) (12.5.4.2)\n",
      "Requirement already satisfied: nvidia-cusparselt-cu12==0.6.3 in /home/alexandr/biostat/venv/lib/python3.10/site-packages (from torch>=2.0.0->accelerate) (0.6.3)\n",
      "Requirement already satisfied: nvidia-nccl-cu12==2.26.2 in /home/alexandr/biostat/venv/lib/python3.10/site-packages (from torch>=2.0.0->accelerate) (2.26.2)\n",
      "Requirement already satisfied: nvidia-nvtx-cu12==12.6.77 in /home/alexandr/biostat/venv/lib/python3.10/site-packages (from torch>=2.0.0->accelerate) (12.6.77)\n",
      "Requirement already satisfied: nvidia-nvjitlink-cu12==12.6.85 in /home/alexandr/biostat/venv/lib/python3.10/site-packages (from torch>=2.0.0->accelerate) (12.6.85)\n",
      "Requirement already satisfied: nvidia-cufile-cu12==1.11.1.6 in /home/alexandr/biostat/venv/lib/python3.10/site-packages (from torch>=2.0.0->accelerate) (1.11.1.6)\n",
      "Requirement already satisfied: triton==3.3.0 in /home/alexandr/biostat/venv/lib/python3.10/site-packages (from torch>=2.0.0->accelerate) (3.3.0)\n",
      "Requirement already satisfied: setuptools>=40.8.0 in /home/alexandr/biostat/venv/lib/python3.10/site-packages (from triton==3.3.0->torch>=2.0.0->accelerate) (59.6.0)\n",
      "Requirement already satisfied: mpmath<1.4,>=1.1.0 in /home/alexandr/biostat/venv/lib/python3.10/site-packages (from sympy>=1.13.3->torch>=2.0.0->accelerate) (1.3.0)\n",
      "Requirement already satisfied: MarkupSafe>=2.0 in /home/alexandr/biostat/venv/lib/python3.10/site-packages (from jinja2->mne) (3.0.2)\n"
     ]
    }
   ],
   "source": [
    "!pip install mne pandarallel rdkit transformers accelerate polars"
   ]
  },
  {
   "cell_type": "code",
   "execution_count": 11,
   "id": "ee87ae9f",
   "metadata": {},
   "outputs": [
    {
     "name": "stdout",
     "output_type": "stream",
     "text": [
      "Cloning into 'PyHealth'...\n",
      "remote: Enumerating objects: 8807, done.\u001b[K\n",
      "remote: Counting objects: 100% (3/3), done.\u001b[K\n",
      "remote: Compressing objects: 100% (3/3), done.\u001b[K\n",
      "remote: Total 8807 (delta 1), reused 0 (delta 0), pack-reused 8804 (from 2)\u001b[K\n",
      "Receiving objects: 100% (8807/8807), 123.55 MiB | 3.28 MiB/s, done.\n",
      "Resolving deltas: 100% (5755/5755), done.\n"
     ]
    }
   ],
   "source": [
    "!rm -rf PyHealth\n",
    "!git clone -b feat/accommodate_legacy_api https://github.com/sunlabuiuc/PyHealth.git"
   ]
  },
  {
   "cell_type": "code",
   "execution_count": 13,
   "id": "bd658c95",
   "metadata": {},
   "outputs": [],
   "source": [
    "import sys\n",
    "sys.path.append(\"./PyHealth\")"
   ]
  },
  {
   "cell_type": "markdown",
   "id": "3add665f",
   "metadata": {},
   "source": [
    "### **Instruction on [pyhealth.data](https://pyhealth.readthedocs.io/en/latest/api/data.html)**\n",
    "- **[README]**: This module defines the basic data structures in PyHealth.\n",
    "- **[Structures]**:\n",
    "  - `Event` is the info structure for a single clinical event\n",
    "  - `Patient` is the info structure for a single patient\n",
    "\n",
    "  All data can be thought of as a stream of events."
   ]
  },
  {
   "cell_type": "markdown",
   "id": "7fdf9011",
   "metadata": {},
   "source": [
    "![Image description](https://drive.google.com/uc?id=1lQIIb4n5VUEn5tIVDOVCnE4dHgnYvnhn)"
   ]
  },
  {
   "cell_type": "code",
   "execution_count": 21,
   "id": "4bfda212",
   "metadata": {},
   "outputs": [
    {
     "data": {
      "text/html": [
       "<img src=\"https://drive.google.com/uc?id=1lQIIb4n5VUEn5tIVDOVCnE4dHgnYvnhn\"/>"
      ],
      "text/plain": [
       "<IPython.core.display.Image object>"
      ]
     },
     "execution_count": 21,
     "metadata": {},
     "output_type": "execute_result"
    }
   ],
   "source": [
    "from IPython.display import Image\n",
    "Image(url='https://drive.google.com/uc?id=1lQIIb4n5VUEn5tIVDOVCnE4dHgnYvnhn')"
   ]
  },
  {
   "cell_type": "markdown",
   "id": "e5535a4c",
   "metadata": {},
   "source": [
    "### **[pyhealth.data.Event](https://pyhealth.readthedocs.io/en/latest/api/data/pyhealth.data.Event.html)**\n",
    "# Understanding the Event Class in PyHealth\n",
    "\n",
    "## Event Class\n",
    "\n",
    "The `Event` class in PyHealth represents a single clinical event with the following structure:\n",
    "\n",
    "### Explicit Arguments\n",
    "\n",
    "- `event_type`: str\n",
    "  - Type of the clinical event (e.g., 'DIAGNOSES_ICD', 'PROCEDURES_ICD', 'medication')\n",
    "  - This is **required** and typically matches the table name in the database\n",
    "\n",
    "- `timestamp`: datetime, optional\n",
    "  - When the event occurred\n",
    "  - If not provided, defaults to current time\n",
    "  - Ideally, we can define when an event occurs, but datasets like imaging may not necessarily have one.\n",
    "\n",
    "### Optional Arguments (Key-Value Pairs)\n",
    "\n",
    "Any additional keyword arguments are stored in the `attr_dict` attribute. Common attributes include:\n",
    "\n",
    "- `code`: str\n",
    "  - Code of the event (e.g., \"428.0\" for heart failure)\n",
    "- `table`: str\n",
    "  - Name of the table where the event is recorded (e.g., \"DIAGNOSES_ICD\")\n",
    "- `vocabulary`: str\n",
    "  - Vocabulary of the code (e.g., 'ICD9CM', 'ICD10CM', 'NDC')\n",
    "- `visit_id`: str\n",
    "  - Unique identifier of the visit\n",
    "- `patient_id`: str\n",
    "  - Unique identifier of the patient\n",
    "\n",
    "## Key idea:\n",
    "The key idea here is that events are super flexible, whether an image, a lab signal, or a piece of text. The only thing that's required is the event_type so we can define exactly what it is or where it's from (i.e a diagnoses table)."
   ]
  },
  {
   "cell_type": "code",
   "execution_count": 32,
   "id": "607f77be",
   "metadata": {},
   "outputs": [
    {
     "name": "stdout",
     "output_type": "stream",
     "text": [
      "Event from patient p001 visit v001:\n",
      "\t- Code: 428.0\n",
      "\t- Table: None\n",
      "\t- Vocabulary: ICD9CM\n",
      "\t- Timestamp: 2025-05-29 19:37:37.391321\n",
      "\t- event_type: DIAGNOSES_ICD\n"
     ]
    }
   ],
   "source": [
    "from pyhealth.data import Event\n",
    "from datetime import datetime\n",
    "\n",
    "# create an event\n",
    "event1 = Event(\n",
    "    event_type = \"DIAGNOSES_ICD\",\n",
    "    code=\"428.0\",\n",
    "    vocabulary=\"ICD9CM\",\n",
    "    visit_id=\"v001\",\n",
    "    patient_id=\"p001\",\n",
    "    timestamp=datetime.now(),\n",
    ")\n",
    "\n",
    "print(event1)"
   ]
  },
  {
   "cell_type": "markdown",
   "id": "83766fc5",
   "metadata": {},
   "source": [
    "You can also add any additional attributes as key=value pairs."
   ]
  },
  {
   "cell_type": "code",
   "execution_count": 30,
   "id": "1dcef329",
   "metadata": {},
   "outputs": [
    {
     "data": {
      "text/plain": [
       "{'event_type': 'PRESCRIPTIONS', 'active_on_discharge': True}"
      ]
     },
     "execution_count": 30,
     "metadata": {},
     "output_type": "execute_result"
    }
   ],
   "source": [
    "# event2 contains an additional attributes\n",
    "event2 = Event(\n",
    "    event_type=\"PRESCRIPTIONS\",\n",
    "    code=\"00069153041\",\n",
    "    vocabulary=\"NDC\",\n",
    "    visit_id=\"v001\",\n",
    "    patient_id=\"p001\",\n",
    "    timestamp=datetime.now(),\n",
    "    active_on_discharge = True,\n",
    ")\n",
    "\n",
    "event2.attr_dict"
   ]
  },
  {
   "cell_type": "code",
   "execution_count": 34,
   "id": "11d60523",
   "metadata": {},
   "outputs": [
    {
     "name": "stdout",
     "output_type": "stream",
     "text": [
      "Event from patient p001 visit v001:\n",
      "\t- Code: 00069153041\n",
      "\t- Table: None\n",
      "\t- Vocabulary: NDC\n",
      "\t- Timestamp: 2025-05-29 19:36:38.633075\n",
      "\t- event_type: PRESCRIPTIONS\n",
      "\t- active_on_discharge: True\n"
     ]
    }
   ],
   "source": [
    "print(event2)"
   ]
  },
  {
   "cell_type": "markdown",
   "id": "4c6fc31c",
   "metadata": {},
   "source": [
    "**TODO:** create the following event:\n",
    "\n",
    "- code: 00069153041\n",
    "- table: PRESCRIPTIONS\n",
    "- vocabulary: NDC\n",
    "- visit_id: 130744\n",
    "- patient_id: 103\n",
    "- timestamp: 2019-08-12 00:00:00\n",
    "- dosage: 250 mg\n",
    "\n",
    "Note that try to create 2 additional attributes dosage and dosage_unit."
   ]
  },
  {
   "cell_type": "code",
   "execution_count": 35,
   "id": "5986d200",
   "metadata": {},
   "outputs": [
    {
     "data": {
      "text/plain": [
       "{'event_type': 'PRESCRIPTIONS', 'dosage': '250mg'}"
      ]
     },
     "execution_count": 35,
     "metadata": {},
     "output_type": "execute_result"
    }
   ],
   "source": [
    "event3 = Event(\n",
    "    event_type=\"PRESCRIPTIONS\",\n",
    "    code=\"00069153041\",\n",
    "    vocabulary=\"NDC\",\n",
    "    visit_id=\"130744\",\n",
    "    patient_id=\"103\",\n",
    "    timestamp=datetime.fromisoformat(\"2019-08-12 00:00:00\"),\n",
    "    dosage = \"250mg\",\n",
    ")\n",
    "\n",
    "event3.attr_dict"
   ]
  },
  {
   "cell_type": "code",
   "execution_count": 36,
   "id": "ff3aab5b",
   "metadata": {},
   "outputs": [
    {
     "name": "stdout",
     "output_type": "stream",
     "text": [
      "Event from patient 103 visit 130744:\n",
      "\t- Code: 00069153041\n",
      "\t- Table: None\n",
      "\t- Vocabulary: NDC\n",
      "\t- Timestamp: 2019-08-12 00:00:00\n",
      "\t- event_type: PRESCRIPTIONS\n",
      "\t- dosage: 250mg\n"
     ]
    }
   ],
   "source": [
    "print(event3)"
   ]
  },
  {
   "cell_type": "markdown",
   "id": "4e935763",
   "metadata": {},
   "source": [
    "# Understanding the Patient Class in PyHealth\n",
    "\n",
    "## Patient Class\n",
    "\n",
    "The `Patient` class in PyHealth represents an individual patient with their associated clinical data. It serves as a container for organizing events and visits related to a single patient.\n",
    "\n",
    "### Required Arguments\n",
    "\n",
    "- `patient_id`: str\n",
    "  - Unique identifier for the patient\n",
    "  - This is **required** to instantiate a Patient object\n",
    "\n",
    "### Data Source Argument\n",
    "\n",
    "- `data_source`: polars.DataFrame\n",
    "  - DataFrame containing all events related to this patient\n",
    "  - Contains columns for \"patient_id\", \"event_type\", \"timestamp\", and event-specific attributes\n",
    "\n",
    "### Methods\n",
    "\n",
    "#### get_events()\n",
    "\n",
    "Retrieves events with optional filtering by type and time range:\n",
    "```\n",
    "def get_events(\n",
    "    self,\n",
    "    event_type: Optional[str] = None,\n",
    "    start: Optional[datetime] = None,\n",
    "    end: Optional[datetime] = None,\n",
    "    filters: Optional[List[tuple]] = None,\n",
    "    return_df: bool = False\n",
    ") -> Union[pl.DataFrame, List[Event]]\n",
    "```"
   ]
  },
  {
   "cell_type": "code",
   "execution_count": 45,
   "id": "4b55d025",
   "metadata": {},
   "outputs": [],
   "source": [
    "from pyhealth.data import Patient\n",
    "import polars as pl\n",
    "from datetime import datetime, timedelta\n",
    "\n",
    "# Create a Patient object\n",
    "patient = Patient(\n",
    "    patient_id=\"p001\",\n",
    "    data_source=pl.DataFrame({\n",
    "        \"patient_id\": [\"p001\", \"p001\", \"p001\"],\n",
    "        \"event_type\": [\"DIAGNOSES_ICD\", \"DIAGNOSES_ICD\", \"PROCEDURES_ICD\"],\n",
    "        \"timestamp\": [datetime.now(), datetime.now(), datetime.now()],\n",
    "        \"DIAGNOSES_ICD/code\": [\"428.0\", \"401.9\", None],\n",
    "        \"DIAGNOSES_ICD/vocabulary\": [\"ICD9CM\", \"ICD9CM\", None],\n",
    "        \"PROCEDURES_ICD/code\": [None, None, \"39.61\"],\n",
    "        \"PROCEDURES_ICD/vocabulary\": [None, None, \"ICD9CM\"]\n",
    "    })\n",
    ")"
   ]
  },
  {
   "cell_type": "code",
   "execution_count": 39,
   "id": "25c253e9",
   "metadata": {},
   "outputs": [
    {
     "data": {
      "text/plain": [
       "['__class__',\n",
       " '__delattr__',\n",
       " '__dict__',\n",
       " '__dir__',\n",
       " '__doc__',\n",
       " '__eq__',\n",
       " '__format__',\n",
       " '__ge__',\n",
       " '__getattribute__',\n",
       " '__getitem__',\n",
       " '__gt__',\n",
       " '__hash__',\n",
       " '__init__',\n",
       " '__init_subclass__',\n",
       " '__le__',\n",
       " '__len__',\n",
       " '__lt__',\n",
       " '__module__',\n",
       " '__ne__',\n",
       " '__new__',\n",
       " '__reduce__',\n",
       " '__reduce_ex__',\n",
       " '__repr__',\n",
       " '__setattr__',\n",
       " '__sizeof__',\n",
       " '__str__',\n",
       " '__subclasshook__',\n",
       " '__weakref__',\n",
       " 'add_event',\n",
       " 'add_visit',\n",
       " 'attr_dict',\n",
       " 'available_tables',\n",
       " 'birth_datetime',\n",
       " 'death_datetime',\n",
       " 'ethnicity',\n",
       " 'gender',\n",
       " 'get_visit_by_id',\n",
       " 'get_visit_by_index',\n",
       " 'index_to_visit_id',\n",
       " 'patient_id',\n",
       " 'visits']"
      ]
     },
     "execution_count": 39,
     "metadata": {},
     "output_type": "execute_result"
    }
   ],
   "source": [
    "dir(patient)"
   ]
  },
  {
   "cell_type": "markdown",
   "id": "34eed8e6",
   "metadata": {},
   "source": [
    "The simple idea around the new PyHealth 2.0 rework is that all data is just an event stream, and that patients are just a grouping mechanism of events within the stream.\n",
    "\n",
    "In some sense, a dataset can be a list of patients, a patient is just a list of events. In other datasets, there might be no patients, and again just a list of events.\n",
    "\n",
    "In our existing framework, an event is just a row within a table, a single image inside of an imaging dataset, etc."
   ]
  },
  {
   "cell_type": "code",
   "execution_count": null,
   "id": "98c64988",
   "metadata": {},
   "outputs": [],
   "source": []
  },
  {
   "cell_type": "code",
   "execution_count": null,
   "id": "4e54d2ec",
   "metadata": {},
   "outputs": [],
   "source": []
  }
 ],
 "metadata": {
  "kernelspec": {
   "display_name": "venv",
   "language": "python",
   "name": "python3"
  },
  "language_info": {
   "codemirror_mode": {
    "name": "ipython",
    "version": 3
   },
   "file_extension": ".py",
   "mimetype": "text/x-python",
   "name": "python",
   "nbconvert_exporter": "python",
   "pygments_lexer": "ipython3",
   "version": "3.10.12"
  }
 },
 "nbformat": 4,
 "nbformat_minor": 5
}
